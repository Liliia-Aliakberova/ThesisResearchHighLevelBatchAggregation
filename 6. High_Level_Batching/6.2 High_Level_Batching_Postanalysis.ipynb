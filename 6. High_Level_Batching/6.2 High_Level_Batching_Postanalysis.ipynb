{
 "cells": [
  {
   "cell_type": "markdown",
   "id": "28231389",
   "metadata": {},
   "source": [
    "# High-Level Batching Post-analysis"
   ]
  },
  {
   "attachments": {},
   "cell_type": "markdown",
   "id": "6b9f71e1",
   "metadata": {},
   "source": [
    "##### Imports"
   ]
  },
  {
   "cell_type": "code",
   "execution_count": 1,
   "id": "86e9871f",
   "metadata": {},
   "outputs": [],
   "source": [
    "from neo4j import GraphDatabase\n",
    "import matplotlib.pyplot as plt\n",
    "import datetime as dt\n",
    "from datetime import datetime\n",
    "import pandas as pd\n",
    "import plotly.express as px\n",
    "from dotenv import load_dotenv\n",
    "import os\n"
   ]
  },
  {
   "cell_type": "code",
   "execution_count": 2,
   "id": "b081373a",
   "metadata": {},
   "outputs": [],
   "source": [
    "load_dotenv()\n",
    "uri = os.getenv('NEO4J_URI')\n",
    "username = os.getenv('NEO4J_USER')\n",
    "password = os.getenv('NEO4J_PASSWORD')"
   ]
  },
  {
   "cell_type": "code",
   "execution_count": 3,
   "id": "c9ed508d",
   "metadata": {},
   "outputs": [],
   "source": [
    "driver = GraphDatabase.driver(uri, auth=(username, password))"
   ]
  },
  {
   "attachments": {},
   "cell_type": "markdown",
   "id": "6f665d0f",
   "metadata": {},
   "source": [
    "##### Number of Batches"
   ]
  },
  {
   "cell_type": "code",
   "execution_count": 4,
   "id": "0ec2b6ea",
   "metadata": {},
   "outputs": [
    {
     "name": "stdout",
     "output_type": "stream",
     "text": [
      "[{'count (distinct n)': 22023}]\n"
     ]
    }
   ],
   "source": [
    "cypher_total_batch_number = \"\"\"\n",
    "    MATCH (n:HighLevelBatch)\n",
    "    RETURN count (distinct n)\n",
    "\"\"\"\n",
    "\n",
    "\n",
    "def total_batches(uri, username, password, cypher_total_batch_number):\n",
    "    driver = GraphDatabase.driver(uri, auth=(username, password))\n",
    "    with driver.session() as session:\n",
    "        result = session.run(cypher_total_batch_number)\n",
    "        data = result.data()\n",
    "        return data\n",
    "    \n",
    "results_total_batches = total_batches(uri, username, password, cypher_total_batch_number)\n",
    "print(results_total_batches) "
   ]
  },
  {
   "cell_type": "code",
   "execution_count": 5,
   "id": "c9d218cf",
   "metadata": {},
   "outputs": [
    {
     "name": "stdout",
     "output_type": "stream",
     "text": [
      "[{'frequency_1': 18613, 'frequency_joint_batches': 3410}]\n"
     ]
    }
   ],
   "source": [
    "cypher_batches_in_high_distribution = \"\"\"\n",
    "    MATCH (n:HighLevelBatch)\n",
    "WITH \n",
    "    CASE WHEN size(n.corr_batch_numbers) = 1 THEN 1 ELSE 0 END AS number_batches_1, \n",
    "    CASE WHEN size(n.corr_batch_numbers) > 1 THEN 1 ELSE 0 END AS joint_batches\n",
    "RETURN \n",
    "    sum(number_batches_1) AS frequency_1, \n",
    "    sum(joint_batches) AS frequency_joint_batches\n",
    "\n",
    "\"\"\"\n",
    "def batch_in_high_distribution(uri, username, password, cypher_batches_in_high_distribution):\n",
    "    driver = GraphDatabase.driver(uri, auth=(username, password))\n",
    "    with driver.session() as session:\n",
    "        result = session.run(cypher_batches_in_high_distribution)\n",
    "        data = result.data()\n",
    "        return data\n",
    "    \n",
    "results_batches_in_high_distribution = batch_in_high_distribution(uri, username, password, cypher_batches_in_high_distribution)\n",
    "print(results_batches_in_high_distribution) \n"
   ]
  },
  {
   "attachments": {},
   "cell_type": "markdown",
   "id": "f7d6533e",
   "metadata": {},
   "source": [
    "##### Average, MIN and MAX Amount of Kits in a Batch"
   ]
  },
  {
   "cell_type": "code",
   "execution_count": 6,
   "metadata": {},
   "outputs": [
    {
     "data": {
      "application/vnd.plotly.v1+json": {
       "config": {
        "plotlyServerURL": "https://plot.ly"
       },
       "data": [
        {
         "alignmentgroup": "True",
         "hovertemplate": "Number of Batches=%{x}<br>Frequency=%{y}<extra></extra>",
         "legendgroup": "",
         "marker": {
          "color": "#636efa",
          "opacity": 0.6,
          "pattern": {
           "shape": ""
          }
         },
         "name": "",
         "offsetgroup": "",
         "orientation": "v",
         "showlegend": false,
         "textfont": {
          "size": 8
         },
         "textposition": "outside",
         "texttemplate": "%{y}",
         "type": "bar",
         "x": [
          1,
          2,
          5,
          4,
          3,
          6,
          7,
          14,
          8,
          9,
          11
         ],
         "xaxis": "x",
         "y": [
          18613,
          2559,
          60,
          162,
          589,
          24,
          9,
          1,
          4,
          1,
          1
         ],
         "yaxis": "y"
        }
       ],
       "layout": {
        "barmode": "relative",
        "legend": {
         "tracegroupgap": 0
        },
        "template": {
         "data": {
          "bar": [
           {
            "error_x": {
             "color": "#2a3f5f"
            },
            "error_y": {
             "color": "#2a3f5f"
            },
            "marker": {
             "line": {
              "color": "#E5ECF6",
              "width": 0.5
             },
             "pattern": {
              "fillmode": "overlay",
              "size": 10,
              "solidity": 0.2
             }
            },
            "type": "bar"
           }
          ],
          "barpolar": [
           {
            "marker": {
             "line": {
              "color": "#E5ECF6",
              "width": 0.5
             },
             "pattern": {
              "fillmode": "overlay",
              "size": 10,
              "solidity": 0.2
             }
            },
            "type": "barpolar"
           }
          ],
          "carpet": [
           {
            "aaxis": {
             "endlinecolor": "#2a3f5f",
             "gridcolor": "white",
             "linecolor": "white",
             "minorgridcolor": "white",
             "startlinecolor": "#2a3f5f"
            },
            "baxis": {
             "endlinecolor": "#2a3f5f",
             "gridcolor": "white",
             "linecolor": "white",
             "minorgridcolor": "white",
             "startlinecolor": "#2a3f5f"
            },
            "type": "carpet"
           }
          ],
          "choropleth": [
           {
            "colorbar": {
             "outlinewidth": 0,
             "ticks": ""
            },
            "type": "choropleth"
           }
          ],
          "contour": [
           {
            "colorbar": {
             "outlinewidth": 0,
             "ticks": ""
            },
            "colorscale": [
             [
              0,
              "#0d0887"
             ],
             [
              0.1111111111111111,
              "#46039f"
             ],
             [
              0.2222222222222222,
              "#7201a8"
             ],
             [
              0.3333333333333333,
              "#9c179e"
             ],
             [
              0.4444444444444444,
              "#bd3786"
             ],
             [
              0.5555555555555556,
              "#d8576b"
             ],
             [
              0.6666666666666666,
              "#ed7953"
             ],
             [
              0.7777777777777778,
              "#fb9f3a"
             ],
             [
              0.8888888888888888,
              "#fdca26"
             ],
             [
              1,
              "#f0f921"
             ]
            ],
            "type": "contour"
           }
          ],
          "contourcarpet": [
           {
            "colorbar": {
             "outlinewidth": 0,
             "ticks": ""
            },
            "type": "contourcarpet"
           }
          ],
          "heatmap": [
           {
            "colorbar": {
             "outlinewidth": 0,
             "ticks": ""
            },
            "colorscale": [
             [
              0,
              "#0d0887"
             ],
             [
              0.1111111111111111,
              "#46039f"
             ],
             [
              0.2222222222222222,
              "#7201a8"
             ],
             [
              0.3333333333333333,
              "#9c179e"
             ],
             [
              0.4444444444444444,
              "#bd3786"
             ],
             [
              0.5555555555555556,
              "#d8576b"
             ],
             [
              0.6666666666666666,
              "#ed7953"
             ],
             [
              0.7777777777777778,
              "#fb9f3a"
             ],
             [
              0.8888888888888888,
              "#fdca26"
             ],
             [
              1,
              "#f0f921"
             ]
            ],
            "type": "heatmap"
           }
          ],
          "heatmapgl": [
           {
            "colorbar": {
             "outlinewidth": 0,
             "ticks": ""
            },
            "colorscale": [
             [
              0,
              "#0d0887"
             ],
             [
              0.1111111111111111,
              "#46039f"
             ],
             [
              0.2222222222222222,
              "#7201a8"
             ],
             [
              0.3333333333333333,
              "#9c179e"
             ],
             [
              0.4444444444444444,
              "#bd3786"
             ],
             [
              0.5555555555555556,
              "#d8576b"
             ],
             [
              0.6666666666666666,
              "#ed7953"
             ],
             [
              0.7777777777777778,
              "#fb9f3a"
             ],
             [
              0.8888888888888888,
              "#fdca26"
             ],
             [
              1,
              "#f0f921"
             ]
            ],
            "type": "heatmapgl"
           }
          ],
          "histogram": [
           {
            "marker": {
             "pattern": {
              "fillmode": "overlay",
              "size": 10,
              "solidity": 0.2
             }
            },
            "type": "histogram"
           }
          ],
          "histogram2d": [
           {
            "colorbar": {
             "outlinewidth": 0,
             "ticks": ""
            },
            "colorscale": [
             [
              0,
              "#0d0887"
             ],
             [
              0.1111111111111111,
              "#46039f"
             ],
             [
              0.2222222222222222,
              "#7201a8"
             ],
             [
              0.3333333333333333,
              "#9c179e"
             ],
             [
              0.4444444444444444,
              "#bd3786"
             ],
             [
              0.5555555555555556,
              "#d8576b"
             ],
             [
              0.6666666666666666,
              "#ed7953"
             ],
             [
              0.7777777777777778,
              "#fb9f3a"
             ],
             [
              0.8888888888888888,
              "#fdca26"
             ],
             [
              1,
              "#f0f921"
             ]
            ],
            "type": "histogram2d"
           }
          ],
          "histogram2dcontour": [
           {
            "colorbar": {
             "outlinewidth": 0,
             "ticks": ""
            },
            "colorscale": [
             [
              0,
              "#0d0887"
             ],
             [
              0.1111111111111111,
              "#46039f"
             ],
             [
              0.2222222222222222,
              "#7201a8"
             ],
             [
              0.3333333333333333,
              "#9c179e"
             ],
             [
              0.4444444444444444,
              "#bd3786"
             ],
             [
              0.5555555555555556,
              "#d8576b"
             ],
             [
              0.6666666666666666,
              "#ed7953"
             ],
             [
              0.7777777777777778,
              "#fb9f3a"
             ],
             [
              0.8888888888888888,
              "#fdca26"
             ],
             [
              1,
              "#f0f921"
             ]
            ],
            "type": "histogram2dcontour"
           }
          ],
          "mesh3d": [
           {
            "colorbar": {
             "outlinewidth": 0,
             "ticks": ""
            },
            "type": "mesh3d"
           }
          ],
          "parcoords": [
           {
            "line": {
             "colorbar": {
              "outlinewidth": 0,
              "ticks": ""
             }
            },
            "type": "parcoords"
           }
          ],
          "pie": [
           {
            "automargin": true,
            "type": "pie"
           }
          ],
          "scatter": [
           {
            "fillpattern": {
             "fillmode": "overlay",
             "size": 10,
             "solidity": 0.2
            },
            "type": "scatter"
           }
          ],
          "scatter3d": [
           {
            "line": {
             "colorbar": {
              "outlinewidth": 0,
              "ticks": ""
             }
            },
            "marker": {
             "colorbar": {
              "outlinewidth": 0,
              "ticks": ""
             }
            },
            "type": "scatter3d"
           }
          ],
          "scattercarpet": [
           {
            "marker": {
             "colorbar": {
              "outlinewidth": 0,
              "ticks": ""
             }
            },
            "type": "scattercarpet"
           }
          ],
          "scattergeo": [
           {
            "marker": {
             "colorbar": {
              "outlinewidth": 0,
              "ticks": ""
             }
            },
            "type": "scattergeo"
           }
          ],
          "scattergl": [
           {
            "marker": {
             "colorbar": {
              "outlinewidth": 0,
              "ticks": ""
             }
            },
            "type": "scattergl"
           }
          ],
          "scattermapbox": [
           {
            "marker": {
             "colorbar": {
              "outlinewidth": 0,
              "ticks": ""
             }
            },
            "type": "scattermapbox"
           }
          ],
          "scatterpolar": [
           {
            "marker": {
             "colorbar": {
              "outlinewidth": 0,
              "ticks": ""
             }
            },
            "type": "scatterpolar"
           }
          ],
          "scatterpolargl": [
           {
            "marker": {
             "colorbar": {
              "outlinewidth": 0,
              "ticks": ""
             }
            },
            "type": "scatterpolargl"
           }
          ],
          "scatterternary": [
           {
            "marker": {
             "colorbar": {
              "outlinewidth": 0,
              "ticks": ""
             }
            },
            "type": "scatterternary"
           }
          ],
          "surface": [
           {
            "colorbar": {
             "outlinewidth": 0,
             "ticks": ""
            },
            "colorscale": [
             [
              0,
              "#0d0887"
             ],
             [
              0.1111111111111111,
              "#46039f"
             ],
             [
              0.2222222222222222,
              "#7201a8"
             ],
             [
              0.3333333333333333,
              "#9c179e"
             ],
             [
              0.4444444444444444,
              "#bd3786"
             ],
             [
              0.5555555555555556,
              "#d8576b"
             ],
             [
              0.6666666666666666,
              "#ed7953"
             ],
             [
              0.7777777777777778,
              "#fb9f3a"
             ],
             [
              0.8888888888888888,
              "#fdca26"
             ],
             [
              1,
              "#f0f921"
             ]
            ],
            "type": "surface"
           }
          ],
          "table": [
           {
            "cells": {
             "fill": {
              "color": "#EBF0F8"
             },
             "line": {
              "color": "white"
             }
            },
            "header": {
             "fill": {
              "color": "#C8D4E3"
             },
             "line": {
              "color": "white"
             }
            },
            "type": "table"
           }
          ]
         },
         "layout": {
          "annotationdefaults": {
           "arrowcolor": "#2a3f5f",
           "arrowhead": 0,
           "arrowwidth": 1
          },
          "autotypenumbers": "strict",
          "coloraxis": {
           "colorbar": {
            "outlinewidth": 0,
            "ticks": ""
           }
          },
          "colorscale": {
           "diverging": [
            [
             0,
             "#8e0152"
            ],
            [
             0.1,
             "#c51b7d"
            ],
            [
             0.2,
             "#de77ae"
            ],
            [
             0.3,
             "#f1b6da"
            ],
            [
             0.4,
             "#fde0ef"
            ],
            [
             0.5,
             "#f7f7f7"
            ],
            [
             0.6,
             "#e6f5d0"
            ],
            [
             0.7,
             "#b8e186"
            ],
            [
             0.8,
             "#7fbc41"
            ],
            [
             0.9,
             "#4d9221"
            ],
            [
             1,
             "#276419"
            ]
           ],
           "sequential": [
            [
             0,
             "#0d0887"
            ],
            [
             0.1111111111111111,
             "#46039f"
            ],
            [
             0.2222222222222222,
             "#7201a8"
            ],
            [
             0.3333333333333333,
             "#9c179e"
            ],
            [
             0.4444444444444444,
             "#bd3786"
            ],
            [
             0.5555555555555556,
             "#d8576b"
            ],
            [
             0.6666666666666666,
             "#ed7953"
            ],
            [
             0.7777777777777778,
             "#fb9f3a"
            ],
            [
             0.8888888888888888,
             "#fdca26"
            ],
            [
             1,
             "#f0f921"
            ]
           ],
           "sequentialminus": [
            [
             0,
             "#0d0887"
            ],
            [
             0.1111111111111111,
             "#46039f"
            ],
            [
             0.2222222222222222,
             "#7201a8"
            ],
            [
             0.3333333333333333,
             "#9c179e"
            ],
            [
             0.4444444444444444,
             "#bd3786"
            ],
            [
             0.5555555555555556,
             "#d8576b"
            ],
            [
             0.6666666666666666,
             "#ed7953"
            ],
            [
             0.7777777777777778,
             "#fb9f3a"
            ],
            [
             0.8888888888888888,
             "#fdca26"
            ],
            [
             1,
             "#f0f921"
            ]
           ]
          },
          "colorway": [
           "#636efa",
           "#EF553B",
           "#00cc96",
           "#ab63fa",
           "#FFA15A",
           "#19d3f3",
           "#FF6692",
           "#B6E880",
           "#FF97FF",
           "#FECB52"
          ],
          "font": {
           "color": "#2a3f5f"
          },
          "geo": {
           "bgcolor": "white",
           "lakecolor": "white",
           "landcolor": "#E5ECF6",
           "showlakes": true,
           "showland": true,
           "subunitcolor": "white"
          },
          "hoverlabel": {
           "align": "left"
          },
          "hovermode": "closest",
          "mapbox": {
           "style": "light"
          },
          "paper_bgcolor": "white",
          "plot_bgcolor": "#E5ECF6",
          "polar": {
           "angularaxis": {
            "gridcolor": "white",
            "linecolor": "white",
            "ticks": ""
           },
           "bgcolor": "#E5ECF6",
           "radialaxis": {
            "gridcolor": "white",
            "linecolor": "white",
            "ticks": ""
           }
          },
          "scene": {
           "xaxis": {
            "backgroundcolor": "#E5ECF6",
            "gridcolor": "white",
            "gridwidth": 2,
            "linecolor": "white",
            "showbackground": true,
            "ticks": "",
            "zerolinecolor": "white"
           },
           "yaxis": {
            "backgroundcolor": "#E5ECF6",
            "gridcolor": "white",
            "gridwidth": 2,
            "linecolor": "white",
            "showbackground": true,
            "ticks": "",
            "zerolinecolor": "white"
           },
           "zaxis": {
            "backgroundcolor": "#E5ECF6",
            "gridcolor": "white",
            "gridwidth": 2,
            "linecolor": "white",
            "showbackground": true,
            "ticks": "",
            "zerolinecolor": "white"
           }
          },
          "shapedefaults": {
           "line": {
            "color": "#2a3f5f"
           }
          },
          "ternary": {
           "aaxis": {
            "gridcolor": "white",
            "linecolor": "white",
            "ticks": ""
           },
           "baxis": {
            "gridcolor": "white",
            "linecolor": "white",
            "ticks": ""
           },
           "bgcolor": "#E5ECF6",
           "caxis": {
            "gridcolor": "white",
            "linecolor": "white",
            "ticks": ""
           }
          },
          "title": {
           "x": 0.05
          },
          "xaxis": {
           "automargin": true,
           "gridcolor": "white",
           "linecolor": "white",
           "ticks": "",
           "title": {
            "standoff": 15
           },
           "zerolinecolor": "white",
           "zerolinewidth": 2
          },
          "yaxis": {
           "automargin": true,
           "gridcolor": "white",
           "linecolor": "white",
           "ticks": "",
           "title": {
            "standoff": 15
           },
           "zerolinecolor": "white",
           "zerolinewidth": 2
          }
         }
        },
        "title": {
         "text": "Distribution of Batches over High_Level Batches"
        },
        "xaxis": {
         "anchor": "y",
         "domain": [
          0,
          1
         ],
         "title": {
          "text": "Number of Batches"
         }
        },
        "yaxis": {
         "anchor": "x",
         "domain": [
          0,
          1
         ],
         "title": {
          "text": "Frequency"
         }
        }
       }
      }
     },
     "metadata": {},
     "output_type": "display_data"
    }
   ],
   "source": [
    "cypher_batches_in_high_distribution = \"\"\"\n",
    "    MATCH (n:HighLevelBatch)\n",
    "    WITH size(n.corr_batch_numbers) AS number_batches\n",
    "    RETURN number_batches, count(number_batches) AS frequency \n",
    "\"\"\"\n",
    "def batch_in_high_distribution(uri, username, password, cypher_batches_in_high_distribution):\n",
    "    driver = GraphDatabase.driver(uri, auth=(username, password))\n",
    "    with driver.session() as session:\n",
    "        result = session.run(cypher_batches_in_high_distribution)\n",
    "        data = result.data()\n",
    "        return data\n",
    "    \n",
    "results_batches_in_high_distribution = batch_in_high_distribution(uri, username, password, cypher_batches_in_high_distribution)\n",
    "\n",
    "number_batches = [record['number_batches'] for record in results_batches_in_high_distribution]\n",
    "frequency = [record['frequency'] for record in results_batches_in_high_distribution]\n",
    "\n",
    "df = pd.DataFrame({\n",
    "    'Number of Batches': number_batches,\n",
    "    'Frequency': frequency\n",
    "})\n",
    "\n",
    "fig = px.bar(df, x='Number of Batches', y='Frequency', title='Distribution of Batches over High_Level Batches',\n",
    "                 labels={'Number of Batches': 'Number of Batches', 'Frequency': 'Frequency'}, \n",
    "                 opacity=0.6)\n",
    "fig.update_traces(texttemplate='%{y}', textposition='outside', textfont_size=8)\n",
    "\n",
    "fig.show()"
   ]
  },
  {
   "attachments": {},
   "cell_type": "markdown",
   "id": "8fb262ab",
   "metadata": {},
   "source": [
    "##### Batch Frequency per Activity"
   ]
  },
  {
   "cell_type": "code",
   "execution_count": 7,
   "id": "575c07ce",
   "metadata": {},
   "outputs": [
    {
     "data": {
      "application/vnd.plotly.v1+json": {
       "config": {
        "plotlyServerURL": "https://plot.ly"
       },
       "data": [
        {
         "alignmentgroup": "True",
         "hovertemplate": "Activity=%{x}<br>High Batch Count=%{marker.color}<extra></extra>",
         "legendgroup": "",
         "marker": {
          "color": [
           4067,
           3111,
           3096,
           2464,
           1797,
           1658,
           1348,
           1261,
           1256,
           1020,
           256,
           179,
           106,
           101,
           87,
           40,
           17,
           13,
           12,
           12,
           12,
           9,
           7,
           7,
           7,
           7,
           6,
           6,
           6,
           5,
           5,
           5,
           4,
           4,
           3,
           3,
           2,
           2,
           2,
           2,
           1,
           1,
           1,
           1,
           1,
           1,
           1,
           1,
           1,
           1,
           1,
           1,
           1,
           1,
           1,
           1,
           1,
           1
          ],
          "coloraxis": "coloraxis",
          "pattern": {
           "shape": ""
          }
         },
         "name": "",
         "offsetgroup": "",
         "orientation": "v",
         "showlegend": false,
         "text": [
          4067,
          3111,
          3096,
          2464,
          1797,
          1658,
          1348,
          1261,
          1256,
          1020,
          256,
          179,
          106,
          101,
          87,
          40,
          17,
          13,
          12,
          12,
          12,
          9,
          7,
          7,
          7,
          7,
          6,
          6,
          6,
          5,
          5,
          5,
          4,
          4,
          3,
          3,
          2,
          2,
          2,
          2,
          1,
          1,
          1,
          1,
          1,
          1,
          1,
          1,
          1,
          1,
          1,
          1,
          1,
          1,
          1,
          1,
          1,
          1
         ],
         "textposition": "outside",
         "texttemplate": "%{text}",
         "type": "bar",
         "x": [
          "['Cargado en carro  L+D']",
          "['Producción  montada']",
          "['Montaje']",
          "['Producción  montada', 'Montaje']",
          "['Carga L+D iniciada']",
          "['Entrada Material Sucio']",
          "['Carga L+D liberada']",
          "['Composición de cargas']",
          "['Carga de esterilizador liberada']",
          "['Comisionado']",
          "['Carga L+D iniciada', 'Cargado en carro  L+D']",
          "['Producción  montada', 'Montaje', 'Carga L+D liberada']",
          "['Montaje', 'Producción  montada']",
          "['Producción  montada', 'Montaje', 'Composición de cargas']",
          "['Composición de cargas', 'Producción  montada', 'Montaje']",
          "['Entrada Material Sucio', 'Cargado en carro  L+D']",
          "['Composición de cargas', 'Montaje']",
          "['Montaje', 'Carga L+D liberada']",
          "['Producción  montada', 'Montaje', 'Carga de esterilizador liberada']",
          "['Composición de cargas', 'Carga de esterilizador liberada']",
          "['Cargado en carro  L+D', 'Carga L+D iniciada']",
          "['Montaje', 'Producción  montada', 'Carga L+D liberada']",
          "['Composición de cargas', 'Producción  montada']",
          "['Carga de esterilizador liberada', 'Comisionado']",
          "['Carga de esterilizador liberada', 'Producción  montada', 'Montaje']",
          "['Composición de cargas', 'Producción  montada', 'Montaje', 'Carga L+D liberada']",
          "['Carga L+D iniciada', 'Entrada Material Sucio', 'Cargado en carro  L+D']",
          "['Cargado en carro  L+D', 'Entrada Material Sucio']",
          "['Composición de cargas', 'Producción  montada', 'Montaje', 'Carga de esterilizador liberada']",
          "['Comisionado', 'Producción  montada', 'Montaje']",
          "['Producción  montada', 'Montaje', 'Comisionado']",
          "['Carga de esterilizador liberada', 'Composición de cargas']",
          "['Producción  montada', 'Carga L+D liberada']",
          "['Montaje', 'Producción  montada', 'Composición de cargas']",
          "['Carga L+D iniciada', 'Entrada Material Sucio']",
          "['Producción  montada', 'Montaje', 'Carga L+D liberada', 'Composición de cargas']",
          "['Montaje', 'Cargado en carro  L+D']",
          "['Producción  montada', 'Montaje', 'Cargado en carro  L+D']",
          "['Producción  montada', 'Montaje', 'Carga L+D liberada', 'Carga de esterilizador liberada']",
          "['Carga de esterilizador liberada', 'Producción  montada', 'Montaje', 'Composición de cargas']",
          "['Carga L+D iniciada', 'Carga L+D liberada']",
          "['Producción  montada', 'Cargado en carro  L+D', 'Montaje']",
          "['Carga L+D iniciada', 'Cargado en carro  L+D', 'Entrada Material Sucio']",
          "['Comisionado', 'Cargado en carro  L+D']",
          "['Producción  montada', 'Montaje', 'Entrada Material Sucio']",
          "['Carga de esterilizador liberada', 'Producción  montada', 'Montaje', 'Carga L+D liberada']",
          "['Carga de esterilizador liberada', 'Montaje']",
          "['Producción  montada', 'Montaje', 'Composición de cargas', 'Cargado en carro  L+D']",
          "['Composición de cargas', 'Cargado en carro  L+D']",
          "['Composición de cargas', 'Carga L+D iniciada']",
          "['Comisionado', 'Montaje']",
          "['Producción  montada', 'Montaje', 'Carga de esterilizador liberada', 'Composición de cargas']",
          "['Montaje', 'Producción  montada', 'Composición de cargas', 'Carga L+D liberada']",
          "['Montaje', 'Producción  montada', 'Composición de cargas', 'Cargado en carro  L+D', 'Carga L+D iniciada']",
          "['Montaje', 'Producción  montada', 'Carga de esterilizador liberada']",
          "['Carga de esterilizador liberada', 'Producción  montada']",
          "['Montaje', 'Carga L+D liberada', 'Producción  montada']",
          "['Comisionado', 'Carga L+D liberada']"
         ],
         "xaxis": "x",
         "y": [
          4067,
          3111,
          3096,
          2464,
          1797,
          1658,
          1348,
          1261,
          1256,
          1020,
          256,
          179,
          106,
          101,
          87,
          40,
          17,
          13,
          12,
          12,
          12,
          9,
          7,
          7,
          7,
          7,
          6,
          6,
          6,
          5,
          5,
          5,
          4,
          4,
          3,
          3,
          2,
          2,
          2,
          2,
          1,
          1,
          1,
          1,
          1,
          1,
          1,
          1,
          1,
          1,
          1,
          1,
          1,
          1,
          1,
          1,
          1,
          1
         ],
         "yaxis": "y"
        }
       ],
       "layout": {
        "barmode": "relative",
        "coloraxis": {
         "colorbar": {
          "title": {
           "text": "High Batch Count"
          }
         },
         "colorscale": [
          [
           0,
           "#0d0887"
          ],
          [
           0.1111111111111111,
           "#46039f"
          ],
          [
           0.2222222222222222,
           "#7201a8"
          ],
          [
           0.3333333333333333,
           "#9c179e"
          ],
          [
           0.4444444444444444,
           "#bd3786"
          ],
          [
           0.5555555555555556,
           "#d8576b"
          ],
          [
           0.6666666666666666,
           "#ed7953"
          ],
          [
           0.7777777777777778,
           "#fb9f3a"
          ],
          [
           0.8888888888888888,
           "#fdca26"
          ],
          [
           1,
           "#f0f921"
          ]
         ]
        },
        "height": 600,
        "legend": {
         "tracegroupgap": 0
        },
        "template": {
         "data": {
          "bar": [
           {
            "error_x": {
             "color": "#2a3f5f"
            },
            "error_y": {
             "color": "#2a3f5f"
            },
            "marker": {
             "line": {
              "color": "#E5ECF6",
              "width": 0.5
             },
             "pattern": {
              "fillmode": "overlay",
              "size": 10,
              "solidity": 0.2
             }
            },
            "type": "bar"
           }
          ],
          "barpolar": [
           {
            "marker": {
             "line": {
              "color": "#E5ECF6",
              "width": 0.5
             },
             "pattern": {
              "fillmode": "overlay",
              "size": 10,
              "solidity": 0.2
             }
            },
            "type": "barpolar"
           }
          ],
          "carpet": [
           {
            "aaxis": {
             "endlinecolor": "#2a3f5f",
             "gridcolor": "white",
             "linecolor": "white",
             "minorgridcolor": "white",
             "startlinecolor": "#2a3f5f"
            },
            "baxis": {
             "endlinecolor": "#2a3f5f",
             "gridcolor": "white",
             "linecolor": "white",
             "minorgridcolor": "white",
             "startlinecolor": "#2a3f5f"
            },
            "type": "carpet"
           }
          ],
          "choropleth": [
           {
            "colorbar": {
             "outlinewidth": 0,
             "ticks": ""
            },
            "type": "choropleth"
           }
          ],
          "contour": [
           {
            "colorbar": {
             "outlinewidth": 0,
             "ticks": ""
            },
            "colorscale": [
             [
              0,
              "#0d0887"
             ],
             [
              0.1111111111111111,
              "#46039f"
             ],
             [
              0.2222222222222222,
              "#7201a8"
             ],
             [
              0.3333333333333333,
              "#9c179e"
             ],
             [
              0.4444444444444444,
              "#bd3786"
             ],
             [
              0.5555555555555556,
              "#d8576b"
             ],
             [
              0.6666666666666666,
              "#ed7953"
             ],
             [
              0.7777777777777778,
              "#fb9f3a"
             ],
             [
              0.8888888888888888,
              "#fdca26"
             ],
             [
              1,
              "#f0f921"
             ]
            ],
            "type": "contour"
           }
          ],
          "contourcarpet": [
           {
            "colorbar": {
             "outlinewidth": 0,
             "ticks": ""
            },
            "type": "contourcarpet"
           }
          ],
          "heatmap": [
           {
            "colorbar": {
             "outlinewidth": 0,
             "ticks": ""
            },
            "colorscale": [
             [
              0,
              "#0d0887"
             ],
             [
              0.1111111111111111,
              "#46039f"
             ],
             [
              0.2222222222222222,
              "#7201a8"
             ],
             [
              0.3333333333333333,
              "#9c179e"
             ],
             [
              0.4444444444444444,
              "#bd3786"
             ],
             [
              0.5555555555555556,
              "#d8576b"
             ],
             [
              0.6666666666666666,
              "#ed7953"
             ],
             [
              0.7777777777777778,
              "#fb9f3a"
             ],
             [
              0.8888888888888888,
              "#fdca26"
             ],
             [
              1,
              "#f0f921"
             ]
            ],
            "type": "heatmap"
           }
          ],
          "heatmapgl": [
           {
            "colorbar": {
             "outlinewidth": 0,
             "ticks": ""
            },
            "colorscale": [
             [
              0,
              "#0d0887"
             ],
             [
              0.1111111111111111,
              "#46039f"
             ],
             [
              0.2222222222222222,
              "#7201a8"
             ],
             [
              0.3333333333333333,
              "#9c179e"
             ],
             [
              0.4444444444444444,
              "#bd3786"
             ],
             [
              0.5555555555555556,
              "#d8576b"
             ],
             [
              0.6666666666666666,
              "#ed7953"
             ],
             [
              0.7777777777777778,
              "#fb9f3a"
             ],
             [
              0.8888888888888888,
              "#fdca26"
             ],
             [
              1,
              "#f0f921"
             ]
            ],
            "type": "heatmapgl"
           }
          ],
          "histogram": [
           {
            "marker": {
             "pattern": {
              "fillmode": "overlay",
              "size": 10,
              "solidity": 0.2
             }
            },
            "type": "histogram"
           }
          ],
          "histogram2d": [
           {
            "colorbar": {
             "outlinewidth": 0,
             "ticks": ""
            },
            "colorscale": [
             [
              0,
              "#0d0887"
             ],
             [
              0.1111111111111111,
              "#46039f"
             ],
             [
              0.2222222222222222,
              "#7201a8"
             ],
             [
              0.3333333333333333,
              "#9c179e"
             ],
             [
              0.4444444444444444,
              "#bd3786"
             ],
             [
              0.5555555555555556,
              "#d8576b"
             ],
             [
              0.6666666666666666,
              "#ed7953"
             ],
             [
              0.7777777777777778,
              "#fb9f3a"
             ],
             [
              0.8888888888888888,
              "#fdca26"
             ],
             [
              1,
              "#f0f921"
             ]
            ],
            "type": "histogram2d"
           }
          ],
          "histogram2dcontour": [
           {
            "colorbar": {
             "outlinewidth": 0,
             "ticks": ""
            },
            "colorscale": [
             [
              0,
              "#0d0887"
             ],
             [
              0.1111111111111111,
              "#46039f"
             ],
             [
              0.2222222222222222,
              "#7201a8"
             ],
             [
              0.3333333333333333,
              "#9c179e"
             ],
             [
              0.4444444444444444,
              "#bd3786"
             ],
             [
              0.5555555555555556,
              "#d8576b"
             ],
             [
              0.6666666666666666,
              "#ed7953"
             ],
             [
              0.7777777777777778,
              "#fb9f3a"
             ],
             [
              0.8888888888888888,
              "#fdca26"
             ],
             [
              1,
              "#f0f921"
             ]
            ],
            "type": "histogram2dcontour"
           }
          ],
          "mesh3d": [
           {
            "colorbar": {
             "outlinewidth": 0,
             "ticks": ""
            },
            "type": "mesh3d"
           }
          ],
          "parcoords": [
           {
            "line": {
             "colorbar": {
              "outlinewidth": 0,
              "ticks": ""
             }
            },
            "type": "parcoords"
           }
          ],
          "pie": [
           {
            "automargin": true,
            "type": "pie"
           }
          ],
          "scatter": [
           {
            "fillpattern": {
             "fillmode": "overlay",
             "size": 10,
             "solidity": 0.2
            },
            "type": "scatter"
           }
          ],
          "scatter3d": [
           {
            "line": {
             "colorbar": {
              "outlinewidth": 0,
              "ticks": ""
             }
            },
            "marker": {
             "colorbar": {
              "outlinewidth": 0,
              "ticks": ""
             }
            },
            "type": "scatter3d"
           }
          ],
          "scattercarpet": [
           {
            "marker": {
             "colorbar": {
              "outlinewidth": 0,
              "ticks": ""
             }
            },
            "type": "scattercarpet"
           }
          ],
          "scattergeo": [
           {
            "marker": {
             "colorbar": {
              "outlinewidth": 0,
              "ticks": ""
             }
            },
            "type": "scattergeo"
           }
          ],
          "scattergl": [
           {
            "marker": {
             "colorbar": {
              "outlinewidth": 0,
              "ticks": ""
             }
            },
            "type": "scattergl"
           }
          ],
          "scattermapbox": [
           {
            "marker": {
             "colorbar": {
              "outlinewidth": 0,
              "ticks": ""
             }
            },
            "type": "scattermapbox"
           }
          ],
          "scatterpolar": [
           {
            "marker": {
             "colorbar": {
              "outlinewidth": 0,
              "ticks": ""
             }
            },
            "type": "scatterpolar"
           }
          ],
          "scatterpolargl": [
           {
            "marker": {
             "colorbar": {
              "outlinewidth": 0,
              "ticks": ""
             }
            },
            "type": "scatterpolargl"
           }
          ],
          "scatterternary": [
           {
            "marker": {
             "colorbar": {
              "outlinewidth": 0,
              "ticks": ""
             }
            },
            "type": "scatterternary"
           }
          ],
          "surface": [
           {
            "colorbar": {
             "outlinewidth": 0,
             "ticks": ""
            },
            "colorscale": [
             [
              0,
              "#0d0887"
             ],
             [
              0.1111111111111111,
              "#46039f"
             ],
             [
              0.2222222222222222,
              "#7201a8"
             ],
             [
              0.3333333333333333,
              "#9c179e"
             ],
             [
              0.4444444444444444,
              "#bd3786"
             ],
             [
              0.5555555555555556,
              "#d8576b"
             ],
             [
              0.6666666666666666,
              "#ed7953"
             ],
             [
              0.7777777777777778,
              "#fb9f3a"
             ],
             [
              0.8888888888888888,
              "#fdca26"
             ],
             [
              1,
              "#f0f921"
             ]
            ],
            "type": "surface"
           }
          ],
          "table": [
           {
            "cells": {
             "fill": {
              "color": "#EBF0F8"
             },
             "line": {
              "color": "white"
             }
            },
            "header": {
             "fill": {
              "color": "#C8D4E3"
             },
             "line": {
              "color": "white"
             }
            },
            "type": "table"
           }
          ]
         },
         "layout": {
          "annotationdefaults": {
           "arrowcolor": "#2a3f5f",
           "arrowhead": 0,
           "arrowwidth": 1
          },
          "autotypenumbers": "strict",
          "coloraxis": {
           "colorbar": {
            "outlinewidth": 0,
            "ticks": ""
           }
          },
          "colorscale": {
           "diverging": [
            [
             0,
             "#8e0152"
            ],
            [
             0.1,
             "#c51b7d"
            ],
            [
             0.2,
             "#de77ae"
            ],
            [
             0.3,
             "#f1b6da"
            ],
            [
             0.4,
             "#fde0ef"
            ],
            [
             0.5,
             "#f7f7f7"
            ],
            [
             0.6,
             "#e6f5d0"
            ],
            [
             0.7,
             "#b8e186"
            ],
            [
             0.8,
             "#7fbc41"
            ],
            [
             0.9,
             "#4d9221"
            ],
            [
             1,
             "#276419"
            ]
           ],
           "sequential": [
            [
             0,
             "#0d0887"
            ],
            [
             0.1111111111111111,
             "#46039f"
            ],
            [
             0.2222222222222222,
             "#7201a8"
            ],
            [
             0.3333333333333333,
             "#9c179e"
            ],
            [
             0.4444444444444444,
             "#bd3786"
            ],
            [
             0.5555555555555556,
             "#d8576b"
            ],
            [
             0.6666666666666666,
             "#ed7953"
            ],
            [
             0.7777777777777778,
             "#fb9f3a"
            ],
            [
             0.8888888888888888,
             "#fdca26"
            ],
            [
             1,
             "#f0f921"
            ]
           ],
           "sequentialminus": [
            [
             0,
             "#0d0887"
            ],
            [
             0.1111111111111111,
             "#46039f"
            ],
            [
             0.2222222222222222,
             "#7201a8"
            ],
            [
             0.3333333333333333,
             "#9c179e"
            ],
            [
             0.4444444444444444,
             "#bd3786"
            ],
            [
             0.5555555555555556,
             "#d8576b"
            ],
            [
             0.6666666666666666,
             "#ed7953"
            ],
            [
             0.7777777777777778,
             "#fb9f3a"
            ],
            [
             0.8888888888888888,
             "#fdca26"
            ],
            [
             1,
             "#f0f921"
            ]
           ]
          },
          "colorway": [
           "#636efa",
           "#EF553B",
           "#00cc96",
           "#ab63fa",
           "#FFA15A",
           "#19d3f3",
           "#FF6692",
           "#B6E880",
           "#FF97FF",
           "#FECB52"
          ],
          "font": {
           "color": "#2a3f5f"
          },
          "geo": {
           "bgcolor": "white",
           "lakecolor": "white",
           "landcolor": "#E5ECF6",
           "showlakes": true,
           "showland": true,
           "subunitcolor": "white"
          },
          "hoverlabel": {
           "align": "left"
          },
          "hovermode": "closest",
          "mapbox": {
           "style": "light"
          },
          "paper_bgcolor": "white",
          "plot_bgcolor": "#E5ECF6",
          "polar": {
           "angularaxis": {
            "gridcolor": "white",
            "linecolor": "white",
            "ticks": ""
           },
           "bgcolor": "#E5ECF6",
           "radialaxis": {
            "gridcolor": "white",
            "linecolor": "white",
            "ticks": ""
           }
          },
          "scene": {
           "xaxis": {
            "backgroundcolor": "#E5ECF6",
            "gridcolor": "white",
            "gridwidth": 2,
            "linecolor": "white",
            "showbackground": true,
            "ticks": "",
            "zerolinecolor": "white"
           },
           "yaxis": {
            "backgroundcolor": "#E5ECF6",
            "gridcolor": "white",
            "gridwidth": 2,
            "linecolor": "white",
            "showbackground": true,
            "ticks": "",
            "zerolinecolor": "white"
           },
           "zaxis": {
            "backgroundcolor": "#E5ECF6",
            "gridcolor": "white",
            "gridwidth": 2,
            "linecolor": "white",
            "showbackground": true,
            "ticks": "",
            "zerolinecolor": "white"
           }
          },
          "shapedefaults": {
           "line": {
            "color": "#2a3f5f"
           }
          },
          "ternary": {
           "aaxis": {
            "gridcolor": "white",
            "linecolor": "white",
            "ticks": ""
           },
           "baxis": {
            "gridcolor": "white",
            "linecolor": "white",
            "ticks": ""
           },
           "bgcolor": "#E5ECF6",
           "caxis": {
            "gridcolor": "white",
            "linecolor": "white",
            "ticks": ""
           }
          },
          "title": {
           "x": 0.05
          },
          "xaxis": {
           "automargin": true,
           "gridcolor": "white",
           "linecolor": "white",
           "ticks": "",
           "title": {
            "standoff": 15
           },
           "zerolinecolor": "white",
           "zerolinewidth": 2
          },
          "yaxis": {
           "automargin": true,
           "gridcolor": "white",
           "linecolor": "white",
           "ticks": "",
           "title": {
            "standoff": 15
           },
           "zerolinecolor": "white",
           "zerolinewidth": 2
          }
         }
        },
        "title": {
         "text": "Batches per Activity"
        },
        "uniformtext": {
         "minsize": 8,
         "mode": "hide"
        },
        "width": 1200,
        "xaxis": {
         "anchor": "y",
         "domain": [
          0,
          1
         ],
         "tickangle": -45,
         "tickfont": {
          "size": 8
         },
         "title": {
          "font": {
           "size": 8
          },
          "text": "Activity"
         }
        },
        "yaxis": {
         "anchor": "x",
         "domain": [
          0,
          1
         ],
         "title": {
          "font": {
           "size": 8
          },
          "text": "High Batch Count"
         }
        }
       }
      }
     },
     "metadata": {},
     "output_type": "display_data"
    }
   ],
   "source": [
    "cypher_batches_per_activity = \"\"\"\n",
    "    MATCH (n:HighLevelBatch)\n",
    "    RETURN n.activity_name as activity, count(n) AS batch_count\n",
    "    ORDER BY batch_count DESC\n",
    "\"\"\"\n",
    "\n",
    "def batches_per_activity(uri, username, password, cypher_query):\n",
    "    driver = GraphDatabase.driver(uri, auth=(username, password))\n",
    "    with driver.session() as session:\n",
    "        result = session.run(cypher_query)\n",
    "        data = result.data()\n",
    "    driver.close()\n",
    "    return data\n",
    "\n",
    "results_batches_per_activity = batches_per_activity(uri, username, password, cypher_batches_per_activity)\n",
    "\n",
    "activities = [str(record['activity']) for record in results_batches_per_activity]\n",
    "batch_counts = [record['batch_count'] for record in results_batches_per_activity]\n",
    "\n",
    "df = pd.DataFrame({\n",
    "    'Activity': activities,\n",
    "    'Batch Count': batch_counts\n",
    "})\n",
    "\n",
    "fig = px.bar(df, x='Activity', y='Batch Count', title='Batches per Activity',\n",
    "             labels={'Activity': 'Activity', 'Batch Count': 'High Batch Count'},\n",
    "             color='Batch Count',  \n",
    "             text='Batch Count')  \n",
    "\n",
    "fig.update_traces(texttemplate='%{text}', textposition='outside')\n",
    "fig.update_layout(uniformtext_minsize=8, uniformtext_mode='hide', xaxis_tickangle=-45, \n",
    "                  xaxis_tickfont_size=8, xaxis_title_font_size=8, yaxis_title_font_size=8,\n",
    "                  width=1200, height=600)\n",
    "\n",
    "fig.show()"
   ]
  },
  {
   "cell_type": "code",
   "execution_count": 8,
   "id": "59cf0701",
   "metadata": {},
   "outputs": [
    {
     "data": {
      "application/vnd.plotly.v1+json": {
       "config": {
        "plotlyServerURL": "https://plot.ly"
       },
       "data": [
        {
         "alignmentgroup": "True",
         "hovertemplate": "Activity Number=%{x}<br>High Batch Count=%{marker.color}<extra></extra>",
         "legendgroup": "",
         "marker": {
          "color": [
           18614,
           2962,
           422,
           24,
           1
          ],
          "coloraxis": "coloraxis",
          "pattern": {
           "shape": ""
          }
         },
         "name": "",
         "offsetgroup": "",
         "orientation": "v",
         "showlegend": false,
         "text": [
          18614,
          2962,
          422,
          24,
          1
         ],
         "textposition": "outside",
         "texttemplate": "%{text}",
         "type": "bar",
         "x": [
          "1",
          "2",
          "3",
          "4",
          "5"
         ],
         "xaxis": "x",
         "y": [
          18614,
          2962,
          422,
          24,
          1
         ],
         "yaxis": "y"
        }
       ],
       "layout": {
        "barmode": "relative",
        "coloraxis": {
         "colorbar": {
          "title": {
           "text": "High Batch Count"
          }
         },
         "colorscale": [
          [
           0,
           "#0d0887"
          ],
          [
           0.1111111111111111,
           "#46039f"
          ],
          [
           0.2222222222222222,
           "#7201a8"
          ],
          [
           0.3333333333333333,
           "#9c179e"
          ],
          [
           0.4444444444444444,
           "#bd3786"
          ],
          [
           0.5555555555555556,
           "#d8576b"
          ],
          [
           0.6666666666666666,
           "#ed7953"
          ],
          [
           0.7777777777777778,
           "#fb9f3a"
          ],
          [
           0.8888888888888888,
           "#fdca26"
          ],
          [
           1,
           "#f0f921"
          ]
         ]
        },
        "height": 600,
        "legend": {
         "tracegroupgap": 0
        },
        "template": {
         "data": {
          "bar": [
           {
            "error_x": {
             "color": "#2a3f5f"
            },
            "error_y": {
             "color": "#2a3f5f"
            },
            "marker": {
             "line": {
              "color": "#E5ECF6",
              "width": 0.5
             },
             "pattern": {
              "fillmode": "overlay",
              "size": 10,
              "solidity": 0.2
             }
            },
            "type": "bar"
           }
          ],
          "barpolar": [
           {
            "marker": {
             "line": {
              "color": "#E5ECF6",
              "width": 0.5
             },
             "pattern": {
              "fillmode": "overlay",
              "size": 10,
              "solidity": 0.2
             }
            },
            "type": "barpolar"
           }
          ],
          "carpet": [
           {
            "aaxis": {
             "endlinecolor": "#2a3f5f",
             "gridcolor": "white",
             "linecolor": "white",
             "minorgridcolor": "white",
             "startlinecolor": "#2a3f5f"
            },
            "baxis": {
             "endlinecolor": "#2a3f5f",
             "gridcolor": "white",
             "linecolor": "white",
             "minorgridcolor": "white",
             "startlinecolor": "#2a3f5f"
            },
            "type": "carpet"
           }
          ],
          "choropleth": [
           {
            "colorbar": {
             "outlinewidth": 0,
             "ticks": ""
            },
            "type": "choropleth"
           }
          ],
          "contour": [
           {
            "colorbar": {
             "outlinewidth": 0,
             "ticks": ""
            },
            "colorscale": [
             [
              0,
              "#0d0887"
             ],
             [
              0.1111111111111111,
              "#46039f"
             ],
             [
              0.2222222222222222,
              "#7201a8"
             ],
             [
              0.3333333333333333,
              "#9c179e"
             ],
             [
              0.4444444444444444,
              "#bd3786"
             ],
             [
              0.5555555555555556,
              "#d8576b"
             ],
             [
              0.6666666666666666,
              "#ed7953"
             ],
             [
              0.7777777777777778,
              "#fb9f3a"
             ],
             [
              0.8888888888888888,
              "#fdca26"
             ],
             [
              1,
              "#f0f921"
             ]
            ],
            "type": "contour"
           }
          ],
          "contourcarpet": [
           {
            "colorbar": {
             "outlinewidth": 0,
             "ticks": ""
            },
            "type": "contourcarpet"
           }
          ],
          "heatmap": [
           {
            "colorbar": {
             "outlinewidth": 0,
             "ticks": ""
            },
            "colorscale": [
             [
              0,
              "#0d0887"
             ],
             [
              0.1111111111111111,
              "#46039f"
             ],
             [
              0.2222222222222222,
              "#7201a8"
             ],
             [
              0.3333333333333333,
              "#9c179e"
             ],
             [
              0.4444444444444444,
              "#bd3786"
             ],
             [
              0.5555555555555556,
              "#d8576b"
             ],
             [
              0.6666666666666666,
              "#ed7953"
             ],
             [
              0.7777777777777778,
              "#fb9f3a"
             ],
             [
              0.8888888888888888,
              "#fdca26"
             ],
             [
              1,
              "#f0f921"
             ]
            ],
            "type": "heatmap"
           }
          ],
          "heatmapgl": [
           {
            "colorbar": {
             "outlinewidth": 0,
             "ticks": ""
            },
            "colorscale": [
             [
              0,
              "#0d0887"
             ],
             [
              0.1111111111111111,
              "#46039f"
             ],
             [
              0.2222222222222222,
              "#7201a8"
             ],
             [
              0.3333333333333333,
              "#9c179e"
             ],
             [
              0.4444444444444444,
              "#bd3786"
             ],
             [
              0.5555555555555556,
              "#d8576b"
             ],
             [
              0.6666666666666666,
              "#ed7953"
             ],
             [
              0.7777777777777778,
              "#fb9f3a"
             ],
             [
              0.8888888888888888,
              "#fdca26"
             ],
             [
              1,
              "#f0f921"
             ]
            ],
            "type": "heatmapgl"
           }
          ],
          "histogram": [
           {
            "marker": {
             "pattern": {
              "fillmode": "overlay",
              "size": 10,
              "solidity": 0.2
             }
            },
            "type": "histogram"
           }
          ],
          "histogram2d": [
           {
            "colorbar": {
             "outlinewidth": 0,
             "ticks": ""
            },
            "colorscale": [
             [
              0,
              "#0d0887"
             ],
             [
              0.1111111111111111,
              "#46039f"
             ],
             [
              0.2222222222222222,
              "#7201a8"
             ],
             [
              0.3333333333333333,
              "#9c179e"
             ],
             [
              0.4444444444444444,
              "#bd3786"
             ],
             [
              0.5555555555555556,
              "#d8576b"
             ],
             [
              0.6666666666666666,
              "#ed7953"
             ],
             [
              0.7777777777777778,
              "#fb9f3a"
             ],
             [
              0.8888888888888888,
              "#fdca26"
             ],
             [
              1,
              "#f0f921"
             ]
            ],
            "type": "histogram2d"
           }
          ],
          "histogram2dcontour": [
           {
            "colorbar": {
             "outlinewidth": 0,
             "ticks": ""
            },
            "colorscale": [
             [
              0,
              "#0d0887"
             ],
             [
              0.1111111111111111,
              "#46039f"
             ],
             [
              0.2222222222222222,
              "#7201a8"
             ],
             [
              0.3333333333333333,
              "#9c179e"
             ],
             [
              0.4444444444444444,
              "#bd3786"
             ],
             [
              0.5555555555555556,
              "#d8576b"
             ],
             [
              0.6666666666666666,
              "#ed7953"
             ],
             [
              0.7777777777777778,
              "#fb9f3a"
             ],
             [
              0.8888888888888888,
              "#fdca26"
             ],
             [
              1,
              "#f0f921"
             ]
            ],
            "type": "histogram2dcontour"
           }
          ],
          "mesh3d": [
           {
            "colorbar": {
             "outlinewidth": 0,
             "ticks": ""
            },
            "type": "mesh3d"
           }
          ],
          "parcoords": [
           {
            "line": {
             "colorbar": {
              "outlinewidth": 0,
              "ticks": ""
             }
            },
            "type": "parcoords"
           }
          ],
          "pie": [
           {
            "automargin": true,
            "type": "pie"
           }
          ],
          "scatter": [
           {
            "fillpattern": {
             "fillmode": "overlay",
             "size": 10,
             "solidity": 0.2
            },
            "type": "scatter"
           }
          ],
          "scatter3d": [
           {
            "line": {
             "colorbar": {
              "outlinewidth": 0,
              "ticks": ""
             }
            },
            "marker": {
             "colorbar": {
              "outlinewidth": 0,
              "ticks": ""
             }
            },
            "type": "scatter3d"
           }
          ],
          "scattercarpet": [
           {
            "marker": {
             "colorbar": {
              "outlinewidth": 0,
              "ticks": ""
             }
            },
            "type": "scattercarpet"
           }
          ],
          "scattergeo": [
           {
            "marker": {
             "colorbar": {
              "outlinewidth": 0,
              "ticks": ""
             }
            },
            "type": "scattergeo"
           }
          ],
          "scattergl": [
           {
            "marker": {
             "colorbar": {
              "outlinewidth": 0,
              "ticks": ""
             }
            },
            "type": "scattergl"
           }
          ],
          "scattermapbox": [
           {
            "marker": {
             "colorbar": {
              "outlinewidth": 0,
              "ticks": ""
             }
            },
            "type": "scattermapbox"
           }
          ],
          "scatterpolar": [
           {
            "marker": {
             "colorbar": {
              "outlinewidth": 0,
              "ticks": ""
             }
            },
            "type": "scatterpolar"
           }
          ],
          "scatterpolargl": [
           {
            "marker": {
             "colorbar": {
              "outlinewidth": 0,
              "ticks": ""
             }
            },
            "type": "scatterpolargl"
           }
          ],
          "scatterternary": [
           {
            "marker": {
             "colorbar": {
              "outlinewidth": 0,
              "ticks": ""
             }
            },
            "type": "scatterternary"
           }
          ],
          "surface": [
           {
            "colorbar": {
             "outlinewidth": 0,
             "ticks": ""
            },
            "colorscale": [
             [
              0,
              "#0d0887"
             ],
             [
              0.1111111111111111,
              "#46039f"
             ],
             [
              0.2222222222222222,
              "#7201a8"
             ],
             [
              0.3333333333333333,
              "#9c179e"
             ],
             [
              0.4444444444444444,
              "#bd3786"
             ],
             [
              0.5555555555555556,
              "#d8576b"
             ],
             [
              0.6666666666666666,
              "#ed7953"
             ],
             [
              0.7777777777777778,
              "#fb9f3a"
             ],
             [
              0.8888888888888888,
              "#fdca26"
             ],
             [
              1,
              "#f0f921"
             ]
            ],
            "type": "surface"
           }
          ],
          "table": [
           {
            "cells": {
             "fill": {
              "color": "#EBF0F8"
             },
             "line": {
              "color": "white"
             }
            },
            "header": {
             "fill": {
              "color": "#C8D4E3"
             },
             "line": {
              "color": "white"
             }
            },
            "type": "table"
           }
          ]
         },
         "layout": {
          "annotationdefaults": {
           "arrowcolor": "#2a3f5f",
           "arrowhead": 0,
           "arrowwidth": 1
          },
          "autotypenumbers": "strict",
          "coloraxis": {
           "colorbar": {
            "outlinewidth": 0,
            "ticks": ""
           }
          },
          "colorscale": {
           "diverging": [
            [
             0,
             "#8e0152"
            ],
            [
             0.1,
             "#c51b7d"
            ],
            [
             0.2,
             "#de77ae"
            ],
            [
             0.3,
             "#f1b6da"
            ],
            [
             0.4,
             "#fde0ef"
            ],
            [
             0.5,
             "#f7f7f7"
            ],
            [
             0.6,
             "#e6f5d0"
            ],
            [
             0.7,
             "#b8e186"
            ],
            [
             0.8,
             "#7fbc41"
            ],
            [
             0.9,
             "#4d9221"
            ],
            [
             1,
             "#276419"
            ]
           ],
           "sequential": [
            [
             0,
             "#0d0887"
            ],
            [
             0.1111111111111111,
             "#46039f"
            ],
            [
             0.2222222222222222,
             "#7201a8"
            ],
            [
             0.3333333333333333,
             "#9c179e"
            ],
            [
             0.4444444444444444,
             "#bd3786"
            ],
            [
             0.5555555555555556,
             "#d8576b"
            ],
            [
             0.6666666666666666,
             "#ed7953"
            ],
            [
             0.7777777777777778,
             "#fb9f3a"
            ],
            [
             0.8888888888888888,
             "#fdca26"
            ],
            [
             1,
             "#f0f921"
            ]
           ],
           "sequentialminus": [
            [
             0,
             "#0d0887"
            ],
            [
             0.1111111111111111,
             "#46039f"
            ],
            [
             0.2222222222222222,
             "#7201a8"
            ],
            [
             0.3333333333333333,
             "#9c179e"
            ],
            [
             0.4444444444444444,
             "#bd3786"
            ],
            [
             0.5555555555555556,
             "#d8576b"
            ],
            [
             0.6666666666666666,
             "#ed7953"
            ],
            [
             0.7777777777777778,
             "#fb9f3a"
            ],
            [
             0.8888888888888888,
             "#fdca26"
            ],
            [
             1,
             "#f0f921"
            ]
           ]
          },
          "colorway": [
           "#636efa",
           "#EF553B",
           "#00cc96",
           "#ab63fa",
           "#FFA15A",
           "#19d3f3",
           "#FF6692",
           "#B6E880",
           "#FF97FF",
           "#FECB52"
          ],
          "font": {
           "color": "#2a3f5f"
          },
          "geo": {
           "bgcolor": "white",
           "lakecolor": "white",
           "landcolor": "#E5ECF6",
           "showlakes": true,
           "showland": true,
           "subunitcolor": "white"
          },
          "hoverlabel": {
           "align": "left"
          },
          "hovermode": "closest",
          "mapbox": {
           "style": "light"
          },
          "paper_bgcolor": "white",
          "plot_bgcolor": "#E5ECF6",
          "polar": {
           "angularaxis": {
            "gridcolor": "white",
            "linecolor": "white",
            "ticks": ""
           },
           "bgcolor": "#E5ECF6",
           "radialaxis": {
            "gridcolor": "white",
            "linecolor": "white",
            "ticks": ""
           }
          },
          "scene": {
           "xaxis": {
            "backgroundcolor": "#E5ECF6",
            "gridcolor": "white",
            "gridwidth": 2,
            "linecolor": "white",
            "showbackground": true,
            "ticks": "",
            "zerolinecolor": "white"
           },
           "yaxis": {
            "backgroundcolor": "#E5ECF6",
            "gridcolor": "white",
            "gridwidth": 2,
            "linecolor": "white",
            "showbackground": true,
            "ticks": "",
            "zerolinecolor": "white"
           },
           "zaxis": {
            "backgroundcolor": "#E5ECF6",
            "gridcolor": "white",
            "gridwidth": 2,
            "linecolor": "white",
            "showbackground": true,
            "ticks": "",
            "zerolinecolor": "white"
           }
          },
          "shapedefaults": {
           "line": {
            "color": "#2a3f5f"
           }
          },
          "ternary": {
           "aaxis": {
            "gridcolor": "white",
            "linecolor": "white",
            "ticks": ""
           },
           "baxis": {
            "gridcolor": "white",
            "linecolor": "white",
            "ticks": ""
           },
           "bgcolor": "#E5ECF6",
           "caxis": {
            "gridcolor": "white",
            "linecolor": "white",
            "ticks": ""
           }
          },
          "title": {
           "x": 0.05
          },
          "xaxis": {
           "automargin": true,
           "gridcolor": "white",
           "linecolor": "white",
           "ticks": "",
           "title": {
            "standoff": 15
           },
           "zerolinecolor": "white",
           "zerolinewidth": 2
          },
          "yaxis": {
           "automargin": true,
           "gridcolor": "white",
           "linecolor": "white",
           "ticks": "",
           "title": {
            "standoff": 15
           },
           "zerolinecolor": "white",
           "zerolinewidth": 2
          }
         }
        },
        "title": {
         "text": "Activities per High-Level Batches"
        },
        "uniformtext": {
         "minsize": 8,
         "mode": "hide"
        },
        "width": 800,
        "xaxis": {
         "anchor": "y",
         "domain": [
          0,
          1
         ],
         "tickangle": -45,
         "tickfont": {
          "size": 8
         },
         "title": {
          "font": {
           "size": 8
          },
          "text": "Activity Number"
         }
        },
        "yaxis": {
         "anchor": "x",
         "domain": [
          0,
          1
         ],
         "title": {
          "font": {
           "size": 8
          },
          "text": "High Batch Count"
         }
        }
       }
      }
     },
     "metadata": {},
     "output_type": "display_data"
    }
   ],
   "source": [
    "cypher_batches_per_activity = \"\"\"\n",
    "    MATCH (n:HighLevelBatch)\n",
    "    RETURN size(n.activity_name) as activity_number, count(n) AS batch_count\n",
    "    ORDER BY batch_count DESC\n",
    "\"\"\"\n",
    "\n",
    "def batches_per_activity(uri, username, password, cypher_query):\n",
    "    driver = GraphDatabase.driver(uri, auth=(username, password))\n",
    "    with driver.session() as session:\n",
    "        result = session.run(cypher_query)\n",
    "        data = result.data()\n",
    "    driver.close()\n",
    "    return data\n",
    "\n",
    "results_batches_per_activity = batches_per_activity(uri, username, password, cypher_batches_per_activity)\n",
    "\n",
    "activity_number = [str(record['activity_number']) for record in results_batches_per_activity]\n",
    "batch_counts = [record['batch_count'] for record in results_batches_per_activity]\n",
    "\n",
    "df = pd.DataFrame({\n",
    "    'Activity Number': activity_number,\n",
    "    'Batch Count': batch_counts\n",
    "})\n",
    "\n",
    "fig = px.bar(df, x='Activity Number', y='Batch Count', title='Activities per High-Level Batches',\n",
    "             labels={'Activity Number': 'Activity Number', 'Batch Count': 'High Batch Count'},\n",
    "             color='Batch Count', \n",
    "             text='Batch Count') \n",
    "\n",
    "fig.update_traces(texttemplate='%{text}', textposition='outside')\n",
    "fig.update_layout(uniformtext_minsize=8, uniformtext_mode='hide', xaxis_tickangle=-45, \n",
    "                  xaxis_tickfont_size=8, xaxis_title_font_size=8, yaxis_title_font_size=8,\n",
    "                  width=800, height=600)\n",
    "\n",
    "fig.show()"
   ]
  },
  {
   "cell_type": "code",
   "execution_count": 9,
   "id": "d033306c",
   "metadata": {},
   "outputs": [
    {
     "data": {
      "application/vnd.plotly.v1+json": {
       "config": {
        "plotlyServerURL": "https://plot.ly"
       },
       "data": [
        {
         "alignmentgroup": "True",
         "hovertemplate": "Activity=%{x}<br>High Batch Count=%{text}<br>Batch Instances=%{marker.color}<extra></extra>",
         "legendgroup": "",
         "marker": {
          "color": [
           1,
           1,
           1,
           2,
           1,
           1,
           1,
           1,
           1,
           1,
           3,
           2,
           3,
           2,
           3,
           4,
           3,
           4,
           2,
           4,
           5,
           4,
           2,
           3,
           2,
           5,
           2,
           2,
           3,
           5,
           6,
           3,
           6,
           2,
           2,
           3,
           5,
           3,
           2,
           6,
           4,
           2,
           3,
           4,
           3,
           2,
           7,
           3,
           2,
           5,
           7,
           2,
           3,
           8,
           5,
           4,
           5,
           4,
           6,
           7,
           4,
           5,
           3,
           6,
           14,
           2,
           4,
           9,
           3,
           2,
           5,
           8,
           2,
           7,
           4,
           11,
           4,
           2,
           5,
           4,
           2,
           2,
           8,
           5,
           2,
           4,
           5,
           4,
           6,
           4,
           5,
           3,
           7,
           2,
           3,
           4,
           2
          ],
          "coloraxis": "coloraxis",
          "pattern": {
           "shape": ""
          }
         },
         "name": "",
         "offsetgroup": "",
         "orientation": "v",
         "showlegend": false,
         "text": [
          4067,
          3111,
          3096,
          2089,
          1797,
          1658,
          1348,
          1261,
          1255,
          1020,
          315,
          248,
          90,
          85,
          68,
          54,
          51,
          42,
          40,
          24,
          19,
          19,
          17,
          15,
          13,
          13,
          12,
          12,
          10,
          8,
          8,
          8,
          7,
          7,
          7,
          7,
          7,
          6,
          6,
          5,
          5,
          5,
          5,
          4,
          4,
          4,
          3,
          3,
          3,
          2,
          2,
          2,
          2,
          2,
          2,
          2,
          2,
          2,
          2,
          2,
          2,
          2,
          2,
          1,
          1,
          1,
          1,
          1,
          1,
          1,
          1,
          1,
          1,
          1,
          1,
          1,
          1,
          1,
          1,
          1,
          1,
          1,
          1,
          1,
          1,
          1,
          1,
          1,
          1,
          1,
          1,
          1,
          1,
          1,
          1,
          1,
          1
         ],
         "textposition": "outside",
         "texttemplate": "%{text}",
         "type": "bar",
         "x": [
          "['Cargado en carro  L+D']",
          "['Producción  montada']",
          "['Montaje']",
          "['Producción  montada', 'Montaje']",
          "['Carga L+D iniciada']",
          "['Entrada Material Sucio']",
          "['Carga L+D liberada']",
          "['Composición de cargas']",
          "['Carga de esterilizador liberada']",
          "['Comisionado']",
          "['Producción  montada', 'Montaje']",
          "['Carga L+D iniciada', 'Cargado en carro  L+D']",
          "['Producción  montada', 'Montaje', 'Carga L+D liberada']",
          "['Montaje', 'Producción  montada']",
          "['Producción  montada', 'Montaje', 'Composición de cargas']",
          "['Producción  montada', 'Montaje', 'Carga L+D liberada']",
          "['Composición de cargas', 'Producción  montada', 'Montaje']",
          "['Producción  montada', 'Montaje']",
          "['Entrada Material Sucio', 'Cargado en carro  L+D']",
          "['Producción  montada', 'Montaje', 'Composición de cargas']",
          "['Producción  montada', 'Montaje', 'Carga L+D liberada']",
          "['Composición de cargas', 'Producción  montada', 'Montaje']",
          "['Composición de cargas', 'Montaje']",
          "['Montaje', 'Producción  montada']",
          "['Montaje', 'Carga L+D liberada']",
          "['Producción  montada', 'Montaje']",
          "['Composición de cargas', 'Carga de esterilizador liberada']",
          "['Cargado en carro  L+D', 'Carga L+D iniciada']",
          "['Producción  montada', 'Montaje', 'Carga de esterilizador liberada']",
          "['Composición de cargas', 'Producción  montada', 'Montaje']",
          "['Producción  montada', 'Montaje', 'Carga L+D liberada']",
          "['Carga L+D iniciada', 'Cargado en carro  L+D']",
          "['Composición de cargas', 'Producción  montada', 'Montaje']",
          "['Composición de cargas', 'Producción  montada']",
          "['Carga de esterilizador liberada', 'Comisionado']",
          "['Carga de esterilizador liberada', 'Producción  montada', 'Montaje']",
          "['Producción  montada', 'Montaje', 'Composición de cargas']",
          "['Carga L+D iniciada', 'Entrada Material Sucio', 'Cargado en carro  L+D']",
          "['Cargado en carro  L+D', 'Entrada Material Sucio']",
          "['Producción  montada', 'Montaje']",
          "['Composición de cargas', 'Producción  montada', 'Montaje', 'Carga L+D liberada']",
          "['Carga de esterilizador liberada', 'Composición de cargas']",
          "['Montaje', 'Producción  montada', 'Carga L+D liberada']",
          "['Montaje', 'Producción  montada']",
          "['Comisionado', 'Producción  montada', 'Montaje']",
          "['Producción  montada', 'Carga L+D liberada']",
          "['Producción  montada', 'Montaje', 'Carga L+D liberada']",
          "['Producción  montada', 'Montaje', 'Comisionado']",
          "['Carga L+D iniciada', 'Entrada Material Sucio']",
          "['Producción  montada', 'Montaje', 'Comisionado']",
          "['Producción  montada', 'Montaje', 'Composición de cargas']",
          "['Montaje', 'Cargado en carro  L+D']",
          "['Producción  montada', 'Montaje', 'Cargado en carro  L+D']",
          "['Producción  montada', 'Montaje', 'Carga L+D liberada']",
          "['Producción  montada', 'Montaje', 'Carga L+D liberada', 'Carga de esterilizador liberada']",
          "['Producción  montada', 'Montaje', 'Carga de esterilizador liberada']",
          "['Composición de cargas', 'Producción  montada', 'Montaje', 'Carga L+D liberada']",
          "['Carga de esterilizador liberada', 'Producción  montada', 'Montaje', 'Composición de cargas']",
          "['Composición de cargas', 'Producción  montada', 'Montaje', 'Carga de esterilizador liberada']",
          "['Producción  montada', 'Montaje', 'Carga L+D liberada', 'Composición de cargas']",
          "['Composición de cargas', 'Producción  montada', 'Montaje', 'Carga de esterilizador liberada']",
          "['Montaje', 'Producción  montada', 'Carga L+D liberada']",
          "['Montaje', 'Producción  montada', 'Composición de cargas']",
          "['Montaje', 'Producción  montada']",
          "['Producción  montada', 'Montaje', 'Carga L+D liberada']",
          "['Carga L+D iniciada', 'Carga L+D liberada']",
          "['Producción  montada', 'Cargado en carro  L+D', 'Montaje']",
          "['Producción  montada', 'Montaje', 'Carga L+D liberada']",
          "['Carga L+D iniciada', 'Cargado en carro  L+D', 'Entrada Material Sucio']",
          "['Comisionado', 'Cargado en carro  L+D']",
          "['Producción  montada', 'Montaje', 'Entrada Material Sucio']",
          "['Composición de cargas', 'Producción  montada', 'Montaje', 'Carga de esterilizador liberada']",
          "['Carga de esterilizador liberada']",
          "['Montaje', 'Producción  montada', 'Carga L+D liberada']",
          "['Carga de esterilizador liberada', 'Producción  montada', 'Montaje', 'Carga L+D liberada']",
          "['Producción  montada', 'Montaje', 'Carga L+D liberada']",
          "['Comisionado', 'Producción  montada', 'Montaje']",
          "['Carga de esterilizador liberada', 'Montaje']",
          "['Montaje', 'Producción  montada']",
          "['Producción  montada', 'Montaje', 'Composición de cargas', 'Cargado en carro  L+D']",
          "['Composición de cargas', 'Cargado en carro  L+D']",
          "['Composición de cargas', 'Carga L+D iniciada']",
          "['Composición de cargas', 'Producción  montada', 'Montaje']",
          "['Composición de cargas', 'Producción  montada', 'Montaje', 'Carga de esterilizador liberada']",
          "['Comisionado', 'Montaje']",
          "['Producción  montada', 'Montaje', 'Carga de esterilizador liberada', 'Composición de cargas']",
          "['Producción  montada', 'Montaje', 'Carga L+D liberada', 'Composición de cargas']",
          "['Montaje', 'Producción  montada', 'Composición de cargas', 'Carga L+D liberada']",
          "['Montaje', 'Producción  montada', 'Composición de cargas', 'Cargado en carro  L+D', 'Carga L+D iniciada']",
          "['Montaje', 'Producción  montada', 'Composición de cargas']",
          "['Montaje', 'Producción  montada', 'Composición de cargas']",
          "['Montaje', 'Producción  montada', 'Carga de esterilizador liberada']",
          "['Composición de cargas', 'Producción  montada', 'Montaje']",
          "['Carga de esterilizador liberada', 'Producción  montada']",
          "['Montaje', 'Carga L+D liberada', 'Producción  montada']",
          "['Montaje', 'Producción  montada', 'Carga L+D liberada']",
          "['Comisionado', 'Carga L+D liberada']"
         ],
         "xaxis": "x",
         "y": [
          4067,
          3111,
          3096,
          2089,
          1797,
          1658,
          1348,
          1261,
          1255,
          1020,
          315,
          248,
          90,
          85,
          68,
          54,
          51,
          42,
          40,
          24,
          19,
          19,
          17,
          15,
          13,
          13,
          12,
          12,
          10,
          8,
          8,
          8,
          7,
          7,
          7,
          7,
          7,
          6,
          6,
          5,
          5,
          5,
          5,
          4,
          4,
          4,
          3,
          3,
          3,
          2,
          2,
          2,
          2,
          2,
          2,
          2,
          2,
          2,
          2,
          2,
          2,
          2,
          2,
          1,
          1,
          1,
          1,
          1,
          1,
          1,
          1,
          1,
          1,
          1,
          1,
          1,
          1,
          1,
          1,
          1,
          1,
          1,
          1,
          1,
          1,
          1,
          1,
          1,
          1,
          1,
          1,
          1,
          1,
          1,
          1,
          1,
          1
         ],
         "yaxis": "y"
        }
       ],
       "layout": {
        "barmode": "relative",
        "coloraxis": {
         "colorbar": {
          "title": {
           "text": "Batch Instances"
          }
         },
         "colorscale": [
          [
           0,
           "#0d0887"
          ],
          [
           0.1111111111111111,
           "#46039f"
          ],
          [
           0.2222222222222222,
           "#7201a8"
          ],
          [
           0.3333333333333333,
           "#9c179e"
          ],
          [
           0.4444444444444444,
           "#bd3786"
          ],
          [
           0.5555555555555556,
           "#d8576b"
          ],
          [
           0.6666666666666666,
           "#ed7953"
          ],
          [
           0.7777777777777778,
           "#fb9f3a"
          ],
          [
           0.8888888888888888,
           "#fdca26"
          ],
          [
           1,
           "#f0f921"
          ]
         ]
        },
        "height": 600,
        "legend": {
         "tracegroupgap": 0
        },
        "template": {
         "data": {
          "bar": [
           {
            "error_x": {
             "color": "#2a3f5f"
            },
            "error_y": {
             "color": "#2a3f5f"
            },
            "marker": {
             "line": {
              "color": "#E5ECF6",
              "width": 0.5
             },
             "pattern": {
              "fillmode": "overlay",
              "size": 10,
              "solidity": 0.2
             }
            },
            "type": "bar"
           }
          ],
          "barpolar": [
           {
            "marker": {
             "line": {
              "color": "#E5ECF6",
              "width": 0.5
             },
             "pattern": {
              "fillmode": "overlay",
              "size": 10,
              "solidity": 0.2
             }
            },
            "type": "barpolar"
           }
          ],
          "carpet": [
           {
            "aaxis": {
             "endlinecolor": "#2a3f5f",
             "gridcolor": "white",
             "linecolor": "white",
             "minorgridcolor": "white",
             "startlinecolor": "#2a3f5f"
            },
            "baxis": {
             "endlinecolor": "#2a3f5f",
             "gridcolor": "white",
             "linecolor": "white",
             "minorgridcolor": "white",
             "startlinecolor": "#2a3f5f"
            },
            "type": "carpet"
           }
          ],
          "choropleth": [
           {
            "colorbar": {
             "outlinewidth": 0,
             "ticks": ""
            },
            "type": "choropleth"
           }
          ],
          "contour": [
           {
            "colorbar": {
             "outlinewidth": 0,
             "ticks": ""
            },
            "colorscale": [
             [
              0,
              "#0d0887"
             ],
             [
              0.1111111111111111,
              "#46039f"
             ],
             [
              0.2222222222222222,
              "#7201a8"
             ],
             [
              0.3333333333333333,
              "#9c179e"
             ],
             [
              0.4444444444444444,
              "#bd3786"
             ],
             [
              0.5555555555555556,
              "#d8576b"
             ],
             [
              0.6666666666666666,
              "#ed7953"
             ],
             [
              0.7777777777777778,
              "#fb9f3a"
             ],
             [
              0.8888888888888888,
              "#fdca26"
             ],
             [
              1,
              "#f0f921"
             ]
            ],
            "type": "contour"
           }
          ],
          "contourcarpet": [
           {
            "colorbar": {
             "outlinewidth": 0,
             "ticks": ""
            },
            "type": "contourcarpet"
           }
          ],
          "heatmap": [
           {
            "colorbar": {
             "outlinewidth": 0,
             "ticks": ""
            },
            "colorscale": [
             [
              0,
              "#0d0887"
             ],
             [
              0.1111111111111111,
              "#46039f"
             ],
             [
              0.2222222222222222,
              "#7201a8"
             ],
             [
              0.3333333333333333,
              "#9c179e"
             ],
             [
              0.4444444444444444,
              "#bd3786"
             ],
             [
              0.5555555555555556,
              "#d8576b"
             ],
             [
              0.6666666666666666,
              "#ed7953"
             ],
             [
              0.7777777777777778,
              "#fb9f3a"
             ],
             [
              0.8888888888888888,
              "#fdca26"
             ],
             [
              1,
              "#f0f921"
             ]
            ],
            "type": "heatmap"
           }
          ],
          "heatmapgl": [
           {
            "colorbar": {
             "outlinewidth": 0,
             "ticks": ""
            },
            "colorscale": [
             [
              0,
              "#0d0887"
             ],
             [
              0.1111111111111111,
              "#46039f"
             ],
             [
              0.2222222222222222,
              "#7201a8"
             ],
             [
              0.3333333333333333,
              "#9c179e"
             ],
             [
              0.4444444444444444,
              "#bd3786"
             ],
             [
              0.5555555555555556,
              "#d8576b"
             ],
             [
              0.6666666666666666,
              "#ed7953"
             ],
             [
              0.7777777777777778,
              "#fb9f3a"
             ],
             [
              0.8888888888888888,
              "#fdca26"
             ],
             [
              1,
              "#f0f921"
             ]
            ],
            "type": "heatmapgl"
           }
          ],
          "histogram": [
           {
            "marker": {
             "pattern": {
              "fillmode": "overlay",
              "size": 10,
              "solidity": 0.2
             }
            },
            "type": "histogram"
           }
          ],
          "histogram2d": [
           {
            "colorbar": {
             "outlinewidth": 0,
             "ticks": ""
            },
            "colorscale": [
             [
              0,
              "#0d0887"
             ],
             [
              0.1111111111111111,
              "#46039f"
             ],
             [
              0.2222222222222222,
              "#7201a8"
             ],
             [
              0.3333333333333333,
              "#9c179e"
             ],
             [
              0.4444444444444444,
              "#bd3786"
             ],
             [
              0.5555555555555556,
              "#d8576b"
             ],
             [
              0.6666666666666666,
              "#ed7953"
             ],
             [
              0.7777777777777778,
              "#fb9f3a"
             ],
             [
              0.8888888888888888,
              "#fdca26"
             ],
             [
              1,
              "#f0f921"
             ]
            ],
            "type": "histogram2d"
           }
          ],
          "histogram2dcontour": [
           {
            "colorbar": {
             "outlinewidth": 0,
             "ticks": ""
            },
            "colorscale": [
             [
              0,
              "#0d0887"
             ],
             [
              0.1111111111111111,
              "#46039f"
             ],
             [
              0.2222222222222222,
              "#7201a8"
             ],
             [
              0.3333333333333333,
              "#9c179e"
             ],
             [
              0.4444444444444444,
              "#bd3786"
             ],
             [
              0.5555555555555556,
              "#d8576b"
             ],
             [
              0.6666666666666666,
              "#ed7953"
             ],
             [
              0.7777777777777778,
              "#fb9f3a"
             ],
             [
              0.8888888888888888,
              "#fdca26"
             ],
             [
              1,
              "#f0f921"
             ]
            ],
            "type": "histogram2dcontour"
           }
          ],
          "mesh3d": [
           {
            "colorbar": {
             "outlinewidth": 0,
             "ticks": ""
            },
            "type": "mesh3d"
           }
          ],
          "parcoords": [
           {
            "line": {
             "colorbar": {
              "outlinewidth": 0,
              "ticks": ""
             }
            },
            "type": "parcoords"
           }
          ],
          "pie": [
           {
            "automargin": true,
            "type": "pie"
           }
          ],
          "scatter": [
           {
            "fillpattern": {
             "fillmode": "overlay",
             "size": 10,
             "solidity": 0.2
            },
            "type": "scatter"
           }
          ],
          "scatter3d": [
           {
            "line": {
             "colorbar": {
              "outlinewidth": 0,
              "ticks": ""
             }
            },
            "marker": {
             "colorbar": {
              "outlinewidth": 0,
              "ticks": ""
             }
            },
            "type": "scatter3d"
           }
          ],
          "scattercarpet": [
           {
            "marker": {
             "colorbar": {
              "outlinewidth": 0,
              "ticks": ""
             }
            },
            "type": "scattercarpet"
           }
          ],
          "scattergeo": [
           {
            "marker": {
             "colorbar": {
              "outlinewidth": 0,
              "ticks": ""
             }
            },
            "type": "scattergeo"
           }
          ],
          "scattergl": [
           {
            "marker": {
             "colorbar": {
              "outlinewidth": 0,
              "ticks": ""
             }
            },
            "type": "scattergl"
           }
          ],
          "scattermapbox": [
           {
            "marker": {
             "colorbar": {
              "outlinewidth": 0,
              "ticks": ""
             }
            },
            "type": "scattermapbox"
           }
          ],
          "scatterpolar": [
           {
            "marker": {
             "colorbar": {
              "outlinewidth": 0,
              "ticks": ""
             }
            },
            "type": "scatterpolar"
           }
          ],
          "scatterpolargl": [
           {
            "marker": {
             "colorbar": {
              "outlinewidth": 0,
              "ticks": ""
             }
            },
            "type": "scatterpolargl"
           }
          ],
          "scatterternary": [
           {
            "marker": {
             "colorbar": {
              "outlinewidth": 0,
              "ticks": ""
             }
            },
            "type": "scatterternary"
           }
          ],
          "surface": [
           {
            "colorbar": {
             "outlinewidth": 0,
             "ticks": ""
            },
            "colorscale": [
             [
              0,
              "#0d0887"
             ],
             [
              0.1111111111111111,
              "#46039f"
             ],
             [
              0.2222222222222222,
              "#7201a8"
             ],
             [
              0.3333333333333333,
              "#9c179e"
             ],
             [
              0.4444444444444444,
              "#bd3786"
             ],
             [
              0.5555555555555556,
              "#d8576b"
             ],
             [
              0.6666666666666666,
              "#ed7953"
             ],
             [
              0.7777777777777778,
              "#fb9f3a"
             ],
             [
              0.8888888888888888,
              "#fdca26"
             ],
             [
              1,
              "#f0f921"
             ]
            ],
            "type": "surface"
           }
          ],
          "table": [
           {
            "cells": {
             "fill": {
              "color": "#EBF0F8"
             },
             "line": {
              "color": "white"
             }
            },
            "header": {
             "fill": {
              "color": "#C8D4E3"
             },
             "line": {
              "color": "white"
             }
            },
            "type": "table"
           }
          ]
         },
         "layout": {
          "annotationdefaults": {
           "arrowcolor": "#2a3f5f",
           "arrowhead": 0,
           "arrowwidth": 1
          },
          "autotypenumbers": "strict",
          "coloraxis": {
           "colorbar": {
            "outlinewidth": 0,
            "ticks": ""
           }
          },
          "colorscale": {
           "diverging": [
            [
             0,
             "#8e0152"
            ],
            [
             0.1,
             "#c51b7d"
            ],
            [
             0.2,
             "#de77ae"
            ],
            [
             0.3,
             "#f1b6da"
            ],
            [
             0.4,
             "#fde0ef"
            ],
            [
             0.5,
             "#f7f7f7"
            ],
            [
             0.6,
             "#e6f5d0"
            ],
            [
             0.7,
             "#b8e186"
            ],
            [
             0.8,
             "#7fbc41"
            ],
            [
             0.9,
             "#4d9221"
            ],
            [
             1,
             "#276419"
            ]
           ],
           "sequential": [
            [
             0,
             "#0d0887"
            ],
            [
             0.1111111111111111,
             "#46039f"
            ],
            [
             0.2222222222222222,
             "#7201a8"
            ],
            [
             0.3333333333333333,
             "#9c179e"
            ],
            [
             0.4444444444444444,
             "#bd3786"
            ],
            [
             0.5555555555555556,
             "#d8576b"
            ],
            [
             0.6666666666666666,
             "#ed7953"
            ],
            [
             0.7777777777777778,
             "#fb9f3a"
            ],
            [
             0.8888888888888888,
             "#fdca26"
            ],
            [
             1,
             "#f0f921"
            ]
           ],
           "sequentialminus": [
            [
             0,
             "#0d0887"
            ],
            [
             0.1111111111111111,
             "#46039f"
            ],
            [
             0.2222222222222222,
             "#7201a8"
            ],
            [
             0.3333333333333333,
             "#9c179e"
            ],
            [
             0.4444444444444444,
             "#bd3786"
            ],
            [
             0.5555555555555556,
             "#d8576b"
            ],
            [
             0.6666666666666666,
             "#ed7953"
            ],
            [
             0.7777777777777778,
             "#fb9f3a"
            ],
            [
             0.8888888888888888,
             "#fdca26"
            ],
            [
             1,
             "#f0f921"
            ]
           ]
          },
          "colorway": [
           "#636efa",
           "#EF553B",
           "#00cc96",
           "#ab63fa",
           "#FFA15A",
           "#19d3f3",
           "#FF6692",
           "#B6E880",
           "#FF97FF",
           "#FECB52"
          ],
          "font": {
           "color": "#2a3f5f"
          },
          "geo": {
           "bgcolor": "white",
           "lakecolor": "white",
           "landcolor": "#E5ECF6",
           "showlakes": true,
           "showland": true,
           "subunitcolor": "white"
          },
          "hoverlabel": {
           "align": "left"
          },
          "hovermode": "closest",
          "mapbox": {
           "style": "light"
          },
          "paper_bgcolor": "white",
          "plot_bgcolor": "#E5ECF6",
          "polar": {
           "angularaxis": {
            "gridcolor": "white",
            "linecolor": "white",
            "ticks": ""
           },
           "bgcolor": "#E5ECF6",
           "radialaxis": {
            "gridcolor": "white",
            "linecolor": "white",
            "ticks": ""
           }
          },
          "scene": {
           "xaxis": {
            "backgroundcolor": "#E5ECF6",
            "gridcolor": "white",
            "gridwidth": 2,
            "linecolor": "white",
            "showbackground": true,
            "ticks": "",
            "zerolinecolor": "white"
           },
           "yaxis": {
            "backgroundcolor": "#E5ECF6",
            "gridcolor": "white",
            "gridwidth": 2,
            "linecolor": "white",
            "showbackground": true,
            "ticks": "",
            "zerolinecolor": "white"
           },
           "zaxis": {
            "backgroundcolor": "#E5ECF6",
            "gridcolor": "white",
            "gridwidth": 2,
            "linecolor": "white",
            "showbackground": true,
            "ticks": "",
            "zerolinecolor": "white"
           }
          },
          "shapedefaults": {
           "line": {
            "color": "#2a3f5f"
           }
          },
          "ternary": {
           "aaxis": {
            "gridcolor": "white",
            "linecolor": "white",
            "ticks": ""
           },
           "baxis": {
            "gridcolor": "white",
            "linecolor": "white",
            "ticks": ""
           },
           "bgcolor": "#E5ECF6",
           "caxis": {
            "gridcolor": "white",
            "linecolor": "white",
            "ticks": ""
           }
          },
          "title": {
           "x": 0.05
          },
          "xaxis": {
           "automargin": true,
           "gridcolor": "white",
           "linecolor": "white",
           "ticks": "",
           "title": {
            "standoff": 15
           },
           "zerolinecolor": "white",
           "zerolinewidth": 2
          },
          "yaxis": {
           "automargin": true,
           "gridcolor": "white",
           "linecolor": "white",
           "ticks": "",
           "title": {
            "standoff": 15
           },
           "zerolinecolor": "white",
           "zerolinewidth": 2
          }
         }
        },
        "title": {
         "text": "Batches per Activity Considering Correlated Batch Instances"
        },
        "uniformtext": {
         "minsize": 8,
         "mode": "hide"
        },
        "width": 1200,
        "xaxis": {
         "anchor": "y",
         "domain": [
          0,
          1
         ],
         "tickangle": -45,
         "tickfont": {
          "size": 8
         },
         "title": {
          "font": {
           "size": 8
          },
          "text": "Activity"
         }
        },
        "yaxis": {
         "anchor": "x",
         "domain": [
          0,
          1
         ],
         "title": {
          "font": {
           "size": 8
          },
          "text": "High Batch Count"
         }
        }
       }
      }
     },
     "metadata": {},
     "output_type": "display_data"
    }
   ],
   "source": [
    "cypher_batches_per_activity = \"\"\"\n",
    "    MATCH (n:HighLevelBatch)\n",
    "    RETURN n.activity_name as activity, size(n.corr_batch_numbers) AS number_batches, count(n) AS batch_count\n",
    "    ORDER BY batch_count DESC\n",
    "\"\"\"\n",
    "\n",
    "def batches_per_activity(uri, username, password, cypher_query):\n",
    "    driver = GraphDatabase.driver(uri, auth=(username, password))\n",
    "    with driver.session() as session:\n",
    "        result = session.run(cypher_query)\n",
    "        data = result.data()\n",
    "    driver.close()\n",
    "    return data\n",
    "\n",
    "results_batches_per_activity = batches_per_activity(uri, username, password, cypher_batches_per_activity)\n",
    "\n",
    "activities = [str(record['activity']) for record in results_batches_per_activity]\n",
    "batch_counts = [record['batch_count'] for record in results_batches_per_activity]\n",
    "batch_intstances = [record['number_batches'] for record in results_batches_per_activity]\n",
    "\n",
    "df = pd.DataFrame({\n",
    "    'Activity': activities,\n",
    "    'Batch Count': batch_counts,\n",
    "    'Batch Instances': batch_intstances\n",
    "})\n",
    "\n",
    "fig = px.bar(df, x='Activity', y='Batch Count', title='Batches per Activity Considering Correlated Batch Instances',\n",
    "             labels={'Activity': 'Activity', 'Batch Count': 'High Batch Count'},\n",
    "             color='Batch Instances',  \n",
    "             text='Batch Count') \n",
    "\n",
    "fig.update_traces(texttemplate='%{text}', textposition='outside')\n",
    "fig.update_layout(uniformtext_minsize=8, uniformtext_mode='hide', xaxis_tickangle=-45, \n",
    "                  xaxis_tickfont_size=8, xaxis_title_font_size=8, yaxis_title_font_size=8,\n",
    "                  width=1200, height=600)\n",
    "\n",
    "fig.show()"
   ]
  },
  {
   "cell_type": "code",
   "execution_count": 10,
   "id": "0a5a2252",
   "metadata": {},
   "outputs": [
    {
     "data": {
      "application/vnd.plotly.v1+json": {
       "config": {
        "plotlyServerURL": "https://plot.ly"
       },
       "data": [
        {
         "alignmentgroup": "True",
         "hovertemplate": "User=%{x}<br>Frequency=%{y}<br>Batch Size=%{marker.color}<extra></extra>",
         "legendgroup": "",
         "marker": {
          "color": [
           1,
           2,
           3,
           4,
           5,
           8,
           1,
           2,
           3,
           4,
           5,
           6,
           7,
           11,
           1,
           2,
           3,
           4,
           5,
           6,
           1,
           2,
           3,
           4,
           5,
           6,
           1,
           1,
           2,
           3,
           4,
           5,
           6,
           7,
           8,
           1,
           2,
           3,
           4,
           5,
           6,
           7,
           9,
           1,
           2,
           3,
           4,
           1,
           2,
           3,
           4,
           1,
           2,
           3,
           4,
           5,
           6,
           7,
           1,
           2,
           1,
           2,
           3,
           4,
           5,
           1,
           2,
           3,
           4,
           5,
           6,
           1,
           2,
           3,
           1,
           2,
           3,
           4,
           5,
           6,
           7,
           1,
           2,
           3,
           4,
           5,
           6,
           1,
           2,
           3,
           4,
           5,
           6,
           7,
           8,
           1,
           2,
           3,
           4,
           5,
           6,
           8,
           1,
           2,
           3,
           4,
           6,
           1,
           2,
           3,
           4,
           5,
           6,
           14
          ],
          "coloraxis": "coloraxis",
          "pattern": {
           "shape": ""
          }
         },
         "name": "",
         "offsetgroup": "",
         "orientation": "v",
         "showlegend": false,
         "textposition": "auto",
         "type": "bar",
         "x": [
          "AV",
          "AV",
          "AV",
          "AV",
          "AV",
          "AV",
          "BM",
          "BM",
          "BM",
          "BM",
          "BM",
          "BM",
          "BM",
          "BM",
          "CLE",
          "CLE",
          "CLE",
          "CLE",
          "CLE",
          "CLE",
          "CM",
          "CM",
          "CM",
          "CM",
          "CM",
          "CM",
          "DF",
          "EH",
          "EH",
          "EH",
          "EH",
          "EH",
          "EH",
          "EH",
          "EH",
          "ER",
          "ER",
          "ER",
          "ER",
          "ER",
          "ER",
          "ER",
          "ER",
          "LI",
          "LI",
          "LI",
          "LI",
          "MAA",
          "MAA",
          "MAA",
          "MAA",
          "MCE",
          "MCE",
          "MCE",
          "MCE",
          "MCE",
          "MCE",
          "MCE",
          "MGP",
          "MGP",
          "ML",
          "ML",
          "ML",
          "ML",
          "ML",
          "MMF",
          "MMF",
          "MMF",
          "MMF",
          "MMF",
          "MMF",
          "MR",
          "MR",
          "MR",
          "PG",
          "PG",
          "PG",
          "PG",
          "PG",
          "PG",
          "PG",
          "PN",
          "PN",
          "PN",
          "PN",
          "PN",
          "PN",
          "SM",
          "SM",
          "SM",
          "SM",
          "SM",
          "SM",
          "SM",
          "SM",
          "SP",
          "SP",
          "SP",
          "SP",
          "SP",
          "SP",
          "SP",
          "VA",
          "VA",
          "VA",
          "VA",
          "VA",
          "VS",
          "VS",
          "VS",
          "VS",
          "VS",
          "VS",
          "VS"
         ],
         "xaxis": "x",
         "y": [
          1031,
          203,
          34,
          14,
          5,
          1,
          1398,
          148,
          43,
          12,
          5,
          1,
          2,
          1,
          606,
          88,
          27,
          8,
          3,
          2,
          1256,
          150,
          25,
          10,
          1,
          1,
          10,
          1402,
          181,
          39,
          12,
          7,
          3,
          1,
          1,
          1455,
          210,
          52,
          19,
          9,
          3,
          2,
          1,
          1184,
          96,
          11,
          1,
          156,
          15,
          2,
          1,
          1597,
          310,
          71,
          15,
          4,
          3,
          1,
          6,
          1,
          504,
          111,
          25,
          5,
          2,
          1058,
          93,
          27,
          2,
          2,
          3,
          1140,
          70,
          1,
          1188,
          165,
          41,
          14,
          3,
          1,
          2,
          1249,
          228,
          63,
          19,
          9,
          1,
          1250,
          208,
          60,
          14,
          6,
          3,
          1,
          1,
          422,
          73,
          30,
          8,
          2,
          1,
          1,
          713,
          87,
          8,
          3,
          1,
          988,
          122,
          30,
          5,
          2,
          1,
          1
         ],
         "yaxis": "y"
        }
       ],
       "layout": {
        "barmode": "group",
        "coloraxis": {
         "colorbar": {
          "title": {
           "text": "Batch Size"
          }
         },
         "colorscale": [
          [
           0,
           "#0d0887"
          ],
          [
           0.1111111111111111,
           "#46039f"
          ],
          [
           0.2222222222222222,
           "#7201a8"
          ],
          [
           0.3333333333333333,
           "#9c179e"
          ],
          [
           0.4444444444444444,
           "#bd3786"
          ],
          [
           0.5555555555555556,
           "#d8576b"
          ],
          [
           0.6666666666666666,
           "#ed7953"
          ],
          [
           0.7777777777777778,
           "#fb9f3a"
          ],
          [
           0.8888888888888888,
           "#fdca26"
          ],
          [
           1,
           "#f0f921"
          ]
         ]
        },
        "height": 600,
        "legend": {
         "tracegroupgap": 0
        },
        "margin": {
         "b": 120,
         "l": 40,
         "r": 40,
         "t": 40
        },
        "template": {
         "data": {
          "bar": [
           {
            "error_x": {
             "color": "#2a3f5f"
            },
            "error_y": {
             "color": "#2a3f5f"
            },
            "marker": {
             "line": {
              "color": "#E5ECF6",
              "width": 0.5
             },
             "pattern": {
              "fillmode": "overlay",
              "size": 10,
              "solidity": 0.2
             }
            },
            "type": "bar"
           }
          ],
          "barpolar": [
           {
            "marker": {
             "line": {
              "color": "#E5ECF6",
              "width": 0.5
             },
             "pattern": {
              "fillmode": "overlay",
              "size": 10,
              "solidity": 0.2
             }
            },
            "type": "barpolar"
           }
          ],
          "carpet": [
           {
            "aaxis": {
             "endlinecolor": "#2a3f5f",
             "gridcolor": "white",
             "linecolor": "white",
             "minorgridcolor": "white",
             "startlinecolor": "#2a3f5f"
            },
            "baxis": {
             "endlinecolor": "#2a3f5f",
             "gridcolor": "white",
             "linecolor": "white",
             "minorgridcolor": "white",
             "startlinecolor": "#2a3f5f"
            },
            "type": "carpet"
           }
          ],
          "choropleth": [
           {
            "colorbar": {
             "outlinewidth": 0,
             "ticks": ""
            },
            "type": "choropleth"
           }
          ],
          "contour": [
           {
            "colorbar": {
             "outlinewidth": 0,
             "ticks": ""
            },
            "colorscale": [
             [
              0,
              "#0d0887"
             ],
             [
              0.1111111111111111,
              "#46039f"
             ],
             [
              0.2222222222222222,
              "#7201a8"
             ],
             [
              0.3333333333333333,
              "#9c179e"
             ],
             [
              0.4444444444444444,
              "#bd3786"
             ],
             [
              0.5555555555555556,
              "#d8576b"
             ],
             [
              0.6666666666666666,
              "#ed7953"
             ],
             [
              0.7777777777777778,
              "#fb9f3a"
             ],
             [
              0.8888888888888888,
              "#fdca26"
             ],
             [
              1,
              "#f0f921"
             ]
            ],
            "type": "contour"
           }
          ],
          "contourcarpet": [
           {
            "colorbar": {
             "outlinewidth": 0,
             "ticks": ""
            },
            "type": "contourcarpet"
           }
          ],
          "heatmap": [
           {
            "colorbar": {
             "outlinewidth": 0,
             "ticks": ""
            },
            "colorscale": [
             [
              0,
              "#0d0887"
             ],
             [
              0.1111111111111111,
              "#46039f"
             ],
             [
              0.2222222222222222,
              "#7201a8"
             ],
             [
              0.3333333333333333,
              "#9c179e"
             ],
             [
              0.4444444444444444,
              "#bd3786"
             ],
             [
              0.5555555555555556,
              "#d8576b"
             ],
             [
              0.6666666666666666,
              "#ed7953"
             ],
             [
              0.7777777777777778,
              "#fb9f3a"
             ],
             [
              0.8888888888888888,
              "#fdca26"
             ],
             [
              1,
              "#f0f921"
             ]
            ],
            "type": "heatmap"
           }
          ],
          "heatmapgl": [
           {
            "colorbar": {
             "outlinewidth": 0,
             "ticks": ""
            },
            "colorscale": [
             [
              0,
              "#0d0887"
             ],
             [
              0.1111111111111111,
              "#46039f"
             ],
             [
              0.2222222222222222,
              "#7201a8"
             ],
             [
              0.3333333333333333,
              "#9c179e"
             ],
             [
              0.4444444444444444,
              "#bd3786"
             ],
             [
              0.5555555555555556,
              "#d8576b"
             ],
             [
              0.6666666666666666,
              "#ed7953"
             ],
             [
              0.7777777777777778,
              "#fb9f3a"
             ],
             [
              0.8888888888888888,
              "#fdca26"
             ],
             [
              1,
              "#f0f921"
             ]
            ],
            "type": "heatmapgl"
           }
          ],
          "histogram": [
           {
            "marker": {
             "pattern": {
              "fillmode": "overlay",
              "size": 10,
              "solidity": 0.2
             }
            },
            "type": "histogram"
           }
          ],
          "histogram2d": [
           {
            "colorbar": {
             "outlinewidth": 0,
             "ticks": ""
            },
            "colorscale": [
             [
              0,
              "#0d0887"
             ],
             [
              0.1111111111111111,
              "#46039f"
             ],
             [
              0.2222222222222222,
              "#7201a8"
             ],
             [
              0.3333333333333333,
              "#9c179e"
             ],
             [
              0.4444444444444444,
              "#bd3786"
             ],
             [
              0.5555555555555556,
              "#d8576b"
             ],
             [
              0.6666666666666666,
              "#ed7953"
             ],
             [
              0.7777777777777778,
              "#fb9f3a"
             ],
             [
              0.8888888888888888,
              "#fdca26"
             ],
             [
              1,
              "#f0f921"
             ]
            ],
            "type": "histogram2d"
           }
          ],
          "histogram2dcontour": [
           {
            "colorbar": {
             "outlinewidth": 0,
             "ticks": ""
            },
            "colorscale": [
             [
              0,
              "#0d0887"
             ],
             [
              0.1111111111111111,
              "#46039f"
             ],
             [
              0.2222222222222222,
              "#7201a8"
             ],
             [
              0.3333333333333333,
              "#9c179e"
             ],
             [
              0.4444444444444444,
              "#bd3786"
             ],
             [
              0.5555555555555556,
              "#d8576b"
             ],
             [
              0.6666666666666666,
              "#ed7953"
             ],
             [
              0.7777777777777778,
              "#fb9f3a"
             ],
             [
              0.8888888888888888,
              "#fdca26"
             ],
             [
              1,
              "#f0f921"
             ]
            ],
            "type": "histogram2dcontour"
           }
          ],
          "mesh3d": [
           {
            "colorbar": {
             "outlinewidth": 0,
             "ticks": ""
            },
            "type": "mesh3d"
           }
          ],
          "parcoords": [
           {
            "line": {
             "colorbar": {
              "outlinewidth": 0,
              "ticks": ""
             }
            },
            "type": "parcoords"
           }
          ],
          "pie": [
           {
            "automargin": true,
            "type": "pie"
           }
          ],
          "scatter": [
           {
            "fillpattern": {
             "fillmode": "overlay",
             "size": 10,
             "solidity": 0.2
            },
            "type": "scatter"
           }
          ],
          "scatter3d": [
           {
            "line": {
             "colorbar": {
              "outlinewidth": 0,
              "ticks": ""
             }
            },
            "marker": {
             "colorbar": {
              "outlinewidth": 0,
              "ticks": ""
             }
            },
            "type": "scatter3d"
           }
          ],
          "scattercarpet": [
           {
            "marker": {
             "colorbar": {
              "outlinewidth": 0,
              "ticks": ""
             }
            },
            "type": "scattercarpet"
           }
          ],
          "scattergeo": [
           {
            "marker": {
             "colorbar": {
              "outlinewidth": 0,
              "ticks": ""
             }
            },
            "type": "scattergeo"
           }
          ],
          "scattergl": [
           {
            "marker": {
             "colorbar": {
              "outlinewidth": 0,
              "ticks": ""
             }
            },
            "type": "scattergl"
           }
          ],
          "scattermapbox": [
           {
            "marker": {
             "colorbar": {
              "outlinewidth": 0,
              "ticks": ""
             }
            },
            "type": "scattermapbox"
           }
          ],
          "scatterpolar": [
           {
            "marker": {
             "colorbar": {
              "outlinewidth": 0,
              "ticks": ""
             }
            },
            "type": "scatterpolar"
           }
          ],
          "scatterpolargl": [
           {
            "marker": {
             "colorbar": {
              "outlinewidth": 0,
              "ticks": ""
             }
            },
            "type": "scatterpolargl"
           }
          ],
          "scatterternary": [
           {
            "marker": {
             "colorbar": {
              "outlinewidth": 0,
              "ticks": ""
             }
            },
            "type": "scatterternary"
           }
          ],
          "surface": [
           {
            "colorbar": {
             "outlinewidth": 0,
             "ticks": ""
            },
            "colorscale": [
             [
              0,
              "#0d0887"
             ],
             [
              0.1111111111111111,
              "#46039f"
             ],
             [
              0.2222222222222222,
              "#7201a8"
             ],
             [
              0.3333333333333333,
              "#9c179e"
             ],
             [
              0.4444444444444444,
              "#bd3786"
             ],
             [
              0.5555555555555556,
              "#d8576b"
             ],
             [
              0.6666666666666666,
              "#ed7953"
             ],
             [
              0.7777777777777778,
              "#fb9f3a"
             ],
             [
              0.8888888888888888,
              "#fdca26"
             ],
             [
              1,
              "#f0f921"
             ]
            ],
            "type": "surface"
           }
          ],
          "table": [
           {
            "cells": {
             "fill": {
              "color": "#EBF0F8"
             },
             "line": {
              "color": "white"
             }
            },
            "header": {
             "fill": {
              "color": "#C8D4E3"
             },
             "line": {
              "color": "white"
             }
            },
            "type": "table"
           }
          ]
         },
         "layout": {
          "annotationdefaults": {
           "arrowcolor": "#2a3f5f",
           "arrowhead": 0,
           "arrowwidth": 1
          },
          "autotypenumbers": "strict",
          "coloraxis": {
           "colorbar": {
            "outlinewidth": 0,
            "ticks": ""
           }
          },
          "colorscale": {
           "diverging": [
            [
             0,
             "#8e0152"
            ],
            [
             0.1,
             "#c51b7d"
            ],
            [
             0.2,
             "#de77ae"
            ],
            [
             0.3,
             "#f1b6da"
            ],
            [
             0.4,
             "#fde0ef"
            ],
            [
             0.5,
             "#f7f7f7"
            ],
            [
             0.6,
             "#e6f5d0"
            ],
            [
             0.7,
             "#b8e186"
            ],
            [
             0.8,
             "#7fbc41"
            ],
            [
             0.9,
             "#4d9221"
            ],
            [
             1,
             "#276419"
            ]
           ],
           "sequential": [
            [
             0,
             "#0d0887"
            ],
            [
             0.1111111111111111,
             "#46039f"
            ],
            [
             0.2222222222222222,
             "#7201a8"
            ],
            [
             0.3333333333333333,
             "#9c179e"
            ],
            [
             0.4444444444444444,
             "#bd3786"
            ],
            [
             0.5555555555555556,
             "#d8576b"
            ],
            [
             0.6666666666666666,
             "#ed7953"
            ],
            [
             0.7777777777777778,
             "#fb9f3a"
            ],
            [
             0.8888888888888888,
             "#fdca26"
            ],
            [
             1,
             "#f0f921"
            ]
           ],
           "sequentialminus": [
            [
             0,
             "#0d0887"
            ],
            [
             0.1111111111111111,
             "#46039f"
            ],
            [
             0.2222222222222222,
             "#7201a8"
            ],
            [
             0.3333333333333333,
             "#9c179e"
            ],
            [
             0.4444444444444444,
             "#bd3786"
            ],
            [
             0.5555555555555556,
             "#d8576b"
            ],
            [
             0.6666666666666666,
             "#ed7953"
            ],
            [
             0.7777777777777778,
             "#fb9f3a"
            ],
            [
             0.8888888888888888,
             "#fdca26"
            ],
            [
             1,
             "#f0f921"
            ]
           ]
          },
          "colorway": [
           "#636efa",
           "#EF553B",
           "#00cc96",
           "#ab63fa",
           "#FFA15A",
           "#19d3f3",
           "#FF6692",
           "#B6E880",
           "#FF97FF",
           "#FECB52"
          ],
          "font": {
           "color": "#2a3f5f"
          },
          "geo": {
           "bgcolor": "white",
           "lakecolor": "white",
           "landcolor": "#E5ECF6",
           "showlakes": true,
           "showland": true,
           "subunitcolor": "white"
          },
          "hoverlabel": {
           "align": "left"
          },
          "hovermode": "closest",
          "mapbox": {
           "style": "light"
          },
          "paper_bgcolor": "white",
          "plot_bgcolor": "#E5ECF6",
          "polar": {
           "angularaxis": {
            "gridcolor": "white",
            "linecolor": "white",
            "ticks": ""
           },
           "bgcolor": "#E5ECF6",
           "radialaxis": {
            "gridcolor": "white",
            "linecolor": "white",
            "ticks": ""
           }
          },
          "scene": {
           "xaxis": {
            "backgroundcolor": "#E5ECF6",
            "gridcolor": "white",
            "gridwidth": 2,
            "linecolor": "white",
            "showbackground": true,
            "ticks": "",
            "zerolinecolor": "white"
           },
           "yaxis": {
            "backgroundcolor": "#E5ECF6",
            "gridcolor": "white",
            "gridwidth": 2,
            "linecolor": "white",
            "showbackground": true,
            "ticks": "",
            "zerolinecolor": "white"
           },
           "zaxis": {
            "backgroundcolor": "#E5ECF6",
            "gridcolor": "white",
            "gridwidth": 2,
            "linecolor": "white",
            "showbackground": true,
            "ticks": "",
            "zerolinecolor": "white"
           }
          },
          "shapedefaults": {
           "line": {
            "color": "#2a3f5f"
           }
          },
          "ternary": {
           "aaxis": {
            "gridcolor": "white",
            "linecolor": "white",
            "ticks": ""
           },
           "baxis": {
            "gridcolor": "white",
            "linecolor": "white",
            "ticks": ""
           },
           "bgcolor": "#E5ECF6",
           "caxis": {
            "gridcolor": "white",
            "linecolor": "white",
            "ticks": ""
           }
          },
          "title": {
           "x": 0.05
          },
          "xaxis": {
           "automargin": true,
           "gridcolor": "white",
           "linecolor": "white",
           "ticks": "",
           "title": {
            "standoff": 15
           },
           "zerolinecolor": "white",
           "zerolinewidth": 2
          },
          "yaxis": {
           "automargin": true,
           "gridcolor": "white",
           "linecolor": "white",
           "ticks": "",
           "title": {
            "standoff": 15
           },
           "zerolinecolor": "white",
           "zerolinewidth": 2
          }
         }
        },
        "title": {
         "text": "Distribution of HighLevelBatch Sizes for Each User"
        },
        "xaxis": {
         "anchor": "y",
         "domain": [
          0,
          1
         ],
         "tickangle": -45,
         "tickfont": {
          "size": 8
         },
         "title": {
          "font": {
           "size": 10
          },
          "text": "User"
         }
        },
        "yaxis": {
         "anchor": "x",
         "domain": [
          0,
          1
         ],
         "title": {
          "text": "Frequency"
         }
        }
       }
      }
     },
     "metadata": {},
     "output_type": "display_data"
    }
   ],
   "source": [
    "cypher_batches_size_distribution = \"\"\"\n",
    "MATCH (u:Resource)-[:CORR]->(n:HighLevelBatch)\n",
    "WITH u.sysId AS user, size(n.corr_batch_numbers) AS number_batches\n",
    "RETURN user, number_batches, count(number_batches) AS frequency\n",
    "ORDER BY user, number_batches\n",
    "\"\"\"\n",
    "\n",
    "def batches_size_distribution(uri, username, password, cypher_query):\n",
    "    driver = GraphDatabase.driver(uri, auth=(username, password))\n",
    "    with driver.session() as session:\n",
    "        result = session.run(cypher_query)\n",
    "        data = result.data()\n",
    "        return data\n",
    "\n",
    "results_batches_size_distribution = batches_size_distribution(uri, username, password, cypher_batches_size_distribution)\n",
    "\n",
    "user = [record['user'] for record in results_batches_size_distribution]\n",
    "number_batches = [record['number_batches'] for record in results_batches_size_distribution]\n",
    "frequency = [record['frequency'] for record in results_batches_size_distribution]\n",
    "\n",
    "\n",
    "df = pd.DataFrame({\n",
    "    'User': user,\n",
    "    'Number of Batches': number_batches,\n",
    "    'Frequency': frequency\n",
    "})\n",
    "\n",
    "\n",
    "fig = px.bar(df, x='User', y='Frequency', color='Number of Batches', barmode='group',\n",
    "             title='Distribution of HighLevelBatch Sizes for Each User',\n",
    "             labels={'User': 'User', 'Frequency': 'Frequency', 'Number of Batches': 'Batch Size'})\n",
    "\n",
    "fig.update_layout(\n",
    "    xaxis_tickangle=-45,\n",
    "    xaxis_tickfont_size=8,  \n",
    "    xaxis_title_font_size=10,\n",
    "    margin=dict(l=40, r=40, t=40, b=120),\n",
    "    height=600\n",
    ")\n",
    "\n",
    "fig.show()"
   ]
  },
  {
   "cell_type": "code",
   "execution_count": 11,
   "id": "d0cbd70e",
   "metadata": {},
   "outputs": [
    {
     "name": "stderr",
     "output_type": "stream",
     "text": [
      "/Library/Frameworks/Python.framework/Versions/3.11/lib/python3.11/site-packages/plotly/express/_core.py:2065: FutureWarning:\n",
      "\n",
      "When grouping with a length-1 list-like, you will need to pass a length-1 tuple to get_group in a future version of pandas. Pass `(name,)` instead of `name` to silence this warning.\n",
      "\n"
     ]
    },
    {
     "data": {
      "application/vnd.plotly.v1+json": {
       "config": {
        "plotlyServerURL": "https://plot.ly"
       },
       "data": [
        {
         "alignmentgroup": "True",
         "hovertemplate": "activity=['Composición de cargas', 'Montaje']<br>User=%{x}<br>Frequency=%{y}<extra></extra>",
         "legendgroup": "['Composición de cargas', 'Montaje']",
         "marker": {
          "color": "#636efa",
          "pattern": {
           "shape": ""
          }
         },
         "name": "['Composición de cargas', 'Montaje']",
         "offsetgroup": "['Composición de cargas', 'Montaje']",
         "orientation": "v",
         "showlegend": true,
         "textposition": "auto",
         "type": "bar",
         "x": [
          "AV",
          "CM",
          "EH",
          "LI",
          "MCE",
          "ML",
          "PG",
          "SP",
          "VS"
         ],
         "xaxis": "x",
         "y": [
          1,
          3,
          2,
          1,
          5,
          1,
          2,
          1,
          1
         ],
         "yaxis": "y"
        },
        {
         "alignmentgroup": "True",
         "hovertemplate": "activity=['Carga de esterilizador liberada', 'Composición de cargas']<br>User=%{x}<br>Frequency=%{y}<extra></extra>",
         "legendgroup": "['Carga de esterilizador liberada', 'Composición de cargas']",
         "marker": {
          "color": "#EF553B",
          "pattern": {
           "shape": ""
          }
         },
         "name": "['Carga de esterilizador liberada', 'Composición de cargas']",
         "offsetgroup": "['Carga de esterilizador liberada', 'Composición de cargas']",
         "orientation": "v",
         "showlegend": true,
         "textposition": "auto",
         "type": "bar",
         "x": [
          "AV",
          "CM",
          "ER",
          "MCE"
         ],
         "xaxis": "x",
         "y": [
          1,
          1,
          2,
          1
         ],
         "yaxis": "y"
        },
        {
         "alignmentgroup": "True",
         "hovertemplate": "activity=['Producción  montada', 'Montaje', 'Carga de esterilizador liberada']<br>User=%{x}<br>Frequency=%{y}<extra></extra>",
         "legendgroup": "['Producción  montada', 'Montaje', 'Carga de esterilizador liberada']",
         "marker": {
          "color": "#00cc96",
          "pattern": {
           "shape": ""
          }
         },
         "name": "['Producción  montada', 'Montaje', 'Carga de esterilizador liberada']",
         "offsetgroup": "['Producción  montada', 'Montaje', 'Carga de esterilizador liberada']",
         "orientation": "v",
         "showlegend": true,
         "textposition": "auto",
         "type": "bar",
         "x": [
          "AV",
          "BM",
          "EH",
          "MCE",
          "PG",
          "SM",
          "SP"
         ],
         "xaxis": "x",
         "y": [
          1,
          1,
          3,
          2,
          1,
          1,
          3
         ],
         "yaxis": "y"
        },
        {
         "alignmentgroup": "True",
         "hovertemplate": "activity=['Montaje', 'Carga L+D liberada']<br>User=%{x}<br>Frequency=%{y}<extra></extra>",
         "legendgroup": "['Montaje', 'Carga L+D liberada']",
         "marker": {
          "color": "#ab63fa",
          "pattern": {
           "shape": ""
          }
         },
         "name": "['Montaje', 'Carga L+D liberada']",
         "offsetgroup": "['Montaje', 'Carga L+D liberada']",
         "orientation": "v",
         "showlegend": true,
         "textposition": "auto",
         "type": "bar",
         "x": [
          "AV",
          "CM",
          "ER",
          "MCE",
          "MMF",
          "PN",
          "SM",
          "SP",
          "VS"
         ],
         "xaxis": "x",
         "y": [
          1,
          1,
          1,
          3,
          2,
          2,
          1,
          1,
          1
         ],
         "yaxis": "y"
        },
        {
         "alignmentgroup": "True",
         "hovertemplate": "activity=['Comisionado', 'Producción  montada', 'Montaje']<br>User=%{x}<br>Frequency=%{y}<extra></extra>",
         "legendgroup": "['Comisionado', 'Producción  montada', 'Montaje']",
         "marker": {
          "color": "#FFA15A",
          "pattern": {
           "shape": ""
          }
         },
         "name": "['Comisionado', 'Producción  montada', 'Montaje']",
         "offsetgroup": "['Comisionado', 'Producción  montada', 'Montaje']",
         "orientation": "v",
         "showlegend": true,
         "textposition": "auto",
         "type": "bar",
         "x": [
          "AV",
          "CLE",
          "PN",
          "SM",
          "VS"
         ],
         "xaxis": "x",
         "y": [
          1,
          1,
          1,
          1,
          1
         ],
         "yaxis": "y"
        },
        {
         "alignmentgroup": "True",
         "hovertemplate": "activity=['Entrada Material Sucio', 'Cargado en carro  L+D']<br>User=%{x}<br>Frequency=%{y}<extra></extra>",
         "legendgroup": "['Entrada Material Sucio', 'Cargado en carro  L+D']",
         "marker": {
          "color": "#19d3f3",
          "pattern": {
           "shape": ""
          }
         },
         "name": "['Entrada Material Sucio', 'Cargado en carro  L+D']",
         "offsetgroup": "['Entrada Material Sucio', 'Cargado en carro  L+D']",
         "orientation": "v",
         "showlegend": true,
         "textposition": "auto",
         "type": "bar",
         "x": [
          "AV",
          "BM",
          "CM",
          "EH",
          "ER",
          "LI",
          "MAA",
          "ML",
          "MMF",
          "MR",
          "PG",
          "PN",
          "SM",
          "SP",
          "VA",
          "VS"
         ],
         "xaxis": "x",
         "y": [
          1,
          2,
          2,
          4,
          7,
          4,
          1,
          3,
          3,
          3,
          2,
          3,
          1,
          1,
          1,
          2
         ],
         "yaxis": "y"
        },
        {
         "alignmentgroup": "True",
         "hovertemplate": "activity=['Carga de esterilizador liberada', 'Comisionado']<br>User=%{x}<br>Frequency=%{y}<extra></extra>",
         "legendgroup": "['Carga de esterilizador liberada', 'Comisionado']",
         "marker": {
          "color": "#FF6692",
          "pattern": {
           "shape": ""
          }
         },
         "name": "['Carga de esterilizador liberada', 'Comisionado']",
         "offsetgroup": "['Carga de esterilizador liberada', 'Comisionado']",
         "orientation": "v",
         "showlegend": true,
         "textposition": "auto",
         "type": "bar",
         "x": [
          "AV",
          "BM",
          "EH",
          "ER",
          "MCE",
          "PG"
         ],
         "xaxis": "x",
         "y": [
          1,
          1,
          1,
          2,
          1,
          1
         ],
         "yaxis": "y"
        },
        {
         "alignmentgroup": "True",
         "hovertemplate": "activity=['Composición de cargas', 'Producción  montada', 'Montaje', 'Carga de esterilizador liberada']<br>User=%{x}<br>Frequency=%{y}<extra></extra>",
         "legendgroup": "['Composición de cargas', 'Producción  montada', 'Montaje', 'Carga de esterilizador liberada']",
         "marker": {
          "color": "#B6E880",
          "pattern": {
           "shape": ""
          }
         },
         "name": "['Composición de cargas', 'Producción  montada', 'Montaje', 'Carga de esterilizador liberada']",
         "offsetgroup": "['Composición de cargas', 'Producción  montada', 'Montaje', 'Carga de esterilizador liberada']",
         "orientation": "v",
         "showlegend": true,
         "textposition": "auto",
         "type": "bar",
         "x": [
          "AV",
          "ER",
          "MCE",
          "SM"
         ],
         "xaxis": "x",
         "y": [
          2,
          2,
          1,
          1
         ],
         "yaxis": "y"
        },
        {
         "alignmentgroup": "True",
         "hovertemplate": "activity=['Carga de esterilizador liberada', 'Producción  montada', 'Montaje']<br>User=%{x}<br>Frequency=%{y}<extra></extra>",
         "legendgroup": "['Carga de esterilizador liberada', 'Producción  montada', 'Montaje']",
         "marker": {
          "color": "#FF97FF",
          "pattern": {
           "shape": ""
          }
         },
         "name": "['Carga de esterilizador liberada', 'Producción  montada', 'Montaje']",
         "offsetgroup": "['Carga de esterilizador liberada', 'Producción  montada', 'Montaje']",
         "orientation": "v",
         "showlegend": true,
         "textposition": "auto",
         "type": "bar",
         "x": [
          "AV",
          "CLE",
          "MAA",
          "PN",
          "SM"
         ],
         "xaxis": "x",
         "y": [
          2,
          1,
          1,
          2,
          1
         ],
         "yaxis": "y"
        },
        {
         "alignmentgroup": "True",
         "hovertemplate": "activity=['Composición de cargas', 'Producción  montada', 'Montaje']<br>User=%{x}<br>Frequency=%{y}<extra></extra>",
         "legendgroup": "['Composición de cargas', 'Producción  montada', 'Montaje']",
         "marker": {
          "color": "#FECB52",
          "pattern": {
           "shape": ""
          }
         },
         "name": "['Composición de cargas', 'Producción  montada', 'Montaje']",
         "offsetgroup": "['Composición de cargas', 'Producción  montada', 'Montaje']",
         "orientation": "v",
         "showlegend": true,
         "textposition": "auto",
         "type": "bar",
         "x": [
          "AV",
          "BM",
          "CLE",
          "CM",
          "EH",
          "ER",
          "LI",
          "MCE",
          "ML",
          "MMF",
          "PG",
          "PN",
          "SM",
          "SP",
          "VA",
          "VS"
         ],
         "xaxis": "x",
         "y": [
          5,
          8,
          4,
          2,
          3,
          11,
          1,
          13,
          2,
          1,
          1,
          14,
          8,
          5,
          5,
          4
         ],
         "yaxis": "y"
        },
        {
         "alignmentgroup": "True",
         "hovertemplate": "activity=['Producción  montada', 'Montaje', 'Composición de cargas']<br>User=%{x}<br>Frequency=%{y}<extra></extra>",
         "legendgroup": "['Producción  montada', 'Montaje', 'Composición de cargas']",
         "marker": {
          "color": "#636efa",
          "pattern": {
           "shape": ""
          }
         },
         "name": "['Producción  montada', 'Montaje', 'Composición de cargas']",
         "offsetgroup": "['Producción  montada', 'Montaje', 'Composición de cargas']",
         "orientation": "v",
         "showlegend": true,
         "textposition": "auto",
         "type": "bar",
         "x": [
          "AV",
          "BM",
          "CLE",
          "CM",
          "EH",
          "ER",
          "LI",
          "MCE",
          "ML",
          "MMF",
          "PG",
          "PN",
          "SM",
          "SP",
          "VA",
          "VS"
         ],
         "xaxis": "x",
         "y": [
          7,
          9,
          2,
          4,
          9,
          8,
          1,
          12,
          8,
          2,
          11,
          10,
          10,
          4,
          1,
          3
         ],
         "yaxis": "y"
        },
        {
         "alignmentgroup": "True",
         "hovertemplate": "activity=['Montaje', 'Producción  montada']<br>User=%{x}<br>Frequency=%{y}<extra></extra>",
         "legendgroup": "['Montaje', 'Producción  montada']",
         "marker": {
          "color": "#EF553B",
          "pattern": {
           "shape": ""
          }
         },
         "name": "['Montaje', 'Producción  montada']",
         "offsetgroup": "['Montaje', 'Producción  montada']",
         "orientation": "v",
         "showlegend": true,
         "textposition": "auto",
         "type": "bar",
         "x": [
          "AV",
          "BM",
          "CLE",
          "CM",
          "EH",
          "ER",
          "LI",
          "MCE",
          "ML",
          "MMF",
          "PG",
          "PN",
          "SM",
          "SP",
          "VA",
          "VS"
         ],
         "xaxis": "x",
         "y": [
          12,
          4,
          4,
          5,
          3,
          9,
          1,
          19,
          11,
          5,
          4,
          9,
          8,
          3,
          1,
          8
         ],
         "yaxis": "y"
        },
        {
         "alignmentgroup": "True",
         "hovertemplate": "activity=['Producción  montada', 'Montaje', 'Carga L+D liberada']<br>User=%{x}<br>Frequency=%{y}<extra></extra>",
         "legendgroup": "['Producción  montada', 'Montaje', 'Carga L+D liberada']",
         "marker": {
          "color": "#00cc96",
          "pattern": {
           "shape": ""
          }
         },
         "name": "['Producción  montada', 'Montaje', 'Carga L+D liberada']",
         "offsetgroup": "['Producción  montada', 'Montaje', 'Carga L+D liberada']",
         "orientation": "v",
         "showlegend": true,
         "textposition": "auto",
         "type": "bar",
         "x": [
          "AV",
          "BM",
          "CLE",
          "CM",
          "EH",
          "ER",
          "LI",
          "MCE",
          "ML",
          "MMF",
          "PG",
          "PN",
          "SM",
          "SP",
          "VA",
          "VS"
         ],
         "xaxis": "x",
         "y": [
          12,
          14,
          8,
          7,
          12,
          22,
          2,
          18,
          4,
          10,
          13,
          18,
          17,
          13,
          2,
          7
         ],
         "yaxis": "y"
        },
        {
         "alignmentgroup": "True",
         "hovertemplate": "activity=['Carga L+D iniciada', 'Cargado en carro  L+D']<br>User=%{x}<br>Frequency=%{y}<extra></extra>",
         "legendgroup": "['Carga L+D iniciada', 'Cargado en carro  L+D']",
         "marker": {
          "color": "#ab63fa",
          "pattern": {
           "shape": ""
          }
         },
         "name": "['Carga L+D iniciada', 'Cargado en carro  L+D']",
         "offsetgroup": "['Carga L+D iniciada', 'Cargado en carro  L+D']",
         "orientation": "v",
         "showlegend": true,
         "textposition": "auto",
         "type": "bar",
         "x": [
          "AV",
          "BM",
          "CLE",
          "CM",
          "EH",
          "ER",
          "LI",
          "MAA",
          "MCE",
          "ML",
          "MMF",
          "MR",
          "PG",
          "PN",
          "SM",
          "SP",
          "VA",
          "VS"
         ],
         "xaxis": "x",
         "y": [
          14,
          19,
          2,
          19,
          29,
          33,
          35,
          2,
          1,
          2,
          4,
          18,
          19,
          23,
          11,
          10,
          9,
          6
         ],
         "yaxis": "y"
        },
        {
         "alignmentgroup": "True",
         "hovertemplate": "activity=['Comisionado']<br>User=%{x}<br>Frequency=%{y}<extra></extra>",
         "legendgroup": "['Comisionado']",
         "marker": {
          "color": "#FFA15A",
          "pattern": {
           "shape": ""
          }
         },
         "name": "['Comisionado']",
         "offsetgroup": "['Comisionado']",
         "orientation": "v",
         "showlegend": true,
         "textposition": "auto",
         "type": "bar",
         "x": [
          "AV",
          "BM",
          "CLE",
          "CM",
          "EH",
          "ER",
          "LI",
          "MAA",
          "MCE",
          "ML",
          "MMF",
          "MR",
          "PG",
          "PN",
          "SM",
          "VA",
          "VS"
         ],
         "xaxis": "x",
         "y": [
          70,
          61,
          38,
          60,
          77,
          104,
          55,
          14,
          101,
          40,
          65,
          66,
          59,
          53,
          60,
          57,
          40
         ],
         "yaxis": "y"
        },
        {
         "alignmentgroup": "True",
         "hovertemplate": "activity=['Carga L+D liberada']<br>User=%{x}<br>Frequency=%{y}<extra></extra>",
         "legendgroup": "['Carga L+D liberada']",
         "marker": {
          "color": "#19d3f3",
          "pattern": {
           "shape": ""
          }
         },
         "name": "['Carga L+D liberada']",
         "offsetgroup": "['Carga L+D liberada']",
         "orientation": "v",
         "showlegend": true,
         "textposition": "auto",
         "type": "bar",
         "x": [
          "AV",
          "BM",
          "CLE",
          "CM",
          "EH",
          "ER",
          "LI",
          "MAA",
          "MCE",
          "ML",
          "MMF",
          "MR",
          "PG",
          "PN",
          "SM",
          "SP",
          "VA",
          "VS"
         ],
         "xaxis": "x",
         "y": [
          71,
          94,
          50,
          70,
          91,
          124,
          74,
          10,
          195,
          51,
          86,
          41,
          72,
          95,
          104,
          32,
          41,
          47
         ],
         "yaxis": "y"
        },
        {
         "alignmentgroup": "True",
         "hovertemplate": "activity=['Composición de cargas']<br>User=%{x}<br>Frequency=%{y}<extra></extra>",
         "legendgroup": "['Composición de cargas']",
         "marker": {
          "color": "#FF6692",
          "pattern": {
           "shape": ""
          }
         },
         "name": "['Composición de cargas']",
         "offsetgroup": "['Composición de cargas']",
         "orientation": "v",
         "showlegend": true,
         "textposition": "auto",
         "type": "bar",
         "x": [
          "AV",
          "BM",
          "CLE",
          "CM",
          "EH",
          "ER",
          "LI",
          "MAA",
          "MCE",
          "ML",
          "MMF",
          "MR",
          "PG",
          "PN",
          "SM",
          "SP",
          "VA",
          "VS"
         ],
         "xaxis": "x",
         "y": [
          75,
          93,
          47,
          83,
          79,
          107,
          43,
          8,
          160,
          51,
          66,
          24,
          86,
          108,
          115,
          28,
          33,
          55
         ],
         "yaxis": "y"
        },
        {
         "alignmentgroup": "True",
         "hovertemplate": "activity=['Carga de esterilizador liberada']<br>User=%{x}<br>Frequency=%{y}<extra></extra>",
         "legendgroup": "['Carga de esterilizador liberada']",
         "marker": {
          "color": "#B6E880",
          "pattern": {
           "shape": ""
          }
         },
         "name": "['Carga de esterilizador liberada']",
         "offsetgroup": "['Carga de esterilizador liberada']",
         "orientation": "v",
         "showlegend": true,
         "textposition": "auto",
         "type": "bar",
         "x": [
          "AV",
          "BM",
          "CLE",
          "CM",
          "EH",
          "ER",
          "LI",
          "MAA",
          "MCE",
          "ML",
          "MMF",
          "MR",
          "PG",
          "PN",
          "SM",
          "SP",
          "VA",
          "VS"
         ],
         "xaxis": "x",
         "y": [
          84,
          82,
          27,
          92,
          86,
          95,
          32,
          9,
          142,
          45,
          75,
          37,
          93,
          110,
          77,
          36,
          76,
          58
         ],
         "yaxis": "y"
        },
        {
         "alignmentgroup": "True",
         "hovertemplate": "activity=['Entrada Material Sucio']<br>User=%{x}<br>Frequency=%{y}<extra></extra>",
         "legendgroup": "['Entrada Material Sucio']",
         "marker": {
          "color": "#FF97FF",
          "pattern": {
           "shape": ""
          }
         },
         "name": "['Entrada Material Sucio']",
         "offsetgroup": "['Entrada Material Sucio']",
         "orientation": "v",
         "showlegend": true,
         "textposition": "auto",
         "type": "bar",
         "x": [
          "AV",
          "BM",
          "CLE",
          "CM",
          "EH",
          "ER",
          "LI",
          "MAA",
          "MCE",
          "ML",
          "MMF",
          "MR",
          "PG",
          "PN",
          "SM",
          "SP",
          "VA",
          "VS"
         ],
         "xaxis": "x",
         "y": [
          86,
          136,
          12,
          105,
          162,
          163,
          167,
          20,
          36,
          20,
          88,
          183,
          88,
          75,
          88,
          44,
          80,
          105
         ],
         "yaxis": "y"
        },
        {
         "alignmentgroup": "True",
         "hovertemplate": "activity=['Carga L+D iniciada']<br>User=%{x}<br>Frequency=%{y}<extra></extra>",
         "legendgroup": "['Carga L+D iniciada']",
         "marker": {
          "color": "#FECB52",
          "pattern": {
           "shape": ""
          }
         },
         "name": "['Carga L+D iniciada']",
         "offsetgroup": "['Carga L+D iniciada']",
         "orientation": "v",
         "showlegend": true,
         "textposition": "auto",
         "type": "bar",
         "x": [
          "AV",
          "BM",
          "CLE",
          "CM",
          "EH",
          "ER",
          "LI",
          "MAA",
          "MCE",
          "ML",
          "MMF",
          "MR",
          "PG",
          "PN",
          "SM",
          "SP",
          "VA",
          "VS"
         ],
         "xaxis": "x",
         "y": [
          94,
          151,
          28,
          112,
          180,
          147,
          156,
          23,
          64,
          23,
          86,
          145,
          125,
          98,
          139,
          46,
          82,
          98
         ],
         "yaxis": "y"
        },
        {
         "alignmentgroup": "True",
         "hovertemplate": "activity=['Montaje']<br>User=%{x}<br>Frequency=%{y}<extra></extra>",
         "legendgroup": "['Montaje']",
         "marker": {
          "color": "#636efa",
          "pattern": {
           "shape": ""
          }
         },
         "name": "['Montaje']",
         "offsetgroup": "['Montaje']",
         "orientation": "v",
         "showlegend": true,
         "textposition": "auto",
         "type": "bar",
         "x": [
          "AV",
          "BM",
          "CLE",
          "CM",
          "DF",
          "EH",
          "ER",
          "LI",
          "MAA",
          "MCE",
          "MGP",
          "ML",
          "MMF",
          "MR",
          "PG",
          "PN",
          "SM",
          "SP",
          "VA",
          "VS"
         ],
         "xaxis": "x",
         "y": [
          160,
          229,
          179,
          215,
          7,
          193,
          185,
          106,
          18,
          408,
          4,
          112,
          182,
          102,
          200,
          248,
          228,
          67,
          87,
          166
         ],
         "yaxis": "y"
        },
        {
         "alignmentgroup": "True",
         "hovertemplate": "activity=['Producción  montada']<br>User=%{x}<br>Frequency=%{y}<extra></extra>",
         "legendgroup": "['Producción  montada']",
         "marker": {
          "color": "#EF553B",
          "pattern": {
           "shape": ""
          }
         },
         "name": "['Producción  montada']",
         "offsetgroup": "['Producción  montada']",
         "orientation": "v",
         "showlegend": true,
         "textposition": "auto",
         "type": "bar",
         "x": [
          "AV",
          "BM",
          "CLE",
          "CM",
          "DF",
          "EH",
          "ER",
          "LI",
          "MAA",
          "MCE",
          "MGP",
          "ML",
          "MMF",
          "MR",
          "PG",
          "PN",
          "SM",
          "SP",
          "VA",
          "VS"
         ],
         "xaxis": "x",
         "y": [
          162,
          224,
          185,
          232,
          3,
          204,
          197,
          106,
          24,
          428,
          2,
          105,
          175,
          93,
          201,
          247,
          204,
          71,
          77,
          171
         ],
         "yaxis": "y"
        },
        {
         "alignmentgroup": "True",
         "hovertemplate": "activity=['Producción  montada', 'Montaje']<br>User=%{x}<br>Frequency=%{y}<extra></extra>",
         "legendgroup": "['Producción  montada', 'Montaje']",
         "marker": {
          "color": "#00cc96",
          "pattern": {
           "shape": ""
          }
         },
         "name": "['Producción  montada', 'Montaje']",
         "offsetgroup": "['Producción  montada', 'Montaje']",
         "orientation": "v",
         "showlegend": true,
         "textposition": "auto",
         "type": "bar",
         "x": [
          "AV",
          "BM",
          "CLE",
          "CM",
          "EH",
          "ER",
          "LI",
          "MAA",
          "MCE",
          "MGP",
          "ML",
          "MMF",
          "MR",
          "PG",
          "PN",
          "SM",
          "SP",
          "VA",
          "VS"
         ],
         "xaxis": "x",
         "y": [
          196,
          144,
          106,
          140,
          164,
          191,
          58,
          13,
          315,
          1,
          110,
          94,
          47,
          158,
          228,
          229,
          71,
          78,
          121
         ],
         "yaxis": "y"
        },
        {
         "alignmentgroup": "True",
         "hovertemplate": "activity=['Cargado en carro  L+D']<br>User=%{x}<br>Frequency=%{y}<extra></extra>",
         "legendgroup": "['Cargado en carro  L+D']",
         "marker": {
          "color": "#ab63fa",
          "pattern": {
           "shape": ""
          }
         },
         "name": "['Cargado en carro  L+D']",
         "offsetgroup": "['Cargado en carro  L+D']",
         "orientation": "v",
         "showlegend": true,
         "textposition": "auto",
         "type": "bar",
         "x": [
          "AV",
          "BM",
          "CLE",
          "CM",
          "EH",
          "ER",
          "LI",
          "MAA",
          "MCE",
          "ML",
          "MMF",
          "MR",
          "PG",
          "PN",
          "SM",
          "SP",
          "VA",
          "VS"
         ],
         "xaxis": "x",
         "y": [
          229,
          328,
          40,
          287,
          330,
          333,
          445,
          30,
          63,
          57,
          235,
          449,
          264,
          215,
          235,
          98,
          180,
          249
         ],
         "yaxis": "y"
        },
        {
         "alignmentgroup": "True",
         "hovertemplate": "activity=['Cargado en carro  L+D', 'Carga L+D iniciada']<br>User=%{x}<br>Frequency=%{y}<extra></extra>",
         "legendgroup": "['Cargado en carro  L+D', 'Carga L+D iniciada']",
         "marker": {
          "color": "#FFA15A",
          "pattern": {
           "shape": ""
          }
         },
         "name": "['Cargado en carro  L+D', 'Carga L+D iniciada']",
         "offsetgroup": "['Cargado en carro  L+D', 'Carga L+D iniciada']",
         "orientation": "v",
         "showlegend": true,
         "textposition": "auto",
         "type": "bar",
         "x": [
          "BM",
          "CM",
          "EH",
          "ER",
          "LI",
          "MAA",
          "VS"
         ],
         "xaxis": "x",
         "y": [
          1,
          2,
          2,
          2,
          3,
          1,
          1
         ],
         "yaxis": "y"
        },
        {
         "alignmentgroup": "True",
         "hovertemplate": "activity=['Producción  montada', 'Carga L+D liberada']<br>User=%{x}<br>Frequency=%{y}<extra></extra>",
         "legendgroup": "['Producción  montada', 'Carga L+D liberada']",
         "marker": {
          "color": "#19d3f3",
          "pattern": {
           "shape": ""
          }
         },
         "name": "['Producción  montada', 'Carga L+D liberada']",
         "offsetgroup": "['Producción  montada', 'Carga L+D liberada']",
         "orientation": "v",
         "showlegend": true,
         "textposition": "auto",
         "type": "bar",
         "x": [
          "BM",
          "MCE",
          "ML",
          "PN"
         ],
         "xaxis": "x",
         "y": [
          1,
          1,
          1,
          1
         ],
         "yaxis": "y"
        },
        {
         "alignmentgroup": "True",
         "hovertemplate": "activity=['Carga de esterilizador liberada', 'Producción  montada', 'Montaje', 'Composición de cargas']<br>User=%{x}<br>Frequency=%{y}<extra></extra>",
         "legendgroup": "['Carga de esterilizador liberada', 'Producción  montada', 'Montaje', 'Composición de cargas']",
         "marker": {
          "color": "#FF6692",
          "pattern": {
           "shape": ""
          }
         },
         "name": "['Carga de esterilizador liberada', 'Producción  montada', 'Montaje', 'Composición de cargas']",
         "offsetgroup": "['Carga de esterilizador liberada', 'Producción  montada', 'Montaje', 'Composición de cargas']",
         "orientation": "v",
         "showlegend": true,
         "textposition": "auto",
         "type": "bar",
         "x": [
          "BM",
          "PG"
         ],
         "xaxis": "x",
         "y": [
          1,
          1
         ],
         "yaxis": "y"
        },
        {
         "alignmentgroup": "True",
         "hovertemplate": "activity=['Carga L+D iniciada', 'Entrada Material Sucio', 'Cargado en carro  L+D']<br>User=%{x}<br>Frequency=%{y}<extra></extra>",
         "legendgroup": "['Carga L+D iniciada', 'Entrada Material Sucio', 'Cargado en carro  L+D']",
         "marker": {
          "color": "#B6E880",
          "pattern": {
           "shape": ""
          }
         },
         "name": "['Carga L+D iniciada', 'Entrada Material Sucio', 'Cargado en carro  L+D']",
         "offsetgroup": "['Carga L+D iniciada', 'Entrada Material Sucio', 'Cargado en carro  L+D']",
         "orientation": "v",
         "showlegend": true,
         "textposition": "auto",
         "type": "bar",
         "x": [
          "BM",
          "EH",
          "MMF",
          "PG",
          "VA"
         ],
         "xaxis": "x",
         "y": [
          1,
          1,
          1,
          2,
          1
         ],
         "yaxis": "y"
        },
        {
         "alignmentgroup": "True",
         "hovertemplate": "activity=['Composición de cargas', 'Producción  montada']<br>User=%{x}<br>Frequency=%{y}<extra></extra>",
         "legendgroup": "['Composición de cargas', 'Producción  montada']",
         "marker": {
          "color": "#FF97FF",
          "pattern": {
           "shape": ""
          }
         },
         "name": "['Composición de cargas', 'Producción  montada']",
         "offsetgroup": "['Composición de cargas', 'Producción  montada']",
         "orientation": "v",
         "showlegend": true,
         "textposition": "auto",
         "type": "bar",
         "x": [
          "BM",
          "MMF",
          "PG",
          "SM",
          "SP"
         ],
         "xaxis": "x",
         "y": [
          1,
          1,
          2,
          2,
          1
         ],
         "yaxis": "y"
        },
        {
         "alignmentgroup": "True",
         "hovertemplate": "activity=['Montaje', 'Producción  montada', 'Carga L+D liberada']<br>User=%{x}<br>Frequency=%{y}<extra></extra>",
         "legendgroup": "['Montaje', 'Producción  montada', 'Carga L+D liberada']",
         "marker": {
          "color": "#FECB52",
          "pattern": {
           "shape": ""
          }
         },
         "name": "['Montaje', 'Producción  montada', 'Carga L+D liberada']",
         "offsetgroup": "['Montaje', 'Producción  montada', 'Carga L+D liberada']",
         "orientation": "v",
         "showlegend": true,
         "textposition": "auto",
         "type": "bar",
         "x": [
          "BM",
          "CM",
          "ER",
          "MCE",
          "PG"
         ],
         "xaxis": "x",
         "y": [
          2,
          1,
          1,
          4,
          1
         ],
         "yaxis": "y"
        },
        {
         "alignmentgroup": "True",
         "hovertemplate": "activity=['Composición de cargas', 'Carga de esterilizador liberada']<br>User=%{x}<br>Frequency=%{y}<extra></extra>",
         "legendgroup": "['Composición de cargas', 'Carga de esterilizador liberada']",
         "marker": {
          "color": "#636efa",
          "pattern": {
           "shape": ""
          }
         },
         "name": "['Composición de cargas', 'Carga de esterilizador liberada']",
         "offsetgroup": "['Composición de cargas', 'Carga de esterilizador liberada']",
         "orientation": "v",
         "showlegend": true,
         "textposition": "auto",
         "type": "bar",
         "x": [
          "BM",
          "EH",
          "MCE",
          "ML",
          "PG",
          "SM",
          "VS"
         ],
         "xaxis": "x",
         "y": [
          3,
          1,
          2,
          1,
          1,
          2,
          2
         ],
         "yaxis": "y"
        },
        {
         "alignmentgroup": "True",
         "hovertemplate": "activity=['Montaje', 'Carga L+D liberada', 'Producción  montada']<br>User=%{x}<br>Frequency=%{y}<extra></extra>",
         "legendgroup": "['Montaje', 'Carga L+D liberada', 'Producción  montada']",
         "marker": {
          "color": "#EF553B",
          "pattern": {
           "shape": ""
          }
         },
         "name": "['Montaje', 'Carga L+D liberada', 'Producción  montada']",
         "offsetgroup": "['Montaje', 'Carga L+D liberada', 'Producción  montada']",
         "orientation": "v",
         "showlegend": true,
         "textposition": "auto",
         "type": "bar",
         "x": [
          "EH"
         ],
         "xaxis": "x",
         "y": [
          1
         ],
         "yaxis": "y"
        },
        {
         "alignmentgroup": "True",
         "hovertemplate": "activity=['Montaje', 'Producción  montada', 'Composición de cargas', 'Carga L+D liberada']<br>User=%{x}<br>Frequency=%{y}<extra></extra>",
         "legendgroup": "['Montaje', 'Producción  montada', 'Composición de cargas', 'Carga L+D liberada']",
         "marker": {
          "color": "#00cc96",
          "pattern": {
           "shape": ""
          }
         },
         "name": "['Montaje', 'Producción  montada', 'Composición de cargas', 'Carga L+D liberada']",
         "offsetgroup": "['Montaje', 'Producción  montada', 'Composición de cargas', 'Carga L+D liberada']",
         "orientation": "v",
         "showlegend": true,
         "textposition": "auto",
         "type": "bar",
         "x": [
          "EH"
         ],
         "xaxis": "x",
         "y": [
          1
         ],
         "yaxis": "y"
        },
        {
         "alignmentgroup": "True",
         "hovertemplate": "activity=['Producción  montada', 'Montaje', 'Carga L+D liberada', 'Composición de cargas']<br>User=%{x}<br>Frequency=%{y}<extra></extra>",
         "legendgroup": "['Producción  montada', 'Montaje', 'Carga L+D liberada', 'Composición de cargas']",
         "marker": {
          "color": "#ab63fa",
          "pattern": {
           "shape": ""
          }
         },
         "name": "['Producción  montada', 'Montaje', 'Carga L+D liberada', 'Composición de cargas']",
         "offsetgroup": "['Producción  montada', 'Montaje', 'Carga L+D liberada', 'Composición de cargas']",
         "orientation": "v",
         "showlegend": true,
         "textposition": "auto",
         "type": "bar",
         "x": [
          "EH",
          "ER",
          "PG"
         ],
         "xaxis": "x",
         "y": [
          1,
          1,
          1
         ],
         "yaxis": "y"
        },
        {
         "alignmentgroup": "True",
         "hovertemplate": "activity=['Carga de esterilizador liberada', 'Montaje']<br>User=%{x}<br>Frequency=%{y}<extra></extra>",
         "legendgroup": "['Carga de esterilizador liberada', 'Montaje']",
         "marker": {
          "color": "#FFA15A",
          "pattern": {
           "shape": ""
          }
         },
         "name": "['Carga de esterilizador liberada', 'Montaje']",
         "offsetgroup": "['Carga de esterilizador liberada', 'Montaje']",
         "orientation": "v",
         "showlegend": true,
         "textposition": "auto",
         "type": "bar",
         "x": [
          "EH"
         ],
         "xaxis": "x",
         "y": [
          1
         ],
         "yaxis": "y"
        },
        {
         "alignmentgroup": "True",
         "hovertemplate": "activity=['Producción  montada', 'Montaje', 'Carga L+D liberada', 'Carga de esterilizador liberada']<br>User=%{x}<br>Frequency=%{y}<extra></extra>",
         "legendgroup": "['Producción  montada', 'Montaje', 'Carga L+D liberada', 'Carga de esterilizador liberada']",
         "marker": {
          "color": "#19d3f3",
          "pattern": {
           "shape": ""
          }
         },
         "name": "['Producción  montada', 'Montaje', 'Carga L+D liberada', 'Carga de esterilizador liberada']",
         "offsetgroup": "['Producción  montada', 'Montaje', 'Carga L+D liberada', 'Carga de esterilizador liberada']",
         "orientation": "v",
         "showlegend": true,
         "textposition": "auto",
         "type": "bar",
         "x": [
          "EH",
          "ER"
         ],
         "xaxis": "x",
         "y": [
          1,
          1
         ],
         "yaxis": "y"
        },
        {
         "alignmentgroup": "True",
         "hovertemplate": "activity=['Composición de cargas', 'Producción  montada', 'Montaje', 'Carga L+D liberada']<br>User=%{x}<br>Frequency=%{y}<extra></extra>",
         "legendgroup": "['Composición de cargas', 'Producción  montada', 'Montaje', 'Carga L+D liberada']",
         "marker": {
          "color": "#FF6692",
          "pattern": {
           "shape": ""
          }
         },
         "name": "['Composición de cargas', 'Producción  montada', 'Montaje', 'Carga L+D liberada']",
         "offsetgroup": "['Composición de cargas', 'Producción  montada', 'Montaje', 'Carga L+D liberada']",
         "orientation": "v",
         "showlegend": true,
         "textposition": "auto",
         "type": "bar",
         "x": [
          "EH",
          "MMF",
          "PN",
          "SP",
          "VS"
         ],
         "xaxis": "x",
         "y": [
          2,
          1,
          2,
          1,
          1
         ],
         "yaxis": "y"
        },
        {
         "alignmentgroup": "True",
         "hovertemplate": "activity=['Producción  montada', 'Montaje', 'Comisionado']<br>User=%{x}<br>Frequency=%{y}<extra></extra>",
         "legendgroup": "['Producción  montada', 'Montaje', 'Comisionado']",
         "marker": {
          "color": "#B6E880",
          "pattern": {
           "shape": ""
          }
         },
         "name": "['Producción  montada', 'Montaje', 'Comisionado']",
         "offsetgroup": "['Producción  montada', 'Montaje', 'Comisionado']",
         "orientation": "v",
         "showlegend": true,
         "textposition": "auto",
         "type": "bar",
         "x": [
          "EH",
          "ER",
          "LI"
         ],
         "xaxis": "x",
         "y": [
          3,
          1,
          1
         ],
         "yaxis": "y"
        },
        {
         "alignmentgroup": "True",
         "hovertemplate": "activity=['Composición de cargas', 'Carga L+D iniciada']<br>User=%{x}<br>Frequency=%{y}<extra></extra>",
         "legendgroup": "['Composición de cargas', 'Carga L+D iniciada']",
         "marker": {
          "color": "#FF97FF",
          "pattern": {
           "shape": ""
          }
         },
         "name": "['Composición de cargas', 'Carga L+D iniciada']",
         "offsetgroup": "['Composición de cargas', 'Carga L+D iniciada']",
         "orientation": "v",
         "showlegend": true,
         "textposition": "auto",
         "type": "bar",
         "x": [
          "ER"
         ],
         "xaxis": "x",
         "y": [
          1
         ],
         "yaxis": "y"
        },
        {
         "alignmentgroup": "True",
         "hovertemplate": "activity=['Carga L+D iniciada', 'Cargado en carro  L+D', 'Entrada Material Sucio']<br>User=%{x}<br>Frequency=%{y}<extra></extra>",
         "legendgroup": "['Carga L+D iniciada', 'Cargado en carro  L+D', 'Entrada Material Sucio']",
         "marker": {
          "color": "#FECB52",
          "pattern": {
           "shape": ""
          }
         },
         "name": "['Carga L+D iniciada', 'Cargado en carro  L+D', 'Entrada Material Sucio']",
         "offsetgroup": "['Carga L+D iniciada', 'Cargado en carro  L+D', 'Entrada Material Sucio']",
         "orientation": "v",
         "showlegend": true,
         "textposition": "auto",
         "type": "bar",
         "x": [
          "ER"
         ],
         "xaxis": "x",
         "y": [
          1
         ],
         "yaxis": "y"
        },
        {
         "alignmentgroup": "True",
         "hovertemplate": "activity=['Comisionado', 'Cargado en carro  L+D']<br>User=%{x}<br>Frequency=%{y}<extra></extra>",
         "legendgroup": "['Comisionado', 'Cargado en carro  L+D']",
         "marker": {
          "color": "#636efa",
          "pattern": {
           "shape": ""
          }
         },
         "name": "['Comisionado', 'Cargado en carro  L+D']",
         "offsetgroup": "['Comisionado', 'Cargado en carro  L+D']",
         "orientation": "v",
         "showlegend": true,
         "textposition": "auto",
         "type": "bar",
         "x": [
          "LI"
         ],
         "xaxis": "x",
         "y": [
          1
         ],
         "yaxis": "y"
        },
        {
         "alignmentgroup": "True",
         "hovertemplate": "activity=['Comisionado', 'Montaje']<br>User=%{x}<br>Frequency=%{y}<extra></extra>",
         "legendgroup": "['Comisionado', 'Montaje']",
         "marker": {
          "color": "#EF553B",
          "pattern": {
           "shape": ""
          }
         },
         "name": "['Comisionado', 'Montaje']",
         "offsetgroup": "['Comisionado', 'Montaje']",
         "orientation": "v",
         "showlegend": true,
         "textposition": "auto",
         "type": "bar",
         "x": [
          "MCE"
         ],
         "xaxis": "x",
         "y": [
          1
         ],
         "yaxis": "y"
        },
        {
         "alignmentgroup": "True",
         "hovertemplate": "activity=['Composición de cargas', 'Cargado en carro  L+D']<br>User=%{x}<br>Frequency=%{y}<extra></extra>",
         "legendgroup": "['Composición de cargas', 'Cargado en carro  L+D']",
         "marker": {
          "color": "#00cc96",
          "pattern": {
           "shape": ""
          }
         },
         "name": "['Composición de cargas', 'Cargado en carro  L+D']",
         "offsetgroup": "['Composición de cargas', 'Cargado en carro  L+D']",
         "orientation": "v",
         "showlegend": true,
         "textposition": "auto",
         "type": "bar",
         "x": [
          "MCE"
         ],
         "xaxis": "x",
         "y": [
          1
         ],
         "yaxis": "y"
        },
        {
         "alignmentgroup": "True",
         "hovertemplate": "activity=['Producción  montada', 'Montaje', 'Entrada Material Sucio']<br>User=%{x}<br>Frequency=%{y}<extra></extra>",
         "legendgroup": "['Producción  montada', 'Montaje', 'Entrada Material Sucio']",
         "marker": {
          "color": "#ab63fa",
          "pattern": {
           "shape": ""
          }
         },
         "name": "['Producción  montada', 'Montaje', 'Entrada Material Sucio']",
         "offsetgroup": "['Producción  montada', 'Montaje', 'Entrada Material Sucio']",
         "orientation": "v",
         "showlegend": true,
         "textposition": "auto",
         "type": "bar",
         "x": [
          "MCE"
         ],
         "xaxis": "x",
         "y": [
          1
         ],
         "yaxis": "y"
        },
        {
         "alignmentgroup": "True",
         "hovertemplate": "activity=['Carga L+D iniciada', 'Carga L+D liberada']<br>User=%{x}<br>Frequency=%{y}<extra></extra>",
         "legendgroup": "['Carga L+D iniciada', 'Carga L+D liberada']",
         "marker": {
          "color": "#FFA15A",
          "pattern": {
           "shape": ""
          }
         },
         "name": "['Carga L+D iniciada', 'Carga L+D liberada']",
         "offsetgroup": "['Carga L+D iniciada', 'Carga L+D liberada']",
         "orientation": "v",
         "showlegend": true,
         "textposition": "auto",
         "type": "bar",
         "x": [
          "MCE"
         ],
         "xaxis": "x",
         "y": [
          1
         ],
         "yaxis": "y"
        },
        {
         "alignmentgroup": "True",
         "hovertemplate": "activity=['Montaje', 'Producción  montada', 'Composición de cargas']<br>User=%{x}<br>Frequency=%{y}<extra></extra>",
         "legendgroup": "['Montaje', 'Producción  montada', 'Composición de cargas']",
         "marker": {
          "color": "#19d3f3",
          "pattern": {
           "shape": ""
          }
         },
         "name": "['Montaje', 'Producción  montada', 'Composición de cargas']",
         "offsetgroup": "['Montaje', 'Producción  montada', 'Composición de cargas']",
         "orientation": "v",
         "showlegend": true,
         "textposition": "auto",
         "type": "bar",
         "x": [
          "MCE",
          "PN",
          "SP"
         ],
         "xaxis": "x",
         "y": [
          2,
          1,
          1
         ],
         "yaxis": "y"
        },
        {
         "alignmentgroup": "True",
         "hovertemplate": "activity=['Carga L+D iniciada', 'Entrada Material Sucio']<br>User=%{x}<br>Frequency=%{y}<extra></extra>",
         "legendgroup": "['Carga L+D iniciada', 'Entrada Material Sucio']",
         "marker": {
          "color": "#FF6692",
          "pattern": {
           "shape": ""
          }
         },
         "name": "['Carga L+D iniciada', 'Entrada Material Sucio']",
         "offsetgroup": "['Carga L+D iniciada', 'Entrada Material Sucio']",
         "orientation": "v",
         "showlegend": true,
         "textposition": "auto",
         "type": "bar",
         "x": [
          "MMF",
          "PN"
         ],
         "xaxis": "x",
         "y": [
          1,
          2
         ],
         "yaxis": "y"
        },
        {
         "alignmentgroup": "True",
         "hovertemplate": "activity=['Montaje', 'Cargado en carro  L+D']<br>User=%{x}<br>Frequency=%{y}<extra></extra>",
         "legendgroup": "['Montaje', 'Cargado en carro  L+D']",
         "marker": {
          "color": "#B6E880",
          "pattern": {
           "shape": ""
          }
         },
         "name": "['Montaje', 'Cargado en carro  L+D']",
         "offsetgroup": "['Montaje', 'Cargado en carro  L+D']",
         "orientation": "v",
         "showlegend": true,
         "textposition": "auto",
         "type": "bar",
         "x": [
          "MMF",
          "PN"
         ],
         "xaxis": "x",
         "y": [
          1,
          1
         ],
         "yaxis": "y"
        },
        {
         "alignmentgroup": "True",
         "hovertemplate": "activity=['Cargado en carro  L+D', 'Entrada Material Sucio']<br>User=%{x}<br>Frequency=%{y}<extra></extra>",
         "legendgroup": "['Cargado en carro  L+D', 'Entrada Material Sucio']",
         "marker": {
          "color": "#FF97FF",
          "pattern": {
           "shape": ""
          }
         },
         "name": "['Cargado en carro  L+D', 'Entrada Material Sucio']",
         "offsetgroup": "['Cargado en carro  L+D', 'Entrada Material Sucio']",
         "orientation": "v",
         "showlegend": true,
         "textposition": "auto",
         "type": "bar",
         "x": [
          "MMF",
          "MR",
          "PG",
          "VA"
         ],
         "xaxis": "x",
         "y": [
          1,
          3,
          1,
          1
         ],
         "yaxis": "y"
        },
        {
         "alignmentgroup": "True",
         "hovertemplate": "activity=['Comisionado', 'Carga L+D liberada']<br>User=%{x}<br>Frequency=%{y}<extra></extra>",
         "legendgroup": "['Comisionado', 'Carga L+D liberada']",
         "marker": {
          "color": "#FECB52",
          "pattern": {
           "shape": ""
          }
         },
         "name": "['Comisionado', 'Carga L+D liberada']",
         "offsetgroup": "['Comisionado', 'Carga L+D liberada']",
         "orientation": "v",
         "showlegend": true,
         "textposition": "auto",
         "type": "bar",
         "x": [
          "PG"
         ],
         "xaxis": "x",
         "y": [
          1
         ],
         "yaxis": "y"
        },
        {
         "alignmentgroup": "True",
         "hovertemplate": "activity=['Montaje', 'Producción  montada', 'Carga de esterilizador liberada']<br>User=%{x}<br>Frequency=%{y}<extra></extra>",
         "legendgroup": "['Montaje', 'Producción  montada', 'Carga de esterilizador liberada']",
         "marker": {
          "color": "#636efa",
          "pattern": {
           "shape": ""
          }
         },
         "name": "['Montaje', 'Producción  montada', 'Carga de esterilizador liberada']",
         "offsetgroup": "['Montaje', 'Producción  montada', 'Carga de esterilizador liberada']",
         "orientation": "v",
         "showlegend": true,
         "textposition": "auto",
         "type": "bar",
         "x": [
          "PG"
         ],
         "xaxis": "x",
         "y": [
          1
         ],
         "yaxis": "y"
        },
        {
         "alignmentgroup": "True",
         "hovertemplate": "activity=['Producción  montada', 'Montaje', 'Composición de cargas', 'Cargado en carro  L+D']<br>User=%{x}<br>Frequency=%{y}<extra></extra>",
         "legendgroup": "['Producción  montada', 'Montaje', 'Composición de cargas', 'Cargado en carro  L+D']",
         "marker": {
          "color": "#EF553B",
          "pattern": {
           "shape": ""
          }
         },
         "name": "['Producción  montada', 'Montaje', 'Composición de cargas', 'Cargado en carro  L+D']",
         "offsetgroup": "['Producción  montada', 'Montaje', 'Composición de cargas', 'Cargado en carro  L+D']",
         "orientation": "v",
         "showlegend": true,
         "textposition": "auto",
         "type": "bar",
         "x": [
          "PG"
         ],
         "xaxis": "x",
         "y": [
          1
         ],
         "yaxis": "y"
        },
        {
         "alignmentgroup": "True",
         "hovertemplate": "activity=['Producción  montada', 'Cargado en carro  L+D', 'Montaje']<br>User=%{x}<br>Frequency=%{y}<extra></extra>",
         "legendgroup": "['Producción  montada', 'Cargado en carro  L+D', 'Montaje']",
         "marker": {
          "color": "#00cc96",
          "pattern": {
           "shape": ""
          }
         },
         "name": "['Producción  montada', 'Cargado en carro  L+D', 'Montaje']",
         "offsetgroup": "['Producción  montada', 'Cargado en carro  L+D', 'Montaje']",
         "orientation": "v",
         "showlegend": true,
         "textposition": "auto",
         "type": "bar",
         "x": [
          "PG"
         ],
         "xaxis": "x",
         "y": [
          1
         ],
         "yaxis": "y"
        },
        {
         "alignmentgroup": "True",
         "hovertemplate": "activity=['Producción  montada', 'Montaje', 'Cargado en carro  L+D']<br>User=%{x}<br>Frequency=%{y}<extra></extra>",
         "legendgroup": "['Producción  montada', 'Montaje', 'Cargado en carro  L+D']",
         "marker": {
          "color": "#ab63fa",
          "pattern": {
           "shape": ""
          }
         },
         "name": "['Producción  montada', 'Montaje', 'Cargado en carro  L+D']",
         "offsetgroup": "['Producción  montada', 'Montaje', 'Cargado en carro  L+D']",
         "orientation": "v",
         "showlegend": true,
         "textposition": "auto",
         "type": "bar",
         "x": [
          "PG",
          "VS"
         ],
         "xaxis": "x",
         "y": [
          1,
          1
         ],
         "yaxis": "y"
        },
        {
         "alignmentgroup": "True",
         "hovertemplate": "activity=['Carga de esterilizador liberada', 'Producción  montada']<br>User=%{x}<br>Frequency=%{y}<extra></extra>",
         "legendgroup": "['Carga de esterilizador liberada', 'Producción  montada']",
         "marker": {
          "color": "#FFA15A",
          "pattern": {
           "shape": ""
          }
         },
         "name": "['Carga de esterilizador liberada', 'Producción  montada']",
         "offsetgroup": "['Carga de esterilizador liberada', 'Producción  montada']",
         "orientation": "v",
         "showlegend": true,
         "textposition": "auto",
         "type": "bar",
         "x": [
          "PN"
         ],
         "xaxis": "x",
         "y": [
          1
         ],
         "yaxis": "y"
        },
        {
         "alignmentgroup": "True",
         "hovertemplate": "activity=['Producción  montada', 'Montaje', 'Carga de esterilizador liberada', 'Composición de cargas']<br>User=%{x}<br>Frequency=%{y}<extra></extra>",
         "legendgroup": "['Producción  montada', 'Montaje', 'Carga de esterilizador liberada', 'Composición de cargas']",
         "marker": {
          "color": "#19d3f3",
          "pattern": {
           "shape": ""
          }
         },
         "name": "['Producción  montada', 'Montaje', 'Carga de esterilizador liberada', 'Composición de cargas']",
         "offsetgroup": "['Producción  montada', 'Montaje', 'Carga de esterilizador liberada', 'Composición de cargas']",
         "orientation": "v",
         "showlegend": true,
         "textposition": "auto",
         "type": "bar",
         "x": [
          "PN"
         ],
         "xaxis": "x",
         "y": [
          1
         ],
         "yaxis": "y"
        },
        {
         "alignmentgroup": "True",
         "hovertemplate": "activity=['Carga de esterilizador liberada', 'Producción  montada', 'Montaje', 'Carga L+D liberada']<br>User=%{x}<br>Frequency=%{y}<extra></extra>",
         "legendgroup": "['Carga de esterilizador liberada', 'Producción  montada', 'Montaje', 'Carga L+D liberada']",
         "marker": {
          "color": "#FF6692",
          "pattern": {
           "shape": ""
          }
         },
         "name": "['Carga de esterilizador liberada', 'Producción  montada', 'Montaje', 'Carga L+D liberada']",
         "offsetgroup": "['Carga de esterilizador liberada', 'Producción  montada', 'Montaje', 'Carga L+D liberada']",
         "orientation": "v",
         "showlegend": true,
         "textposition": "auto",
         "type": "bar",
         "x": [
          "PN"
         ],
         "xaxis": "x",
         "y": [
          1
         ],
         "yaxis": "y"
        },
        {
         "alignmentgroup": "True",
         "hovertemplate": "activity=['Montaje', 'Producción  montada', 'Composición de cargas', 'Cargado en carro  L+D', 'Carga L+D iniciada']<br>User=%{x}<br>Frequency=%{y}<extra></extra>",
         "legendgroup": "['Montaje', 'Producción  montada', 'Composición de cargas', 'Cargado en carro  L+D', 'Carga L+D iniciada']",
         "marker": {
          "color": "#B6E880",
          "pattern": {
           "shape": ""
          }
         },
         "name": "['Montaje', 'Producción  montada', 'Composición de cargas', 'Cargado en carro  L+D', 'Carga L+D iniciada']",
         "offsetgroup": "['Montaje', 'Producción  montada', 'Composición de cargas', 'Cargado en carro  L+D', 'Carga L+D iniciada']",
         "orientation": "v",
         "showlegend": true,
         "textposition": "auto",
         "type": "bar",
         "x": [
          "VS"
         ],
         "xaxis": "x",
         "y": [
          1
         ],
         "yaxis": "y"
        }
       ],
       "layout": {
        "barmode": "relative",
        "height": 800,
        "legend": {
         "title": {
          "text": "activity"
         },
         "tracegroupgap": 0
        },
        "margin": {
         "b": 120,
         "l": 40,
         "r": 40,
         "t": 40
        },
        "template": {
         "data": {
          "bar": [
           {
            "error_x": {
             "color": "#2a3f5f"
            },
            "error_y": {
             "color": "#2a3f5f"
            },
            "marker": {
             "line": {
              "color": "#E5ECF6",
              "width": 0.5
             },
             "pattern": {
              "fillmode": "overlay",
              "size": 10,
              "solidity": 0.2
             }
            },
            "type": "bar"
           }
          ],
          "barpolar": [
           {
            "marker": {
             "line": {
              "color": "#E5ECF6",
              "width": 0.5
             },
             "pattern": {
              "fillmode": "overlay",
              "size": 10,
              "solidity": 0.2
             }
            },
            "type": "barpolar"
           }
          ],
          "carpet": [
           {
            "aaxis": {
             "endlinecolor": "#2a3f5f",
             "gridcolor": "white",
             "linecolor": "white",
             "minorgridcolor": "white",
             "startlinecolor": "#2a3f5f"
            },
            "baxis": {
             "endlinecolor": "#2a3f5f",
             "gridcolor": "white",
             "linecolor": "white",
             "minorgridcolor": "white",
             "startlinecolor": "#2a3f5f"
            },
            "type": "carpet"
           }
          ],
          "choropleth": [
           {
            "colorbar": {
             "outlinewidth": 0,
             "ticks": ""
            },
            "type": "choropleth"
           }
          ],
          "contour": [
           {
            "colorbar": {
             "outlinewidth": 0,
             "ticks": ""
            },
            "colorscale": [
             [
              0,
              "#0d0887"
             ],
             [
              0.1111111111111111,
              "#46039f"
             ],
             [
              0.2222222222222222,
              "#7201a8"
             ],
             [
              0.3333333333333333,
              "#9c179e"
             ],
             [
              0.4444444444444444,
              "#bd3786"
             ],
             [
              0.5555555555555556,
              "#d8576b"
             ],
             [
              0.6666666666666666,
              "#ed7953"
             ],
             [
              0.7777777777777778,
              "#fb9f3a"
             ],
             [
              0.8888888888888888,
              "#fdca26"
             ],
             [
              1,
              "#f0f921"
             ]
            ],
            "type": "contour"
           }
          ],
          "contourcarpet": [
           {
            "colorbar": {
             "outlinewidth": 0,
             "ticks": ""
            },
            "type": "contourcarpet"
           }
          ],
          "heatmap": [
           {
            "colorbar": {
             "outlinewidth": 0,
             "ticks": ""
            },
            "colorscale": [
             [
              0,
              "#0d0887"
             ],
             [
              0.1111111111111111,
              "#46039f"
             ],
             [
              0.2222222222222222,
              "#7201a8"
             ],
             [
              0.3333333333333333,
              "#9c179e"
             ],
             [
              0.4444444444444444,
              "#bd3786"
             ],
             [
              0.5555555555555556,
              "#d8576b"
             ],
             [
              0.6666666666666666,
              "#ed7953"
             ],
             [
              0.7777777777777778,
              "#fb9f3a"
             ],
             [
              0.8888888888888888,
              "#fdca26"
             ],
             [
              1,
              "#f0f921"
             ]
            ],
            "type": "heatmap"
           }
          ],
          "heatmapgl": [
           {
            "colorbar": {
             "outlinewidth": 0,
             "ticks": ""
            },
            "colorscale": [
             [
              0,
              "#0d0887"
             ],
             [
              0.1111111111111111,
              "#46039f"
             ],
             [
              0.2222222222222222,
              "#7201a8"
             ],
             [
              0.3333333333333333,
              "#9c179e"
             ],
             [
              0.4444444444444444,
              "#bd3786"
             ],
             [
              0.5555555555555556,
              "#d8576b"
             ],
             [
              0.6666666666666666,
              "#ed7953"
             ],
             [
              0.7777777777777778,
              "#fb9f3a"
             ],
             [
              0.8888888888888888,
              "#fdca26"
             ],
             [
              1,
              "#f0f921"
             ]
            ],
            "type": "heatmapgl"
           }
          ],
          "histogram": [
           {
            "marker": {
             "pattern": {
              "fillmode": "overlay",
              "size": 10,
              "solidity": 0.2
             }
            },
            "type": "histogram"
           }
          ],
          "histogram2d": [
           {
            "colorbar": {
             "outlinewidth": 0,
             "ticks": ""
            },
            "colorscale": [
             [
              0,
              "#0d0887"
             ],
             [
              0.1111111111111111,
              "#46039f"
             ],
             [
              0.2222222222222222,
              "#7201a8"
             ],
             [
              0.3333333333333333,
              "#9c179e"
             ],
             [
              0.4444444444444444,
              "#bd3786"
             ],
             [
              0.5555555555555556,
              "#d8576b"
             ],
             [
              0.6666666666666666,
              "#ed7953"
             ],
             [
              0.7777777777777778,
              "#fb9f3a"
             ],
             [
              0.8888888888888888,
              "#fdca26"
             ],
             [
              1,
              "#f0f921"
             ]
            ],
            "type": "histogram2d"
           }
          ],
          "histogram2dcontour": [
           {
            "colorbar": {
             "outlinewidth": 0,
             "ticks": ""
            },
            "colorscale": [
             [
              0,
              "#0d0887"
             ],
             [
              0.1111111111111111,
              "#46039f"
             ],
             [
              0.2222222222222222,
              "#7201a8"
             ],
             [
              0.3333333333333333,
              "#9c179e"
             ],
             [
              0.4444444444444444,
              "#bd3786"
             ],
             [
              0.5555555555555556,
              "#d8576b"
             ],
             [
              0.6666666666666666,
              "#ed7953"
             ],
             [
              0.7777777777777778,
              "#fb9f3a"
             ],
             [
              0.8888888888888888,
              "#fdca26"
             ],
             [
              1,
              "#f0f921"
             ]
            ],
            "type": "histogram2dcontour"
           }
          ],
          "mesh3d": [
           {
            "colorbar": {
             "outlinewidth": 0,
             "ticks": ""
            },
            "type": "mesh3d"
           }
          ],
          "parcoords": [
           {
            "line": {
             "colorbar": {
              "outlinewidth": 0,
              "ticks": ""
             }
            },
            "type": "parcoords"
           }
          ],
          "pie": [
           {
            "automargin": true,
            "type": "pie"
           }
          ],
          "scatter": [
           {
            "fillpattern": {
             "fillmode": "overlay",
             "size": 10,
             "solidity": 0.2
            },
            "type": "scatter"
           }
          ],
          "scatter3d": [
           {
            "line": {
             "colorbar": {
              "outlinewidth": 0,
              "ticks": ""
             }
            },
            "marker": {
             "colorbar": {
              "outlinewidth": 0,
              "ticks": ""
             }
            },
            "type": "scatter3d"
           }
          ],
          "scattercarpet": [
           {
            "marker": {
             "colorbar": {
              "outlinewidth": 0,
              "ticks": ""
             }
            },
            "type": "scattercarpet"
           }
          ],
          "scattergeo": [
           {
            "marker": {
             "colorbar": {
              "outlinewidth": 0,
              "ticks": ""
             }
            },
            "type": "scattergeo"
           }
          ],
          "scattergl": [
           {
            "marker": {
             "colorbar": {
              "outlinewidth": 0,
              "ticks": ""
             }
            },
            "type": "scattergl"
           }
          ],
          "scattermapbox": [
           {
            "marker": {
             "colorbar": {
              "outlinewidth": 0,
              "ticks": ""
             }
            },
            "type": "scattermapbox"
           }
          ],
          "scatterpolar": [
           {
            "marker": {
             "colorbar": {
              "outlinewidth": 0,
              "ticks": ""
             }
            },
            "type": "scatterpolar"
           }
          ],
          "scatterpolargl": [
           {
            "marker": {
             "colorbar": {
              "outlinewidth": 0,
              "ticks": ""
             }
            },
            "type": "scatterpolargl"
           }
          ],
          "scatterternary": [
           {
            "marker": {
             "colorbar": {
              "outlinewidth": 0,
              "ticks": ""
             }
            },
            "type": "scatterternary"
           }
          ],
          "surface": [
           {
            "colorbar": {
             "outlinewidth": 0,
             "ticks": ""
            },
            "colorscale": [
             [
              0,
              "#0d0887"
             ],
             [
              0.1111111111111111,
              "#46039f"
             ],
             [
              0.2222222222222222,
              "#7201a8"
             ],
             [
              0.3333333333333333,
              "#9c179e"
             ],
             [
              0.4444444444444444,
              "#bd3786"
             ],
             [
              0.5555555555555556,
              "#d8576b"
             ],
             [
              0.6666666666666666,
              "#ed7953"
             ],
             [
              0.7777777777777778,
              "#fb9f3a"
             ],
             [
              0.8888888888888888,
              "#fdca26"
             ],
             [
              1,
              "#f0f921"
             ]
            ],
            "type": "surface"
           }
          ],
          "table": [
           {
            "cells": {
             "fill": {
              "color": "#EBF0F8"
             },
             "line": {
              "color": "white"
             }
            },
            "header": {
             "fill": {
              "color": "#C8D4E3"
             },
             "line": {
              "color": "white"
             }
            },
            "type": "table"
           }
          ]
         },
         "layout": {
          "annotationdefaults": {
           "arrowcolor": "#2a3f5f",
           "arrowhead": 0,
           "arrowwidth": 1
          },
          "autotypenumbers": "strict",
          "coloraxis": {
           "colorbar": {
            "outlinewidth": 0,
            "ticks": ""
           }
          },
          "colorscale": {
           "diverging": [
            [
             0,
             "#8e0152"
            ],
            [
             0.1,
             "#c51b7d"
            ],
            [
             0.2,
             "#de77ae"
            ],
            [
             0.3,
             "#f1b6da"
            ],
            [
             0.4,
             "#fde0ef"
            ],
            [
             0.5,
             "#f7f7f7"
            ],
            [
             0.6,
             "#e6f5d0"
            ],
            [
             0.7,
             "#b8e186"
            ],
            [
             0.8,
             "#7fbc41"
            ],
            [
             0.9,
             "#4d9221"
            ],
            [
             1,
             "#276419"
            ]
           ],
           "sequential": [
            [
             0,
             "#0d0887"
            ],
            [
             0.1111111111111111,
             "#46039f"
            ],
            [
             0.2222222222222222,
             "#7201a8"
            ],
            [
             0.3333333333333333,
             "#9c179e"
            ],
            [
             0.4444444444444444,
             "#bd3786"
            ],
            [
             0.5555555555555556,
             "#d8576b"
            ],
            [
             0.6666666666666666,
             "#ed7953"
            ],
            [
             0.7777777777777778,
             "#fb9f3a"
            ],
            [
             0.8888888888888888,
             "#fdca26"
            ],
            [
             1,
             "#f0f921"
            ]
           ],
           "sequentialminus": [
            [
             0,
             "#0d0887"
            ],
            [
             0.1111111111111111,
             "#46039f"
            ],
            [
             0.2222222222222222,
             "#7201a8"
            ],
            [
             0.3333333333333333,
             "#9c179e"
            ],
            [
             0.4444444444444444,
             "#bd3786"
            ],
            [
             0.5555555555555556,
             "#d8576b"
            ],
            [
             0.6666666666666666,
             "#ed7953"
            ],
            [
             0.7777777777777778,
             "#fb9f3a"
            ],
            [
             0.8888888888888888,
             "#fdca26"
            ],
            [
             1,
             "#f0f921"
            ]
           ]
          },
          "colorway": [
           "#636efa",
           "#EF553B",
           "#00cc96",
           "#ab63fa",
           "#FFA15A",
           "#19d3f3",
           "#FF6692",
           "#B6E880",
           "#FF97FF",
           "#FECB52"
          ],
          "font": {
           "color": "#2a3f5f"
          },
          "geo": {
           "bgcolor": "white",
           "lakecolor": "white",
           "landcolor": "#E5ECF6",
           "showlakes": true,
           "showland": true,
           "subunitcolor": "white"
          },
          "hoverlabel": {
           "align": "left"
          },
          "hovermode": "closest",
          "mapbox": {
           "style": "light"
          },
          "paper_bgcolor": "white",
          "plot_bgcolor": "#E5ECF6",
          "polar": {
           "angularaxis": {
            "gridcolor": "white",
            "linecolor": "white",
            "ticks": ""
           },
           "bgcolor": "#E5ECF6",
           "radialaxis": {
            "gridcolor": "white",
            "linecolor": "white",
            "ticks": ""
           }
          },
          "scene": {
           "xaxis": {
            "backgroundcolor": "#E5ECF6",
            "gridcolor": "white",
            "gridwidth": 2,
            "linecolor": "white",
            "showbackground": true,
            "ticks": "",
            "zerolinecolor": "white"
           },
           "yaxis": {
            "backgroundcolor": "#E5ECF6",
            "gridcolor": "white",
            "gridwidth": 2,
            "linecolor": "white",
            "showbackground": true,
            "ticks": "",
            "zerolinecolor": "white"
           },
           "zaxis": {
            "backgroundcolor": "#E5ECF6",
            "gridcolor": "white",
            "gridwidth": 2,
            "linecolor": "white",
            "showbackground": true,
            "ticks": "",
            "zerolinecolor": "white"
           }
          },
          "shapedefaults": {
           "line": {
            "color": "#2a3f5f"
           }
          },
          "ternary": {
           "aaxis": {
            "gridcolor": "white",
            "linecolor": "white",
            "ticks": ""
           },
           "baxis": {
            "gridcolor": "white",
            "linecolor": "white",
            "ticks": ""
           },
           "bgcolor": "#E5ECF6",
           "caxis": {
            "gridcolor": "white",
            "linecolor": "white",
            "ticks": ""
           }
          },
          "title": {
           "x": 0.05
          },
          "xaxis": {
           "automargin": true,
           "gridcolor": "white",
           "linecolor": "white",
           "ticks": "",
           "title": {
            "standoff": 15
           },
           "zerolinecolor": "white",
           "zerolinewidth": 2
          },
          "yaxis": {
           "automargin": true,
           "gridcolor": "white",
           "linecolor": "white",
           "ticks": "",
           "title": {
            "standoff": 15
           },
           "zerolinecolor": "white",
           "zerolinewidth": 2
          }
         }
        },
        "title": {
         "text": "Distribution of HighLevelBatch Activities for Each User"
        },
        "width": 1500,
        "xaxis": {
         "anchor": "y",
         "domain": [
          0,
          1
         ],
         "tickangle": -45,
         "tickfont": {
          "size": 8
         },
         "title": {
          "font": {
           "size": 10
          },
          "text": "User"
         }
        },
        "yaxis": {
         "anchor": "x",
         "domain": [
          0,
          1
         ],
         "title": {
          "text": "Frequency"
         }
        }
       }
      }
     },
     "metadata": {},
     "output_type": "display_data"
    }
   ],
   "source": [
    "cypher_batches_size_distribution = \"\"\"\n",
    "MATCH (u:Resource)-[:CORR]->(n:HighLevelBatch)\n",
    "WITH u.sysId AS user, n.activity_name AS activity\n",
    "RETURN user, activity, count(activity) AS frequency\n",
    "ORDER BY user, frequency\n",
    "\"\"\"\n",
    "\n",
    "def batches_size_distribution(uri, username, password, cypher_query):\n",
    "    driver = GraphDatabase.driver(uri, auth=(username, password))\n",
    "    with driver.session() as session:\n",
    "        result = session.run(cypher_query)\n",
    "        data = result.data()\n",
    "        return data\n",
    "\n",
    "\n",
    "results_batches_size_distribution = batches_size_distribution(uri, username, password, cypher_batches_size_distribution)\n",
    "\n",
    "user = [record['user'] for record in results_batches_size_distribution]\n",
    "activity = [str(record['activity']) for record in results_batches_size_distribution]\n",
    "frequency = [record['frequency'] for record in results_batches_size_distribution]\n",
    "\n",
    "\n",
    "df = pd.DataFrame({\n",
    "    'User': user,\n",
    "    'Activity': activity,\n",
    "    'Frequency': frequency\n",
    "})\n",
    "\n",
    "\n",
    "fig = px.bar(df, x='User', y='Frequency', color='Activity', \n",
    "             title='Distribution of HighLevelBatch Activities for Each User',\n",
    "             labels={'User': 'User', 'Frequency': 'Frequency', 'Activity': 'activity'})\n",
    "\n",
    "fig.update_layout(\n",
    "    xaxis_tickangle=-45,\n",
    "    xaxis_tickfont_size=8,  \n",
    "    xaxis_title_font_size=10,\n",
    "    margin=dict(l=40, r=40, t=40, b=120),\n",
    "    height=800,\n",
    "    width=1500\n",
    ")\n",
    "\n",
    "fig.show()"
   ]
  }
 ],
 "metadata": {
  "kernelspec": {
   "display_name": "Python 3 (ipykernel)",
   "language": "python",
   "name": "python3"
  },
  "language_info": {
   "codemirror_mode": {
    "name": "ipython",
    "version": 3
   },
   "file_extension": ".py",
   "mimetype": "text/x-python",
   "name": "python",
   "nbconvert_exporter": "python",
   "pygments_lexer": "ipython3",
   "version": "3.11.0"
  }
 },
 "nbformat": 4,
 "nbformat_minor": 5
}
