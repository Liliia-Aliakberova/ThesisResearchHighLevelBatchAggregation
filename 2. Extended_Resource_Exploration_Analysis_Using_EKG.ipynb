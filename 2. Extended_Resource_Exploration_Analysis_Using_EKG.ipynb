{
 "cells": [
  {
   "cell_type": "markdown",
   "metadata": {},
   "source": [
    "# Extended Resource Exploration Using Implemented EKG"
   ]
  },
  {
   "cell_type": "code",
   "execution_count": 2,
   "metadata": {},
   "outputs": [],
   "source": [
    "from neo4j import GraphDatabase\n",
    "import pandas as pd\n",
    "from datetime import datetime, date\n",
    "import plotly.express as px\n",
    "import os\n",
    "from dotenv import load_dotenv\n"
   ]
  },
  {
   "cell_type": "code",
   "execution_count": 3,
   "metadata": {},
   "outputs": [],
   "source": [
    "load_dotenv()\n",
    "uri = os.getenv('NEO4J_URI')\n",
    "username = os.getenv('NEO4J_USER')\n",
    "password = os.getenv('NEO4J_PASSWORD')"
   ]
  },
  {
   "cell_type": "code",
   "execution_count": 4,
   "metadata": {},
   "outputs": [],
   "source": [
    "driver = GraphDatabase.driver(uri, auth=(username, password))"
   ]
  },
  {
   "cell_type": "markdown",
   "metadata": {},
   "source": [
    "# Shift Analysis"
   ]
  },
  {
   "cell_type": "code",
   "execution_count": 5,
   "metadata": {},
   "outputs": [],
   "source": [
    "cypher_first = \"\"\"\n",
    "MATCH (u:Resource)<-[r:CORR]-(e:Event)-[r1:CORR]->(k:Kit)\n",
    "\n",
    "\n",
    "RETURN \n",
    "  u.sysId AS user_id, \n",
    "  datetime(e.timestamp) AS event_timestamp,\n",
    "  date(e.timestamp) AS event_date, \n",
    "  e.activity as activity,\n",
    "  k.kitId as Kit,\n",
    "  k.runId as Run\n",
    "\n",
    "\n",
    "ORDER BY \n",
    "  event_timestamp, user_id ASC \n",
    "\n",
    " \"\"\"\n",
    "\n",
    "def first(uri, username, password, cypher_first):\n",
    "    driver = GraphDatabase.driver(uri, auth=(username, password))\n",
    "    with driver.session() as session:\n",
    "        result = session.run(cypher_first)\n",
    "        data = result.data()\n",
    "        return data\n",
    "    \n",
    "results_first = first(uri, username, password, cypher_first)"
   ]
  },
  {
   "cell_type": "code",
   "execution_count": 6,
   "metadata": {},
   "outputs": [],
   "source": [
    "def convert_neo4j_date_to_python(neo4j_date):\n",
    "    # Converting neo4j.time.Date to Python's datetime.date\n",
    "    return date(\n",
    "        year=neo4j_date.year,\n",
    "        month=neo4j_date.month,\n",
    "        day=neo4j_date.day\n",
    "    )\n",
    "\n",
    "def convert_neo4j_datetime_to_python(neo4j_datetime):\n",
    "    # Converting neo4j.time.DateTime to Python's datetime.datetime\n",
    "    return datetime(\n",
    "        year=neo4j_datetime.year,\n",
    "        month=neo4j_datetime.month,\n",
    "        day=neo4j_datetime.day,\n",
    "        hour=neo4j_datetime.hour,\n",
    "        minute=neo4j_datetime.minute,\n",
    "        second=neo4j_datetime.second,\n",
    "        microsecond=neo4j_datetime.nanosecond // 1000,  # Convert nanoseconds to microseconds\n",
    "        tzinfo=neo4j_datetime.tzinfo\n",
    "    )\n",
    "\n",
    "df_first = pd.DataFrame(results_first)\n",
    "\n",
    "df_first['event_date'] = df_first['event_date'].apply(convert_neo4j_date_to_python)\n",
    "\n",
    "df_first['event_date'] = df_first['event_date'].apply(lambda d: d.strftime('%Y-%m-%d'))\n",
    "\n",
    "df_first['event_timestamp'] = df_first['event_timestamp'].apply(convert_neo4j_datetime_to_python)\n",
    "\n",
    "df_first['user_id'] = df_first['user_id'].astype(str)"
   ]
  },
  {
   "cell_type": "code",
   "execution_count": 7,
   "metadata": {},
   "outputs": [],
   "source": [
    "df_first['event_timestamp'] = pd.to_datetime(df_first['event_timestamp'])\n",
    "\n",
    "df_first['event_date'] = df_first['event_timestamp'].dt.date\n",
    "\n",
    "df_first['event_date'] = pd.to_datetime(df_first['event_date'])"
   ]
  },
  {
   "cell_type": "code",
   "execution_count": 8,
   "metadata": {},
   "outputs": [],
   "source": [
    "df_first['month'] = df_first['event_date'].dt.month\n",
    "df_first['day_of_week'] = df_first['event_date'].dt.dayofweek"
   ]
  },
  {
   "cell_type": "code",
   "execution_count": 9,
   "metadata": {},
   "outputs": [],
   "source": [
    "users_work_schedule = df_first.groupby(['user_id', 'event_date']).agg({\n",
    "    'event_timestamp': ['min', 'max']\n",
    "}).reset_index()\n",
    "\n",
    "users_work_schedule.columns = ['user_id', 'event_date', 'earliest_timestamp', 'latest_timestamp']\n",
    "\n",
    "users_work_schedule = users_work_schedule.sort_values(by=['event_date','earliest_timestamp'])"
   ]
  },
  {
   "cell_type": "code",
   "execution_count": 10,
   "metadata": {},
   "outputs": [],
   "source": [
    "users_work_schedule_sorted = users_work_schedule.sort_values(by=['event_date', 'earliest_timestamp'])\n",
    "\n",
    "users_work_schedule_sorted['time_passed'] = users_work_schedule_sorted.groupby('event_date')['earliest_timestamp'].transform(lambda x: x.diff())"
   ]
  },
  {
   "cell_type": "code",
   "execution_count": 11,
   "metadata": {},
   "outputs": [],
   "source": [
    "users_work_schedule_sorted['time_passed_minutes'] = users_work_schedule_sorted['time_passed'].dt.seconds / 60\n",
    "\n",
    "users_work_schedule_sorted['time_passed_minutes'] += users_work_schedule_sorted['time_passed'].dt.components['hours'] * 60"
   ]
  },
  {
   "cell_type": "code",
   "execution_count": 12,
   "metadata": {},
   "outputs": [
    {
     "data": {
      "application/vnd.plotly.v1+json": {
       "config": {
        "plotlyServerURL": "https://plot.ly"
       },
       "data": [
        {
         "alignmentgroup": "True",
         "bingroup": "x",
         "hovertemplate": "variable=time_passed<br>Time Passed (minutes)=%{x}<br>count=%{y}<extra></extra>",
         "legendgroup": "time_passed",
         "marker": {
          "color": "#636efa",
          "pattern": {
           "shape": ""
          }
         },
         "name": "time_passed",
         "nbinsx": 100,
         "offsetgroup": "time_passed",
         "orientation": "v",
         "showlegend": true,
         "type": "histogram",
         "x": [
          428,
          450,
          23,
          9,
          7,
          213,
          54,
          0,
          4,
          14,
          128,
          0,
          14,
          4,
          11,
          47,
          1,
          186,
          78,
          4,
          0,
          32,
          118,
          28,
          2,
          37,
          18,
          16,
          152,
          103,
          5,
          1,
          7,
          2,
          140,
          10,
          2,
          455,
          36,
          97,
          39,
          116,
          1,
          3,
          1,
          4,
          7,
          146,
          3,
          445,
          436,
          52,
          1,
          145,
          47,
          60,
          3,
          0,
          3,
          13,
          57,
          73,
          11,
          1,
          4,
          9,
          52,
          133,
          0,
          121,
          4,
          2,
          5,
          4,
          128,
          6,
          26,
          42,
          6,
          4,
          181,
          7,
          143,
          5,
          2,
          9,
          105,
          21,
          10,
          1,
          2,
          6,
          52,
          131,
          14,
          24,
          75,
          7,
          17,
          1,
          134,
          1,
          59,
          16,
          2,
          0,
          38,
          144,
          48,
          23,
          86,
          5,
          1,
          8,
          115,
          6,
          12,
          435,
          412,
          9,
          43,
          6,
          3,
          130,
          132,
          14,
          3,
          127,
          0,
          3,
          53,
          41,
          0,
          5,
          20,
          127,
          109,
          16,
          12,
          130,
          1,
          63,
          0,
          68,
          6,
          13,
          117,
          109,
          7,
          23,
          30,
          90,
          5,
          5,
          0,
          90,
          95,
          115,
          2,
          3,
          0,
          2,
          154,
          2,
          17,
          38,
          19,
          140,
          109,
          7,
          24,
          13,
          123,
          2,
          0,
          1,
          445,
          459,
          16,
          4,
          129,
          13,
          132,
          24,
          14,
          0,
          84,
          0,
          21,
          31,
          35,
          31,
          110,
          19,
          77,
          1,
          2,
          14,
          137,
          4,
          12,
          3,
          49,
          30,
          13,
          101,
          1,
          111,
          1,
          8,
          14,
          126,
          6,
          21,
          44,
          21,
          3,
          121,
          29,
          97,
          2,
          0,
          9,
          150,
          0,
          0,
          6,
          42,
          1,
          1,
          140,
          127,
          42,
          7,
          4,
          8,
          80,
          4,
          1,
          455,
          483,
          10,
          7,
          0,
          134,
          116,
          3,
          6,
          16,
          7,
          137,
          1,
          2,
          21,
          3,
          54,
          0,
          126,
          133,
          1,
          3,
          1,
          5,
          150,
          3,
          4,
          6,
          7,
          61,
          99,
          13,
          124,
          3,
          7,
          4,
          4,
          126,
          10,
          0,
          21,
          9,
          54,
          5,
          130,
          122,
          6,
          54,
          7,
          3,
          73,
          0,
          16,
          11,
          46,
          7,
          16,
          116,
          117,
          11,
          23,
          21,
          98,
          4,
          0,
          2,
          7,
          425,
          450,
          35,
          15,
          15,
          4,
          136,
          103,
          1,
          8,
          142,
          2,
          3,
          0,
          21,
          2,
          46,
          4,
          16,
          146,
          95,
          1,
          5,
          145,
          9,
          2,
          1,
          6,
          10,
          41,
          11,
          4,
          127,
          15,
          120,
          6,
          128,
          3,
          10,
          7,
          1,
          2,
          0,
          64,
          12,
          126,
          7,
          112,
          12,
          4,
          129,
          1,
          8,
          1,
          4,
          41,
          34,
          8,
          106,
          25,
          109,
          1,
          0,
          136,
          2,
          11,
          3,
          1,
          449,
          480,
          3,
          42,
          7,
          98,
          31,
          138,
          2,
          19,
          113,
          6,
          7,
          2,
          4,
          27,
          33,
          96,
          2,
          110,
          2,
          5,
          137,
          17,
          10,
          76,
          30,
          5,
          16,
          10,
          172,
          73,
          2,
          8,
          135,
          9,
          11,
          8,
          5,
          44,
          6,
          132,
          120,
          1,
          17,
          119,
          11,
          2,
          37,
          22,
          7,
          10,
          117,
          122,
          2,
          2,
          140,
          8,
          1,
          5,
          447,
          451,
          14,
          0,
          9,
          123,
          133,
          2,
          0,
          3,
          142,
          3,
          22,
          18,
          2,
          50,
          148,
          113,
          18,
          3,
          12,
          107,
          13,
          3,
          49,
          6,
          53,
          6,
          18,
          108,
          123,
          4,
          0,
          1,
          16,
          132,
          14,
          69,
          45,
          27,
          6,
          5,
          122,
          14,
          118,
          6,
          1,
          117,
          19,
          2,
          1,
          14,
          46,
          24,
          99,
          85,
          78,
          2,
          30,
          81,
          12,
          12,
          1,
          461,
          439,
          43,
          9,
          3,
          1,
          136,
          119,
          4,
          1,
          144,
          3,
          3,
          19,
          12,
          54,
          1,
          85,
          50,
          118,
          15,
          1,
          2,
          141,
          6,
          5,
          10,
          39,
          9,
          1,
          130,
          123,
          9,
          21,
          4,
          6,
          108,
          9,
          15,
          6,
          66,
          4,
          4,
          167,
          116,
          1,
          0,
          1,
          2,
          98,
          7,
          8,
          5,
          48,
          1,
          3,
          126,
          122,
          20,
          0,
          1,
          129,
          9,
          0,
          7,
          458,
          480,
          6,
          5,
          68,
          36,
          20,
          119,
          1,
          4,
          0,
          153,
          5,
          1,
          5,
          6,
          34,
          10,
          9,
          126,
          120,
          4,
          0,
          0,
          146,
          8,
          5,
          1,
          16,
          53,
          6,
          6,
          2,
          144,
          91,
          2,
          19,
          0,
          132,
          7,
          3,
          11,
          7,
          81,
          1,
          8,
          14,
          90,
          115,
          8,
          1,
          147,
          1,
          5,
          11,
          32,
          19,
          9,
          8,
          117,
          48,
          86,
          9,
          6,
          138,
          2,
          0,
          3,
          490,
          440,
          12,
          6,
          0,
          87,
          161,
          3,
          2,
          3,
          19,
          123,
          2,
          14,
          6,
          42,
          10,
          8,
          12,
          228,
          2,
          3,
          2,
          4,
          150,
          1,
          1,
          3,
          364,
          11,
          42,
          6,
          8,
          119,
          117,
          7,
          9,
          12,
          3,
          127,
          3,
          5,
          1,
          0,
          44,
          19,
          0,
          127,
          120,
          7,
          26,
          0,
          3,
          113,
          6,
          0,
          9,
          54,
          20,
          107,
          119,
          1,
          10,
          4,
          3,
          133,
          1,
          4,
          1,
          446,
          474,
          35,
          23,
          10,
          4,
          122,
          19,
          94,
          7,
          6,
          136,
          1,
          1,
          1,
          39,
          11,
          8,
          12,
          116,
          1,
          130,
          6,
          10,
          117,
          2,
          0,
          10,
          61,
          6,
          2,
          13,
          100,
          8,
          119,
          1,
          2,
          13,
          129,
          7,
          1,
          9,
          16,
          46,
          15,
          87,
          0,
          27,
          4,
          116,
          13,
          6,
          127,
          12,
          3,
          2,
          1,
          54,
          3,
          128,
          31,
          113,
          9,
          7,
          105,
          2,
          5,
          9,
          63,
          402,
          494,
          41,
          1,
          7,
          3,
          152,
          74,
          23,
          7,
          4,
          4,
          135,
          20,
          4,
          40,
          7,
          2,
          15,
          165,
          72,
          9,
          0,
          37,
          121,
          2,
          15,
          6,
          55,
          5,
          8,
          2,
          17,
          105,
          122,
          5,
          8,
          11,
          133,
          9,
          7,
          0,
          38,
          7,
          0,
          15,
          147,
          104,
          2,
          6,
          1,
          1,
          140,
          25,
          13,
          2
         ],
         "xaxis": "x",
         "yaxis": "y"
        }
       ],
       "layout": {
        "bargap": 0.1,
        "barmode": "relative",
        "legend": {
         "title": {
          "text": "variable"
         },
         "tracegroupgap": 0
        },
        "template": {
         "data": {
          "bar": [
           {
            "error_x": {
             "color": "#2a3f5f"
            },
            "error_y": {
             "color": "#2a3f5f"
            },
            "marker": {
             "line": {
              "color": "#E5ECF6",
              "width": 0.5
             },
             "pattern": {
              "fillmode": "overlay",
              "size": 10,
              "solidity": 0.2
             }
            },
            "type": "bar"
           }
          ],
          "barpolar": [
           {
            "marker": {
             "line": {
              "color": "#E5ECF6",
              "width": 0.5
             },
             "pattern": {
              "fillmode": "overlay",
              "size": 10,
              "solidity": 0.2
             }
            },
            "type": "barpolar"
           }
          ],
          "carpet": [
           {
            "aaxis": {
             "endlinecolor": "#2a3f5f",
             "gridcolor": "white",
             "linecolor": "white",
             "minorgridcolor": "white",
             "startlinecolor": "#2a3f5f"
            },
            "baxis": {
             "endlinecolor": "#2a3f5f",
             "gridcolor": "white",
             "linecolor": "white",
             "minorgridcolor": "white",
             "startlinecolor": "#2a3f5f"
            },
            "type": "carpet"
           }
          ],
          "choropleth": [
           {
            "colorbar": {
             "outlinewidth": 0,
             "ticks": ""
            },
            "type": "choropleth"
           }
          ],
          "contour": [
           {
            "colorbar": {
             "outlinewidth": 0,
             "ticks": ""
            },
            "colorscale": [
             [
              0,
              "#0d0887"
             ],
             [
              0.1111111111111111,
              "#46039f"
             ],
             [
              0.2222222222222222,
              "#7201a8"
             ],
             [
              0.3333333333333333,
              "#9c179e"
             ],
             [
              0.4444444444444444,
              "#bd3786"
             ],
             [
              0.5555555555555556,
              "#d8576b"
             ],
             [
              0.6666666666666666,
              "#ed7953"
             ],
             [
              0.7777777777777778,
              "#fb9f3a"
             ],
             [
              0.8888888888888888,
              "#fdca26"
             ],
             [
              1,
              "#f0f921"
             ]
            ],
            "type": "contour"
           }
          ],
          "contourcarpet": [
           {
            "colorbar": {
             "outlinewidth": 0,
             "ticks": ""
            },
            "type": "contourcarpet"
           }
          ],
          "heatmap": [
           {
            "colorbar": {
             "outlinewidth": 0,
             "ticks": ""
            },
            "colorscale": [
             [
              0,
              "#0d0887"
             ],
             [
              0.1111111111111111,
              "#46039f"
             ],
             [
              0.2222222222222222,
              "#7201a8"
             ],
             [
              0.3333333333333333,
              "#9c179e"
             ],
             [
              0.4444444444444444,
              "#bd3786"
             ],
             [
              0.5555555555555556,
              "#d8576b"
             ],
             [
              0.6666666666666666,
              "#ed7953"
             ],
             [
              0.7777777777777778,
              "#fb9f3a"
             ],
             [
              0.8888888888888888,
              "#fdca26"
             ],
             [
              1,
              "#f0f921"
             ]
            ],
            "type": "heatmap"
           }
          ],
          "heatmapgl": [
           {
            "colorbar": {
             "outlinewidth": 0,
             "ticks": ""
            },
            "colorscale": [
             [
              0,
              "#0d0887"
             ],
             [
              0.1111111111111111,
              "#46039f"
             ],
             [
              0.2222222222222222,
              "#7201a8"
             ],
             [
              0.3333333333333333,
              "#9c179e"
             ],
             [
              0.4444444444444444,
              "#bd3786"
             ],
             [
              0.5555555555555556,
              "#d8576b"
             ],
             [
              0.6666666666666666,
              "#ed7953"
             ],
             [
              0.7777777777777778,
              "#fb9f3a"
             ],
             [
              0.8888888888888888,
              "#fdca26"
             ],
             [
              1,
              "#f0f921"
             ]
            ],
            "type": "heatmapgl"
           }
          ],
          "histogram": [
           {
            "marker": {
             "pattern": {
              "fillmode": "overlay",
              "size": 10,
              "solidity": 0.2
             }
            },
            "type": "histogram"
           }
          ],
          "histogram2d": [
           {
            "colorbar": {
             "outlinewidth": 0,
             "ticks": ""
            },
            "colorscale": [
             [
              0,
              "#0d0887"
             ],
             [
              0.1111111111111111,
              "#46039f"
             ],
             [
              0.2222222222222222,
              "#7201a8"
             ],
             [
              0.3333333333333333,
              "#9c179e"
             ],
             [
              0.4444444444444444,
              "#bd3786"
             ],
             [
              0.5555555555555556,
              "#d8576b"
             ],
             [
              0.6666666666666666,
              "#ed7953"
             ],
             [
              0.7777777777777778,
              "#fb9f3a"
             ],
             [
              0.8888888888888888,
              "#fdca26"
             ],
             [
              1,
              "#f0f921"
             ]
            ],
            "type": "histogram2d"
           }
          ],
          "histogram2dcontour": [
           {
            "colorbar": {
             "outlinewidth": 0,
             "ticks": ""
            },
            "colorscale": [
             [
              0,
              "#0d0887"
             ],
             [
              0.1111111111111111,
              "#46039f"
             ],
             [
              0.2222222222222222,
              "#7201a8"
             ],
             [
              0.3333333333333333,
              "#9c179e"
             ],
             [
              0.4444444444444444,
              "#bd3786"
             ],
             [
              0.5555555555555556,
              "#d8576b"
             ],
             [
              0.6666666666666666,
              "#ed7953"
             ],
             [
              0.7777777777777778,
              "#fb9f3a"
             ],
             [
              0.8888888888888888,
              "#fdca26"
             ],
             [
              1,
              "#f0f921"
             ]
            ],
            "type": "histogram2dcontour"
           }
          ],
          "mesh3d": [
           {
            "colorbar": {
             "outlinewidth": 0,
             "ticks": ""
            },
            "type": "mesh3d"
           }
          ],
          "parcoords": [
           {
            "line": {
             "colorbar": {
              "outlinewidth": 0,
              "ticks": ""
             }
            },
            "type": "parcoords"
           }
          ],
          "pie": [
           {
            "automargin": true,
            "type": "pie"
           }
          ],
          "scatter": [
           {
            "fillpattern": {
             "fillmode": "overlay",
             "size": 10,
             "solidity": 0.2
            },
            "type": "scatter"
           }
          ],
          "scatter3d": [
           {
            "line": {
             "colorbar": {
              "outlinewidth": 0,
              "ticks": ""
             }
            },
            "marker": {
             "colorbar": {
              "outlinewidth": 0,
              "ticks": ""
             }
            },
            "type": "scatter3d"
           }
          ],
          "scattercarpet": [
           {
            "marker": {
             "colorbar": {
              "outlinewidth": 0,
              "ticks": ""
             }
            },
            "type": "scattercarpet"
           }
          ],
          "scattergeo": [
           {
            "marker": {
             "colorbar": {
              "outlinewidth": 0,
              "ticks": ""
             }
            },
            "type": "scattergeo"
           }
          ],
          "scattergl": [
           {
            "marker": {
             "colorbar": {
              "outlinewidth": 0,
              "ticks": ""
             }
            },
            "type": "scattergl"
           }
          ],
          "scattermapbox": [
           {
            "marker": {
             "colorbar": {
              "outlinewidth": 0,
              "ticks": ""
             }
            },
            "type": "scattermapbox"
           }
          ],
          "scatterpolar": [
           {
            "marker": {
             "colorbar": {
              "outlinewidth": 0,
              "ticks": ""
             }
            },
            "type": "scatterpolar"
           }
          ],
          "scatterpolargl": [
           {
            "marker": {
             "colorbar": {
              "outlinewidth": 0,
              "ticks": ""
             }
            },
            "type": "scatterpolargl"
           }
          ],
          "scatterternary": [
           {
            "marker": {
             "colorbar": {
              "outlinewidth": 0,
              "ticks": ""
             }
            },
            "type": "scatterternary"
           }
          ],
          "surface": [
           {
            "colorbar": {
             "outlinewidth": 0,
             "ticks": ""
            },
            "colorscale": [
             [
              0,
              "#0d0887"
             ],
             [
              0.1111111111111111,
              "#46039f"
             ],
             [
              0.2222222222222222,
              "#7201a8"
             ],
             [
              0.3333333333333333,
              "#9c179e"
             ],
             [
              0.4444444444444444,
              "#bd3786"
             ],
             [
              0.5555555555555556,
              "#d8576b"
             ],
             [
              0.6666666666666666,
              "#ed7953"
             ],
             [
              0.7777777777777778,
              "#fb9f3a"
             ],
             [
              0.8888888888888888,
              "#fdca26"
             ],
             [
              1,
              "#f0f921"
             ]
            ],
            "type": "surface"
           }
          ],
          "table": [
           {
            "cells": {
             "fill": {
              "color": "#EBF0F8"
             },
             "line": {
              "color": "white"
             }
            },
            "header": {
             "fill": {
              "color": "#C8D4E3"
             },
             "line": {
              "color": "white"
             }
            },
            "type": "table"
           }
          ]
         },
         "layout": {
          "annotationdefaults": {
           "arrowcolor": "#2a3f5f",
           "arrowhead": 0,
           "arrowwidth": 1
          },
          "autotypenumbers": "strict",
          "coloraxis": {
           "colorbar": {
            "outlinewidth": 0,
            "ticks": ""
           }
          },
          "colorscale": {
           "diverging": [
            [
             0,
             "#8e0152"
            ],
            [
             0.1,
             "#c51b7d"
            ],
            [
             0.2,
             "#de77ae"
            ],
            [
             0.3,
             "#f1b6da"
            ],
            [
             0.4,
             "#fde0ef"
            ],
            [
             0.5,
             "#f7f7f7"
            ],
            [
             0.6,
             "#e6f5d0"
            ],
            [
             0.7,
             "#b8e186"
            ],
            [
             0.8,
             "#7fbc41"
            ],
            [
             0.9,
             "#4d9221"
            ],
            [
             1,
             "#276419"
            ]
           ],
           "sequential": [
            [
             0,
             "#0d0887"
            ],
            [
             0.1111111111111111,
             "#46039f"
            ],
            [
             0.2222222222222222,
             "#7201a8"
            ],
            [
             0.3333333333333333,
             "#9c179e"
            ],
            [
             0.4444444444444444,
             "#bd3786"
            ],
            [
             0.5555555555555556,
             "#d8576b"
            ],
            [
             0.6666666666666666,
             "#ed7953"
            ],
            [
             0.7777777777777778,
             "#fb9f3a"
            ],
            [
             0.8888888888888888,
             "#fdca26"
            ],
            [
             1,
             "#f0f921"
            ]
           ],
           "sequentialminus": [
            [
             0,
             "#0d0887"
            ],
            [
             0.1111111111111111,
             "#46039f"
            ],
            [
             0.2222222222222222,
             "#7201a8"
            ],
            [
             0.3333333333333333,
             "#9c179e"
            ],
            [
             0.4444444444444444,
             "#bd3786"
            ],
            [
             0.5555555555555556,
             "#d8576b"
            ],
            [
             0.6666666666666666,
             "#ed7953"
            ],
            [
             0.7777777777777778,
             "#fb9f3a"
            ],
            [
             0.8888888888888888,
             "#fdca26"
            ],
            [
             1,
             "#f0f921"
            ]
           ]
          },
          "colorway": [
           "#636efa",
           "#EF553B",
           "#00cc96",
           "#ab63fa",
           "#FFA15A",
           "#19d3f3",
           "#FF6692",
           "#B6E880",
           "#FF97FF",
           "#FECB52"
          ],
          "font": {
           "color": "#2a3f5f"
          },
          "geo": {
           "bgcolor": "white",
           "lakecolor": "white",
           "landcolor": "#E5ECF6",
           "showlakes": true,
           "showland": true,
           "subunitcolor": "white"
          },
          "hoverlabel": {
           "align": "left"
          },
          "hovermode": "closest",
          "mapbox": {
           "style": "light"
          },
          "paper_bgcolor": "white",
          "plot_bgcolor": "#E5ECF6",
          "polar": {
           "angularaxis": {
            "gridcolor": "white",
            "linecolor": "white",
            "ticks": ""
           },
           "bgcolor": "#E5ECF6",
           "radialaxis": {
            "gridcolor": "white",
            "linecolor": "white",
            "ticks": ""
           }
          },
          "scene": {
           "xaxis": {
            "backgroundcolor": "#E5ECF6",
            "gridcolor": "white",
            "gridwidth": 2,
            "linecolor": "white",
            "showbackground": true,
            "ticks": "",
            "zerolinecolor": "white"
           },
           "yaxis": {
            "backgroundcolor": "#E5ECF6",
            "gridcolor": "white",
            "gridwidth": 2,
            "linecolor": "white",
            "showbackground": true,
            "ticks": "",
            "zerolinecolor": "white"
           },
           "zaxis": {
            "backgroundcolor": "#E5ECF6",
            "gridcolor": "white",
            "gridwidth": 2,
            "linecolor": "white",
            "showbackground": true,
            "ticks": "",
            "zerolinecolor": "white"
           }
          },
          "shapedefaults": {
           "line": {
            "color": "#2a3f5f"
           }
          },
          "ternary": {
           "aaxis": {
            "gridcolor": "white",
            "linecolor": "white",
            "ticks": ""
           },
           "baxis": {
            "gridcolor": "white",
            "linecolor": "white",
            "ticks": ""
           },
           "bgcolor": "#E5ECF6",
           "caxis": {
            "gridcolor": "white",
            "linecolor": "white",
            "ticks": ""
           }
          },
          "title": {
           "x": 0.05
          },
          "xaxis": {
           "automargin": true,
           "gridcolor": "white",
           "linecolor": "white",
           "ticks": "",
           "title": {
            "standoff": 15
           },
           "zerolinecolor": "white",
           "zerolinewidth": 2
          },
          "yaxis": {
           "automargin": true,
           "gridcolor": "white",
           "linecolor": "white",
           "ticks": "",
           "title": {
            "standoff": 15
           },
           "zerolinecolor": "white",
           "zerolinewidth": 2
          }
         }
        },
        "title": {
         "text": "Distribution of Time Passed between Starting Work Resources (Excluding NaN)"
        },
        "xaxis": {
         "anchor": "y",
         "domain": [
          0,
          1
         ],
         "title": {
          "text": "Time Passed (minutes)"
         }
        },
        "yaxis": {
         "anchor": "x",
         "domain": [
          0,
          1
         ],
         "title": {
          "text": "count"
         }
        }
       }
      }
     },
     "metadata": {},
     "output_type": "display_data"
    }
   ],
   "source": [
    "time_passed_minutes = users_work_schedule_sorted['time_passed'].dropna().dt.total_seconds() / 60\n",
    "fig = px.histogram(time_passed_minutes, nbins=100, labels={'value': 'Time Passed (minutes)', 'count': 'Frequency'},\n",
    "                   title='Distribution of Time Passed between Starting Work Resources (Excluding NaN)')\n",
    "fig.update_layout(bargap=0.1)\n",
    "fig.show()\n"
   ]
  },
  {
   "cell_type": "code",
   "execution_count": 13,
   "metadata": {},
   "outputs": [
    {
     "name": "stderr",
     "output_type": "stream",
     "text": [
      "/Library/Frameworks/Python.framework/Versions/3.11/lib/python3.11/site-packages/plotly/express/_core.py:2065: FutureWarning:\n",
      "\n",
      "When grouping with a length-1 list-like, you will need to pass a length-1 tuple to get_group in a future version of pandas. Pass `(name,)` instead of `name` to silence this warning.\n",
      "\n"
     ]
    },
    {
     "data": {
      "application/vnd.plotly.v1+json": {
       "config": {
        "plotlyServerURL": "https://plot.ly"
       },
       "data": [
        {
         "customdata": [
          [
           "MCE",
           "07:09:00"
          ],
          [
           "MCE",
           "06:54:00"
          ],
          [
           "MCE",
           "11:11:00"
          ],
          [
           "MCE",
           "10:55:00"
          ],
          [
           "MCE",
           "10:27:00"
          ],
          [
           "MCE",
           "10:06:00"
          ],
          [
           "MCE",
           "11:05:00"
          ],
          [
           "MCE",
           "10:10:00"
          ],
          [
           "MCE",
           "10:14:00"
          ],
          [
           "MCE",
           "10:25:00"
          ],
          [
           "MCE",
           "10:08:00"
          ],
          [
           "MCE",
           "10:05:00"
          ],
          [
           "MCE",
           "10:16:00"
          ],
          [
           "MCE",
           "10:15:00"
          ],
          [
           "MCE",
           "10:10:00"
          ],
          [
           "MCE",
           "10:15:00"
          ],
          [
           "MCE",
           "10:08:00"
          ],
          [
           "MCE",
           "10:48:00"
          ],
          [
           "MCE",
           "10:20:00"
          ],
          [
           "MCE",
           "10:04:00"
          ],
          [
           "MCE",
           "10:06:00"
          ],
          [
           "MCE",
           "10:13:00"
          ],
          [
           "MCE",
           "10:05:00"
          ],
          [
           "MCE",
           "10:05:00"
          ],
          [
           "MCE",
           "10:13:00"
          ],
          [
           "MCE",
           "10:07:00"
          ],
          [
           "MCE",
           "14:20:00"
          ],
          [
           "MCE",
           "14:36:00"
          ],
          [
           "MCE",
           "10:25:00"
          ],
          [
           "MCE",
           "10:23:00"
          ],
          [
           "MCE",
           "10:04:00"
          ],
          [
           "MCE",
           "10:03:00"
          ],
          [
           "MCE",
           "10:21:00"
          ],
          [
           "MCE",
           "10:57:00"
          ],
          [
           "MCE",
           "10:18:00"
          ],
          [
           "MCE",
           "10:13:00"
          ],
          [
           "MCE",
           "10:02:00"
          ],
          [
           "MCE",
           "10:26:00"
          ],
          [
           "MCE",
           "10:06:00"
          ],
          [
           "MCE",
           "10:33:00"
          ],
          [
           "MCE",
           "10:02:00"
          ],
          [
           "MCE",
           "10:12:00"
          ],
          [
           "MCE",
           "10:11:00"
          ],
          [
           "MCE",
           "10:07:00"
          ],
          [
           "MCE",
           "11:00:00"
          ],
          [
           "MCE",
           "10:04:00"
          ],
          [
           "MCE",
           "10:03:00"
          ],
          [
           "MCE",
           "10:04:00"
          ],
          [
           "MCE",
           "10:34:00"
          ],
          [
           "MCE",
           "10:19:00"
          ],
          [
           "MCE",
           "10:07:00"
          ],
          [
           "MCE",
           "06:54:00"
          ],
          [
           "MCE",
           "14:28:00"
          ],
          [
           "MCE",
           "10:04:00"
          ],
          [
           "MCE",
           "10:05:00"
          ],
          [
           "MCE",
           "10:07:00"
          ],
          [
           "MCE",
           "10:16:00"
          ],
          [
           "MCE",
           "10:10:00"
          ],
          [
           "MCE",
           "10:05:00"
          ],
          [
           "MCE",
           "10:05:00"
          ],
          [
           "MCE",
           "10:09:00"
          ],
          [
           "MCE",
           "10:26:00"
          ],
          [
           "MCE",
           "10:49:00"
          ],
          [
           "MCE",
           "09:59:00"
          ],
          [
           "MCE",
           "10:19:00"
          ]
         ],
         "hovertemplate": "user_id=%{customdata[0]}<br>Time of Day (HH:MM)=%{x}<br>Event Date=%{y}<br>start_time=%{customdata[1]}<extra></extra>",
         "legendgroup": "MCE",
         "marker": {
          "color": "#636efa",
          "symbol": "circle"
         },
         "mode": "markers",
         "name": "MCE",
         "orientation": "h",
         "showlegend": true,
         "type": "scatter",
         "x": [
          25740,
          24840,
          40260,
          39300,
          37620,
          36360,
          39900,
          36600,
          36840,
          37500,
          36480,
          36300,
          36960,
          36900,
          36600,
          36900,
          36480,
          38880,
          37200,
          36240,
          36360,
          36780,
          36300,
          36300,
          36780,
          36420,
          51600,
          52560,
          37500,
          37380,
          36240,
          36180,
          37260,
          39420,
          37080,
          36780,
          36120,
          37560,
          36360,
          37980,
          36120,
          36720,
          36660,
          36420,
          39600,
          36240,
          36180,
          36240,
          38040,
          37140,
          36420,
          24840,
          52080,
          36240,
          36300,
          36420,
          36960,
          36600,
          36300,
          36300,
          36540,
          37560,
          38940,
          35940,
          37140
         ],
         "xaxis": "x",
         "y": [
          "2022-01-01",
          "2022-01-02",
          "2022-01-03",
          "2022-01-04",
          "2022-01-05",
          "2022-01-07",
          "2022-01-10",
          "2022-01-11",
          "2022-01-12",
          "2022-01-13",
          "2022-01-14",
          "2022-01-17",
          "2022-01-18",
          "2022-01-19",
          "2022-01-20",
          "2022-01-21",
          "2022-01-24",
          "2022-01-25",
          "2022-01-26",
          "2022-01-27",
          "2022-01-28",
          "2022-01-31",
          "2022-02-01",
          "2022-02-02",
          "2022-02-03",
          "2022-02-04",
          "2022-02-05",
          "2022-02-06",
          "2022-02-09",
          "2022-02-10",
          "2022-02-11",
          "2022-02-14",
          "2022-02-15",
          "2022-02-16",
          "2022-02-17",
          "2022-02-18",
          "2022-02-21",
          "2022-02-22",
          "2022-02-23",
          "2022-02-24",
          "2022-02-25",
          "2022-02-28",
          "2022-03-01",
          "2022-03-02",
          "2022-03-03",
          "2022-03-04",
          "2022-03-07",
          "2022-03-08",
          "2022-03-09",
          "2022-03-10",
          "2022-03-11",
          "2022-03-12",
          "2022-03-13",
          "2022-03-16",
          "2022-03-17",
          "2022-03-18",
          "2022-03-21",
          "2022-03-22",
          "2022-03-23",
          "2022-03-24",
          "2022-03-25",
          "2022-03-28",
          "2022-03-29",
          "2022-03-30",
          "2022-03-31"
         ],
         "yaxis": "y"
        },
        {
         "customdata": [
          [
           "LI",
           "14:17:00"
          ],
          [
           "LI",
           "14:24:00"
          ],
          [
           "LI",
           "12:23:00"
          ],
          [
           "LI",
           "09:27:00"
          ],
          [
           "LI",
           "07:00:00"
          ],
          [
           "LI",
           "06:56:00"
          ],
          [
           "LI",
           "07:02:00"
          ],
          [
           "LI",
           "07:04:00"
          ],
          [
           "LI",
           "06:54:00"
          ],
          [
           "LI",
           "07:44:00"
          ],
          [
           "LI",
           "07:44:00"
          ],
          [
           "LI",
           "07:59:00"
          ],
          [
           "LI",
           "07:05:00"
          ],
          [
           "LI",
           "07:05:00"
          ],
          [
           "LI",
           "06:55:00"
          ],
          [
           "LI",
           "07:55:00"
          ],
          [
           "LI",
           "07:36:00"
          ],
          [
           "LI",
           "07:47:00"
          ],
          [
           "LI",
           "07:48:00"
          ],
          [
           "LI",
           "07:58:00"
          ],
          [
           "LI",
           "07:36:00"
          ],
          [
           "LI",
           "07:47:00"
          ],
          [
           "LI",
           "07:39:00"
          ],
          [
           "LI",
           "07:04:00"
          ],
          [
           "LI",
           "07:03:00"
          ],
          [
           "LI",
           "12:15:00"
          ],
          [
           "LI",
           "07:36:00"
          ],
          [
           "LI",
           "07:06:00"
          ],
          [
           "LI",
           "06:55:00"
          ],
          [
           "LI",
           "08:17:00"
          ],
          [
           "LI",
           "07:13:00"
          ],
          [
           "LI",
           "07:00:00"
          ],
          [
           "LI",
           "07:56:00"
          ],
          [
           "LI",
           "06:58:00"
          ],
          [
           "LI",
           "06:59:00"
          ],
          [
           "LI",
           "07:54:00"
          ],
          [
           "LI",
           "09:43:00"
          ],
          [
           "LI",
           "07:05:00"
          ],
          [
           "LI",
           "07:56:00"
          ],
          [
           "LI",
           "08:26:00"
          ],
          [
           "LI",
           "07:02:00"
          ],
          [
           "LI",
           "07:50:00"
          ],
          [
           "LI",
           "08:14:00"
          ],
          [
           "LI",
           "07:09:00"
          ],
          [
           "LI",
           "07:58:00"
          ],
          [
           "LI",
           "06:57:00"
          ],
          [
           "LI",
           "07:37:00"
          ],
          [
           "LI",
           "08:02:00"
          ],
          [
           "LI",
           "08:04:00"
          ],
          [
           "LI",
           "06:54:00"
          ],
          [
           "LI",
           "07:04:00"
          ],
          [
           "LI",
           "14:33:00"
          ],
          [
           "LI",
           "15:04:00"
          ],
          [
           "LI",
           "07:55:00"
          ],
          [
           "LI",
           "06:52:00"
          ]
         ],
         "hovertemplate": "user_id=%{customdata[0]}<br>Time of Day (HH:MM)=%{x}<br>Event Date=%{y}<br>start_time=%{customdata[1]}<extra></extra>",
         "legendgroup": "LI",
         "marker": {
          "color": "#EF553B",
          "symbol": "circle"
         },
         "mode": "markers",
         "name": "LI",
         "orientation": "h",
         "showlegend": true,
         "type": "scatter",
         "x": [
          51420,
          51840,
          44580,
          34020,
          25200,
          24960,
          25320,
          25440,
          24840,
          27840,
          27840,
          28740,
          25500,
          25500,
          24900,
          28500,
          27360,
          28020,
          28080,
          28680,
          27360,
          28020,
          27540,
          25440,
          25380,
          44100,
          27360,
          25560,
          24900,
          29820,
          25980,
          25200,
          28560,
          25080,
          25140,
          28440,
          34980,
          25500,
          28560,
          30360,
          25320,
          28200,
          29640,
          25740,
          28680,
          25020,
          27420,
          28920,
          29040,
          24840,
          25440,
          52380,
          54240,
          28500,
          24720
         ],
         "xaxis": "x",
         "y": [
          "2022-01-01",
          "2022-01-02",
          "2022-01-05",
          "2022-01-07",
          "2022-01-10",
          "2022-01-11",
          "2022-01-13",
          "2022-01-14",
          "2022-01-17",
          "2022-01-18",
          "2022-01-28",
          "2022-01-31",
          "2022-02-01",
          "2022-02-02",
          "2022-02-03",
          "2022-02-04",
          "2022-02-07",
          "2022-02-08",
          "2022-02-09",
          "2022-02-10",
          "2022-02-11",
          "2022-02-14",
          "2022-02-15",
          "2022-02-16",
          "2022-02-17",
          "2022-02-18",
          "2022-02-21",
          "2022-02-22",
          "2022-02-23",
          "2022-02-24",
          "2022-02-25",
          "2022-02-28",
          "2022-03-01",
          "2022-03-02",
          "2022-03-03",
          "2022-03-04",
          "2022-03-07",
          "2022-03-08",
          "2022-03-09",
          "2022-03-10",
          "2022-03-11",
          "2022-03-14",
          "2022-03-15",
          "2022-03-16",
          "2022-03-17",
          "2022-03-18",
          "2022-03-21",
          "2022-03-22",
          "2022-03-23",
          "2022-03-24",
          "2022-03-25",
          "2022-03-26",
          "2022-03-27",
          "2022-03-30",
          "2022-03-31"
         ],
         "yaxis": "y"
        },
        {
         "customdata": [
          [
           "BM",
           "06:59:00"
          ],
          [
           "BM",
           "07:48:00"
          ],
          [
           "BM",
           "07:21:00"
          ],
          [
           "BM",
           "12:18:00"
          ],
          [
           "BM",
           "12:08:00"
          ],
          [
           "BM",
           "12:26:00"
          ],
          [
           "BM",
           "12:44:00"
          ],
          [
           "BM",
           "12:28:00"
          ],
          [
           "BM",
           "12:59:00"
          ],
          [
           "BM",
           "14:41:00"
          ],
          [
           "BM",
           "14:43:00"
          ],
          [
           "BM",
           "14:34:00"
          ],
          [
           "BM",
           "15:05:00"
          ],
          [
           "BM",
           "14:53:00"
          ],
          [
           "BM",
           "07:39:00"
          ],
          [
           "BM",
           "08:08:00"
          ],
          [
           "BM",
           "07:03:00"
          ],
          [
           "BM",
           "07:39:00"
          ],
          [
           "BM",
           "14:38:00"
          ],
          [
           "BM",
           "12:41:00"
          ],
          [
           "BM",
           "12:23:00"
          ],
          [
           "BM",
           "12:19:00"
          ],
          [
           "BM",
           "07:15:00"
          ],
          [
           "BM",
           "07:06:00"
          ],
          [
           "BM",
           "14:45:00"
          ],
          [
           "BM",
           "14:50:00"
          ],
          [
           "BM",
           "14:52:00"
          ],
          [
           "BM",
           "07:03:00"
          ],
          [
           "BM",
           "07:14:00"
          ],
          [
           "BM",
           "07:02:00"
          ],
          [
           "BM",
           "07:43:00"
          ],
          [
           "BM",
           "07:34:00"
          ],
          [
           "BM",
           "08:06:00"
          ],
          [
           "BM",
           "08:16:00"
          ],
          [
           "BM",
           "12:20:00"
          ],
          [
           "BM",
           "12:37:00"
          ],
          [
           "BM",
           "12:30:00"
          ],
          [
           "BM",
           "12:38:00"
          ],
          [
           "BM",
           "12:45:00"
          ],
          [
           "BM",
           "14:43:00"
          ],
          [
           "BM",
           "14:48:00"
          ],
          [
           "BM",
           "14:47:00"
          ],
          [
           "BM",
           "14:53:00"
          ],
          [
           "BM",
           "14:45:00"
          ],
          [
           "BM",
           "14:40:00"
          ],
          [
           "BM",
           "12:08:00"
          ],
          [
           "BM",
           "08:10:00"
          ],
          [
           "BM",
           "06:58:00"
          ],
          [
           "BM",
           "07:53:00"
          ],
          [
           "BM",
           "14:36:00"
          ],
          [
           "BM",
           "14:44:00"
          ],
          [
           "BM",
           "06:58:00"
          ],
          [
           "BM",
           "14:34:00"
          ],
          [
           "BM",
           "14:37:00"
          ],
          [
           "BM",
           "12:09:00"
          ],
          [
           "BM",
           "12:21:00"
          ],
          [
           "BM",
           "12:13:00"
          ],
          [
           "BM",
           "12:24:00"
          ],
          [
           "BM",
           "12:49:00"
          ],
          [
           "BM",
           "07:54:00"
          ],
          [
           "BM",
           "07:00:00"
          ],
          [
           "BM",
           "07:57:00"
          ],
          [
           "BM",
           "07:30:00"
          ]
         ],
         "hovertemplate": "user_id=%{customdata[0]}<br>Time of Day (HH:MM)=%{x}<br>Event Date=%{y}<br>start_time=%{customdata[1]}<extra></extra>",
         "legendgroup": "BM",
         "marker": {
          "color": "#00cc96",
          "symbol": "circle"
         },
         "mode": "markers",
         "name": "BM",
         "orientation": "h",
         "showlegend": true,
         "type": "scatter",
         "x": [
          25140,
          28080,
          26460,
          44280,
          43680,
          44760,
          45840,
          44880,
          46740,
          52860,
          52980,
          52440,
          54300,
          53580,
          27540,
          29280,
          25380,
          27540,
          52680,
          45660,
          44580,
          44340,
          26100,
          25560,
          53100,
          53400,
          53520,
          25380,
          26040,
          25320,
          27780,
          27240,
          29160,
          29760,
          44400,
          45420,
          45000,
          45480,
          45900,
          52980,
          53280,
          53220,
          53580,
          53100,
          52800,
          43680,
          29400,
          25080,
          28380,
          52560,
          53040,
          25080,
          52440,
          52620,
          43740,
          44460,
          43980,
          44640,
          46140,
          28440,
          25200,
          28620,
          27000
         ],
         "xaxis": "x",
         "y": [
          "2022-01-03",
          "2022-01-04",
          "2022-01-05",
          "2022-01-07",
          "2022-01-10",
          "2022-01-11",
          "2022-01-12",
          "2022-01-13",
          "2022-01-14",
          "2022-01-17",
          "2022-01-18",
          "2022-01-19",
          "2022-01-20",
          "2022-01-21",
          "2022-01-24",
          "2022-01-25",
          "2022-01-26",
          "2022-01-27",
          "2022-01-28",
          "2022-01-31",
          "2022-02-01",
          "2022-02-02",
          "2022-02-05",
          "2022-02-06",
          "2022-02-07",
          "2022-02-08",
          "2022-02-09",
          "2022-02-12",
          "2022-02-13",
          "2022-02-14",
          "2022-02-15",
          "2022-02-16",
          "2022-02-17",
          "2022-02-18",
          "2022-02-21",
          "2022-02-22",
          "2022-02-23",
          "2022-02-24",
          "2022-02-25",
          "2022-02-28",
          "2022-03-01",
          "2022-03-02",
          "2022-03-03",
          "2022-03-04",
          "2022-03-07",
          "2022-03-08",
          "2022-03-09",
          "2022-03-10",
          "2022-03-11",
          "2022-03-14",
          "2022-03-15",
          "2022-03-16",
          "2022-03-17",
          "2022-03-18",
          "2022-03-21",
          "2022-03-22",
          "2022-03-23",
          "2022-03-24",
          "2022-03-25",
          "2022-03-28",
          "2022-03-29",
          "2022-03-30",
          "2022-03-31"
         ],
         "yaxis": "y"
        },
        {
         "customdata": [
          [
           "EH",
           "07:22:00"
          ],
          [
           "EH",
           "07:01:00"
          ],
          [
           "EH",
           "12:25:00"
          ],
          [
           "EH",
           "14:45:00"
          ],
          [
           "EH",
           "07:14:00"
          ],
          [
           "EH",
           "07:57:00"
          ],
          [
           "EH",
           "07:06:00"
          ],
          [
           "EH",
           "08:00:00"
          ],
          [
           "EH",
           "07:06:00"
          ],
          [
           "EH",
           "14:44:00"
          ],
          [
           "EH",
           "15:47:00"
          ],
          [
           "EH",
           "14:44:00"
          ],
          [
           "EH",
           "14:48:00"
          ],
          [
           "EH",
           "14:54:00"
          ],
          [
           "EH",
           "13:11:00"
          ],
          [
           "EH",
           "12:08:00"
          ],
          [
           "EH",
           "12:20:00"
          ],
          [
           "EH",
           "12:12:00"
          ],
          [
           "EH",
           "12:13:00"
          ],
          [
           "EH",
           "07:42:00"
          ],
          [
           "EH",
           "07:59:00"
          ],
          [
           "EH",
           "06:59:00"
          ],
          [
           "EH",
           "08:03:00"
          ],
          [
           "EH",
           "07:48:00"
          ],
          [
           "EH",
           "14:45:00"
          ],
          [
           "EH",
           "14:57:00"
          ],
          [
           "EH",
           "15:00:00"
          ],
          [
           "EH",
           "14:50:00"
          ],
          [
           "EH",
           "14:51:00"
          ],
          [
           "EH",
           "12:21:00"
          ],
          [
           "EH",
           "12:13:00"
          ],
          [
           "EH",
           "12:20:00"
          ],
          [
           "EH",
           "12:36:00"
          ],
          [
           "EH",
           "12:19:00"
          ],
          [
           "EH",
           "14:30:00"
          ],
          [
           "EH",
           "14:30:00"
          ],
          [
           "EH",
           "08:18:00"
          ],
          [
           "EH",
           "07:39:00"
          ],
          [
           "EH",
           "08:23:00"
          ],
          [
           "EH",
           "14:26:00"
          ],
          [
           "EH",
           "07:04:00"
          ],
          [
           "EH",
           "15:02:00"
          ],
          [
           "EH",
           "14:38:00"
          ],
          [
           "EH",
           "14:45:00"
          ],
          [
           "EH",
           "12:07:00"
          ],
          [
           "EH",
           "12:08:00"
          ],
          [
           "EH",
           "12:26:00"
          ],
          [
           "EH",
           "15:04:00"
          ],
          [
           "EH",
           "07:08:00"
          ],
          [
           "EH",
           "07:38:00"
          ],
          [
           "EH",
           "07:54:00"
          ],
          [
           "EH",
           "07:57:00"
          ],
          [
           "EH",
           "06:55:00"
          ],
          [
           "EH",
           "08:00:00"
          ],
          [
           "EH",
           "14:39:00"
          ],
          [
           "EH",
           "14:46:00"
          ],
          [
           "EH",
           "14:44:00"
          ],
          [
           "EH",
           "14:43:00"
          ],
          [
           "EH",
           "14:41:00"
          ],
          [
           "EH",
           "07:51:00"
          ],
          [
           "EH",
           "12:14:00"
          ],
          [
           "EH",
           "12:10:00"
          ],
          [
           "EH",
           "12:14:00"
          ],
          [
           "EH",
           "12:12:00"
          ]
         ],
         "hovertemplate": "user_id=%{customdata[0]}<br>Time of Day (HH:MM)=%{x}<br>Event Date=%{y}<br>start_time=%{customdata[1]}<extra></extra>",
         "legendgroup": "EH",
         "marker": {
          "color": "#ab63fa",
          "symbol": "circle"
         },
         "mode": "markers",
         "name": "EH",
         "orientation": "h",
         "showlegend": true,
         "type": "scatter",
         "x": [
          26520,
          25260,
          44700,
          53100,
          26040,
          28620,
          25560,
          28800,
          25560,
          53040,
          56820,
          53040,
          53280,
          53640,
          47460,
          43680,
          44400,
          43920,
          43980,
          27720,
          28740,
          25140,
          28980,
          28080,
          53100,
          53820,
          54000,
          53400,
          53460,
          44460,
          43980,
          44400,
          45360,
          44340,
          52200,
          52200,
          29880,
          27540,
          30180,
          51960,
          25440,
          54120,
          52680,
          53100,
          43620,
          43680,
          44760,
          54240,
          25680,
          27480,
          28440,
          28620,
          24900,
          28800,
          52740,
          53160,
          53040,
          52980,
          52860,
          28260,
          44040,
          43800,
          44040,
          43920
         ],
         "xaxis": "x",
         "y": [
          "2022-01-03",
          "2022-01-04",
          "2022-01-05",
          "2022-01-06",
          "2022-01-07",
          "2022-01-11",
          "2022-01-12",
          "2022-01-13",
          "2022-01-14",
          "2022-01-17",
          "2022-01-18",
          "2022-01-19",
          "2022-01-20",
          "2022-01-21",
          "2022-01-24",
          "2022-01-25",
          "2022-01-26",
          "2022-01-27",
          "2022-01-28",
          "2022-01-31",
          "2022-02-01",
          "2022-02-02",
          "2022-02-03",
          "2022-02-04",
          "2022-02-07",
          "2022-02-08",
          "2022-02-09",
          "2022-02-10",
          "2022-02-11",
          "2022-02-14",
          "2022-02-15",
          "2022-02-16",
          "2022-02-17",
          "2022-02-18",
          "2022-02-19",
          "2022-02-20",
          "2022-02-23",
          "2022-02-24",
          "2022-02-25",
          "2022-02-26",
          "2022-02-27",
          "2022-03-02",
          "2022-03-03",
          "2022-03-04",
          "2022-03-07",
          "2022-03-08",
          "2022-03-09",
          "2022-03-12",
          "2022-03-13",
          "2022-03-14",
          "2022-03-15",
          "2022-03-16",
          "2022-03-17",
          "2022-03-18",
          "2022-03-21",
          "2022-03-22",
          "2022-03-23",
          "2022-03-24",
          "2022-03-25",
          "2022-03-26",
          "2022-03-28",
          "2022-03-29",
          "2022-03-30",
          "2022-03-31"
         ],
         "yaxis": "y"
        },
        {
         "customdata": [
          [
           "SM",
           "07:31:00"
          ],
          [
           "SM",
           "07:49:00"
          ],
          [
           "SM",
           "07:39:00"
          ],
          [
           "SM",
           "12:11:00"
          ],
          [
           "SM",
           "12:05:00"
          ],
          [
           "SM",
           "12:17:00"
          ],
          [
           "SM",
           "12:42:00"
          ],
          [
           "SM",
           "07:03:00"
          ],
          [
           "SM",
           "07:07:00"
          ],
          [
           "SM",
           "15:37:00"
          ],
          [
           "SM",
           "07:49:00"
          ],
          [
           "SM",
           "12:34:00"
          ],
          [
           "SM",
           "12:05:00"
          ],
          [
           "SM",
           "14:53:00"
          ],
          [
           "SM",
           "12:33:00"
          ],
          [
           "SM",
           "12:05:00"
          ],
          [
           "SM",
           "12:34:00"
          ],
          [
           "SM",
           "08:00:00"
          ],
          [
           "SM",
           "06:56:00"
          ],
          [
           "SM",
           "15:01:00"
          ],
          [
           "SM",
           "12:18:00"
          ],
          [
           "SM",
           "12:27:00"
          ],
          [
           "SM",
           "13:22:00"
          ],
          [
           "SM",
           "14:50:00"
          ],
          [
           "SM",
           "12:18:00"
          ],
          [
           "SM",
           "12:09:00"
          ],
          [
           "SM",
           "12:31:00"
          ],
          [
           "SM",
           "12:27:00"
          ],
          [
           "SM",
           "06:55:00"
          ],
          [
           "SM",
           "07:05:00"
          ],
          [
           "SM",
           "08:10:00"
          ],
          [
           "SM",
           "12:10:00"
          ],
          [
           "SM",
           "12:19:00"
          ],
          [
           "SM",
           "14:47:00"
          ],
          [
           "SM",
           "12:17:00"
          ],
          [
           "SM",
           "12:40:00"
          ],
          [
           "SM",
           "12:13:00"
          ],
          [
           "SM",
           "12:37:00"
          ],
          [
           "SM",
           "12:47:00"
          ],
          [
           "SM",
           "15:05:00"
          ],
          [
           "SM",
           "12:25:00"
          ],
          [
           "SM",
           "12:19:00"
          ],
          [
           "SM",
           "12:56:00"
          ],
          [
           "SM",
           "14:52:00"
          ],
          [
           "SM",
           "07:48:00"
          ],
          [
           "SM",
           "07:58:00"
          ],
          [
           "SM",
           "12:05:00"
          ],
          [
           "SM",
           "12:23:00"
          ],
          [
           "SM",
           "08:10:00"
          ],
          [
           "SM",
           "14:50:00"
          ],
          [
           "SM",
           "12:09:00"
          ],
          [
           "SM",
           "12:29:00"
          ],
          [
           "SM",
           "12:38:00"
          ],
          [
           "SM",
           "14:38:00"
          ],
          [
           "SM",
           "14:39:00"
          ],
          [
           "SM",
           "14:49:00"
          ],
          [
           "SM",
           "12:28:00"
          ],
          [
           "SM",
           "12:18:00"
          ],
          [
           "SM",
           "12:42:00"
          ],
          [
           "SM",
           "07:44:00"
          ],
          [
           "SM",
           "08:04:00"
          ],
          [
           "SM",
           "12:25:00"
          ],
          [
           "SM",
           "12:11:00"
          ]
         ],
         "hovertemplate": "user_id=%{customdata[0]}<br>Time of Day (HH:MM)=%{x}<br>Event Date=%{y}<br>start_time=%{customdata[1]}<extra></extra>",
         "legendgroup": "SM",
         "marker": {
          "color": "#FFA15A",
          "symbol": "circle"
         },
         "mode": "markers",
         "name": "SM",
         "orientation": "h",
         "showlegend": true,
         "type": "scatter",
         "x": [
          27060,
          28140,
          27540,
          43860,
          43500,
          44220,
          45720,
          25380,
          25620,
          56220,
          28140,
          45240,
          43500,
          53580,
          45180,
          43500,
          45240,
          28800,
          24960,
          54060,
          44280,
          44820,
          48120,
          53400,
          44280,
          43740,
          45060,
          44820,
          24900,
          25500,
          29400,
          43800,
          44340,
          53220,
          44220,
          45600,
          43980,
          45420,
          46020,
          54300,
          44700,
          44340,
          46560,
          53520,
          28080,
          28680,
          43500,
          44580,
          29400,
          53400,
          43740,
          44940,
          45480,
          52680,
          52740,
          53340,
          44880,
          44280,
          45720,
          27840,
          29040,
          44700,
          43860
         ],
         "xaxis": "x",
         "y": [
          "2022-01-03",
          "2022-01-04",
          "2022-01-05",
          "2022-01-07",
          "2022-01-10",
          "2022-01-11",
          "2022-01-12",
          "2022-01-15",
          "2022-01-16",
          "2022-01-17",
          "2022-01-18",
          "2022-01-19",
          "2022-01-20",
          "2022-01-21",
          "2022-01-24",
          "2022-01-25",
          "2022-01-26",
          "2022-01-27",
          "2022-01-28",
          "2022-01-31",
          "2022-02-01",
          "2022-02-02",
          "2022-02-03",
          "2022-02-04",
          "2022-02-07",
          "2022-02-08",
          "2022-02-09",
          "2022-02-10",
          "2022-02-11",
          "2022-02-14",
          "2022-02-15",
          "2022-02-16",
          "2022-02-17",
          "2022-02-18",
          "2022-02-21",
          "2022-02-22",
          "2022-02-23",
          "2022-02-24",
          "2022-02-25",
          "2022-02-28",
          "2022-03-01",
          "2022-03-02",
          "2022-03-03",
          "2022-03-04",
          "2022-03-07",
          "2022-03-08",
          "2022-03-09",
          "2022-03-10",
          "2022-03-11",
          "2022-03-14",
          "2022-03-15",
          "2022-03-16",
          "2022-03-17",
          "2022-03-18",
          "2022-03-19",
          "2022-03-20",
          "2022-03-23",
          "2022-03-24",
          "2022-03-25",
          "2022-03-28",
          "2022-03-29",
          "2022-03-30",
          "2022-03-31"
         ],
         "yaxis": "y"
        },
        {
         "customdata": [
          [
           "ER",
           "07:38:00"
          ],
          [
           "ER",
           "06:50:00"
          ],
          [
           "ER",
           "07:55:00"
          ],
          [
           "ER",
           "07:50:00"
          ],
          [
           "ER",
           "12:08:00"
          ],
          [
           "ER",
           "12:11:00"
          ],
          [
           "ER",
           "07:02:00"
          ],
          [
           "ER",
           "12:11:00"
          ],
          [
           "ER",
           "12:45:00"
          ],
          [
           "ER",
           "14:18:00"
          ],
          [
           "ER",
           "13:59:00"
          ],
          [
           "ER",
           "14:41:00"
          ],
          [
           "ER",
           "14:44:00"
          ],
          [
           "ER",
           "14:39:00"
          ],
          [
           "ER",
           "14:46:00"
          ],
          [
           "ER",
           "14:51:00"
          ],
          [
           "ER",
           "14:18:00"
          ],
          [
           "ER",
           "14:31:00"
          ],
          [
           "ER",
           "07:06:00"
          ],
          [
           "ER",
           "06:55:00"
          ],
          [
           "ER",
           "07:46:00"
          ],
          [
           "ER",
           "12:34:00"
          ],
          [
           "ER",
           "12:28:00"
          ],
          [
           "ER",
           "12:09:00"
          ],
          [
           "ER",
           "13:15:00"
          ],
          [
           "ER",
           "12:59:00"
          ],
          [
           "ER",
           "14:40:00"
          ],
          [
           "ER",
           "14:51:00"
          ],
          [
           "ER",
           "14:42:00"
          ],
          [
           "ER",
           "14:49:00"
          ],
          [
           "ER",
           "14:37:00"
          ],
          [
           "ER",
           "12:23:00"
          ],
          [
           "ER",
           "12:18:00"
          ],
          [
           "ER",
           "07:39:00"
          ],
          [
           "ER",
           "14:48:00"
          ],
          [
           "ER",
           "14:39:00"
          ],
          [
           "ER",
           "14:45:00"
          ],
          [
           "ER",
           "14:39:00"
          ],
          [
           "ER",
           "14:42:00"
          ],
          [
           "ER",
           "14:35:00"
          ],
          [
           "ER",
           "14:50:00"
          ],
          [
           "ER",
           "12:15:00"
          ],
          [
           "ER",
           "12:27:00"
          ],
          [
           "ER",
           "12:40:00"
          ],
          [
           "ER",
           "12:58:00"
          ],
          [
           "ER",
           "12:06:00"
          ],
          [
           "ER",
           "09:07:00"
          ],
          [
           "ER",
           "07:39:00"
          ],
          [
           "ER",
           "06:47:00"
          ],
          [
           "ER",
           "08:27:00"
          ],
          [
           "ER",
           "12:07:00"
          ],
          [
           "ER",
           "12:04:00"
          ],
          [
           "ER",
           "12:32:00"
          ],
          [
           "ER",
           "12:12:00"
          ],
          [
           "ER",
           "12:07:00"
          ],
          [
           "ER",
           "14:40:00"
          ],
          [
           "ER",
           "14:34:00"
          ],
          [
           "ER",
           "14:54:00"
          ],
          [
           "ER",
           "09:38:00"
          ],
          [
           "ER",
           "06:48:00"
          ],
          [
           "ER",
           "06:50:00"
          ],
          [
           "ER",
           "07:51:00"
          ],
          [
           "ER",
           "07:40:00"
          ],
          [
           "ER",
           "07:47:00"
          ],
          [
           "ER",
           "07:37:00"
          ]
         ],
         "hovertemplate": "user_id=%{customdata[0]}<br>Time of Day (HH:MM)=%{x}<br>Event Date=%{y}<br>start_time=%{customdata[1]}<extra></extra>",
         "legendgroup": "ER",
         "marker": {
          "color": "#19d3f3",
          "symbol": "circle"
         },
         "mode": "markers",
         "name": "ER",
         "orientation": "h",
         "showlegend": true,
         "type": "scatter",
         "x": [
          27480,
          24600,
          28500,
          28200,
          43680,
          43860,
          25320,
          43860,
          45900,
          51480,
          50340,
          52860,
          53040,
          52740,
          53160,
          53460,
          51480,
          52260,
          25560,
          24900,
          27960,
          45240,
          44880,
          43740,
          47700,
          46740,
          52800,
          53460,
          52920,
          53340,
          52620,
          44580,
          44280,
          27540,
          53280,
          52740,
          53100,
          52740,
          52920,
          52500,
          53400,
          44100,
          44820,
          45600,
          46680,
          43560,
          32820,
          27540,
          24420,
          30420,
          43620,
          43440,
          45120,
          43920,
          43620,
          52800,
          52440,
          53640,
          34680,
          24480,
          24600,
          28260,
          27600,
          28020,
          27420
         ],
         "xaxis": "x",
         "y": [
          "2022-01-03",
          "2022-01-04",
          "2022-01-05",
          "2022-01-07",
          "2022-01-10",
          "2022-01-11",
          "2022-01-12",
          "2022-01-13",
          "2022-01-14",
          "2022-01-15",
          "2022-01-16",
          "2022-01-17",
          "2022-01-18",
          "2022-01-19",
          "2022-01-20",
          "2022-01-21",
          "2022-01-22",
          "2022-01-23",
          "2022-01-26",
          "2022-01-27",
          "2022-01-28",
          "2022-01-31",
          "2022-02-01",
          "2022-02-02",
          "2022-02-03",
          "2022-02-04",
          "2022-02-07",
          "2022-02-08",
          "2022-02-09",
          "2022-02-10",
          "2022-02-11",
          "2022-02-14",
          "2022-02-15",
          "2022-02-16",
          "2022-02-17",
          "2022-02-18",
          "2022-02-21",
          "2022-02-22",
          "2022-02-23",
          "2022-02-24",
          "2022-02-25",
          "2022-02-28",
          "2022-03-01",
          "2022-03-02",
          "2022-03-03",
          "2022-03-04",
          "2022-03-07",
          "2022-03-08",
          "2022-03-09",
          "2022-03-10",
          "2022-03-14",
          "2022-03-15",
          "2022-03-16",
          "2022-03-17",
          "2022-03-18",
          "2022-03-21",
          "2022-03-22",
          "2022-03-23",
          "2022-03-24",
          "2022-03-26",
          "2022-03-27",
          "2022-03-28",
          "2022-03-29",
          "2022-03-30",
          "2022-03-31"
         ],
         "yaxis": "y"
        },
        {
         "customdata": [
          [
           "CM",
           "12:05:00"
          ],
          [
           "CM",
           "12:17:00"
          ],
          [
           "CM",
           "12:15:00"
          ],
          [
           "CM",
           "12:03:00"
          ],
          [
           "CM",
           "14:34:00"
          ],
          [
           "CM",
           "14:40:00"
          ],
          [
           "CM",
           "15:10:00"
          ],
          [
           "CM",
           "15:59:00"
          ],
          [
           "CM",
           "15:12:00"
          ],
          [
           "CM",
           "07:52:00"
          ],
          [
           "CM",
           "07:44:00"
          ],
          [
           "CM",
           "08:18:00"
          ],
          [
           "CM",
           "07:05:00"
          ],
          [
           "CM",
           "07:55:00"
          ],
          [
           "CM",
           "13:11:00"
          ],
          [
           "CM",
           "12:06:00"
          ],
          [
           "CM",
           "12:11:00"
          ],
          [
           "CM",
           "12:21:00"
          ],
          [
           "CM",
           "13:06:00"
          ],
          [
           "CM",
           "14:41:00"
          ],
          [
           "CM",
           "14:57:00"
          ],
          [
           "CM",
           "15:04:00"
          ],
          [
           "CM",
           "14:54:00"
          ],
          [
           "CM",
           "14:41:00"
          ],
          [
           "CM",
           "07:01:00"
          ],
          [
           "CM",
           "08:07:00"
          ],
          [
           "CM",
           "07:07:00"
          ],
          [
           "CM",
           "08:10:00"
          ],
          [
           "CM",
           "12:18:00"
          ],
          [
           "CM",
           "14:50:00"
          ],
          [
           "CM",
           "15:02:00"
          ],
          [
           "CM",
           "14:55:00"
          ],
          [
           "CM",
           "14:46:00"
          ],
          [
           "CM",
           "07:37:00"
          ],
          [
           "CM",
           "07:50:00"
          ],
          [
           "CM",
           "07:58:00"
          ],
          [
           "CM",
           "08:00:00"
          ],
          [
           "CM",
           "08:06:00"
          ],
          [
           "CM",
           "06:59:00"
          ],
          [
           "CM",
           "12:16:00"
          ],
          [
           "CM",
           "07:01:00"
          ],
          [
           "CM",
           "07:47:00"
          ],
          [
           "CM",
           "08:13:00"
          ],
          [
           "CM",
           "07:58:00"
          ],
          [
           "CM",
           "14:51:00"
          ],
          [
           "CM",
           "14:34:00"
          ],
          [
           "CM",
           "14:38:00"
          ],
          [
           "CM",
           "15:07:00"
          ],
          [
           "CM",
           "14:59:00"
          ],
          [
           "CM",
           "12:12:00"
          ],
          [
           "CM",
           "12:13:00"
          ],
          [
           "CM",
           "12:17:00"
          ],
          [
           "CM",
           "12:41:00"
          ],
          [
           "CM",
           "12:17:00"
          ],
          [
           "CM",
           "07:02:00"
          ],
          [
           "CM",
           "07:54:00"
          ],
          [
           "CM",
           "08:10:00"
          ],
          [
           "CM",
           "08:11:00"
          ],
          [
           "CM",
           "07:03:00"
          ],
          [
           "CM",
           "14:33:00"
          ],
          [
           "CM",
           "14:48:00"
          ],
          [
           "CM",
           "14:54:00"
          ]
         ],
         "hovertemplate": "user_id=%{customdata[0]}<br>Time of Day (HH:MM)=%{x}<br>Event Date=%{y}<br>start_time=%{customdata[1]}<extra></extra>",
         "legendgroup": "CM",
         "marker": {
          "color": "#FF6692",
          "symbol": "circle"
         },
         "mode": "markers",
         "name": "CM",
         "orientation": "h",
         "showlegend": true,
         "type": "scatter",
         "x": [
          43500,
          44220,
          44100,
          43380,
          52440,
          52800,
          54600,
          57540,
          54720,
          28320,
          27840,
          29880,
          25500,
          28500,
          47460,
          43560,
          43860,
          44460,
          47160,
          52860,
          53820,
          54240,
          53640,
          52860,
          25260,
          29220,
          25620,
          29400,
          44280,
          53400,
          54120,
          53700,
          53160,
          27420,
          28200,
          28680,
          28800,
          29160,
          25140,
          44160,
          25260,
          28020,
          29580,
          28680,
          53460,
          52440,
          52680,
          54420,
          53940,
          43920,
          43980,
          44220,
          45660,
          44220,
          25320,
          28440,
          29400,
          29460,
          25380,
          52380,
          53280,
          53640
         ],
         "xaxis": "x",
         "y": [
          "2022-01-03",
          "2022-01-04",
          "2022-01-05",
          "2022-01-07",
          "2022-01-10",
          "2022-01-11",
          "2022-01-12",
          "2022-01-13",
          "2022-01-14",
          "2022-01-17",
          "2022-01-18",
          "2022-01-19",
          "2022-01-20",
          "2022-01-21",
          "2022-01-24",
          "2022-01-25",
          "2022-01-26",
          "2022-01-27",
          "2022-01-28",
          "2022-01-29",
          "2022-01-30",
          "2022-02-02",
          "2022-02-03",
          "2022-02-04",
          "2022-02-07",
          "2022-02-08",
          "2022-02-09",
          "2022-02-10",
          "2022-02-11",
          "2022-02-14",
          "2022-02-15",
          "2022-02-16",
          "2022-02-17",
          "2022-02-18",
          "2022-02-21",
          "2022-02-22",
          "2022-02-23",
          "2022-02-24",
          "2022-02-25",
          "2022-02-28",
          "2022-03-01",
          "2022-03-02",
          "2022-03-03",
          "2022-03-04",
          "2022-03-07",
          "2022-03-08",
          "2022-03-09",
          "2022-03-10",
          "2022-03-11",
          "2022-03-14",
          "2022-03-15",
          "2022-03-16",
          "2022-03-17",
          "2022-03-18",
          "2022-03-21",
          "2022-03-22",
          "2022-03-23",
          "2022-03-24",
          "2022-03-25",
          "2022-03-28",
          "2022-03-29",
          "2022-03-30"
         ],
         "yaxis": "y"
        },
        {
         "customdata": [
          [
           "PG",
           "12:05:00"
          ],
          [
           "PG",
           "12:17:00"
          ],
          [
           "PG",
           "12:16:00"
          ],
          [
           "PG",
           "12:02:00"
          ],
          [
           "PG",
           "14:34:00"
          ],
          [
           "PG",
           "14:29:00"
          ],
          [
           "PG",
           "07:53:00"
          ],
          [
           "PG",
           "07:00:00"
          ],
          [
           "PG",
           "07:44:00"
          ],
          [
           "PG",
           "12:17:00"
          ],
          [
           "PG",
           "12:21:00"
          ],
          [
           "PG",
           "13:04:00"
          ],
          [
           "PG",
           "12:07:00"
          ],
          [
           "PG",
           "12:48:00"
          ],
          [
           "PG",
           "14:56:00"
          ],
          [
           "PG",
           "14:55:00"
          ],
          [
           "PG",
           "14:40:00"
          ],
          [
           "PG",
           "14:51:00"
          ],
          [
           "PG",
           "07:02:00"
          ],
          [
           "PG",
           "07:59:00"
          ],
          [
           "PG",
           "07:02:00"
          ],
          [
           "PG",
           "12:23:00"
          ],
          [
           "PG",
           "12:15:00"
          ],
          [
           "PG",
           "08:11:00"
          ],
          [
           "PG",
           "12:09:00"
          ],
          [
           "PG",
           "12:08:00"
          ],
          [
           "PG",
           "14:59:00"
          ],
          [
           "PG",
           "14:41:00"
          ],
          [
           "PG",
           "14:52:00"
          ],
          [
           "PG",
           "14:48:00"
          ],
          [
           "PG",
           "14:52:00"
          ],
          [
           "PG",
           "14:53:00"
          ],
          [
           "PG",
           "07:59:00"
          ],
          [
           "PG",
           "06:48:00"
          ],
          [
           "PG",
           "07:01:00"
          ],
          [
           "PG",
           "08:12:00"
          ],
          [
           "PG",
           "11:27:00"
          ],
          [
           "PG",
           "14:40:00"
          ],
          [
           "PG",
           "14:59:00"
          ],
          [
           "PG",
           "12:10:00"
          ],
          [
           "PG",
           "13:00:00"
          ],
          [
           "PG",
           "12:27:00"
          ],
          [
           "PG",
           "12:03:00"
          ],
          [
           "PG",
           "14:47:00"
          ],
          [
           "PG",
           "14:59:00"
          ],
          [
           "PG",
           "14:56:00"
          ],
          [
           "PG",
           "14:56:00"
          ],
          [
           "PG",
           "07:56:00"
          ],
          [
           "PG",
           "08:02:00"
          ],
          [
           "PG",
           "14:47:00"
          ],
          [
           "PG",
           "06:55:00"
          ],
          [
           "PG",
           "07:06:00"
          ],
          [
           "PG",
           "12:22:00"
          ],
          [
           "PG",
           "12:37:00"
          ],
          [
           "PG",
           "12:15:00"
          ],
          [
           "PG",
           "12:05:00"
          ],
          [
           "PG",
           "12:33:00"
          ],
          [
           "PG",
           "14:57:00"
          ],
          [
           "PG",
           "15:05:00"
          ],
          [
           "PG",
           "14:38:00"
          ],
          [
           "PG",
           "14:58:00"
          ]
         ],
         "hovertemplate": "user_id=%{customdata[0]}<br>Time of Day (HH:MM)=%{x}<br>Event Date=%{y}<br>start_time=%{customdata[1]}<extra></extra>",
         "legendgroup": "PG",
         "marker": {
          "color": "#B6E880",
          "symbol": "circle"
         },
         "mode": "markers",
         "name": "PG",
         "orientation": "h",
         "showlegend": true,
         "type": "scatter",
         "x": [
          43500,
          44220,
          44160,
          43320,
          52440,
          52140,
          28380,
          25200,
          27840,
          44220,
          44460,
          47040,
          43620,
          46080,
          53760,
          53700,
          52800,
          53460,
          25320,
          28740,
          25320,
          44580,
          44100,
          29460,
          43740,
          43680,
          53940,
          52860,
          53520,
          53280,
          53520,
          53580,
          28740,
          24480,
          25260,
          29520,
          41220,
          52800,
          53940,
          43800,
          46800,
          44820,
          43380,
          53220,
          53940,
          53760,
          53760,
          28560,
          28920,
          53220,
          24900,
          25560,
          44520,
          45420,
          44100,
          43500,
          45180,
          53820,
          54300,
          52680,
          53880
         ],
         "xaxis": "x",
         "y": [
          "2022-01-03",
          "2022-01-04",
          "2022-01-05",
          "2022-01-07",
          "2022-01-08",
          "2022-01-09",
          "2022-01-10",
          "2022-01-13",
          "2022-01-14",
          "2022-01-17",
          "2022-01-18",
          "2022-01-19",
          "2022-01-20",
          "2022-01-21",
          "2022-01-24",
          "2022-01-25",
          "2022-01-26",
          "2022-01-27",
          "2022-01-28",
          "2022-01-31",
          "2022-02-01",
          "2022-02-02",
          "2022-02-03",
          "2022-02-04",
          "2022-02-07",
          "2022-02-08",
          "2022-02-09",
          "2022-02-10",
          "2022-02-11",
          "2022-02-14",
          "2022-02-15",
          "2022-02-18",
          "2022-02-21",
          "2022-02-22",
          "2022-02-23",
          "2022-02-24",
          "2022-02-25",
          "2022-02-28",
          "2022-03-01",
          "2022-03-02",
          "2022-03-03",
          "2022-03-04",
          "2022-03-07",
          "2022-03-08",
          "2022-03-09",
          "2022-03-10",
          "2022-03-11",
          "2022-03-14",
          "2022-03-15",
          "2022-03-16",
          "2022-03-17",
          "2022-03-18",
          "2022-03-21",
          "2022-03-22",
          "2022-03-23",
          "2022-03-24",
          "2022-03-25",
          "2022-03-28",
          "2022-03-29",
          "2022-03-30",
          "2022-03-31"
         ],
         "yaxis": "y"
        },
        {
         "customdata": [
          [
           "VS",
           "12:09:00"
          ],
          [
           "VS",
           "12:49:00"
          ],
          [
           "VS",
           "12:10:00"
          ],
          [
           "VS",
           "12:07:00"
          ],
          [
           "VS",
           "14:46:00"
          ],
          [
           "VS",
           "15:48:00"
          ],
          [
           "VS",
           "14:38:00"
          ],
          [
           "VS",
           "14:43:00"
          ],
          [
           "VS",
           "14:54:00"
          ],
          [
           "VS",
           "07:55:00"
          ],
          [
           "VS",
           "07:03:00"
          ],
          [
           "VS",
           "08:05:00"
          ],
          [
           "VS",
           "07:05:00"
          ],
          [
           "VS",
           "06:58:00"
          ],
          [
           "VS",
           "14:35:00"
          ],
          [
           "VS",
           "14:43:00"
          ],
          [
           "VS",
           "15:07:00"
          ],
          [
           "VS",
           "14:51:00"
          ],
          [
           "VS",
           "14:39:00"
          ],
          [
           "VS",
           "12:12:00"
          ],
          [
           "VS",
           "07:04:00"
          ],
          [
           "VS",
           "12:15:00"
          ],
          [
           "VS",
           "08:10:00"
          ],
          [
           "VS",
           "07:51:00"
          ],
          [
           "VS",
           "06:57:00"
          ],
          [
           "VS",
           "12:15:00"
          ],
          [
           "VS",
           "12:19:00"
          ],
          [
           "VS",
           "12:42:00"
          ],
          [
           "VS",
           "14:55:00"
          ],
          [
           "VS",
           "14:54:00"
          ],
          [
           "VS",
           "15:02:00"
          ],
          [
           "VS",
           "07:55:00"
          ],
          [
           "VS",
           "08:09:00"
          ],
          [
           "VS",
           "07:55:00"
          ],
          [
           "VS",
           "12:02:00"
          ],
          [
           "VS",
           "12:08:00"
          ],
          [
           "VS",
           "12:26:00"
          ],
          [
           "VS",
           "12:14:00"
          ],
          [
           "VS",
           "12:36:00"
          ],
          [
           "VS",
           "14:56:00"
          ],
          [
           "VS",
           "14:43:00"
          ],
          [
           "VS",
           "14:42:00"
          ],
          [
           "VS",
           "07:58:00"
          ],
          [
           "VS",
           "14:43:00"
          ],
          [
           "VS",
           "08:10:00"
          ],
          [
           "VS",
           "07:04:00"
          ],
          [
           "VS",
           "08:25:00"
          ],
          [
           "VS",
           "07:10:00"
          ],
          [
           "VS",
           "08:01:00"
          ],
          [
           "VS",
           "12:10:00"
          ],
          [
           "VS",
           "12:47:00"
          ],
          [
           "VS",
           "08:14:00"
          ],
          [
           "VS",
           "12:13:00"
          ]
         ],
         "hovertemplate": "user_id=%{customdata[0]}<br>Time of Day (HH:MM)=%{x}<br>Event Date=%{y}<br>start_time=%{customdata[1]}<extra></extra>",
         "legendgroup": "VS",
         "marker": {
          "color": "#FF97FF",
          "symbol": "circle"
         },
         "mode": "markers",
         "name": "VS",
         "orientation": "h",
         "showlegend": true,
         "type": "scatter",
         "x": [
          43740,
          46140,
          43800,
          43620,
          53160,
          56880,
          52680,
          52980,
          53640,
          28500,
          25380,
          29100,
          25500,
          25080,
          52500,
          52980,
          54420,
          53460,
          52740,
          43920,
          25440,
          44100,
          29400,
          28260,
          25020,
          44100,
          44340,
          45720,
          53700,
          53640,
          54120,
          28500,
          29340,
          28500,
          43320,
          43680,
          44760,
          44040,
          45360,
          53760,
          52980,
          52920,
          28680,
          52980,
          29400,
          25440,
          30300,
          25800,
          28860,
          43800,
          46020,
          29640,
          43980
         ],
         "xaxis": "x",
         "y": [
          "2022-01-03",
          "2022-01-04",
          "2022-01-05",
          "2022-01-07",
          "2022-01-10",
          "2022-01-11",
          "2022-01-12",
          "2022-01-13",
          "2022-01-14",
          "2022-01-17",
          "2022-01-18",
          "2022-01-19",
          "2022-01-20",
          "2022-01-21",
          "2022-01-24",
          "2022-01-25",
          "2022-01-26",
          "2022-01-27",
          "2022-01-28",
          "2022-01-31",
          "2022-02-03",
          "2022-02-04",
          "2022-02-07",
          "2022-02-08",
          "2022-02-09",
          "2022-02-10",
          "2022-02-11",
          "2022-02-14",
          "2022-02-22",
          "2022-02-24",
          "2022-02-25",
          "2022-02-28",
          "2022-03-03",
          "2022-03-04",
          "2022-03-07",
          "2022-03-08",
          "2022-03-09",
          "2022-03-10",
          "2022-03-11",
          "2022-03-14",
          "2022-03-15",
          "2022-03-16",
          "2022-03-17",
          "2022-03-18",
          "2022-03-21",
          "2022-03-22",
          "2022-03-23",
          "2022-03-24",
          "2022-03-25",
          "2022-03-28",
          "2022-03-29",
          "2022-03-30",
          "2022-03-31"
         ],
         "yaxis": "y"
        },
        {
         "customdata": [
          [
           "PN",
           "12:23:00"
          ],
          [
           "PN",
           "12:13:00"
          ],
          [
           "PN",
           "06:44:00"
          ],
          [
           "PN",
           "12:06:00"
          ],
          [
           "PN",
           "12:11:00"
          ],
          [
           "PN",
           "12:22:00"
          ],
          [
           "PN",
           "12:37:00"
          ],
          [
           "PN",
           "12:29:00"
          ],
          [
           "PN",
           "12:51:00"
          ],
          [
           "PN",
           "12:31:00"
          ],
          [
           "PN",
           "12:05:00"
          ],
          [
           "PN",
           "12:04:00"
          ],
          [
           "PN",
           "12:10:00"
          ],
          [
           "PN",
           "07:36:00"
          ],
          [
           "PN",
           "14:35:00"
          ],
          [
           "PN",
           "14:39:00"
          ],
          [
           "PN",
           "14:46:00"
          ],
          [
           "PN",
           "14:51:00"
          ],
          [
           "PN",
           "14:34:00"
          ],
          [
           "PN",
           "14:58:00"
          ],
          [
           "PN",
           "15:01:00"
          ],
          [
           "PN",
           "14:33:00"
          ],
          [
           "PN",
           "14:38:00"
          ],
          [
           "PN",
           "14:37:00"
          ],
          [
           "PN",
           "12:10:00"
          ],
          [
           "PN",
           "12:14:00"
          ],
          [
           "PN",
           "12:25:00"
          ],
          [
           "PN",
           "12:31:00"
          ],
          [
           "PN",
           "12:19:00"
          ],
          [
           "PN",
           "14:35:00"
          ],
          [
           "PN",
           "14:35:00"
          ],
          [
           "PN",
           "14:44:00"
          ],
          [
           "PN",
           "12:18:00"
          ],
          [
           "PN",
           "12:17:00"
          ],
          [
           "PN",
           "12:15:00"
          ],
          [
           "PN",
           "12:52:00"
          ],
          [
           "PN",
           "12:14:00"
          ],
          [
           "PN",
           "06:45:00"
          ],
          [
           "PN",
           "14:23:00"
          ],
          [
           "PN",
           "14:46:00"
          ],
          [
           "PN",
           "14:54:00"
          ],
          [
           "PN",
           "14:38:00"
          ],
          [
           "PN",
           "14:45:00"
          ],
          [
           "PN",
           "14:36:00"
          ],
          [
           "PN",
           "12:07:00"
          ],
          [
           "PN",
           "12:04:00"
          ],
          [
           "PN",
           "12:07:00"
          ],
          [
           "PN",
           "12:22:00"
          ],
          [
           "PN",
           "07:34:00"
          ],
          [
           "PN",
           "12:09:00"
          ],
          [
           "PN",
           "12:07:00"
          ],
          [
           "PN",
           "12:01:00"
          ],
          [
           "PN",
           "12:05:00"
          ],
          [
           "PN",
           "12:24:00"
          ],
          [
           "PN",
           "14:38:00"
          ],
          [
           "PN",
           "14:36:00"
          ],
          [
           "PN",
           "14:45:00"
          ],
          [
           "PN",
           "14:31:00"
          ],
          [
           "PN",
           "14:36:00"
          ],
          [
           "PN",
           "12:18:00"
          ],
          [
           "PN",
           "12:10:00"
          ],
          [
           "PN",
           "12:01:00"
          ],
          [
           "PN",
           "12:05:00"
          ]
         ],
         "hovertemplate": "user_id=%{customdata[0]}<br>Time of Day (HH:MM)=%{x}<br>Event Date=%{y}<br>start_time=%{customdata[1]}<extra></extra>",
         "legendgroup": "PN",
         "marker": {
          "color": "#FECB52",
          "symbol": "circle"
         },
         "mode": "markers",
         "name": "PN",
         "orientation": "h",
         "showlegend": true,
         "type": "scatter",
         "x": [
          44580,
          43980,
          24240,
          43560,
          43860,
          44520,
          45420,
          44940,
          46260,
          45060,
          43500,
          43440,
          43800,
          27360,
          52500,
          52740,
          53160,
          53460,
          52440,
          53880,
          54060,
          52380,
          52680,
          52620,
          43800,
          44040,
          44700,
          45060,
          44340,
          52500,
          52500,
          53040,
          44280,
          44220,
          44100,
          46320,
          44040,
          24300,
          51780,
          53160,
          53640,
          52680,
          53100,
          52560,
          43620,
          43440,
          43620,
          44520,
          27240,
          43740,
          43620,
          43260,
          43500,
          44640,
          52680,
          52560,
          53100,
          52260,
          52560,
          44280,
          43800,
          43260,
          43500
         ],
         "xaxis": "x",
         "y": [
          "2022-01-03",
          "2022-01-04",
          "2022-01-05",
          "2022-01-07",
          "2022-01-10",
          "2022-01-11",
          "2022-01-12",
          "2022-01-13",
          "2022-01-14",
          "2022-01-17",
          "2022-01-18",
          "2022-01-19",
          "2022-01-20",
          "2022-01-21",
          "2022-01-24",
          "2022-01-25",
          "2022-01-26",
          "2022-01-27",
          "2022-01-28",
          "2022-01-31",
          "2022-02-01",
          "2022-02-02",
          "2022-02-03",
          "2022-02-04",
          "2022-02-07",
          "2022-02-08",
          "2022-02-09",
          "2022-02-10",
          "2022-02-11",
          "2022-02-14",
          "2022-02-15",
          "2022-02-16",
          "2022-02-17",
          "2022-02-18",
          "2022-02-21",
          "2022-02-22",
          "2022-02-23",
          "2022-02-26",
          "2022-02-27",
          "2022-02-28",
          "2022-03-01",
          "2022-03-02",
          "2022-03-03",
          "2022-03-04",
          "2022-03-07",
          "2022-03-08",
          "2022-03-09",
          "2022-03-10",
          "2022-03-11",
          "2022-03-14",
          "2022-03-15",
          "2022-03-16",
          "2022-03-17",
          "2022-03-18",
          "2022-03-21",
          "2022-03-22",
          "2022-03-23",
          "2022-03-24",
          "2022-03-25",
          "2022-03-28",
          "2022-03-29",
          "2022-03-30",
          "2022-03-31"
         ],
         "yaxis": "y"
        },
        {
         "customdata": [
          [
           "MAA",
           "14:31:00"
          ],
          [
           "MAA",
           "07:10:00"
          ],
          [
           "MAA",
           "07:09:00"
          ],
          [
           "MAA",
           "07:13:00"
          ],
          [
           "MAA",
           "12:24:00"
          ],
          [
           "MAA",
           "15:11:00"
          ]
         ],
         "hovertemplate": "user_id=%{customdata[0]}<br>Time of Day (HH:MM)=%{x}<br>Event Date=%{y}<br>start_time=%{customdata[1]}<extra></extra>",
         "legendgroup": "MAA",
         "marker": {
          "color": "#636efa",
          "symbol": "circle"
         },
         "mode": "markers",
         "name": "MAA",
         "orientation": "h",
         "showlegend": true,
         "type": "scatter",
         "x": [
          52260,
          25800,
          25740,
          25980,
          44640,
          54660
         ],
         "xaxis": "x",
         "y": [
          "2022-01-03",
          "2022-01-06",
          "2022-01-08",
          "2022-01-09",
          "2022-01-10",
          "2022-03-31"
         ],
         "yaxis": "y"
        },
        {
         "customdata": [
          [
           "VA",
           "14:31:00"
          ],
          [
           "VA",
           "15:17:00"
          ],
          [
           "VA",
           "14:45:00"
          ],
          [
           "VA",
           "06:51:00"
          ],
          [
           "VA",
           "06:53:00"
          ],
          [
           "VA",
           "06:52:00"
          ],
          [
           "VA",
           "15:22:00"
          ],
          [
           "VA",
           "15:05:00"
          ],
          [
           "VA",
           "14:43:00"
          ],
          [
           "VA",
           "15:05:00"
          ],
          [
           "VA",
           "14:41:00"
          ],
          [
           "VA",
           "14:41:00"
          ],
          [
           "VA",
           "16:18:00"
          ],
          [
           "VA",
           "14:35:00"
          ],
          [
           "VA",
           "14:35:00"
          ],
          [
           "VA",
           "14:48:00"
          ],
          [
           "VA",
           "07:43:00"
          ],
          [
           "VA",
           "06:49:00"
          ],
          [
           "VA",
           "07:56:00"
          ],
          [
           "VA",
           "06:55:00"
          ],
          [
           "VA",
           "06:55:00"
          ],
          [
           "VA",
           "14:34:00"
          ],
          [
           "VA",
           "14:45:00"
          ],
          [
           "VA",
           "14:39:00"
          ],
          [
           "VA",
           "14:40:00"
          ],
          [
           "VA",
           "14:42:00"
          ],
          [
           "VA",
           "07:43:00"
          ],
          [
           "VA",
           "07:49:00"
          ],
          [
           "VA",
           "06:47:00"
          ],
          [
           "VA",
           "07:37:00"
          ]
         ],
         "hovertemplate": "user_id=%{customdata[0]}<br>Time of Day (HH:MM)=%{x}<br>Event Date=%{y}<br>start_time=%{customdata[1]}<extra></extra>",
         "legendgroup": "VA",
         "marker": {
          "color": "#EF553B",
          "symbol": "circle"
         },
         "mode": "markers",
         "name": "VA",
         "orientation": "h",
         "showlegend": true,
         "type": "scatter",
         "x": [
          52260,
          55020,
          53100,
          24660,
          24780,
          24720,
          55320,
          54300,
          52980,
          54300,
          52860,
          52860,
          58680,
          52500,
          52500,
          53280,
          27780,
          24540,
          28560,
          24900,
          24900,
          52440,
          53100,
          52740,
          52800,
          52920,
          27780,
          28140,
          24420,
          27420
         ],
         "xaxis": "x",
         "y": [
          "2022-01-03",
          "2022-01-04",
          "2022-01-05",
          "2022-01-19",
          "2022-01-22",
          "2022-01-23",
          "2022-01-31",
          "2022-02-01",
          "2022-02-02",
          "2022-02-03",
          "2022-02-04",
          "2022-02-14",
          "2022-02-15",
          "2022-02-16",
          "2022-02-17",
          "2022-02-18",
          "2022-02-28",
          "2022-03-01",
          "2022-03-02",
          "2022-03-05",
          "2022-03-06",
          "2022-03-14",
          "2022-03-15",
          "2022-03-16",
          "2022-03-17",
          "2022-03-18",
          "2022-03-28",
          "2022-03-29",
          "2022-03-30",
          "2022-03-31"
         ],
         "yaxis": "y"
        },
        {
         "customdata": [
          [
           "MR",
           "14:45:00"
          ],
          [
           "MR",
           "15:15:00"
          ],
          [
           "MR",
           "14:57:00"
          ],
          [
           "MR",
           "14:44:00"
          ],
          [
           "MR",
           "07:52:00"
          ],
          [
           "MR",
           "07:05:00"
          ],
          [
           "MR",
           "06:56:00"
          ],
          [
           "MR",
           "07:08:00"
          ],
          [
           "MR",
           "07:02:00"
          ],
          [
           "MR",
           "07:55:00"
          ],
          [
           "MR",
           "07:06:00"
          ],
          [
           "MR",
           "06:54:00"
          ],
          [
           "MR",
           "07:52:00"
          ],
          [
           "MR",
           "07:59:00"
          ],
          [
           "MR",
           "07:12:00"
          ],
          [
           "MR",
           "07:58:00"
          ],
          [
           "MR",
           "07:02:00"
          ],
          [
           "MR",
           "08:06:00"
          ],
          [
           "MR",
           "07:01:00"
          ],
          [
           "MR",
           "07:59:00"
          ],
          [
           "MR",
           "06:54:00"
          ],
          [
           "MR",
           "08:18:00"
          ],
          [
           "MR",
           "14:32:00"
          ],
          [
           "MR",
           "15:14:00"
          ],
          [
           "MR",
           "08:05:00"
          ],
          [
           "MR",
           "08:00:00"
          ],
          [
           "MR",
           "07:00:00"
          ],
          [
           "MR",
           "07:50:00"
          ],
          [
           "MR",
           "07:08:00"
          ],
          [
           "MR",
           "07:54:00"
          ],
          [
           "MR",
           "06:54:00"
          ],
          [
           "MR",
           "07:59:00"
          ],
          [
           "MR",
           "07:56:00"
          ],
          [
           "MR",
           "09:21:00"
          ],
          [
           "MR",
           "07:57:00"
          ],
          [
           "MR",
           "06:53:00"
          ],
          [
           "MR",
           "07:06:00"
          ],
          [
           "MR",
           "07:59:00"
          ],
          [
           "MR",
           "06:59:00"
          ],
          [
           "MR",
           "08:08:00"
          ],
          [
           "MR",
           "07:05:00"
          ],
          [
           "MR",
           "08:02:00"
          ],
          [
           "MR",
           "07:56:00"
          ],
          [
           "MR",
           "07:02:00"
          ],
          [
           "MR",
           "07:51:00"
          ],
          [
           "MR",
           "07:39:00"
          ],
          [
           "MR",
           "08:20:00"
          ],
          [
           "MR",
           "08:00:00"
          ],
          [
           "MR",
           "07:43:00"
          ],
          [
           "MR",
           "08:12:00"
          ],
          [
           "MR",
           "07:56:00"
          ],
          [
           "MR",
           "07:58:00"
          ],
          [
           "MR",
           "07:02:00"
          ],
          [
           "MR",
           "07:47:00"
          ],
          [
           "MR",
           "07:42:00"
          ],
          [
           "MR",
           "07:52:00"
          ]
         ],
         "hovertemplate": "user_id=%{customdata[0]}<br>Time of Day (HH:MM)=%{x}<br>Event Date=%{y}<br>start_time=%{customdata[1]}<extra></extra>",
         "legendgroup": "MR",
         "marker": {
          "color": "#00cc96",
          "symbol": "circle"
         },
         "mode": "markers",
         "name": "MR",
         "orientation": "h",
         "showlegend": true,
         "type": "scatter",
         "x": [
          53100,
          54900,
          53820,
          53040,
          28320,
          25500,
          24960,
          25680,
          25320,
          28500,
          25560,
          24840,
          28320,
          28740,
          25920,
          28680,
          25320,
          29160,
          25260,
          28740,
          24840,
          29880,
          52320,
          54840,
          29100,
          28800,
          25200,
          28200,
          25680,
          28440,
          24840,
          28740,
          28560,
          33660,
          28620,
          24780,
          25560,
          28740,
          25140,
          29280,
          25500,
          28920,
          28560,
          25320,
          28260,
          27540,
          30000,
          28800,
          27780,
          29520,
          28560,
          28680,
          25320,
          28020,
          27720,
          28320
         ],
         "xaxis": "x",
         "y": [
          "2022-01-03",
          "2022-01-04",
          "2022-01-05",
          "2022-01-07",
          "2022-01-10",
          "2022-01-11",
          "2022-01-12",
          "2022-01-13",
          "2022-01-25",
          "2022-01-26",
          "2022-01-29",
          "2022-01-30",
          "2022-01-31",
          "2022-02-01",
          "2022-02-02",
          "2022-02-03",
          "2022-02-04",
          "2022-02-07",
          "2022-02-08",
          "2022-02-09",
          "2022-02-10",
          "2022-02-11",
          "2022-02-12",
          "2022-02-13",
          "2022-02-16",
          "2022-02-17",
          "2022-02-18",
          "2022-02-21",
          "2022-02-22",
          "2022-02-23",
          "2022-02-24",
          "2022-02-25",
          "2022-02-28",
          "2022-03-01",
          "2022-03-02",
          "2022-03-03",
          "2022-03-04",
          "2022-03-07",
          "2022-03-08",
          "2022-03-09",
          "2022-03-10",
          "2022-03-11",
          "2022-03-14",
          "2022-03-15",
          "2022-03-16",
          "2022-03-17",
          "2022-03-18",
          "2022-03-21",
          "2022-03-22",
          "2022-03-23",
          "2022-03-24",
          "2022-03-25",
          "2022-03-28",
          "2022-03-29",
          "2022-03-30",
          "2022-03-31"
         ],
         "yaxis": "y"
        },
        {
         "customdata": [
          [
           "AV",
           "14:49:00"
          ],
          [
           "AV",
           "14:47:00"
          ],
          [
           "AV",
           "14:55:00"
          ],
          [
           "AV",
           "14:47:00"
          ],
          [
           "AV",
           "13:21:00"
          ],
          [
           "AV",
           "12:15:00"
          ],
          [
           "AV",
           "12:53:00"
          ],
          [
           "AV",
           "12:04:00"
          ],
          [
           "AV",
           "12:50:00"
          ],
          [
           "AV",
           "07:03:00"
          ],
          [
           "AV",
           "08:09:00"
          ],
          [
           "AV",
           "06:51:00"
          ],
          [
           "AV",
           "12:10:00"
          ],
          [
           "AV",
           "12:04:00"
          ],
          [
           "AV",
           "12:57:00"
          ],
          [
           "AV",
           "12:22:00"
          ],
          [
           "AV",
           "12:12:00"
          ],
          [
           "AV",
           "12:12:00"
          ],
          [
           "AV",
           "13:02:00"
          ],
          [
           "AV",
           "14:59:00"
          ],
          [
           "AV",
           "14:58:00"
          ],
          [
           "AV",
           "14:43:00"
          ],
          [
           "AV",
           "14:38:00"
          ],
          [
           "AV",
           "14:43:00"
          ],
          [
           "AV",
           "07:51:00"
          ],
          [
           "AV",
           "06:59:00"
          ],
          [
           "AV",
           "08:03:00"
          ],
          [
           "AV",
           "06:54:00"
          ],
          [
           "AV",
           "08:10:00"
          ],
          [
           "AV",
           "14:42:00"
          ],
          [
           "AV",
           "14:52:00"
          ],
          [
           "AV",
           "14:56:00"
          ],
          [
           "AV",
           "14:56:00"
          ],
          [
           "AV",
           "14:38:00"
          ],
          [
           "AV",
           "07:52:00"
          ],
          [
           "AV",
           "07:55:00"
          ],
          [
           "AV",
           "07:08:00"
          ],
          [
           "AV",
           "08:05:00"
          ],
          [
           "AV",
           "07:01:00"
          ],
          [
           "AV",
           "14:46:00"
          ],
          [
           "AV",
           "14:48:00"
          ],
          [
           "AV",
           "14:48:00"
          ],
          [
           "AV",
           "14:50:00"
          ],
          [
           "AV",
           "14:56:00"
          ],
          [
           "AV",
           "12:31:00"
          ],
          [
           "AV",
           "12:02:00"
          ],
          [
           "AV",
           "12:08:00"
          ],
          [
           "AV",
           "12:38:00"
          ],
          [
           "AV",
           "12:06:00"
          ],
          [
           "AV",
           "12:16:00"
          ],
          [
           "AV",
           "12:27:00"
          ],
          [
           "AV",
           "12:12:00"
          ],
          [
           "AV",
           "09:38:00"
          ],
          [
           "AV",
           "14:50:00"
          ],
          [
           "AV",
           "14:47:00"
          ],
          [
           "AV",
           "14:33:00"
          ]
         ],
         "hovertemplate": "user_id=%{customdata[0]}<br>Time of Day (HH:MM)=%{x}<br>Event Date=%{y}<br>start_time=%{customdata[1]}<extra></extra>",
         "legendgroup": "AV",
         "marker": {
          "color": "#ab63fa",
          "symbol": "circle"
         },
         "mode": "markers",
         "name": "AV",
         "orientation": "h",
         "showlegend": true,
         "type": "scatter",
         "x": [
          53340,
          53220,
          53700,
          53220,
          48060,
          44100,
          46380,
          43440,
          46200,
          25380,
          29340,
          24660,
          43800,
          43440,
          46620,
          44520,
          43920,
          43920,
          46920,
          53940,
          53880,
          52980,
          52680,
          52980,
          28260,
          25140,
          28980,
          24840,
          29400,
          52920,
          53520,
          53760,
          53760,
          52680,
          28320,
          28500,
          25680,
          29100,
          25260,
          53160,
          53280,
          53280,
          53400,
          53760,
          45060,
          43320,
          43680,
          45480,
          43560,
          44160,
          44820,
          43920,
          34680,
          53400,
          53220,
          52380
         ],
         "xaxis": "x",
         "y": [
          "2022-01-03",
          "2022-01-04",
          "2022-01-05",
          "2022-01-07",
          "2022-01-10",
          "2022-01-11",
          "2022-01-12",
          "2022-01-13",
          "2022-01-14",
          "2022-01-17",
          "2022-01-18",
          "2022-01-19",
          "2022-01-20",
          "2022-01-21",
          "2022-01-24",
          "2022-01-25",
          "2022-01-26",
          "2022-01-27",
          "2022-01-28",
          "2022-01-31",
          "2022-02-01",
          "2022-02-02",
          "2022-02-03",
          "2022-02-04",
          "2022-02-07",
          "2022-02-08",
          "2022-02-09",
          "2022-02-10",
          "2022-02-11",
          "2022-02-21",
          "2022-02-22",
          "2022-02-23",
          "2022-02-24",
          "2022-02-25",
          "2022-02-28",
          "2022-03-01",
          "2022-03-02",
          "2022-03-03",
          "2022-03-04",
          "2022-03-07",
          "2022-03-08",
          "2022-03-09",
          "2022-03-10",
          "2022-03-11",
          "2022-03-14",
          "2022-03-15",
          "2022-03-16",
          "2022-03-17",
          "2022-03-18",
          "2022-03-21",
          "2022-03-22",
          "2022-03-23",
          "2022-03-24",
          "2022-03-29",
          "2022-03-30",
          "2022-03-31"
         ],
         "yaxis": "y"
        },
        {
         "customdata": [
          [
           "ML",
           "10:18:00"
          ],
          [
           "ML",
           "10:10:00"
          ],
          [
           "ML",
           "10:07:00"
          ],
          [
           "ML",
           "10:11:00"
          ],
          [
           "ML",
           "10:56:00"
          ],
          [
           "ML",
           "07:46:00"
          ],
          [
           "ML",
           "10:21:00"
          ],
          [
           "ML",
           "10:29:00"
          ],
          [
           "ML",
           "10:19:00"
          ],
          [
           "ML",
           "10:33:00"
          ],
          [
           "ML",
           "13:14:00"
          ],
          [
           "ML",
           "10:26:00"
          ],
          [
           "ML",
           "10:33:00"
          ],
          [
           "ML",
           "10:10:00"
          ],
          [
           "ML",
           "10:16:00"
          ],
          [
           "ML",
           "10:29:00"
          ],
          [
           "ML",
           "07:03:00"
          ],
          [
           "ML",
           "06:59:00"
          ],
          [
           "ML",
           "12:13:00"
          ],
          [
           "ML",
           "10:19:00"
          ],
          [
           "ML",
           "13:17:00"
          ],
          [
           "ML",
           "07:54:00"
          ],
          [
           "ML",
           "07:49:00"
          ],
          [
           "ML",
           "07:03:00"
          ],
          [
           "ML",
           "08:35:00"
          ],
          [
           "ML",
           "10:55:00"
          ],
          [
           "ML",
           "10:35:00"
          ],
          [
           "ML",
           "10:11:00"
          ],
          [
           "ML",
           "10:13:00"
          ],
          [
           "ML",
           "10:09:00"
          ],
          [
           "ML",
           "10:40:00"
          ]
         ],
         "hovertemplate": "user_id=%{customdata[0]}<br>Time of Day (HH:MM)=%{x}<br>Event Date=%{y}<br>start_time=%{customdata[1]}<extra></extra>",
         "legendgroup": "ML",
         "marker": {
          "color": "#FFA15A",
          "symbol": "circle"
         },
         "mode": "markers",
         "name": "ML",
         "orientation": "h",
         "showlegend": true,
         "type": "scatter",
         "x": [
          37080,
          36600,
          36420,
          36660,
          39360,
          27960,
          37260,
          37740,
          37140,
          37980,
          47640,
          37560,
          37980,
          36600,
          36960,
          37740,
          25380,
          25140,
          43980,
          37140,
          47820,
          28440,
          28140,
          25380,
          30900,
          39300,
          38100,
          36660,
          36780,
          36540,
          38400
         ],
         "xaxis": "x",
         "y": [
          "2022-01-10",
          "2022-01-11",
          "2022-01-12",
          "2022-01-13",
          "2022-01-14",
          "2022-01-17",
          "2022-01-24",
          "2022-01-25",
          "2022-01-26",
          "2022-01-27",
          "2022-01-28",
          "2022-02-07",
          "2022-02-08",
          "2022-02-09",
          "2022-02-10",
          "2022-02-11",
          "2022-02-19",
          "2022-02-20",
          "2022-02-23",
          "2022-02-24",
          "2022-02-25",
          "2022-03-07",
          "2022-03-08",
          "2022-03-09",
          "2022-03-10",
          "2022-03-11",
          "2022-03-21",
          "2022-03-22",
          "2022-03-23",
          "2022-03-24",
          "2022-03-25"
         ],
         "yaxis": "y"
        },
        {
         "customdata": [
          [
           "MMF",
           "14:45:00"
          ],
          [
           "MMF",
           "15:06:00"
          ],
          [
           "MMF",
           "14:59:00"
          ],
          [
           "MMF",
           "15:43:00"
          ],
          [
           "MMF",
           "07:06:00"
          ],
          [
           "MMF",
           "12:34:00"
          ],
          [
           "MMF",
           "12:33:00"
          ],
          [
           "MMF",
           "07:59:00"
          ],
          [
           "MMF",
           "08:35:00"
          ],
          [
           "MMF",
           "12:35:00"
          ],
          [
           "MMF",
           "07:55:00"
          ],
          [
           "MMF",
           "08:39:00"
          ],
          [
           "MMF",
           "08:38:00"
          ],
          [
           "MMF",
           "08:03:00"
          ],
          [
           "MMF",
           "07:45:00"
          ],
          [
           "MMF",
           "12:18:00"
          ],
          [
           "MMF",
           "12:22:00"
          ],
          [
           "MMF",
           "08:13:00"
          ],
          [
           "MMF",
           "12:21:00"
          ],
          [
           "MMF",
           "12:04:00"
          ],
          [
           "MMF",
           "15:06:00"
          ],
          [
           "MMF",
           "14:48:00"
          ],
          [
           "MMF",
           "15:02:00"
          ],
          [
           "MMF",
           "14:54:00"
          ],
          [
           "MMF",
           "14:48:00"
          ],
          [
           "MMF",
           "07:54:00"
          ],
          [
           "MMF",
           "08:43:00"
          ],
          [
           "MMF",
           "12:12:00"
          ],
          [
           "MMF",
           "07:16:00"
          ],
          [
           "MMF",
           "07:59:00"
          ],
          [
           "MMF",
           "15:07:00"
          ],
          [
           "MMF",
           "15:44:00"
          ],
          [
           "MMF",
           "16:05:00"
          ],
          [
           "MMF",
           "14:57:00"
          ],
          [
           "MMF",
           "15:03:00"
          ],
          [
           "MMF",
           "12:11:00"
          ],
          [
           "MMF",
           "12:09:00"
          ],
          [
           "MMF",
           "12:50:00"
          ],
          [
           "MMF",
           "12:57:00"
          ],
          [
           "MMF",
           "12:26:00"
          ],
          [
           "MMF",
           "14:33:00"
          ],
          [
           "MMF",
           "14:55:00"
          ],
          [
           "MMF",
           "08:02:00"
          ],
          [
           "MMF",
           "08:49:00"
          ],
          [
           "MMF",
           "12:30:00"
          ],
          [
           "MMF",
           "12:04:00"
          ],
          [
           "MMF",
           "14:48:00"
          ],
          [
           "MMF",
           "14:48:00"
          ],
          [
           "MMF",
           "14:40:00"
          ],
          [
           "MMF",
           "12:21:00"
          ],
          [
           "MMF",
           "08:14:00"
          ],
          [
           "MMF",
           "08:14:00"
          ],
          [
           "MMF",
           "07:03:00"
          ],
          [
           "MMF",
           "14:48:00"
          ],
          [
           "MMF",
           "14:50:00"
          ],
          [
           "MMF",
           "14:53:00"
          ],
          [
           "MMF",
           "15:11:00"
          ],
          [
           "MMF",
           "14:54:00"
          ],
          [
           "MMF",
           "15:13:00"
          ]
         ],
         "hovertemplate": "user_id=%{customdata[0]}<br>Time of Day (HH:MM)=%{x}<br>Event Date=%{y}<br>start_time=%{customdata[1]}<extra></extra>",
         "legendgroup": "MMF",
         "marker": {
          "color": "#19d3f3",
          "symbol": "circle"
         },
         "mode": "markers",
         "name": "MMF",
         "orientation": "h",
         "showlegend": true,
         "type": "scatter",
         "x": [
          53100,
          54360,
          53940,
          56580,
          25560,
          45240,
          45180,
          28740,
          30900,
          45300,
          28500,
          31140,
          31080,
          28980,
          27900,
          44280,
          44520,
          29580,
          44460,
          43440,
          54360,
          53280,
          54120,
          53640,
          53280,
          28440,
          31380,
          43920,
          26160,
          28740,
          54420,
          56640,
          57900,
          53820,
          54180,
          43860,
          43740,
          46200,
          46620,
          44760,
          52380,
          53700,
          28920,
          31740,
          45000,
          43440,
          53280,
          53280,
          52800,
          44460,
          29640,
          29640,
          25380,
          53280,
          53400,
          53580,
          54660,
          53640,
          54780
         ],
         "xaxis": "x",
         "y": [
          "2022-01-10",
          "2022-01-11",
          "2022-01-12",
          "2022-01-13",
          "2022-01-14",
          "2022-01-17",
          "2022-01-18",
          "2022-01-19",
          "2022-01-20",
          "2022-01-21",
          "2022-01-24",
          "2022-01-25",
          "2022-01-26",
          "2022-01-27",
          "2022-01-28",
          "2022-01-31",
          "2022-02-01",
          "2022-02-02",
          "2022-02-03",
          "2022-02-04",
          "2022-02-07",
          "2022-02-08",
          "2022-02-09",
          "2022-02-10",
          "2022-02-11",
          "2022-02-14",
          "2022-02-15",
          "2022-02-16",
          "2022-02-17",
          "2022-02-18",
          "2022-02-21",
          "2022-02-22",
          "2022-02-23",
          "2022-02-24",
          "2022-02-25",
          "2022-02-28",
          "2022-03-01",
          "2022-03-02",
          "2022-03-03",
          "2022-03-04",
          "2022-03-05",
          "2022-03-06",
          "2022-03-09",
          "2022-03-10",
          "2022-03-11",
          "2022-03-14",
          "2022-03-15",
          "2022-03-16",
          "2022-03-17",
          "2022-03-18",
          "2022-03-21",
          "2022-03-22",
          "2022-03-23",
          "2022-03-24",
          "2022-03-25",
          "2022-03-28",
          "2022-03-29",
          "2022-03-30",
          "2022-03-31"
         ],
         "yaxis": "y"
        },
        {
         "customdata": [
          [
           "CLE",
           "14:50:00"
          ],
          [
           "CLE",
           "14:34:00"
          ],
          [
           "CLE",
           "15:09:00"
          ],
          [
           "CLE",
           "14:44:00"
          ],
          [
           "CLE",
           "15:00:00"
          ],
          [
           "CLE",
           "12:11:00"
          ],
          [
           "CLE",
           "12:12:00"
          ],
          [
           "CLE",
           "12:11:00"
          ],
          [
           "CLE",
           "07:59:00"
          ],
          [
           "CLE",
           "07:33:00"
          ],
          [
           "CLE",
           "08:25:00"
          ],
          [
           "CLE",
           "12:10:00"
          ],
          [
           "CLE",
           "12:55:00"
          ],
          [
           "CLE",
           "12:09:00"
          ],
          [
           "CLE",
           "12:19:00"
          ],
          [
           "CLE",
           "12:12:00"
          ],
          [
           "CLE",
           "13:25:00"
          ],
          [
           "CLE",
           "12:38:00"
          ],
          [
           "CLE",
           "14:42:00"
          ],
          [
           "CLE",
           "14:39:00"
          ],
          [
           "CLE",
           "14:39:00"
          ],
          [
           "CLE",
           "14:40:00"
          ],
          [
           "CLE",
           "14:35:00"
          ],
          [
           "CLE",
           "09:32:00"
          ],
          [
           "CLE",
           "12:11:00"
          ],
          [
           "CLE",
           "07:55:00"
          ],
          [
           "CLE",
           "07:11:00"
          ],
          [
           "CLE",
           "08:06:00"
          ],
          [
           "CLE",
           "12:17:00"
          ],
          [
           "CLE",
           "12:19:00"
          ],
          [
           "CLE",
           "12:09:00"
          ],
          [
           "CLE",
           "12:31:00"
          ]
         ],
         "hovertemplate": "user_id=%{customdata[0]}<br>Time of Day (HH:MM)=%{x}<br>Event Date=%{y}<br>start_time=%{customdata[1]}<extra></extra>",
         "legendgroup": "CLE",
         "marker": {
          "color": "#FF6692",
          "symbol": "circle"
         },
         "mode": "markers",
         "name": "CLE",
         "orientation": "h",
         "showlegend": true,
         "type": "scatter",
         "x": [
          53400,
          52440,
          54540,
          53040,
          54000,
          43860,
          43920,
          43860,
          28740,
          27180,
          30300,
          43800,
          46500,
          43740,
          44340,
          43920,
          48300,
          45480,
          52920,
          52740,
          52740,
          52800,
          52500,
          34320,
          43860,
          28500,
          25860,
          29160,
          44220,
          44340,
          43740,
          45060
         ],
         "xaxis": "x",
         "y": [
          "2022-01-10",
          "2022-01-11",
          "2022-01-12",
          "2022-01-13",
          "2022-01-14",
          "2022-01-19",
          "2022-01-20",
          "2022-01-21",
          "2022-01-24",
          "2022-01-25",
          "2022-01-26",
          "2022-01-27",
          "2022-01-28",
          "2022-01-31",
          "2022-02-01",
          "2022-02-02",
          "2022-02-03",
          "2022-02-04",
          "2022-02-07",
          "2022-02-08",
          "2022-02-09",
          "2022-02-10",
          "2022-02-11",
          "2022-02-14",
          "2022-02-15",
          "2022-02-16",
          "2022-02-17",
          "2022-02-18",
          "2022-02-21",
          "2022-02-22",
          "2022-02-23",
          "2022-02-24"
         ],
         "yaxis": "y"
        },
        {
         "customdata": [
          [
           "DF",
           "10:49:00"
          ],
          [
           "DF",
           "11:19:00"
          ],
          [
           "DF",
           "10:19:00"
          ],
          [
           "DF",
           "20:52:00"
          ]
         ],
         "hovertemplate": "user_id=%{customdata[0]}<br>Time of Day (HH:MM)=%{x}<br>Event Date=%{y}<br>start_time=%{customdata[1]}<extra></extra>",
         "legendgroup": "DF",
         "marker": {
          "color": "#B6E880",
          "symbol": "circle"
         },
         "mode": "markers",
         "name": "DF",
         "orientation": "h",
         "showlegend": true,
         "type": "scatter",
         "x": [
          38940,
          40740,
          37140,
          75120
         ],
         "xaxis": "x",
         "y": [
          "2022-01-13",
          "2022-01-14",
          "2022-02-15",
          "2022-03-15"
         ],
         "yaxis": "y"
        },
        {
         "customdata": [
          [
           "MGP",
           "09:52:00"
          ],
          [
           "MGP",
           "12:21:00"
          ],
          [
           "MGP",
           "11:40:00"
          ]
         ],
         "hovertemplate": "user_id=%{customdata[0]}<br>Time of Day (HH:MM)=%{x}<br>Event Date=%{y}<br>start_time=%{customdata[1]}<extra></extra>",
         "legendgroup": "MGP",
         "marker": {
          "color": "#FF97FF",
          "symbol": "circle"
         },
         "mode": "markers",
         "name": "MGP",
         "orientation": "h",
         "showlegend": true,
         "type": "scatter",
         "x": [
          35520,
          44460,
          42000
         ],
         "xaxis": "x",
         "y": [
          "2022-02-02",
          "2022-03-11",
          "2022-03-28"
         ],
         "yaxis": "y"
        },
        {
         "customdata": [
          [
           "SP",
           "12:24:00"
          ],
          [
           "SP",
           "12:44:00"
          ],
          [
           "SP",
           "12:57:00"
          ],
          [
           "SP",
           "12:26:00"
          ],
          [
           "SP",
           "14:45:00"
          ],
          [
           "SP",
           "14:42:00"
          ],
          [
           "SP",
           "14:45:00"
          ],
          [
           "SP",
           "14:51:00"
          ],
          [
           "SP",
           "14:54:00"
          ],
          [
           "SP",
           "09:23:00"
          ],
          [
           "SP",
           "07:44:00"
          ],
          [
           "SP",
           "08:05:00"
          ],
          [
           "SP",
           "07:13:00"
          ],
          [
           "SP",
           "06:55:00"
          ],
          [
           "SP",
           "14:41:00"
          ],
          [
           "SP",
           "14:36:00"
          ],
          [
           "SP",
           "14:37:00"
          ],
          [
           "SP",
           "14:46:00"
          ],
          [
           "SP",
           "14:34:00"
          ],
          [
           "SP",
           "12:03:00"
          ],
          [
           "SP",
           "12:01:00"
          ],
          [
           "SP",
           "12:06:00"
          ],
          [
           "SP",
           "12:03:00"
          ]
         ],
         "hovertemplate": "user_id=%{customdata[0]}<br>Time of Day (HH:MM)=%{x}<br>Event Date=%{y}<br>start_time=%{customdata[1]}<extra></extra>",
         "legendgroup": "SP",
         "marker": {
          "color": "#FECB52",
          "symbol": "circle"
         },
         "mode": "markers",
         "name": "SP",
         "orientation": "h",
         "showlegend": true,
         "type": "scatter",
         "x": [
          44640,
          45840,
          46620,
          44760,
          53100,
          52920,
          53100,
          53460,
          53640,
          33780,
          27840,
          29100,
          25980,
          24900,
          52860,
          52560,
          52620,
          53160,
          52440,
          43380,
          43260,
          43560,
          43380
         ],
         "xaxis": "x",
         "y": [
          "2022-03-01",
          "2022-03-02",
          "2022-03-03",
          "2022-03-04",
          "2022-03-07",
          "2022-03-08",
          "2022-03-09",
          "2022-03-10",
          "2022-03-11",
          "2022-03-14",
          "2022-03-15",
          "2022-03-16",
          "2022-03-19",
          "2022-03-20",
          "2022-03-21",
          "2022-03-22",
          "2022-03-23",
          "2022-03-24",
          "2022-03-25",
          "2022-03-28",
          "2022-03-29",
          "2022-03-30",
          "2022-03-31"
         ],
         "yaxis": "y"
        }
       ],
       "layout": {
        "legend": {
         "title": {
          "text": "user_id"
         },
         "tracegroupgap": 0
        },
        "showlegend": false,
        "template": {
         "data": {
          "bar": [
           {
            "error_x": {
             "color": "#2a3f5f"
            },
            "error_y": {
             "color": "#2a3f5f"
            },
            "marker": {
             "line": {
              "color": "#E5ECF6",
              "width": 0.5
             },
             "pattern": {
              "fillmode": "overlay",
              "size": 10,
              "solidity": 0.2
             }
            },
            "type": "bar"
           }
          ],
          "barpolar": [
           {
            "marker": {
             "line": {
              "color": "#E5ECF6",
              "width": 0.5
             },
             "pattern": {
              "fillmode": "overlay",
              "size": 10,
              "solidity": 0.2
             }
            },
            "type": "barpolar"
           }
          ],
          "carpet": [
           {
            "aaxis": {
             "endlinecolor": "#2a3f5f",
             "gridcolor": "white",
             "linecolor": "white",
             "minorgridcolor": "white",
             "startlinecolor": "#2a3f5f"
            },
            "baxis": {
             "endlinecolor": "#2a3f5f",
             "gridcolor": "white",
             "linecolor": "white",
             "minorgridcolor": "white",
             "startlinecolor": "#2a3f5f"
            },
            "type": "carpet"
           }
          ],
          "choropleth": [
           {
            "colorbar": {
             "outlinewidth": 0,
             "ticks": ""
            },
            "type": "choropleth"
           }
          ],
          "contour": [
           {
            "colorbar": {
             "outlinewidth": 0,
             "ticks": ""
            },
            "colorscale": [
             [
              0,
              "#0d0887"
             ],
             [
              0.1111111111111111,
              "#46039f"
             ],
             [
              0.2222222222222222,
              "#7201a8"
             ],
             [
              0.3333333333333333,
              "#9c179e"
             ],
             [
              0.4444444444444444,
              "#bd3786"
             ],
             [
              0.5555555555555556,
              "#d8576b"
             ],
             [
              0.6666666666666666,
              "#ed7953"
             ],
             [
              0.7777777777777778,
              "#fb9f3a"
             ],
             [
              0.8888888888888888,
              "#fdca26"
             ],
             [
              1,
              "#f0f921"
             ]
            ],
            "type": "contour"
           }
          ],
          "contourcarpet": [
           {
            "colorbar": {
             "outlinewidth": 0,
             "ticks": ""
            },
            "type": "contourcarpet"
           }
          ],
          "heatmap": [
           {
            "colorbar": {
             "outlinewidth": 0,
             "ticks": ""
            },
            "colorscale": [
             [
              0,
              "#0d0887"
             ],
             [
              0.1111111111111111,
              "#46039f"
             ],
             [
              0.2222222222222222,
              "#7201a8"
             ],
             [
              0.3333333333333333,
              "#9c179e"
             ],
             [
              0.4444444444444444,
              "#bd3786"
             ],
             [
              0.5555555555555556,
              "#d8576b"
             ],
             [
              0.6666666666666666,
              "#ed7953"
             ],
             [
              0.7777777777777778,
              "#fb9f3a"
             ],
             [
              0.8888888888888888,
              "#fdca26"
             ],
             [
              1,
              "#f0f921"
             ]
            ],
            "type": "heatmap"
           }
          ],
          "heatmapgl": [
           {
            "colorbar": {
             "outlinewidth": 0,
             "ticks": ""
            },
            "colorscale": [
             [
              0,
              "#0d0887"
             ],
             [
              0.1111111111111111,
              "#46039f"
             ],
             [
              0.2222222222222222,
              "#7201a8"
             ],
             [
              0.3333333333333333,
              "#9c179e"
             ],
             [
              0.4444444444444444,
              "#bd3786"
             ],
             [
              0.5555555555555556,
              "#d8576b"
             ],
             [
              0.6666666666666666,
              "#ed7953"
             ],
             [
              0.7777777777777778,
              "#fb9f3a"
             ],
             [
              0.8888888888888888,
              "#fdca26"
             ],
             [
              1,
              "#f0f921"
             ]
            ],
            "type": "heatmapgl"
           }
          ],
          "histogram": [
           {
            "marker": {
             "pattern": {
              "fillmode": "overlay",
              "size": 10,
              "solidity": 0.2
             }
            },
            "type": "histogram"
           }
          ],
          "histogram2d": [
           {
            "colorbar": {
             "outlinewidth": 0,
             "ticks": ""
            },
            "colorscale": [
             [
              0,
              "#0d0887"
             ],
             [
              0.1111111111111111,
              "#46039f"
             ],
             [
              0.2222222222222222,
              "#7201a8"
             ],
             [
              0.3333333333333333,
              "#9c179e"
             ],
             [
              0.4444444444444444,
              "#bd3786"
             ],
             [
              0.5555555555555556,
              "#d8576b"
             ],
             [
              0.6666666666666666,
              "#ed7953"
             ],
             [
              0.7777777777777778,
              "#fb9f3a"
             ],
             [
              0.8888888888888888,
              "#fdca26"
             ],
             [
              1,
              "#f0f921"
             ]
            ],
            "type": "histogram2d"
           }
          ],
          "histogram2dcontour": [
           {
            "colorbar": {
             "outlinewidth": 0,
             "ticks": ""
            },
            "colorscale": [
             [
              0,
              "#0d0887"
             ],
             [
              0.1111111111111111,
              "#46039f"
             ],
             [
              0.2222222222222222,
              "#7201a8"
             ],
             [
              0.3333333333333333,
              "#9c179e"
             ],
             [
              0.4444444444444444,
              "#bd3786"
             ],
             [
              0.5555555555555556,
              "#d8576b"
             ],
             [
              0.6666666666666666,
              "#ed7953"
             ],
             [
              0.7777777777777778,
              "#fb9f3a"
             ],
             [
              0.8888888888888888,
              "#fdca26"
             ],
             [
              1,
              "#f0f921"
             ]
            ],
            "type": "histogram2dcontour"
           }
          ],
          "mesh3d": [
           {
            "colorbar": {
             "outlinewidth": 0,
             "ticks": ""
            },
            "type": "mesh3d"
           }
          ],
          "parcoords": [
           {
            "line": {
             "colorbar": {
              "outlinewidth": 0,
              "ticks": ""
             }
            },
            "type": "parcoords"
           }
          ],
          "pie": [
           {
            "automargin": true,
            "type": "pie"
           }
          ],
          "scatter": [
           {
            "fillpattern": {
             "fillmode": "overlay",
             "size": 10,
             "solidity": 0.2
            },
            "type": "scatter"
           }
          ],
          "scatter3d": [
           {
            "line": {
             "colorbar": {
              "outlinewidth": 0,
              "ticks": ""
             }
            },
            "marker": {
             "colorbar": {
              "outlinewidth": 0,
              "ticks": ""
             }
            },
            "type": "scatter3d"
           }
          ],
          "scattercarpet": [
           {
            "marker": {
             "colorbar": {
              "outlinewidth": 0,
              "ticks": ""
             }
            },
            "type": "scattercarpet"
           }
          ],
          "scattergeo": [
           {
            "marker": {
             "colorbar": {
              "outlinewidth": 0,
              "ticks": ""
             }
            },
            "type": "scattergeo"
           }
          ],
          "scattergl": [
           {
            "marker": {
             "colorbar": {
              "outlinewidth": 0,
              "ticks": ""
             }
            },
            "type": "scattergl"
           }
          ],
          "scattermapbox": [
           {
            "marker": {
             "colorbar": {
              "outlinewidth": 0,
              "ticks": ""
             }
            },
            "type": "scattermapbox"
           }
          ],
          "scatterpolar": [
           {
            "marker": {
             "colorbar": {
              "outlinewidth": 0,
              "ticks": ""
             }
            },
            "type": "scatterpolar"
           }
          ],
          "scatterpolargl": [
           {
            "marker": {
             "colorbar": {
              "outlinewidth": 0,
              "ticks": ""
             }
            },
            "type": "scatterpolargl"
           }
          ],
          "scatterternary": [
           {
            "marker": {
             "colorbar": {
              "outlinewidth": 0,
              "ticks": ""
             }
            },
            "type": "scatterternary"
           }
          ],
          "surface": [
           {
            "colorbar": {
             "outlinewidth": 0,
             "ticks": ""
            },
            "colorscale": [
             [
              0,
              "#0d0887"
             ],
             [
              0.1111111111111111,
              "#46039f"
             ],
             [
              0.2222222222222222,
              "#7201a8"
             ],
             [
              0.3333333333333333,
              "#9c179e"
             ],
             [
              0.4444444444444444,
              "#bd3786"
             ],
             [
              0.5555555555555556,
              "#d8576b"
             ],
             [
              0.6666666666666666,
              "#ed7953"
             ],
             [
              0.7777777777777778,
              "#fb9f3a"
             ],
             [
              0.8888888888888888,
              "#fdca26"
             ],
             [
              1,
              "#f0f921"
             ]
            ],
            "type": "surface"
           }
          ],
          "table": [
           {
            "cells": {
             "fill": {
              "color": "#EBF0F8"
             },
             "line": {
              "color": "white"
             }
            },
            "header": {
             "fill": {
              "color": "#C8D4E3"
             },
             "line": {
              "color": "white"
             }
            },
            "type": "table"
           }
          ]
         },
         "layout": {
          "annotationdefaults": {
           "arrowcolor": "#2a3f5f",
           "arrowhead": 0,
           "arrowwidth": 1
          },
          "autotypenumbers": "strict",
          "coloraxis": {
           "colorbar": {
            "outlinewidth": 0,
            "ticks": ""
           }
          },
          "colorscale": {
           "diverging": [
            [
             0,
             "#8e0152"
            ],
            [
             0.1,
             "#c51b7d"
            ],
            [
             0.2,
             "#de77ae"
            ],
            [
             0.3,
             "#f1b6da"
            ],
            [
             0.4,
             "#fde0ef"
            ],
            [
             0.5,
             "#f7f7f7"
            ],
            [
             0.6,
             "#e6f5d0"
            ],
            [
             0.7,
             "#b8e186"
            ],
            [
             0.8,
             "#7fbc41"
            ],
            [
             0.9,
             "#4d9221"
            ],
            [
             1,
             "#276419"
            ]
           ],
           "sequential": [
            [
             0,
             "#0d0887"
            ],
            [
             0.1111111111111111,
             "#46039f"
            ],
            [
             0.2222222222222222,
             "#7201a8"
            ],
            [
             0.3333333333333333,
             "#9c179e"
            ],
            [
             0.4444444444444444,
             "#bd3786"
            ],
            [
             0.5555555555555556,
             "#d8576b"
            ],
            [
             0.6666666666666666,
             "#ed7953"
            ],
            [
             0.7777777777777778,
             "#fb9f3a"
            ],
            [
             0.8888888888888888,
             "#fdca26"
            ],
            [
             1,
             "#f0f921"
            ]
           ],
           "sequentialminus": [
            [
             0,
             "#0d0887"
            ],
            [
             0.1111111111111111,
             "#46039f"
            ],
            [
             0.2222222222222222,
             "#7201a8"
            ],
            [
             0.3333333333333333,
             "#9c179e"
            ],
            [
             0.4444444444444444,
             "#bd3786"
            ],
            [
             0.5555555555555556,
             "#d8576b"
            ],
            [
             0.6666666666666666,
             "#ed7953"
            ],
            [
             0.7777777777777778,
             "#fb9f3a"
            ],
            [
             0.8888888888888888,
             "#fdca26"
            ],
            [
             1,
             "#f0f921"
            ]
           ]
          },
          "colorway": [
           "#636efa",
           "#EF553B",
           "#00cc96",
           "#ab63fa",
           "#FFA15A",
           "#19d3f3",
           "#FF6692",
           "#B6E880",
           "#FF97FF",
           "#FECB52"
          ],
          "font": {
           "color": "#2a3f5f"
          },
          "geo": {
           "bgcolor": "white",
           "lakecolor": "white",
           "landcolor": "#E5ECF6",
           "showlakes": true,
           "showland": true,
           "subunitcolor": "white"
          },
          "hoverlabel": {
           "align": "left"
          },
          "hovermode": "closest",
          "mapbox": {
           "style": "light"
          },
          "paper_bgcolor": "white",
          "plot_bgcolor": "#E5ECF6",
          "polar": {
           "angularaxis": {
            "gridcolor": "white",
            "linecolor": "white",
            "ticks": ""
           },
           "bgcolor": "#E5ECF6",
           "radialaxis": {
            "gridcolor": "white",
            "linecolor": "white",
            "ticks": ""
           }
          },
          "scene": {
           "xaxis": {
            "backgroundcolor": "#E5ECF6",
            "gridcolor": "white",
            "gridwidth": 2,
            "linecolor": "white",
            "showbackground": true,
            "ticks": "",
            "zerolinecolor": "white"
           },
           "yaxis": {
            "backgroundcolor": "#E5ECF6",
            "gridcolor": "white",
            "gridwidth": 2,
            "linecolor": "white",
            "showbackground": true,
            "ticks": "",
            "zerolinecolor": "white"
           },
           "zaxis": {
            "backgroundcolor": "#E5ECF6",
            "gridcolor": "white",
            "gridwidth": 2,
            "linecolor": "white",
            "showbackground": true,
            "ticks": "",
            "zerolinecolor": "white"
           }
          },
          "shapedefaults": {
           "line": {
            "color": "#2a3f5f"
           }
          },
          "ternary": {
           "aaxis": {
            "gridcolor": "white",
            "linecolor": "white",
            "ticks": ""
           },
           "baxis": {
            "gridcolor": "white",
            "linecolor": "white",
            "ticks": ""
           },
           "bgcolor": "#E5ECF6",
           "caxis": {
            "gridcolor": "white",
            "linecolor": "white",
            "ticks": ""
           }
          },
          "title": {
           "x": 0.05
          },
          "xaxis": {
           "automargin": true,
           "gridcolor": "white",
           "linecolor": "white",
           "ticks": "",
           "title": {
            "standoff": 15
           },
           "zerolinecolor": "white",
           "zerolinewidth": 2
          },
          "yaxis": {
           "automargin": true,
           "gridcolor": "white",
           "linecolor": "white",
           "ticks": "",
           "title": {
            "standoff": 15
           },
           "zerolinecolor": "white",
           "zerolinewidth": 2
          }
         }
        },
        "title": {
         "text": "Earliest Timestamps of Users"
        },
        "xaxis": {
         "anchor": "y",
         "domain": [
          0,
          1
         ],
         "range": [
          0,
          86400
         ],
         "tickmode": "array",
         "ticktext": [
          "00:00",
          "01:00",
          "02:00",
          "03:00",
          "04:00",
          "05:00",
          "06:00",
          "07:00",
          "08:00",
          "09:00",
          "10:00",
          "11:00",
          "12:00",
          "13:00",
          "14:00",
          "15:00",
          "16:00",
          "17:00",
          "18:00",
          "19:00",
          "20:00",
          "21:00",
          "22:00",
          "23:00"
         ],
         "tickvals": [
          0,
          3600,
          7200,
          10800,
          14400,
          18000,
          21600,
          25200,
          28800,
          32400,
          36000,
          39600,
          43200,
          46800,
          50400,
          54000,
          57600,
          61200,
          64800,
          68400,
          72000,
          75600,
          79200,
          82800
         ],
         "title": {
          "text": "Time of Day (HH:MM)"
         }
        },
        "yaxis": {
         "anchor": "x",
         "domain": [
          0,
          1
         ],
         "title": {
          "text": "Event Date"
         }
        }
       }
      }
     },
     "metadata": {},
     "output_type": "display_data"
    }
   ],
   "source": [
    "users_work_schedule['earliest_timestamp'] = pd.to_datetime(users_work_schedule['earliest_timestamp'])\n",
    "\n",
    "# Extract date and hour-minute-second information\n",
    "users_work_schedule['event_date'] = users_work_schedule['earliest_timestamp'].dt.date\n",
    "users_work_schedule['start_time'] = users_work_schedule['earliest_timestamp'].dt.strftime('%H:%M:%S')\n",
    "\n",
    "# Extract time as seconds since midnight for continuous x-axis\n",
    "users_work_schedule['time_seconds'] = (\n",
    "    users_work_schedule['earliest_timestamp'].dt.hour * 3600 +\n",
    "    users_work_schedule['earliest_timestamp'].dt.minute * 60 +\n",
    "    users_work_schedule['earliest_timestamp'].dt.second\n",
    ")\n",
    "\n",
    "# Create scatter plot\n",
    "fig = px.scatter(\n",
    "    users_work_schedule,\n",
    "    x='time_seconds',\n",
    "    y='event_date',\n",
    "    color='user_id',\n",
    "    title='Earliest Timestamps of Users',\n",
    "    labels={'time_seconds': 'Time of Day (HH:MM)', 'event_date': 'Event Date'},\n",
    "    hover_data={'user_id': True, 'start_time': True}\n",
    ")\n",
    "\n",
    "# Update layout for better readability\n",
    "fig.update_layout(\n",
    "    xaxis=dict(\n",
    "        tickmode='array',\n",
    "        tickvals=[i * 3600 for i in range(0, 24)],\n",
    "        ticktext=[f'{i:02d}:00' for i in range(0, 24)],\n",
    "        title='Time of Day (HH:MM)',\n",
    "        range=[0, 86400]  # Full range from 00:00 to 23:59:59 in seconds\n",
    "    ),\n",
    "    yaxis=dict(\n",
    "        title='Event Date'\n",
    "    ),\n",
    "    showlegend=False\n",
    ")\n",
    "\n",
    "# Show the plot\n",
    "fig.show()"
   ]
  },
  {
   "cell_type": "code",
   "execution_count": 14,
   "metadata": {},
   "outputs": [
    {
     "name": "stdout",
     "output_type": "stream",
     "text": [
      "Average number of users between 00:00 and 08:00: 2\n",
      "Average number of users between 08:00 and 09:00: 1\n"
     ]
    }
   ],
   "source": [
    "users_work_schedule['earliest_timestamp'] = pd.to_datetime(users_work_schedule['earliest_timestamp'])\n",
    "\n",
    "# Extract the time part from 'earliest_timestamp'\n",
    "users_work_schedule['time'] = users_work_schedule['earliest_timestamp'].dt.time\n",
    "\n",
    "# Filter for people with earliest_timestamp between 00:00 and 08:00\n",
    "early_morning_users = users_work_schedule[(users_work_schedule['time'] >= pd.to_datetime('00:00').time()) & (users_work_schedule['time'] < pd.to_datetime('08:00').time())]\n",
    "\n",
    "# Filter for people with earliest_timestamp between 08:00 and 09:00\n",
    "late_morning_users = users_work_schedule[(users_work_schedule['time'] >= pd.to_datetime('08:00').time()) & (users_work_schedule['time'] < pd.to_datetime('09:00').time())]\n",
    "\n",
    "# Count unique users per day within each time range\n",
    "early_morning_user_counts = early_morning_users.groupby(early_morning_users['earliest_timestamp'].dt.date)['user_id'].nunique()\n",
    "late_morning_user_counts = late_morning_users.groupby(late_morning_users['earliest_timestamp'].dt.date)['user_id'].nunique()\n",
    "\n",
    "# Calculate the average number of users in each time range\n",
    "avg_early_morning_users = early_morning_user_counts.mean()\n",
    "avg_late_morning_users = late_morning_user_counts.mean()\n",
    "\n",
    "# Display the results\n",
    "print(f\"Average number of users between 00:00 and 08:00: {int(avg_early_morning_users)}\")\n",
    "print(f\"Average number of users between 08:00 and 09:00: {int(avg_late_morning_users)}\")"
   ]
  },
  {
   "cell_type": "code",
   "execution_count": 15,
   "metadata": {},
   "outputs": [
    {
     "name": "stderr",
     "output_type": "stream",
     "text": [
      "/Library/Frameworks/Python.framework/Versions/3.11/lib/python3.11/site-packages/plotly/express/_core.py:2065: FutureWarning:\n",
      "\n",
      "When grouping with a length-1 list-like, you will need to pass a length-1 tuple to get_group in a future version of pandas. Pass `(name,)` instead of `name` to silence this warning.\n",
      "\n"
     ]
    },
    {
     "data": {
      "application/vnd.plotly.v1+json": {
       "config": {
        "plotlyServerURL": "https://plot.ly"
       },
       "data": [
        {
         "customdata": [
          [
           "MCE",
           "13:57:00"
          ],
          [
           "MCE",
           "14:27:00"
          ],
          [
           "MCE",
           "17:19:00"
          ],
          [
           "MCE",
           "17:02:00"
          ],
          [
           "MCE",
           "17:16:00"
          ],
          [
           "MCE",
           "16:55:00"
          ],
          [
           "MCE",
           "17:19:00"
          ],
          [
           "MCE",
           "17:17:00"
          ],
          [
           "MCE",
           "17:23:00"
          ],
          [
           "MCE",
           "17:34:00"
          ],
          [
           "MCE",
           "17:26:00"
          ],
          [
           "MCE",
           "17:20:00"
          ],
          [
           "MCE",
           "17:23:00"
          ],
          [
           "MCE",
           "17:24:00"
          ],
          [
           "MCE",
           "17:25:00"
          ],
          [
           "MCE",
           "17:24:00"
          ],
          [
           "MCE",
           "17:21:00"
          ],
          [
           "MCE",
           "17:15:00"
          ],
          [
           "MCE",
           "16:42:00"
          ],
          [
           "MCE",
           "17:24:00"
          ],
          [
           "MCE",
           "17:22:00"
          ],
          [
           "MCE",
           "17:27:00"
          ],
          [
           "MCE",
           "17:25:00"
          ],
          [
           "MCE",
           "16:40:00"
          ],
          [
           "MCE",
           "17:15:00"
          ],
          [
           "MCE",
           "17:05:00"
          ],
          [
           "MCE",
           "21:58:00"
          ],
          [
           "MCE",
           "22:00:00"
          ],
          [
           "MCE",
           "17:29:00"
          ],
          [
           "MCE",
           "17:18:00"
          ],
          [
           "MCE",
           "17:27:00"
          ],
          [
           "MCE",
           "17:19:00"
          ],
          [
           "MCE",
           "17:24:00"
          ],
          [
           "MCE",
           "17:22:00"
          ],
          [
           "MCE",
           "17:23:00"
          ],
          [
           "MCE",
           "17:25:00"
          ],
          [
           "MCE",
           "17:26:00"
          ],
          [
           "MCE",
           "17:22:00"
          ],
          [
           "MCE",
           "17:25:00"
          ],
          [
           "MCE",
           "17:26:00"
          ],
          [
           "MCE",
           "17:21:00"
          ],
          [
           "MCE",
           "17:27:00"
          ],
          [
           "MCE",
           "17:24:00"
          ],
          [
           "MCE",
           "17:20:00"
          ],
          [
           "MCE",
           "17:18:00"
          ],
          [
           "MCE",
           "17:22:00"
          ],
          [
           "MCE",
           "17:20:00"
          ],
          [
           "MCE",
           "17:26:00"
          ],
          [
           "MCE",
           "17:17:00"
          ],
          [
           "MCE",
           "17:23:00"
          ],
          [
           "MCE",
           "17:20:00"
          ],
          [
           "MCE",
           "14:08:00"
          ],
          [
           "MCE",
           "21:40:00"
          ],
          [
           "MCE",
           "17:22:00"
          ],
          [
           "MCE",
           "17:23:00"
          ],
          [
           "MCE",
           "17:17:00"
          ],
          [
           "MCE",
           "17:27:00"
          ],
          [
           "MCE",
           "17:27:00"
          ],
          [
           "MCE",
           "17:20:00"
          ],
          [
           "MCE",
           "17:04:00"
          ],
          [
           "MCE",
           "17:17:00"
          ],
          [
           "MCE",
           "17:22:00"
          ],
          [
           "MCE",
           "17:23:00"
          ],
          [
           "MCE",
           "17:20:00"
          ],
          [
           "MCE",
           "17:16:00"
          ]
         ],
         "hovertemplate": "user_id=%{customdata[0]}<br>Time of Day (HH:MM)=%{x}<br>Event Date=%{y}<br>end_time=%{customdata[1]}<extra></extra>",
         "legendgroup": "MCE",
         "marker": {
          "color": "#636efa",
          "symbol": "circle"
         },
         "mode": "markers",
         "name": "MCE",
         "orientation": "h",
         "showlegend": true,
         "type": "scatter",
         "x": [
          50220,
          52020,
          62340,
          61320,
          62160,
          60900,
          62340,
          62220,
          62580,
          63240,
          62760,
          62400,
          62580,
          62640,
          62700,
          62640,
          62460,
          62100,
          60120,
          62640,
          62520,
          62820,
          62700,
          60000,
          62100,
          61500,
          79080,
          79200,
          62940,
          62280,
          62820,
          62340,
          62640,
          62520,
          62580,
          62700,
          62760,
          62520,
          62700,
          62760,
          62460,
          62820,
          62640,
          62400,
          62280,
          62520,
          62400,
          62760,
          62220,
          62580,
          62400,
          50880,
          78000,
          62520,
          62580,
          62220,
          62820,
          62820,
          62400,
          61440,
          62220,
          62520,
          62580,
          62400,
          62160
         ],
         "xaxis": "x",
         "y": [
          "2022-01-01",
          "2022-01-02",
          "2022-01-03",
          "2022-01-04",
          "2022-01-05",
          "2022-01-07",
          "2022-01-10",
          "2022-01-11",
          "2022-01-12",
          "2022-01-13",
          "2022-01-14",
          "2022-01-17",
          "2022-01-18",
          "2022-01-19",
          "2022-01-20",
          "2022-01-21",
          "2022-01-24",
          "2022-01-25",
          "2022-01-26",
          "2022-01-27",
          "2022-01-28",
          "2022-01-31",
          "2022-02-01",
          "2022-02-02",
          "2022-02-03",
          "2022-02-04",
          "2022-02-05",
          "2022-02-06",
          "2022-02-09",
          "2022-02-10",
          "2022-02-11",
          "2022-02-14",
          "2022-02-15",
          "2022-02-16",
          "2022-02-17",
          "2022-02-18",
          "2022-02-21",
          "2022-02-22",
          "2022-02-23",
          "2022-02-24",
          "2022-02-25",
          "2022-02-28",
          "2022-03-01",
          "2022-03-02",
          "2022-03-03",
          "2022-03-04",
          "2022-03-07",
          "2022-03-08",
          "2022-03-09",
          "2022-03-10",
          "2022-03-11",
          "2022-03-12",
          "2022-03-13",
          "2022-03-16",
          "2022-03-17",
          "2022-03-18",
          "2022-03-21",
          "2022-03-22",
          "2022-03-23",
          "2022-03-24",
          "2022-03-25",
          "2022-03-28",
          "2022-03-29",
          "2022-03-30",
          "2022-03-31"
         ],
         "yaxis": "y"
        },
        {
         "customdata": [
          [
           "LI",
           "21:54:00"
          ],
          [
           "LI",
           "21:52:00"
          ],
          [
           "LI",
           "19:17:00"
          ],
          [
           "LI",
           "14:18:00"
          ],
          [
           "LI",
           "14:27:00"
          ],
          [
           "LI",
           "14:15:00"
          ],
          [
           "LI",
           "14:26:00"
          ],
          [
           "LI",
           "14:27:00"
          ],
          [
           "LI",
           "14:19:00"
          ],
          [
           "LI",
           "14:21:00"
          ],
          [
           "LI",
           "14:23:00"
          ],
          [
           "LI",
           "14:15:00"
          ],
          [
           "LI",
           "14:16:00"
          ],
          [
           "LI",
           "14:26:00"
          ],
          [
           "LI",
           "14:27:00"
          ],
          [
           "LI",
           "14:00:00"
          ],
          [
           "LI",
           "14:13:00"
          ],
          [
           "LI",
           "14:23:00"
          ],
          [
           "LI",
           "14:14:00"
          ],
          [
           "LI",
           "13:54:00"
          ],
          [
           "LI",
           "14:22:00"
          ],
          [
           "LI",
           "14:15:00"
          ],
          [
           "LI",
           "14:24:00"
          ],
          [
           "LI",
           "14:15:00"
          ],
          [
           "LI",
           "14:24:00"
          ],
          [
           "LI",
           "18:53:00"
          ],
          [
           "LI",
           "14:28:00"
          ],
          [
           "LI",
           "14:27:00"
          ],
          [
           "LI",
           "14:23:00"
          ],
          [
           "LI",
           "14:14:00"
          ],
          [
           "LI",
           "14:09:00"
          ],
          [
           "LI",
           "14:26:00"
          ],
          [
           "LI",
           "14:15:00"
          ],
          [
           "LI",
           "14:23:00"
          ],
          [
           "LI",
           "14:19:00"
          ],
          [
           "LI",
           "14:25:00"
          ],
          [
           "LI",
           "14:22:00"
          ],
          [
           "LI",
           "14:17:00"
          ],
          [
           "LI",
           "14:21:00"
          ],
          [
           "LI",
           "14:20:00"
          ],
          [
           "LI",
           "14:20:00"
          ],
          [
           "LI",
           "14:27:00"
          ],
          [
           "LI",
           "14:25:00"
          ],
          [
           "LI",
           "14:16:00"
          ],
          [
           "LI",
           "14:14:00"
          ],
          [
           "LI",
           "14:20:00"
          ],
          [
           "LI",
           "14:05:00"
          ],
          [
           "LI",
           "14:25:00"
          ],
          [
           "LI",
           "14:25:00"
          ],
          [
           "LI",
           "14:23:00"
          ],
          [
           "LI",
           "14:28:00"
          ],
          [
           "LI",
           "21:54:00"
          ],
          [
           "LI",
           "21:16:00"
          ],
          [
           "LI",
           "14:00:00"
          ],
          [
           "LI",
           "14:14:00"
          ]
         ],
         "hovertemplate": "user_id=%{customdata[0]}<br>Time of Day (HH:MM)=%{x}<br>Event Date=%{y}<br>end_time=%{customdata[1]}<extra></extra>",
         "legendgroup": "LI",
         "marker": {
          "color": "#EF553B",
          "symbol": "circle"
         },
         "mode": "markers",
         "name": "LI",
         "orientation": "h",
         "showlegend": true,
         "type": "scatter",
         "x": [
          78840,
          78720,
          69420,
          51480,
          52020,
          51300,
          51960,
          52020,
          51540,
          51660,
          51780,
          51300,
          51360,
          51960,
          52020,
          50400,
          51180,
          51780,
          51240,
          50040,
          51720,
          51300,
          51840,
          51300,
          51840,
          67980,
          52080,
          52020,
          51780,
          51240,
          50940,
          51960,
          51300,
          51780,
          51540,
          51900,
          51720,
          51420,
          51660,
          51600,
          51600,
          52020,
          51900,
          51360,
          51240,
          51600,
          50700,
          51900,
          51900,
          51780,
          52080,
          78840,
          76560,
          50400,
          51240
         ],
         "xaxis": "x",
         "y": [
          "2022-01-01",
          "2022-01-02",
          "2022-01-05",
          "2022-01-07",
          "2022-01-10",
          "2022-01-11",
          "2022-01-13",
          "2022-01-14",
          "2022-01-17",
          "2022-01-18",
          "2022-01-28",
          "2022-01-31",
          "2022-02-01",
          "2022-02-02",
          "2022-02-03",
          "2022-02-04",
          "2022-02-07",
          "2022-02-08",
          "2022-02-09",
          "2022-02-10",
          "2022-02-11",
          "2022-02-14",
          "2022-02-15",
          "2022-02-16",
          "2022-02-17",
          "2022-02-18",
          "2022-02-21",
          "2022-02-22",
          "2022-02-23",
          "2022-02-24",
          "2022-02-25",
          "2022-02-28",
          "2022-03-01",
          "2022-03-02",
          "2022-03-03",
          "2022-03-04",
          "2022-03-07",
          "2022-03-08",
          "2022-03-09",
          "2022-03-10",
          "2022-03-11",
          "2022-03-14",
          "2022-03-15",
          "2022-03-16",
          "2022-03-17",
          "2022-03-18",
          "2022-03-21",
          "2022-03-22",
          "2022-03-23",
          "2022-03-24",
          "2022-03-25",
          "2022-03-26",
          "2022-03-27",
          "2022-03-30",
          "2022-03-31"
         ],
         "yaxis": "y"
        },
        {
         "customdata": [
          [
           "BM",
           "14:18:00"
          ],
          [
           "BM",
           "14:11:00"
          ],
          [
           "BM",
           "14:18:00"
          ],
          [
           "BM",
           "18:45:00"
          ],
          [
           "BM",
           "19:11:00"
          ],
          [
           "BM",
           "19:03:00"
          ],
          [
           "BM",
           "19:21:00"
          ],
          [
           "BM",
           "18:46:00"
          ],
          [
           "BM",
           "19:25:00"
          ],
          [
           "BM",
           "21:43:00"
          ],
          [
           "BM",
           "21:55:00"
          ],
          [
           "BM",
           "21:50:00"
          ],
          [
           "BM",
           "21:36:00"
          ],
          [
           "BM",
           "20:46:00"
          ],
          [
           "BM",
           "14:21:00"
          ],
          [
           "BM",
           "14:22:00"
          ],
          [
           "BM",
           "14:25:00"
          ],
          [
           "BM",
           "14:24:00"
          ],
          [
           "BM",
           "21:25:00"
          ],
          [
           "BM",
           "19:25:00"
          ],
          [
           "BM",
           "19:18:00"
          ],
          [
           "BM",
           "19:25:00"
          ],
          [
           "BM",
           "14:17:00"
          ],
          [
           "BM",
           "14:05:00"
          ],
          [
           "BM",
           "21:25:00"
          ],
          [
           "BM",
           "21:50:00"
          ],
          [
           "BM",
           "21:45:00"
          ],
          [
           "BM",
           "14:16:00"
          ],
          [
           "BM",
           "14:25:00"
          ],
          [
           "BM",
           "14:21:00"
          ],
          [
           "BM",
           "13:54:00"
          ],
          [
           "BM",
           "14:15:00"
          ],
          [
           "BM",
           "13:55:00"
          ],
          [
           "BM",
           "14:15:00"
          ],
          [
           "BM",
           "19:17:00"
          ],
          [
           "BM",
           "19:08:00"
          ],
          [
           "BM",
           "19:17:00"
          ],
          [
           "BM",
           "19:28:00"
          ],
          [
           "BM",
           "18:52:00"
          ],
          [
           "BM",
           "21:30:00"
          ],
          [
           "BM",
           "21:44:00"
          ],
          [
           "BM",
           "21:22:00"
          ],
          [
           "BM",
           "21:42:00"
          ],
          [
           "BM",
           "21:49:00"
          ],
          [
           "BM",
           "21:49:00"
          ],
          [
           "BM",
           "18:55:00"
          ],
          [
           "BM",
           "14:16:00"
          ],
          [
           "BM",
           "13:53:00"
          ],
          [
           "BM",
           "14:17:00"
          ],
          [
           "BM",
           "21:53:00"
          ],
          [
           "BM",
           "21:47:00"
          ],
          [
           "BM",
           "14:15:00"
          ],
          [
           "BM",
           "20:54:00"
          ],
          [
           "BM",
           "20:19:00"
          ],
          [
           "BM",
           "19:24:00"
          ],
          [
           "BM",
           "19:22:00"
          ],
          [
           "BM",
           "18:48:00"
          ],
          [
           "BM",
           "19:19:00"
          ],
          [
           "BM",
           "18:56:00"
          ],
          [
           "BM",
           "14:17:00"
          ],
          [
           "BM",
           "14:04:00"
          ],
          [
           "BM",
           "14:10:00"
          ],
          [
           "BM",
           "13:54:00"
          ]
         ],
         "hovertemplate": "user_id=%{customdata[0]}<br>Time of Day (HH:MM)=%{x}<br>Event Date=%{y}<br>end_time=%{customdata[1]}<extra></extra>",
         "legendgroup": "BM",
         "marker": {
          "color": "#00cc96",
          "symbol": "circle"
         },
         "mode": "markers",
         "name": "BM",
         "orientation": "h",
         "showlegend": true,
         "type": "scatter",
         "x": [
          51480,
          51060,
          51480,
          67500,
          69060,
          68580,
          69660,
          67560,
          69900,
          78180,
          78900,
          78600,
          77760,
          74760,
          51660,
          51720,
          51900,
          51840,
          77100,
          69900,
          69480,
          69900,
          51420,
          50700,
          77100,
          78600,
          78300,
          51360,
          51900,
          51660,
          50040,
          51300,
          50100,
          51300,
          69420,
          68880,
          69420,
          70080,
          67920,
          77400,
          78240,
          76920,
          78120,
          78540,
          78540,
          68100,
          51360,
          49980,
          51420,
          78780,
          78420,
          51300,
          75240,
          73140,
          69840,
          69720,
          67680,
          69540,
          68160,
          51420,
          50640,
          51000,
          50040
         ],
         "xaxis": "x",
         "y": [
          "2022-01-03",
          "2022-01-04",
          "2022-01-05",
          "2022-01-07",
          "2022-01-10",
          "2022-01-11",
          "2022-01-12",
          "2022-01-13",
          "2022-01-14",
          "2022-01-17",
          "2022-01-18",
          "2022-01-19",
          "2022-01-20",
          "2022-01-21",
          "2022-01-24",
          "2022-01-25",
          "2022-01-26",
          "2022-01-27",
          "2022-01-28",
          "2022-01-31",
          "2022-02-01",
          "2022-02-02",
          "2022-02-05",
          "2022-02-06",
          "2022-02-07",
          "2022-02-08",
          "2022-02-09",
          "2022-02-12",
          "2022-02-13",
          "2022-02-14",
          "2022-02-15",
          "2022-02-16",
          "2022-02-17",
          "2022-02-18",
          "2022-02-21",
          "2022-02-22",
          "2022-02-23",
          "2022-02-24",
          "2022-02-25",
          "2022-02-28",
          "2022-03-01",
          "2022-03-02",
          "2022-03-03",
          "2022-03-04",
          "2022-03-07",
          "2022-03-08",
          "2022-03-09",
          "2022-03-10",
          "2022-03-11",
          "2022-03-14",
          "2022-03-15",
          "2022-03-16",
          "2022-03-17",
          "2022-03-18",
          "2022-03-21",
          "2022-03-22",
          "2022-03-23",
          "2022-03-24",
          "2022-03-25",
          "2022-03-28",
          "2022-03-29",
          "2022-03-30",
          "2022-03-31"
         ],
         "yaxis": "y"
        },
        {
         "customdata": [
          [
           "EH",
           "14:21:00"
          ],
          [
           "EH",
           "14:13:00"
          ],
          [
           "EH",
           "19:12:00"
          ],
          [
           "EH",
           "21:48:00"
          ],
          [
           "EH",
           "14:22:00"
          ],
          [
           "EH",
           "14:23:00"
          ],
          [
           "EH",
           "14:30:00"
          ],
          [
           "EH",
           "14:28:00"
          ],
          [
           "EH",
           "14:21:00"
          ],
          [
           "EH",
           "21:50:00"
          ],
          [
           "EH",
           "21:50:00"
          ],
          [
           "EH",
           "21:52:00"
          ],
          [
           "EH",
           "21:48:00"
          ],
          [
           "EH",
           "21:32:00"
          ],
          [
           "EH",
           "19:09:00"
          ],
          [
           "EH",
           "16:00:00"
          ],
          [
           "EH",
           "19:30:00"
          ],
          [
           "EH",
           "18:51:00"
          ],
          [
           "EH",
           "19:09:00"
          ],
          [
           "EH",
           "14:24:00"
          ],
          [
           "EH",
           "14:10:00"
          ],
          [
           "EH",
           "14:01:00"
          ],
          [
           "EH",
           "14:25:00"
          ],
          [
           "EH",
           "14:00:00"
          ],
          [
           "EH",
           "21:49:00"
          ],
          [
           "EH",
           "21:25:00"
          ],
          [
           "EH",
           "21:12:00"
          ],
          [
           "EH",
           "21:22:00"
          ],
          [
           "EH",
           "19:52:00"
          ],
          [
           "EH",
           "19:27:00"
          ],
          [
           "EH",
           "18:57:00"
          ],
          [
           "EH",
           "19:22:00"
          ],
          [
           "EH",
           "19:18:00"
          ],
          [
           "EH",
           "19:01:00"
          ],
          [
           "EH",
           "21:50:00"
          ],
          [
           "EH",
           "21:51:00"
          ],
          [
           "EH",
           "13:57:00"
          ],
          [
           "EH",
           "14:14:00"
          ],
          [
           "EH",
           "14:21:00"
          ],
          [
           "EH",
           "21:48:00"
          ],
          [
           "EH",
           "14:23:00"
          ],
          [
           "EH",
           "21:38:00"
          ],
          [
           "EH",
           "21:51:00"
          ],
          [
           "EH",
           "20:59:00"
          ],
          [
           "EH",
           "19:23:00"
          ],
          [
           "EH",
           "19:26:00"
          ],
          [
           "EH",
           "19:00:00"
          ],
          [
           "EH",
           "21:55:00"
          ],
          [
           "EH",
           "14:13:00"
          ],
          [
           "EH",
           "14:23:00"
          ],
          [
           "EH",
           "14:23:00"
          ],
          [
           "EH",
           "14:12:00"
          ],
          [
           "EH",
           "14:19:00"
          ],
          [
           "EH",
           "14:17:00"
          ],
          [
           "EH",
           "21:50:00"
          ],
          [
           "EH",
           "21:35:00"
          ],
          [
           "EH",
           "21:48:00"
          ],
          [
           "EH",
           "21:40:00"
          ],
          [
           "EH",
           "21:43:00"
          ],
          [
           "EH",
           "08:07:00"
          ],
          [
           "EH",
           "19:25:00"
          ],
          [
           "EH",
           "19:11:00"
          ],
          [
           "EH",
           "19:28:00"
          ],
          [
           "EH",
           "19:24:00"
          ]
         ],
         "hovertemplate": "user_id=%{customdata[0]}<br>Time of Day (HH:MM)=%{x}<br>Event Date=%{y}<br>end_time=%{customdata[1]}<extra></extra>",
         "legendgroup": "EH",
         "marker": {
          "color": "#ab63fa",
          "symbol": "circle"
         },
         "mode": "markers",
         "name": "EH",
         "orientation": "h",
         "showlegend": true,
         "type": "scatter",
         "x": [
          51660,
          51180,
          69120,
          78480,
          51720,
          51780,
          52200,
          52080,
          51660,
          78600,
          78600,
          78720,
          78480,
          77520,
          68940,
          57600,
          70200,
          67860,
          68940,
          51840,
          51000,
          50460,
          51900,
          50400,
          78540,
          77100,
          76320,
          76920,
          71520,
          70020,
          68220,
          69720,
          69480,
          68460,
          78600,
          78660,
          50220,
          51240,
          51660,
          78480,
          51780,
          77880,
          78660,
          75540,
          69780,
          69960,
          68400,
          78900,
          51180,
          51780,
          51780,
          51120,
          51540,
          51420,
          78600,
          77700,
          78480,
          78000,
          78180,
          29220,
          69900,
          69060,
          70080,
          69840
         ],
         "xaxis": "x",
         "y": [
          "2022-01-03",
          "2022-01-04",
          "2022-01-05",
          "2022-01-06",
          "2022-01-07",
          "2022-01-11",
          "2022-01-12",
          "2022-01-13",
          "2022-01-14",
          "2022-01-17",
          "2022-01-18",
          "2022-01-19",
          "2022-01-20",
          "2022-01-21",
          "2022-01-24",
          "2022-01-25",
          "2022-01-26",
          "2022-01-27",
          "2022-01-28",
          "2022-01-31",
          "2022-02-01",
          "2022-02-02",
          "2022-02-03",
          "2022-02-04",
          "2022-02-07",
          "2022-02-08",
          "2022-02-09",
          "2022-02-10",
          "2022-02-11",
          "2022-02-14",
          "2022-02-15",
          "2022-02-16",
          "2022-02-17",
          "2022-02-18",
          "2022-02-19",
          "2022-02-20",
          "2022-02-23",
          "2022-02-24",
          "2022-02-25",
          "2022-02-26",
          "2022-02-27",
          "2022-03-02",
          "2022-03-03",
          "2022-03-04",
          "2022-03-07",
          "2022-03-08",
          "2022-03-09",
          "2022-03-12",
          "2022-03-13",
          "2022-03-14",
          "2022-03-15",
          "2022-03-16",
          "2022-03-17",
          "2022-03-18",
          "2022-03-21",
          "2022-03-22",
          "2022-03-23",
          "2022-03-24",
          "2022-03-25",
          "2022-03-26",
          "2022-03-28",
          "2022-03-29",
          "2022-03-30",
          "2022-03-31"
         ],
         "yaxis": "y"
        },
        {
         "customdata": [
          [
           "SM",
           "14:19:00"
          ],
          [
           "SM",
           "14:10:00"
          ],
          [
           "SM",
           "14:14:00"
          ],
          [
           "SM",
           "17:57:00"
          ],
          [
           "SM",
           "19:06:00"
          ],
          [
           "SM",
           "19:03:00"
          ],
          [
           "SM",
           "18:38:00"
          ],
          [
           "SM",
           "14:30:00"
          ],
          [
           "SM",
           "14:06:00"
          ],
          [
           "SM",
           "21:43:00"
          ],
          [
           "SM",
           "14:30:00"
          ],
          [
           "SM",
           "19:23:00"
          ],
          [
           "SM",
           "19:14:00"
          ],
          [
           "SM",
           "21:51:00"
          ],
          [
           "SM",
           "19:20:00"
          ],
          [
           "SM",
           "19:22:00"
          ],
          [
           "SM",
           "19:17:00"
          ],
          [
           "SM",
           "14:02:00"
          ],
          [
           "SM",
           "14:10:00"
          ],
          [
           "SM",
           "21:55:00"
          ],
          [
           "SM",
           "18:53:00"
          ],
          [
           "SM",
           "19:17:00"
          ],
          [
           "SM",
           "19:04:00"
          ],
          [
           "SM",
           "17:49:00"
          ],
          [
           "SM",
           "19:11:00"
          ],
          [
           "SM",
           "19:18:00"
          ],
          [
           "SM",
           "19:24:00"
          ],
          [
           "SM",
           "19:25:00"
          ],
          [
           "SM",
           "14:28:00"
          ],
          [
           "SM",
           "14:20:00"
          ],
          [
           "SM",
           "14:25:00"
          ],
          [
           "SM",
           "19:24:00"
          ],
          [
           "SM",
           "19:29:00"
          ],
          [
           "SM",
           "21:32:00"
          ],
          [
           "SM",
           "19:23:00"
          ],
          [
           "SM",
           "19:01:00"
          ],
          [
           "SM",
           "19:10:00"
          ],
          [
           "SM",
           "19:31:00"
          ],
          [
           "SM",
           "18:51:00"
          ],
          [
           "SM",
           "21:34:00"
          ],
          [
           "SM",
           "19:09:00"
          ],
          [
           "SM",
           "18:49:00"
          ],
          [
           "SM",
           "19:15:00"
          ],
          [
           "SM",
           "21:29:00"
          ],
          [
           "SM",
           "14:23:00"
          ],
          [
           "SM",
           "14:14:00"
          ],
          [
           "SM",
           "19:18:00"
          ],
          [
           "SM",
           "19:23:00"
          ],
          [
           "SM",
           "14:21:00"
          ],
          [
           "SM",
           "21:56:00"
          ],
          [
           "SM",
           "18:37:00"
          ],
          [
           "SM",
           "19:16:00"
          ],
          [
           "SM",
           "19:18:00"
          ],
          [
           "SM",
           "21:54:00"
          ],
          [
           "SM",
           "21:47:00"
          ],
          [
           "SM",
           "21:57:00"
          ],
          [
           "SM",
           "19:26:00"
          ],
          [
           "SM",
           "19:17:00"
          ],
          [
           "SM",
           "18:42:00"
          ],
          [
           "SM",
           "14:17:00"
          ],
          [
           "SM",
           "14:07:00"
          ],
          [
           "SM",
           "19:11:00"
          ],
          [
           "SM",
           "19:21:00"
          ]
         ],
         "hovertemplate": "user_id=%{customdata[0]}<br>Time of Day (HH:MM)=%{x}<br>Event Date=%{y}<br>end_time=%{customdata[1]}<extra></extra>",
         "legendgroup": "SM",
         "marker": {
          "color": "#FFA15A",
          "symbol": "circle"
         },
         "mode": "markers",
         "name": "SM",
         "orientation": "h",
         "showlegend": true,
         "type": "scatter",
         "x": [
          51540,
          51000,
          51240,
          64620,
          68760,
          68580,
          67080,
          52200,
          50760,
          78180,
          52200,
          69780,
          69240,
          78660,
          69600,
          69720,
          69420,
          50520,
          51000,
          78900,
          67980,
          69420,
          68640,
          64140,
          69060,
          69480,
          69840,
          69900,
          52080,
          51600,
          51900,
          69840,
          70140,
          77520,
          69780,
          68460,
          69000,
          70260,
          67860,
          77640,
          68940,
          67740,
          69300,
          77340,
          51780,
          51240,
          69480,
          69780,
          51660,
          78960,
          67020,
          69360,
          69480,
          78840,
          78420,
          79020,
          69960,
          69420,
          67320,
          51420,
          50820,
          69060,
          69660
         ],
         "xaxis": "x",
         "y": [
          "2022-01-03",
          "2022-01-04",
          "2022-01-05",
          "2022-01-07",
          "2022-01-10",
          "2022-01-11",
          "2022-01-12",
          "2022-01-15",
          "2022-01-16",
          "2022-01-17",
          "2022-01-18",
          "2022-01-19",
          "2022-01-20",
          "2022-01-21",
          "2022-01-24",
          "2022-01-25",
          "2022-01-26",
          "2022-01-27",
          "2022-01-28",
          "2022-01-31",
          "2022-02-01",
          "2022-02-02",
          "2022-02-03",
          "2022-02-04",
          "2022-02-07",
          "2022-02-08",
          "2022-02-09",
          "2022-02-10",
          "2022-02-11",
          "2022-02-14",
          "2022-02-15",
          "2022-02-16",
          "2022-02-17",
          "2022-02-18",
          "2022-02-21",
          "2022-02-22",
          "2022-02-23",
          "2022-02-24",
          "2022-02-25",
          "2022-02-28",
          "2022-03-01",
          "2022-03-02",
          "2022-03-03",
          "2022-03-04",
          "2022-03-07",
          "2022-03-08",
          "2022-03-09",
          "2022-03-10",
          "2022-03-11",
          "2022-03-14",
          "2022-03-15",
          "2022-03-16",
          "2022-03-17",
          "2022-03-18",
          "2022-03-19",
          "2022-03-20",
          "2022-03-23",
          "2022-03-24",
          "2022-03-25",
          "2022-03-28",
          "2022-03-29",
          "2022-03-30",
          "2022-03-31"
         ],
         "yaxis": "y"
        },
        {
         "customdata": [
          [
           "ER",
           "14:09:00"
          ],
          [
           "ER",
           "14:15:00"
          ],
          [
           "ER",
           "14:09:00"
          ],
          [
           "ER",
           "14:20:00"
          ],
          [
           "ER",
           "12:55:00"
          ],
          [
           "ER",
           "19:19:00"
          ],
          [
           "ER",
           "14:30:00"
          ],
          [
           "ER",
           "18:32:00"
          ],
          [
           "ER",
           "19:23:00"
          ],
          [
           "ER",
           "21:53:00"
          ],
          [
           "ER",
           "21:54:00"
          ],
          [
           "ER",
           "21:45:00"
          ],
          [
           "ER",
           "21:51:00"
          ],
          [
           "ER",
           "21:44:00"
          ],
          [
           "ER",
           "21:21:00"
          ],
          [
           "ER",
           "21:48:00"
          ],
          [
           "ER",
           "21:55:00"
          ],
          [
           "ER",
           "21:53:00"
          ],
          [
           "ER",
           "14:21:00"
          ],
          [
           "ER",
           "14:03:00"
          ],
          [
           "ER",
           "14:02:00"
          ],
          [
           "ER",
           "19:22:00"
          ],
          [
           "ER",
           "18:42:00"
          ],
          [
           "ER",
           "19:18:00"
          ],
          [
           "ER",
           "19:03:00"
          ],
          [
           "ER",
           "19:12:00"
          ],
          [
           "ER",
           "20:58:00"
          ],
          [
           "ER",
           "21:51:00"
          ],
          [
           "ER",
           "21:15:00"
          ],
          [
           "ER",
           "21:32:00"
          ],
          [
           "ER",
           "18:42:00"
          ],
          [
           "ER",
           "19:30:00"
          ],
          [
           "ER",
           "19:22:00"
          ],
          [
           "ER",
           "14:16:00"
          ],
          [
           "ER",
           "21:25:00"
          ],
          [
           "ER",
           "21:56:00"
          ],
          [
           "ER",
           "21:48:00"
          ],
          [
           "ER",
           "21:30:00"
          ],
          [
           "ER",
           "21:53:00"
          ],
          [
           "ER",
           "21:47:00"
          ],
          [
           "ER",
           "21:37:00"
          ],
          [
           "ER",
           "19:22:00"
          ],
          [
           "ER",
           "19:21:00"
          ],
          [
           "ER",
           "18:31:00"
          ],
          [
           "ER",
           "19:32:00"
          ],
          [
           "ER",
           "19:29:00"
          ],
          [
           "ER",
           "14:21:00"
          ],
          [
           "ER",
           "14:27:00"
          ],
          [
           "ER",
           "14:20:00"
          ],
          [
           "ER",
           "14:22:00"
          ],
          [
           "ER",
           "19:22:00"
          ],
          [
           "ER",
           "19:05:00"
          ],
          [
           "ER",
           "19:21:00"
          ],
          [
           "ER",
           "19:21:00"
          ],
          [
           "ER",
           "19:17:00"
          ],
          [
           "ER",
           "21:29:00"
          ],
          [
           "ER",
           "21:28:00"
          ],
          [
           "ER",
           "21:48:00"
          ],
          [
           "ER",
           "09:40:00"
          ],
          [
           "ER",
           "14:09:00"
          ],
          [
           "ER",
           "14:18:00"
          ],
          [
           "ER",
           "14:22:00"
          ],
          [
           "ER",
           "14:21:00"
          ],
          [
           "ER",
           "14:22:00"
          ],
          [
           "ER",
           "13:51:00"
          ]
         ],
         "hovertemplate": "user_id=%{customdata[0]}<br>Time of Day (HH:MM)=%{x}<br>Event Date=%{y}<br>end_time=%{customdata[1]}<extra></extra>",
         "legendgroup": "ER",
         "marker": {
          "color": "#19d3f3",
          "symbol": "circle"
         },
         "mode": "markers",
         "name": "ER",
         "orientation": "h",
         "showlegend": true,
         "type": "scatter",
         "x": [
          50940,
          51300,
          50940,
          51600,
          46500,
          69540,
          52200,
          66720,
          69780,
          78780,
          78840,
          78300,
          78660,
          78240,
          76860,
          78480,
          78900,
          78780,
          51660,
          50580,
          50520,
          69720,
          67320,
          69480,
          68580,
          69120,
          75480,
          78660,
          76500,
          77520,
          67320,
          70200,
          69720,
          51360,
          77100,
          78960,
          78480,
          77400,
          78780,
          78420,
          77820,
          69720,
          69660,
          66660,
          70320,
          70140,
          51660,
          52020,
          51600,
          51720,
          69720,
          68700,
          69660,
          69660,
          69420,
          77340,
          77280,
          78480,
          34800,
          50940,
          51480,
          51720,
          51660,
          51720,
          49860
         ],
         "xaxis": "x",
         "y": [
          "2022-01-03",
          "2022-01-04",
          "2022-01-05",
          "2022-01-07",
          "2022-01-10",
          "2022-01-11",
          "2022-01-12",
          "2022-01-13",
          "2022-01-14",
          "2022-01-15",
          "2022-01-16",
          "2022-01-17",
          "2022-01-18",
          "2022-01-19",
          "2022-01-20",
          "2022-01-21",
          "2022-01-22",
          "2022-01-23",
          "2022-01-26",
          "2022-01-27",
          "2022-01-28",
          "2022-01-31",
          "2022-02-01",
          "2022-02-02",
          "2022-02-03",
          "2022-02-04",
          "2022-02-07",
          "2022-02-08",
          "2022-02-09",
          "2022-02-10",
          "2022-02-11",
          "2022-02-14",
          "2022-02-15",
          "2022-02-16",
          "2022-02-17",
          "2022-02-18",
          "2022-02-21",
          "2022-02-22",
          "2022-02-23",
          "2022-02-24",
          "2022-02-25",
          "2022-02-28",
          "2022-03-01",
          "2022-03-02",
          "2022-03-03",
          "2022-03-04",
          "2022-03-07",
          "2022-03-08",
          "2022-03-09",
          "2022-03-10",
          "2022-03-14",
          "2022-03-15",
          "2022-03-16",
          "2022-03-17",
          "2022-03-18",
          "2022-03-21",
          "2022-03-22",
          "2022-03-23",
          "2022-03-24",
          "2022-03-26",
          "2022-03-27",
          "2022-03-28",
          "2022-03-29",
          "2022-03-30",
          "2022-03-31"
         ],
         "yaxis": "y"
        },
        {
         "customdata": [
          [
           "CM",
           "19:15:00"
          ],
          [
           "CM",
           "19:03:00"
          ],
          [
           "CM",
           "19:16:00"
          ],
          [
           "CM",
           "18:43:00"
          ],
          [
           "CM",
           "21:49:00"
          ],
          [
           "CM",
           "21:48:00"
          ],
          [
           "CM",
           "22:12:00"
          ],
          [
           "CM",
           "21:31:00"
          ],
          [
           "CM",
           "21:59:00"
          ],
          [
           "CM",
           "14:19:00"
          ],
          [
           "CM",
           "14:27:00"
          ],
          [
           "CM",
           "14:26:00"
          ],
          [
           "CM",
           "14:24:00"
          ],
          [
           "CM",
           "14:21:00"
          ],
          [
           "CM",
           "19:26:00"
          ],
          [
           "CM",
           "19:27:00"
          ],
          [
           "CM",
           "19:30:00"
          ],
          [
           "CM",
           "19:05:00"
          ],
          [
           "CM",
           "18:41:00"
          ],
          [
           "CM",
           "21:55:00"
          ],
          [
           "CM",
           "21:55:00"
          ],
          [
           "CM",
           "21:40:00"
          ],
          [
           "CM",
           "22:02:00"
          ],
          [
           "CM",
           "20:38:00"
          ],
          [
           "CM",
           "14:19:00"
          ],
          [
           "CM",
           "14:25:00"
          ],
          [
           "CM",
           "14:29:00"
          ],
          [
           "CM",
           "14:32:00"
          ],
          [
           "CM",
           "18:13:00"
          ],
          [
           "CM",
           "21:52:00"
          ],
          [
           "CM",
           "21:34:00"
          ],
          [
           "CM",
           "21:46:00"
          ],
          [
           "CM",
           "21:54:00"
          ],
          [
           "CM",
           "14:27:00"
          ],
          [
           "CM",
           "14:17:00"
          ],
          [
           "CM",
           "13:59:00"
          ],
          [
           "CM",
           "14:18:00"
          ],
          [
           "CM",
           "14:10:00"
          ],
          [
           "CM",
           "14:20:00"
          ],
          [
           "CM",
           "19:25:00"
          ],
          [
           "CM",
           "14:17:00"
          ],
          [
           "CM",
           "14:31:00"
          ],
          [
           "CM",
           "14:17:00"
          ],
          [
           "CM",
           "14:12:00"
          ],
          [
           "CM",
           "21:42:00"
          ],
          [
           "CM",
           "21:50:00"
          ],
          [
           "CM",
           "20:53:00"
          ],
          [
           "CM",
           "21:59:00"
          ],
          [
           "CM",
           "21:11:00"
          ],
          [
           "CM",
           "19:29:00"
          ],
          [
           "CM",
           "19:15:00"
          ],
          [
           "CM",
           "19:25:00"
          ],
          [
           "CM",
           "18:32:00"
          ],
          [
           "CM",
           "18:47:00"
          ],
          [
           "CM",
           "14:08:00"
          ],
          [
           "CM",
           "14:25:00"
          ],
          [
           "CM",
           "14:29:00"
          ],
          [
           "CM",
           "14:22:00"
          ],
          [
           "CM",
           "14:23:00"
          ],
          [
           "CM",
           "21:37:00"
          ],
          [
           "CM",
           "20:59:00"
          ],
          [
           "CM",
           "21:50:00"
          ]
         ],
         "hovertemplate": "user_id=%{customdata[0]}<br>Time of Day (HH:MM)=%{x}<br>Event Date=%{y}<br>end_time=%{customdata[1]}<extra></extra>",
         "legendgroup": "CM",
         "marker": {
          "color": "#FF6692",
          "symbol": "circle"
         },
         "mode": "markers",
         "name": "CM",
         "orientation": "h",
         "showlegend": true,
         "type": "scatter",
         "x": [
          69300,
          68580,
          69360,
          67380,
          78540,
          78480,
          79920,
          77460,
          79140,
          51540,
          52020,
          51960,
          51840,
          51660,
          69960,
          70020,
          70200,
          68700,
          67260,
          78900,
          78900,
          78000,
          79320,
          74280,
          51540,
          51900,
          52140,
          52320,
          65580,
          78720,
          77640,
          78360,
          78840,
          52020,
          51420,
          50340,
          51480,
          51000,
          51600,
          69900,
          51420,
          52260,
          51420,
          51120,
          78120,
          78600,
          75180,
          79140,
          76260,
          70140,
          69300,
          69900,
          66720,
          67620,
          50880,
          51900,
          52140,
          51720,
          51780,
          77820,
          75540,
          78600
         ],
         "xaxis": "x",
         "y": [
          "2022-01-03",
          "2022-01-04",
          "2022-01-05",
          "2022-01-07",
          "2022-01-10",
          "2022-01-11",
          "2022-01-12",
          "2022-01-13",
          "2022-01-14",
          "2022-01-17",
          "2022-01-18",
          "2022-01-19",
          "2022-01-20",
          "2022-01-21",
          "2022-01-24",
          "2022-01-25",
          "2022-01-26",
          "2022-01-27",
          "2022-01-28",
          "2022-01-29",
          "2022-01-30",
          "2022-02-02",
          "2022-02-03",
          "2022-02-04",
          "2022-02-07",
          "2022-02-08",
          "2022-02-09",
          "2022-02-10",
          "2022-02-11",
          "2022-02-14",
          "2022-02-15",
          "2022-02-16",
          "2022-02-17",
          "2022-02-18",
          "2022-02-21",
          "2022-02-22",
          "2022-02-23",
          "2022-02-24",
          "2022-02-25",
          "2022-02-28",
          "2022-03-01",
          "2022-03-02",
          "2022-03-03",
          "2022-03-04",
          "2022-03-07",
          "2022-03-08",
          "2022-03-09",
          "2022-03-10",
          "2022-03-11",
          "2022-03-14",
          "2022-03-15",
          "2022-03-16",
          "2022-03-17",
          "2022-03-18",
          "2022-03-21",
          "2022-03-22",
          "2022-03-23",
          "2022-03-24",
          "2022-03-25",
          "2022-03-28",
          "2022-03-29",
          "2022-03-30"
         ],
         "yaxis": "y"
        },
        {
         "customdata": [
          [
           "PG",
           "18:59:00"
          ],
          [
           "PG",
           "19:03:00"
          ],
          [
           "PG",
           "18:49:00"
          ],
          [
           "PG",
           "18:51:00"
          ],
          [
           "PG",
           "21:53:00"
          ],
          [
           "PG",
           "21:53:00"
          ],
          [
           "PG",
           "14:17:00"
          ],
          [
           "PG",
           "14:18:00"
          ],
          [
           "PG",
           "14:23:00"
          ],
          [
           "PG",
           "18:57:00"
          ],
          [
           "PG",
           "19:14:00"
          ],
          [
           "PG",
           "19:24:00"
          ],
          [
           "PG",
           "19:13:00"
          ],
          [
           "PG",
           "18:52:00"
          ],
          [
           "PG",
           "21:23:00"
          ],
          [
           "PG",
           "21:44:00"
          ],
          [
           "PG",
           "21:58:00"
          ],
          [
           "PG",
           "21:21:00"
          ],
          [
           "PG",
           "14:16:00"
          ],
          [
           "PG",
           "14:12:00"
          ],
          [
           "PG",
           "14:12:00"
          ],
          [
           "PG",
           "19:26:00"
          ],
          [
           "PG",
           "19:12:00"
          ],
          [
           "PG",
           "14:25:00"
          ],
          [
           "PG",
           "19:22:00"
          ],
          [
           "PG",
           "19:15:00"
          ],
          [
           "PG",
           "21:43:00"
          ],
          [
           "PG",
           "21:46:00"
          ],
          [
           "PG",
           "20:33:00"
          ],
          [
           "PG",
           "21:20:00"
          ],
          [
           "PG",
           "21:21:00"
          ],
          [
           "PG",
           "21:22:00"
          ],
          [
           "PG",
           "14:17:00"
          ],
          [
           "PG",
           "13:58:00"
          ],
          [
           "PG",
           "14:15:00"
          ],
          [
           "PG",
           "14:07:00"
          ],
          [
           "PG",
           "14:14:00"
          ],
          [
           "PG",
           "21:43:00"
          ],
          [
           "PG",
           "21:46:00"
          ],
          [
           "PG",
           "18:39:00"
          ],
          [
           "PG",
           "19:13:00"
          ],
          [
           "PG",
           "18:37:00"
          ],
          [
           "PG",
           "19:19:00"
          ],
          [
           "PG",
           "21:26:00"
          ],
          [
           "PG",
           "21:41:00"
          ],
          [
           "PG",
           "22:02:00"
          ],
          [
           "PG",
           "21:25:00"
          ],
          [
           "PG",
           "14:17:00"
          ],
          [
           "PG",
           "13:48:00"
          ],
          [
           "PG",
           "21:36:00"
          ],
          [
           "PG",
           "14:15:00"
          ],
          [
           "PG",
           "14:17:00"
          ],
          [
           "PG",
           "19:23:00"
          ],
          [
           "PG",
           "19:22:00"
          ],
          [
           "PG",
           "19:26:00"
          ],
          [
           "PG",
           "19:09:00"
          ],
          [
           "PG",
           "18:34:00"
          ],
          [
           "PG",
           "21:49:00"
          ],
          [
           "PG",
           "21:51:00"
          ],
          [
           "PG",
           "21:40:00"
          ],
          [
           "PG",
           "21:07:00"
          ]
         ],
         "hovertemplate": "user_id=%{customdata[0]}<br>Time of Day (HH:MM)=%{x}<br>Event Date=%{y}<br>end_time=%{customdata[1]}<extra></extra>",
         "legendgroup": "PG",
         "marker": {
          "color": "#B6E880",
          "symbol": "circle"
         },
         "mode": "markers",
         "name": "PG",
         "orientation": "h",
         "showlegend": true,
         "type": "scatter",
         "x": [
          68340,
          68580,
          67740,
          67860,
          78780,
          78780,
          51420,
          51480,
          51780,
          68220,
          69240,
          69840,
          69180,
          67920,
          76980,
          78240,
          79080,
          76860,
          51360,
          51120,
          51120,
          69960,
          69120,
          51900,
          69720,
          69300,
          78180,
          78360,
          73980,
          76800,
          76860,
          76920,
          51420,
          50280,
          51300,
          50820,
          51240,
          78180,
          78360,
          67140,
          69180,
          67020,
          69540,
          77160,
          78060,
          79320,
          77100,
          51420,
          49680,
          77760,
          51300,
          51420,
          69780,
          69720,
          69960,
          68940,
          66840,
          78540,
          78660,
          78000,
          76020
         ],
         "xaxis": "x",
         "y": [
          "2022-01-03",
          "2022-01-04",
          "2022-01-05",
          "2022-01-07",
          "2022-01-08",
          "2022-01-09",
          "2022-01-10",
          "2022-01-13",
          "2022-01-14",
          "2022-01-17",
          "2022-01-18",
          "2022-01-19",
          "2022-01-20",
          "2022-01-21",
          "2022-01-24",
          "2022-01-25",
          "2022-01-26",
          "2022-01-27",
          "2022-01-28",
          "2022-01-31",
          "2022-02-01",
          "2022-02-02",
          "2022-02-03",
          "2022-02-04",
          "2022-02-07",
          "2022-02-08",
          "2022-02-09",
          "2022-02-10",
          "2022-02-11",
          "2022-02-14",
          "2022-02-15",
          "2022-02-18",
          "2022-02-21",
          "2022-02-22",
          "2022-02-23",
          "2022-02-24",
          "2022-02-25",
          "2022-02-28",
          "2022-03-01",
          "2022-03-02",
          "2022-03-03",
          "2022-03-04",
          "2022-03-07",
          "2022-03-08",
          "2022-03-09",
          "2022-03-10",
          "2022-03-11",
          "2022-03-14",
          "2022-03-15",
          "2022-03-16",
          "2022-03-17",
          "2022-03-18",
          "2022-03-21",
          "2022-03-22",
          "2022-03-23",
          "2022-03-24",
          "2022-03-25",
          "2022-03-28",
          "2022-03-29",
          "2022-03-30",
          "2022-03-31"
         ],
         "yaxis": "y"
        },
        {
         "customdata": [
          [
           "VS",
           "19:14:00"
          ],
          [
           "VS",
           "19:17:00"
          ],
          [
           "VS",
           "19:12:00"
          ],
          [
           "VS",
           "19:00:00"
          ],
          [
           "VS",
           "20:19:00"
          ],
          [
           "VS",
           "21:23:00"
          ],
          [
           "VS",
           "21:51:00"
          ],
          [
           "VS",
           "21:31:00"
          ],
          [
           "VS",
           "18:14:00"
          ],
          [
           "VS",
           "14:21:00"
          ],
          [
           "VS",
           "14:28:00"
          ],
          [
           "VS",
           "14:23:00"
          ],
          [
           "VS",
           "14:24:00"
          ],
          [
           "VS",
           "14:22:00"
          ],
          [
           "VS",
           "21:50:00"
          ],
          [
           "VS",
           "21:24:00"
          ],
          [
           "VS",
           "21:58:00"
          ],
          [
           "VS",
           "21:42:00"
          ],
          [
           "VS",
           "21:40:00"
          ],
          [
           "VS",
           "19:25:00"
          ],
          [
           "VS",
           "08:16:00"
          ],
          [
           "VS",
           "18:33:00"
          ],
          [
           "VS",
           "14:13:00"
          ],
          [
           "VS",
           "14:21:00"
          ],
          [
           "VS",
           "14:19:00"
          ],
          [
           "VS",
           "19:24:00"
          ],
          [
           "VS",
           "18:43:00"
          ],
          [
           "VS",
           "19:25:00"
          ],
          [
           "VS",
           "21:46:00"
          ],
          [
           "VS",
           "21:37:00"
          ],
          [
           "VS",
           "21:47:00"
          ],
          [
           "VS",
           "12:22:00"
          ],
          [
           "VS",
           "14:22:00"
          ],
          [
           "VS",
           "14:23:00"
          ],
          [
           "VS",
           "19:24:00"
          ],
          [
           "VS",
           "19:50:00"
          ],
          [
           "VS",
           "19:22:00"
          ],
          [
           "VS",
           "19:21:00"
          ],
          [
           "VS",
           "18:51:00"
          ],
          [
           "VS",
           "21:54:00"
          ],
          [
           "VS",
           "21:47:00"
          ],
          [
           "VS",
           "21:37:00"
          ],
          [
           "VS",
           "21:42:00"
          ],
          [
           "VS",
           "21:25:00"
          ],
          [
           "VS",
           "14:25:00"
          ],
          [
           "VS",
           "14:25:00"
          ],
          [
           "VS",
           "14:27:00"
          ],
          [
           "VS",
           "14:24:00"
          ],
          [
           "VS",
           "14:25:00"
          ],
          [
           "VS",
           "19:28:00"
          ],
          [
           "VS",
           "19:04:00"
          ],
          [
           "VS",
           "14:01:00"
          ],
          [
           "VS",
           "19:21:00"
          ]
         ],
         "hovertemplate": "user_id=%{customdata[0]}<br>Time of Day (HH:MM)=%{x}<br>Event Date=%{y}<br>end_time=%{customdata[1]}<extra></extra>",
         "legendgroup": "VS",
         "marker": {
          "color": "#FF97FF",
          "symbol": "circle"
         },
         "mode": "markers",
         "name": "VS",
         "orientation": "h",
         "showlegend": true,
         "type": "scatter",
         "x": [
          69240,
          69420,
          69120,
          68400,
          73140,
          76980,
          78660,
          77460,
          65640,
          51660,
          52080,
          51780,
          51840,
          51720,
          78600,
          77040,
          79080,
          78120,
          78000,
          69900,
          29760,
          66780,
          51180,
          51660,
          51540,
          69840,
          67380,
          69900,
          78360,
          77820,
          78420,
          44520,
          51720,
          51780,
          69840,
          71400,
          69720,
          69660,
          67860,
          78840,
          78420,
          77820,
          78120,
          77100,
          51900,
          51900,
          52020,
          51840,
          51900,
          70080,
          68640,
          50460,
          69660
         ],
         "xaxis": "x",
         "y": [
          "2022-01-03",
          "2022-01-04",
          "2022-01-05",
          "2022-01-07",
          "2022-01-10",
          "2022-01-11",
          "2022-01-12",
          "2022-01-13",
          "2022-01-14",
          "2022-01-17",
          "2022-01-18",
          "2022-01-19",
          "2022-01-20",
          "2022-01-21",
          "2022-01-24",
          "2022-01-25",
          "2022-01-26",
          "2022-01-27",
          "2022-01-28",
          "2022-01-31",
          "2022-02-03",
          "2022-02-04",
          "2022-02-07",
          "2022-02-08",
          "2022-02-09",
          "2022-02-10",
          "2022-02-11",
          "2022-02-14",
          "2022-02-22",
          "2022-02-24",
          "2022-02-25",
          "2022-02-28",
          "2022-03-03",
          "2022-03-04",
          "2022-03-07",
          "2022-03-08",
          "2022-03-09",
          "2022-03-10",
          "2022-03-11",
          "2022-03-14",
          "2022-03-15",
          "2022-03-16",
          "2022-03-17",
          "2022-03-18",
          "2022-03-21",
          "2022-03-22",
          "2022-03-23",
          "2022-03-24",
          "2022-03-25",
          "2022-03-28",
          "2022-03-29",
          "2022-03-30",
          "2022-03-31"
         ],
         "yaxis": "y"
        },
        {
         "customdata": [
          [
           "PN",
           "17:17:00"
          ],
          [
           "PN",
           "19:05:00"
          ],
          [
           "PN",
           "14:15:00"
          ],
          [
           "PN",
           "18:46:00"
          ],
          [
           "PN",
           "18:50:00"
          ],
          [
           "PN",
           "18:57:00"
          ],
          [
           "PN",
           "18:43:00"
          ],
          [
           "PN",
           "18:58:00"
          ],
          [
           "PN",
           "19:24:00"
          ],
          [
           "PN",
           "19:18:00"
          ],
          [
           "PN",
           "19:27:00"
          ],
          [
           "PN",
           "19:21:00"
          ],
          [
           "PN",
           "19:09:00"
          ],
          [
           "PN",
           "14:23:00"
          ],
          [
           "PN",
           "21:45:00"
          ],
          [
           "PN",
           "21:55:00"
          ],
          [
           "PN",
           "21:53:00"
          ],
          [
           "PN",
           "21:26:00"
          ],
          [
           "PN",
           "21:56:00"
          ],
          [
           "PN",
           "21:11:00"
          ],
          [
           "PN",
           "21:56:00"
          ],
          [
           "PN",
           "21:05:00"
          ],
          [
           "PN",
           "21:59:00"
          ],
          [
           "PN",
           "22:01:00"
          ],
          [
           "PN",
           "19:10:00"
          ],
          [
           "PN",
           "19:23:00"
          ],
          [
           "PN",
           "19:18:00"
          ],
          [
           "PN",
           "19:24:00"
          ],
          [
           "PN",
           "18:33:00"
          ],
          [
           "PN",
           "18:28:00"
          ],
          [
           "PN",
           "21:58:00"
          ],
          [
           "PN",
           "21:40:00"
          ],
          [
           "PN",
           "19:17:00"
          ],
          [
           "PN",
           "19:16:00"
          ],
          [
           "PN",
           "19:08:00"
          ],
          [
           "PN",
           "19:12:00"
          ],
          [
           "PN",
           "19:14:00"
          ],
          [
           "PN",
           "14:19:00"
          ],
          [
           "PN",
           "21:55:00"
          ],
          [
           "PN",
           "21:35:00"
          ],
          [
           "PN",
           "21:49:00"
          ],
          [
           "PN",
           "21:57:00"
          ],
          [
           "PN",
           "21:18:00"
          ],
          [
           "PN",
           "20:03:00"
          ],
          [
           "PN",
           "19:20:00"
          ],
          [
           "PN",
           "19:02:00"
          ],
          [
           "PN",
           "19:20:00"
          ],
          [
           "PN",
           "19:22:00"
          ],
          [
           "PN",
           "14:23:00"
          ],
          [
           "PN",
           "19:23:00"
          ],
          [
           "PN",
           "19:05:00"
          ],
          [
           "PN",
           "19:18:00"
          ],
          [
           "PN",
           "19:18:00"
          ],
          [
           "PN",
           "18:07:00"
          ],
          [
           "PN",
           "21:47:00"
          ],
          [
           "PN",
           "21:32:00"
          ],
          [
           "PN",
           "21:39:00"
          ],
          [
           "PN",
           "21:44:00"
          ],
          [
           "PN",
           "21:48:00"
          ],
          [
           "PN",
           "19:25:00"
          ],
          [
           "PN",
           "19:06:00"
          ],
          [
           "PN",
           "19:16:00"
          ],
          [
           "PN",
           "19:18:00"
          ]
         ],
         "hovertemplate": "user_id=%{customdata[0]}<br>Time of Day (HH:MM)=%{x}<br>Event Date=%{y}<br>end_time=%{customdata[1]}<extra></extra>",
         "legendgroup": "PN",
         "marker": {
          "color": "#FECB52",
          "symbol": "circle"
         },
         "mode": "markers",
         "name": "PN",
         "orientation": "h",
         "showlegend": true,
         "type": "scatter",
         "x": [
          62220,
          68700,
          51300,
          67560,
          67800,
          68220,
          67380,
          68280,
          69840,
          69480,
          70020,
          69660,
          68940,
          51780,
          78300,
          78900,
          78780,
          77160,
          78960,
          76260,
          78960,
          75900,
          79140,
          79260,
          69000,
          69780,
          69480,
          69840,
          66780,
          66480,
          79080,
          78000,
          69420,
          69360,
          68880,
          69120,
          69240,
          51540,
          78900,
          77700,
          78540,
          79020,
          76680,
          72180,
          69600,
          68520,
          69600,
          69720,
          51780,
          69780,
          68700,
          69480,
          69480,
          65220,
          78420,
          77520,
          77940,
          78240,
          78480,
          69900,
          68760,
          69360,
          69480
         ],
         "xaxis": "x",
         "y": [
          "2022-01-03",
          "2022-01-04",
          "2022-01-05",
          "2022-01-07",
          "2022-01-10",
          "2022-01-11",
          "2022-01-12",
          "2022-01-13",
          "2022-01-14",
          "2022-01-17",
          "2022-01-18",
          "2022-01-19",
          "2022-01-20",
          "2022-01-21",
          "2022-01-24",
          "2022-01-25",
          "2022-01-26",
          "2022-01-27",
          "2022-01-28",
          "2022-01-31",
          "2022-02-01",
          "2022-02-02",
          "2022-02-03",
          "2022-02-04",
          "2022-02-07",
          "2022-02-08",
          "2022-02-09",
          "2022-02-10",
          "2022-02-11",
          "2022-02-14",
          "2022-02-15",
          "2022-02-16",
          "2022-02-17",
          "2022-02-18",
          "2022-02-21",
          "2022-02-22",
          "2022-02-23",
          "2022-02-26",
          "2022-02-27",
          "2022-02-28",
          "2022-03-01",
          "2022-03-02",
          "2022-03-03",
          "2022-03-04",
          "2022-03-07",
          "2022-03-08",
          "2022-03-09",
          "2022-03-10",
          "2022-03-11",
          "2022-03-14",
          "2022-03-15",
          "2022-03-16",
          "2022-03-17",
          "2022-03-18",
          "2022-03-21",
          "2022-03-22",
          "2022-03-23",
          "2022-03-24",
          "2022-03-25",
          "2022-03-28",
          "2022-03-29",
          "2022-03-30",
          "2022-03-31"
         ],
         "yaxis": "y"
        },
        {
         "customdata": [
          [
           "MAA",
           "19:41:00"
          ],
          [
           "MAA",
           "14:18:00"
          ],
          [
           "MAA",
           "14:12:00"
          ],
          [
           "MAA",
           "14:10:00"
          ],
          [
           "MAA",
           "18:02:00"
          ],
          [
           "MAA",
           "21:51:00"
          ]
         ],
         "hovertemplate": "user_id=%{customdata[0]}<br>Time of Day (HH:MM)=%{x}<br>Event Date=%{y}<br>end_time=%{customdata[1]}<extra></extra>",
         "legendgroup": "MAA",
         "marker": {
          "color": "#636efa",
          "symbol": "circle"
         },
         "mode": "markers",
         "name": "MAA",
         "orientation": "h",
         "showlegend": true,
         "type": "scatter",
         "x": [
          70860,
          51480,
          51120,
          51000,
          64920,
          78660
         ],
         "xaxis": "x",
         "y": [
          "2022-01-03",
          "2022-01-06",
          "2022-01-08",
          "2022-01-09",
          "2022-01-10",
          "2022-03-31"
         ],
         "yaxis": "y"
        },
        {
         "customdata": [
          [
           "VA",
           "21:26:00"
          ],
          [
           "VA",
           "21:37:00"
          ],
          [
           "VA",
           "16:05:00"
          ],
          [
           "VA",
           "13:46:00"
          ],
          [
           "VA",
           "14:25:00"
          ],
          [
           "VA",
           "14:16:00"
          ],
          [
           "VA",
           "21:33:00"
          ],
          [
           "VA",
           "21:47:00"
          ],
          [
           "VA",
           "21:56:00"
          ],
          [
           "VA",
           "21:55:00"
          ],
          [
           "VA",
           "21:01:00"
          ],
          [
           "VA",
           "21:28:00"
          ],
          [
           "VA",
           "20:57:00"
          ],
          [
           "VA",
           "22:02:00"
          ],
          [
           "VA",
           "20:54:00"
          ],
          [
           "VA",
           "21:12:00"
          ],
          [
           "VA",
           "14:25:00"
          ],
          [
           "VA",
           "14:18:00"
          ],
          [
           "VA",
           "14:24:00"
          ],
          [
           "VA",
           "14:21:00"
          ],
          [
           "VA",
           "14:30:00"
          ],
          [
           "VA",
           "21:37:00"
          ],
          [
           "VA",
           "21:49:00"
          ],
          [
           "VA",
           "21:38:00"
          ],
          [
           "VA",
           "21:55:00"
          ],
          [
           "VA",
           "20:57:00"
          ],
          [
           "VA",
           "14:10:00"
          ],
          [
           "VA",
           "14:08:00"
          ],
          [
           "VA",
           "14:09:00"
          ],
          [
           "VA",
           "12:52:00"
          ]
         ],
         "hovertemplate": "user_id=%{customdata[0]}<br>Time of Day (HH:MM)=%{x}<br>Event Date=%{y}<br>end_time=%{customdata[1]}<extra></extra>",
         "legendgroup": "VA",
         "marker": {
          "color": "#EF553B",
          "symbol": "circle"
         },
         "mode": "markers",
         "name": "VA",
         "orientation": "h",
         "showlegend": true,
         "type": "scatter",
         "x": [
          77160,
          77820,
          57900,
          49560,
          51900,
          51360,
          77580,
          78420,
          78960,
          78900,
          75660,
          77280,
          75420,
          79320,
          75240,
          76320,
          51900,
          51480,
          51840,
          51660,
          52200,
          77820,
          78540,
          77880,
          78900,
          75420,
          51000,
          50880,
          50940,
          46320
         ],
         "xaxis": "x",
         "y": [
          "2022-01-03",
          "2022-01-04",
          "2022-01-05",
          "2022-01-19",
          "2022-01-22",
          "2022-01-23",
          "2022-01-31",
          "2022-02-01",
          "2022-02-02",
          "2022-02-03",
          "2022-02-04",
          "2022-02-14",
          "2022-02-15",
          "2022-02-16",
          "2022-02-17",
          "2022-02-18",
          "2022-02-28",
          "2022-03-01",
          "2022-03-02",
          "2022-03-05",
          "2022-03-06",
          "2022-03-14",
          "2022-03-15",
          "2022-03-16",
          "2022-03-17",
          "2022-03-18",
          "2022-03-28",
          "2022-03-29",
          "2022-03-30",
          "2022-03-31"
         ],
         "yaxis": "y"
        },
        {
         "customdata": [
          [
           "MR",
           "21:44:00"
          ],
          [
           "MR",
           "21:43:00"
          ],
          [
           "MR",
           "21:54:00"
          ],
          [
           "MR",
           "21:48:00"
          ],
          [
           "MR",
           "14:17:00"
          ],
          [
           "MR",
           "14:20:00"
          ],
          [
           "MR",
           "14:22:00"
          ],
          [
           "MR",
           "14:18:00"
          ],
          [
           "MR",
           "14:24:00"
          ],
          [
           "MR",
           "14:19:00"
          ],
          [
           "MR",
           "14:13:00"
          ],
          [
           "MR",
           "14:13:00"
          ],
          [
           "MR",
           "13:41:00"
          ],
          [
           "MR",
           "14:13:00"
          ],
          [
           "MR",
           "14:07:00"
          ],
          [
           "MR",
           "14:25:00"
          ],
          [
           "MR",
           "14:19:00"
          ],
          [
           "MR",
           "14:07:00"
          ],
          [
           "MR",
           "14:23:00"
          ],
          [
           "MR",
           "14:17:00"
          ],
          [
           "MR",
           "14:21:00"
          ],
          [
           "MR",
           "14:22:00"
          ],
          [
           "MR",
           "21:47:00"
          ],
          [
           "MR",
           "21:54:00"
          ],
          [
           "MR",
           "13:56:00"
          ],
          [
           "MR",
           "14:01:00"
          ],
          [
           "MR",
           "14:06:00"
          ],
          [
           "MR",
           "14:18:00"
          ],
          [
           "MR",
           "14:07:00"
          ],
          [
           "MR",
           "14:17:00"
          ],
          [
           "MR",
           "14:18:00"
          ],
          [
           "MR",
           "14:14:00"
          ],
          [
           "MR",
           "14:12:00"
          ],
          [
           "MR",
           "14:17:00"
          ],
          [
           "MR",
           "14:25:00"
          ],
          [
           "MR",
           "14:25:00"
          ],
          [
           "MR",
           "14:20:00"
          ],
          [
           "MR",
           "14:22:00"
          ],
          [
           "MR",
           "14:19:00"
          ],
          [
           "MR",
           "14:20:00"
          ],
          [
           "MR",
           "14:25:00"
          ],
          [
           "MR",
           "14:18:00"
          ],
          [
           "MR",
           "14:24:00"
          ],
          [
           "MR",
           "14:26:00"
          ],
          [
           "MR",
           "14:26:00"
          ],
          [
           "MR",
           "14:20:00"
          ],
          [
           "MR",
           "14:14:00"
          ],
          [
           "MR",
           "14:03:00"
          ],
          [
           "MR",
           "14:21:00"
          ],
          [
           "MR",
           "14:23:00"
          ],
          [
           "MR",
           "14:21:00"
          ],
          [
           "MR",
           "14:16:00"
          ],
          [
           "MR",
           "14:16:00"
          ],
          [
           "MR",
           "14:08:00"
          ],
          [
           "MR",
           "14:20:00"
          ],
          [
           "MR",
           "14:16:00"
          ]
         ],
         "hovertemplate": "user_id=%{customdata[0]}<br>Time of Day (HH:MM)=%{x}<br>Event Date=%{y}<br>end_time=%{customdata[1]}<extra></extra>",
         "legendgroup": "MR",
         "marker": {
          "color": "#00cc96",
          "symbol": "circle"
         },
         "mode": "markers",
         "name": "MR",
         "orientation": "h",
         "showlegend": true,
         "type": "scatter",
         "x": [
          78240,
          78180,
          78840,
          78480,
          51420,
          51600,
          51720,
          51480,
          51840,
          51540,
          51180,
          51180,
          49260,
          51180,
          50820,
          51900,
          51540,
          50820,
          51780,
          51420,
          51660,
          51720,
          78420,
          78840,
          50160,
          50460,
          50760,
          51480,
          50820,
          51420,
          51480,
          51240,
          51120,
          51420,
          51900,
          51900,
          51600,
          51720,
          51540,
          51600,
          51900,
          51480,
          51840,
          51960,
          51960,
          51600,
          51240,
          50580,
          51660,
          51780,
          51660,
          51360,
          51360,
          50880,
          51600,
          51360
         ],
         "xaxis": "x",
         "y": [
          "2022-01-03",
          "2022-01-04",
          "2022-01-05",
          "2022-01-07",
          "2022-01-10",
          "2022-01-11",
          "2022-01-12",
          "2022-01-13",
          "2022-01-25",
          "2022-01-26",
          "2022-01-29",
          "2022-01-30",
          "2022-01-31",
          "2022-02-01",
          "2022-02-02",
          "2022-02-03",
          "2022-02-04",
          "2022-02-07",
          "2022-02-08",
          "2022-02-09",
          "2022-02-10",
          "2022-02-11",
          "2022-02-12",
          "2022-02-13",
          "2022-02-16",
          "2022-02-17",
          "2022-02-18",
          "2022-02-21",
          "2022-02-22",
          "2022-02-23",
          "2022-02-24",
          "2022-02-25",
          "2022-02-28",
          "2022-03-01",
          "2022-03-02",
          "2022-03-03",
          "2022-03-04",
          "2022-03-07",
          "2022-03-08",
          "2022-03-09",
          "2022-03-10",
          "2022-03-11",
          "2022-03-14",
          "2022-03-15",
          "2022-03-16",
          "2022-03-17",
          "2022-03-18",
          "2022-03-21",
          "2022-03-22",
          "2022-03-23",
          "2022-03-24",
          "2022-03-25",
          "2022-03-28",
          "2022-03-29",
          "2022-03-30",
          "2022-03-31"
         ],
         "yaxis": "y"
        },
        {
         "customdata": [
          [
           "AV",
           "21:15:00"
          ],
          [
           "AV",
           "21:49:00"
          ],
          [
           "AV",
           "21:35:00"
          ],
          [
           "AV",
           "21:51:00"
          ],
          [
           "AV",
           "19:05:00"
          ],
          [
           "AV",
           "19:16:00"
          ],
          [
           "AV",
           "19:17:00"
          ],
          [
           "AV",
           "18:44:00"
          ],
          [
           "AV",
           "19:26:00"
          ],
          [
           "AV",
           "14:04:00"
          ],
          [
           "AV",
           "14:23:00"
          ],
          [
           "AV",
           "14:31:00"
          ],
          [
           "AV",
           "19:13:00"
          ],
          [
           "AV",
           "19:10:00"
          ],
          [
           "AV",
           "19:25:00"
          ],
          [
           "AV",
           "19:13:00"
          ],
          [
           "AV",
           "19:25:00"
          ],
          [
           "AV",
           "19:18:00"
          ],
          [
           "AV",
           "18:47:00"
          ],
          [
           "AV",
           "21:01:00"
          ],
          [
           "AV",
           "21:47:00"
          ],
          [
           "AV",
           "21:36:00"
          ],
          [
           "AV",
           "22:01:00"
          ],
          [
           "AV",
           "20:54:00"
          ],
          [
           "AV",
           "13:48:00"
          ],
          [
           "AV",
           "14:28:00"
          ],
          [
           "AV",
           "14:27:00"
          ],
          [
           "AV",
           "14:27:00"
          ],
          [
           "AV",
           "14:15:00"
          ],
          [
           "AV",
           "21:46:00"
          ],
          [
           "AV",
           "21:53:00"
          ],
          [
           "AV",
           "21:53:00"
          ],
          [
           "AV",
           "20:58:00"
          ],
          [
           "AV",
           "21:42:00"
          ],
          [
           "AV",
           "14:18:00"
          ],
          [
           "AV",
           "14:21:00"
          ],
          [
           "AV",
           "14:23:00"
          ],
          [
           "AV",
           "14:24:00"
          ],
          [
           "AV",
           "14:25:00"
          ],
          [
           "AV",
           "21:56:00"
          ],
          [
           "AV",
           "21:30:00"
          ],
          [
           "AV",
           "21:52:00"
          ],
          [
           "AV",
           "21:55:00"
          ],
          [
           "AV",
           "20:05:00"
          ],
          [
           "AV",
           "19:17:00"
          ],
          [
           "AV",
           "19:12:00"
          ],
          [
           "AV",
           "19:23:00"
          ],
          [
           "AV",
           "19:20:00"
          ],
          [
           "AV",
           "18:45:00"
          ],
          [
           "AV",
           "19:24:00"
          ],
          [
           "AV",
           "19:25:00"
          ],
          [
           "AV",
           "19:18:00"
          ],
          [
           "AV",
           "11:01:00"
          ],
          [
           "AV",
           "21:55:00"
          ],
          [
           "AV",
           "21:24:00"
          ],
          [
           "AV",
           "21:51:00"
          ]
         ],
         "hovertemplate": "user_id=%{customdata[0]}<br>Time of Day (HH:MM)=%{x}<br>Event Date=%{y}<br>end_time=%{customdata[1]}<extra></extra>",
         "legendgroup": "AV",
         "marker": {
          "color": "#ab63fa",
          "symbol": "circle"
         },
         "mode": "markers",
         "name": "AV",
         "orientation": "h",
         "showlegend": true,
         "type": "scatter",
         "x": [
          76500,
          78540,
          77700,
          78660,
          68700,
          69360,
          69420,
          67440,
          69960,
          50640,
          51780,
          52260,
          69180,
          69000,
          69900,
          69180,
          69900,
          69480,
          67620,
          75660,
          78420,
          77760,
          79260,
          75240,
          49680,
          52080,
          52020,
          52020,
          51300,
          78360,
          78780,
          78780,
          75480,
          78120,
          51480,
          51660,
          51780,
          51840,
          51900,
          78960,
          77400,
          78720,
          78900,
          72300,
          69420,
          69120,
          69780,
          69600,
          67500,
          69840,
          69900,
          69480,
          39660,
          78900,
          77040,
          78660
         ],
         "xaxis": "x",
         "y": [
          "2022-01-03",
          "2022-01-04",
          "2022-01-05",
          "2022-01-07",
          "2022-01-10",
          "2022-01-11",
          "2022-01-12",
          "2022-01-13",
          "2022-01-14",
          "2022-01-17",
          "2022-01-18",
          "2022-01-19",
          "2022-01-20",
          "2022-01-21",
          "2022-01-24",
          "2022-01-25",
          "2022-01-26",
          "2022-01-27",
          "2022-01-28",
          "2022-01-31",
          "2022-02-01",
          "2022-02-02",
          "2022-02-03",
          "2022-02-04",
          "2022-02-07",
          "2022-02-08",
          "2022-02-09",
          "2022-02-10",
          "2022-02-11",
          "2022-02-21",
          "2022-02-22",
          "2022-02-23",
          "2022-02-24",
          "2022-02-25",
          "2022-02-28",
          "2022-03-01",
          "2022-03-02",
          "2022-03-03",
          "2022-03-04",
          "2022-03-07",
          "2022-03-08",
          "2022-03-09",
          "2022-03-10",
          "2022-03-11",
          "2022-03-14",
          "2022-03-15",
          "2022-03-16",
          "2022-03-17",
          "2022-03-18",
          "2022-03-21",
          "2022-03-22",
          "2022-03-23",
          "2022-03-24",
          "2022-03-29",
          "2022-03-30",
          "2022-03-31"
         ],
         "yaxis": "y"
        },
        {
         "customdata": [
          [
           "ML",
           "16:57:00"
          ],
          [
           "ML",
           "17:10:00"
          ],
          [
           "ML",
           "18:40:00"
          ],
          [
           "ML",
           "17:20:00"
          ],
          [
           "ML",
           "17:25:00"
          ],
          [
           "ML",
           "13:49:00"
          ],
          [
           "ML",
           "17:18:00"
          ],
          [
           "ML",
           "17:22:00"
          ],
          [
           "ML",
           "13:04:00"
          ],
          [
           "ML",
           "17:29:00"
          ],
          [
           "ML",
           "17:19:00"
          ],
          [
           "ML",
           "17:24:00"
          ],
          [
           "ML",
           "17:19:00"
          ],
          [
           "ML",
           "17:18:00"
          ],
          [
           "ML",
           "17:23:00"
          ],
          [
           "ML",
           "17:20:00"
          ],
          [
           "ML",
           "14:19:00"
          ],
          [
           "ML",
           "14:16:00"
          ],
          [
           "ML",
           "17:24:00"
          ],
          [
           "ML",
           "16:58:00"
          ],
          [
           "ML",
           "17:19:00"
          ],
          [
           "ML",
           "14:14:00"
          ],
          [
           "ML",
           "14:15:00"
          ],
          [
           "ML",
           "14:17:00"
          ],
          [
           "ML",
           "13:55:00"
          ],
          [
           "ML",
           "17:20:00"
          ],
          [
           "ML",
           "17:27:00"
          ],
          [
           "ML",
           "17:25:00"
          ],
          [
           "ML",
           "17:21:00"
          ],
          [
           "ML",
           "17:20:00"
          ],
          [
           "ML",
           "17:22:00"
          ]
         ],
         "hovertemplate": "user_id=%{customdata[0]}<br>Time of Day (HH:MM)=%{x}<br>Event Date=%{y}<br>end_time=%{customdata[1]}<extra></extra>",
         "legendgroup": "ML",
         "marker": {
          "color": "#FFA15A",
          "symbol": "circle"
         },
         "mode": "markers",
         "name": "ML",
         "orientation": "h",
         "showlegend": true,
         "type": "scatter",
         "x": [
          61020,
          61800,
          67200,
          62400,
          62700,
          49740,
          62280,
          62520,
          47040,
          62940,
          62340,
          62640,
          62340,
          62280,
          62580,
          62400,
          51540,
          51360,
          62640,
          61080,
          62340,
          51240,
          51300,
          51420,
          50100,
          62400,
          62820,
          62700,
          62460,
          62400,
          62520
         ],
         "xaxis": "x",
         "y": [
          "2022-01-10",
          "2022-01-11",
          "2022-01-12",
          "2022-01-13",
          "2022-01-14",
          "2022-01-17",
          "2022-01-24",
          "2022-01-25",
          "2022-01-26",
          "2022-01-27",
          "2022-01-28",
          "2022-02-07",
          "2022-02-08",
          "2022-02-09",
          "2022-02-10",
          "2022-02-11",
          "2022-02-19",
          "2022-02-20",
          "2022-02-23",
          "2022-02-24",
          "2022-02-25",
          "2022-03-07",
          "2022-03-08",
          "2022-03-09",
          "2022-03-10",
          "2022-03-11",
          "2022-03-21",
          "2022-03-22",
          "2022-03-23",
          "2022-03-24",
          "2022-03-25"
         ],
         "yaxis": "y"
        },
        {
         "customdata": [
          [
           "MMF",
           "21:41:00"
          ],
          [
           "MMF",
           "21:10:00"
          ],
          [
           "MMF",
           "21:56:00"
          ],
          [
           "MMF",
           "22:00:00"
          ],
          [
           "MMF",
           "21:45:00"
          ],
          [
           "MMF",
           "19:13:00"
          ],
          [
           "MMF",
           "19:27:00"
          ],
          [
           "MMF",
           "14:26:00"
          ],
          [
           "MMF",
           "14:22:00"
          ],
          [
           "MMF",
           "18:59:00"
          ],
          [
           "MMF",
           "14:15:00"
          ],
          [
           "MMF",
           "14:17:00"
          ],
          [
           "MMF",
           "14:10:00"
          ],
          [
           "MMF",
           "14:23:00"
          ],
          [
           "MMF",
           "14:18:00"
          ],
          [
           "MMF",
           "19:10:00"
          ],
          [
           "MMF",
           "18:44:00"
          ],
          [
           "MMF",
           "14:25:00"
          ],
          [
           "MMF",
           "19:21:00"
          ],
          [
           "MMF",
           "19:13:00"
          ],
          [
           "MMF",
           "21:15:00"
          ],
          [
           "MMF",
           "18:47:00"
          ],
          [
           "MMF",
           "21:10:00"
          ],
          [
           "MMF",
           "21:23:00"
          ],
          [
           "MMF",
           "21:53:00"
          ],
          [
           "MMF",
           "14:13:00"
          ],
          [
           "MMF",
           "13:34:00"
          ],
          [
           "MMF",
           "19:26:00"
          ],
          [
           "MMF",
           "14:21:00"
          ],
          [
           "MMF",
           "14:16:00"
          ],
          [
           "MMF",
           "21:42:00"
          ],
          [
           "MMF",
           "21:36:00"
          ],
          [
           "MMF",
           "21:51:00"
          ],
          [
           "MMF",
           "21:45:00"
          ],
          [
           "MMF",
           "21:38:00"
          ],
          [
           "MMF",
           "18:56:00"
          ],
          [
           "MMF",
           "19:02:00"
          ],
          [
           "MMF",
           "19:27:00"
          ],
          [
           "MMF",
           "19:22:00"
          ],
          [
           "MMF",
           "18:47:00"
          ],
          [
           "MMF",
           "21:53:00"
          ],
          [
           "MMF",
           "21:47:00"
          ],
          [
           "MMF",
           "13:42:00"
          ],
          [
           "MMF",
           "14:15:00"
          ],
          [
           "MMF",
           "19:14:00"
          ],
          [
           "MMF",
           "19:21:00"
          ],
          [
           "MMF",
           "21:35:00"
          ],
          [
           "MMF",
           "21:28:00"
          ],
          [
           "MMF",
           "21:39:00"
          ],
          [
           "MMF",
           "19:07:00"
          ],
          [
           "MMF",
           "14:06:00"
          ],
          [
           "MMF",
           "14:27:00"
          ],
          [
           "MMF",
           "14:22:00"
          ],
          [
           "MMF",
           "21:05:00"
          ],
          [
           "MMF",
           "21:38:00"
          ],
          [
           "MMF",
           "20:33:00"
          ],
          [
           "MMF",
           "21:48:00"
          ],
          [
           "MMF",
           "21:49:00"
          ],
          [
           "MMF",
           "21:54:00"
          ]
         ],
         "hovertemplate": "user_id=%{customdata[0]}<br>Time of Day (HH:MM)=%{x}<br>Event Date=%{y}<br>end_time=%{customdata[1]}<extra></extra>",
         "legendgroup": "MMF",
         "marker": {
          "color": "#19d3f3",
          "symbol": "circle"
         },
         "mode": "markers",
         "name": "MMF",
         "orientation": "h",
         "showlegend": true,
         "type": "scatter",
         "x": [
          78060,
          76200,
          78960,
          79200,
          78300,
          69180,
          70020,
          51960,
          51720,
          68340,
          51300,
          51420,
          51000,
          51780,
          51480,
          69000,
          67440,
          51900,
          69660,
          69180,
          76500,
          67620,
          76200,
          76980,
          78780,
          51180,
          48840,
          69960,
          51660,
          51360,
          78120,
          77760,
          78660,
          78300,
          77880,
          68160,
          68520,
          70020,
          69720,
          67620,
          78780,
          78420,
          49320,
          51300,
          69240,
          69660,
          77700,
          77280,
          77940,
          68820,
          50760,
          52020,
          51720,
          75900,
          77880,
          73980,
          78480,
          78540,
          78840
         ],
         "xaxis": "x",
         "y": [
          "2022-01-10",
          "2022-01-11",
          "2022-01-12",
          "2022-01-13",
          "2022-01-14",
          "2022-01-17",
          "2022-01-18",
          "2022-01-19",
          "2022-01-20",
          "2022-01-21",
          "2022-01-24",
          "2022-01-25",
          "2022-01-26",
          "2022-01-27",
          "2022-01-28",
          "2022-01-31",
          "2022-02-01",
          "2022-02-02",
          "2022-02-03",
          "2022-02-04",
          "2022-02-07",
          "2022-02-08",
          "2022-02-09",
          "2022-02-10",
          "2022-02-11",
          "2022-02-14",
          "2022-02-15",
          "2022-02-16",
          "2022-02-17",
          "2022-02-18",
          "2022-02-21",
          "2022-02-22",
          "2022-02-23",
          "2022-02-24",
          "2022-02-25",
          "2022-02-28",
          "2022-03-01",
          "2022-03-02",
          "2022-03-03",
          "2022-03-04",
          "2022-03-05",
          "2022-03-06",
          "2022-03-09",
          "2022-03-10",
          "2022-03-11",
          "2022-03-14",
          "2022-03-15",
          "2022-03-16",
          "2022-03-17",
          "2022-03-18",
          "2022-03-21",
          "2022-03-22",
          "2022-03-23",
          "2022-03-24",
          "2022-03-25",
          "2022-03-28",
          "2022-03-29",
          "2022-03-30",
          "2022-03-31"
         ],
         "yaxis": "y"
        },
        {
         "customdata": [
          [
           "CLE",
           "21:16:00"
          ],
          [
           "CLE",
           "21:47:00"
          ],
          [
           "CLE",
           "21:46:00"
          ],
          [
           "CLE",
           "21:47:00"
          ],
          [
           "CLE",
           "22:01:00"
          ],
          [
           "CLE",
           "19:31:00"
          ],
          [
           "CLE",
           "19:19:00"
          ],
          [
           "CLE",
           "19:02:00"
          ],
          [
           "CLE",
           "14:32:00"
          ],
          [
           "CLE",
           "14:13:00"
          ],
          [
           "CLE",
           "14:10:00"
          ],
          [
           "CLE",
           "18:48:00"
          ],
          [
           "CLE",
           "19:21:00"
          ],
          [
           "CLE",
           "19:18:00"
          ],
          [
           "CLE",
           "19:04:00"
          ],
          [
           "CLE",
           "19:29:00"
          ],
          [
           "CLE",
           "19:12:00"
          ],
          [
           "CLE",
           "19:15:00"
          ],
          [
           "CLE",
           "21:07:00"
          ],
          [
           "CLE",
           "21:41:00"
          ],
          [
           "CLE",
           "21:21:00"
          ],
          [
           "CLE",
           "21:41:00"
          ],
          [
           "CLE",
           "19:59:00"
          ],
          [
           "CLE",
           "14:28:00"
          ],
          [
           "CLE",
           "19:22:00"
          ],
          [
           "CLE",
           "14:06:00"
          ],
          [
           "CLE",
           "14:20:00"
          ],
          [
           "CLE",
           "14:18:00"
          ],
          [
           "CLE",
           "19:09:00"
          ],
          [
           "CLE",
           "19:12:00"
          ],
          [
           "CLE",
           "19:18:00"
          ],
          [
           "CLE",
           "15:13:00"
          ]
         ],
         "hovertemplate": "user_id=%{customdata[0]}<br>Time of Day (HH:MM)=%{x}<br>Event Date=%{y}<br>end_time=%{customdata[1]}<extra></extra>",
         "legendgroup": "CLE",
         "marker": {
          "color": "#FF6692",
          "symbol": "circle"
         },
         "mode": "markers",
         "name": "CLE",
         "orientation": "h",
         "showlegend": true,
         "type": "scatter",
         "x": [
          76560,
          78420,
          78360,
          78420,
          79260,
          70260,
          69540,
          68520,
          52320,
          51180,
          51000,
          67680,
          69660,
          69480,
          68640,
          70140,
          69120,
          69300,
          76020,
          78060,
          76860,
          78060,
          71940,
          52080,
          69720,
          50760,
          51600,
          51480,
          68940,
          69120,
          69480,
          54780
         ],
         "xaxis": "x",
         "y": [
          "2022-01-10",
          "2022-01-11",
          "2022-01-12",
          "2022-01-13",
          "2022-01-14",
          "2022-01-19",
          "2022-01-20",
          "2022-01-21",
          "2022-01-24",
          "2022-01-25",
          "2022-01-26",
          "2022-01-27",
          "2022-01-28",
          "2022-01-31",
          "2022-02-01",
          "2022-02-02",
          "2022-02-03",
          "2022-02-04",
          "2022-02-07",
          "2022-02-08",
          "2022-02-09",
          "2022-02-10",
          "2022-02-11",
          "2022-02-14",
          "2022-02-15",
          "2022-02-16",
          "2022-02-17",
          "2022-02-18",
          "2022-02-21",
          "2022-02-22",
          "2022-02-23",
          "2022-02-24"
         ],
         "yaxis": "y"
        },
        {
         "customdata": [
          [
           "DF",
           "11:20:00"
          ],
          [
           "DF",
           "11:37:00"
          ],
          [
           "DF",
           "12:11:00"
          ],
          [
           "DF",
           "20:52:00"
          ]
         ],
         "hovertemplate": "user_id=%{customdata[0]}<br>Time of Day (HH:MM)=%{x}<br>Event Date=%{y}<br>end_time=%{customdata[1]}<extra></extra>",
         "legendgroup": "DF",
         "marker": {
          "color": "#B6E880",
          "symbol": "circle"
         },
         "mode": "markers",
         "name": "DF",
         "orientation": "h",
         "showlegend": true,
         "type": "scatter",
         "x": [
          40800,
          41820,
          43860,
          75120
         ],
         "xaxis": "x",
         "y": [
          "2022-01-13",
          "2022-01-14",
          "2022-02-15",
          "2022-03-15"
         ],
         "yaxis": "y"
        },
        {
         "customdata": [
          [
           "MGP",
           "09:52:00"
          ],
          [
           "MGP",
           "12:21:00"
          ],
          [
           "MGP",
           "12:30:00"
          ]
         ],
         "hovertemplate": "user_id=%{customdata[0]}<br>Time of Day (HH:MM)=%{x}<br>Event Date=%{y}<br>end_time=%{customdata[1]}<extra></extra>",
         "legendgroup": "MGP",
         "marker": {
          "color": "#FF97FF",
          "symbol": "circle"
         },
         "mode": "markers",
         "name": "MGP",
         "orientation": "h",
         "showlegend": true,
         "type": "scatter",
         "x": [
          35520,
          44460,
          45000
         ],
         "xaxis": "x",
         "y": [
          "2022-02-02",
          "2022-03-11",
          "2022-03-28"
         ],
         "yaxis": "y"
        },
        {
         "customdata": [
          [
           "SP",
           "19:20:00"
          ],
          [
           "SP",
           "18:35:00"
          ],
          [
           "SP",
           "19:14:00"
          ],
          [
           "SP",
           "18:34:00"
          ],
          [
           "SP",
           "21:54:00"
          ],
          [
           "SP",
           "21:42:00"
          ],
          [
           "SP",
           "21:35:00"
          ],
          [
           "SP",
           "22:03:00"
          ],
          [
           "SP",
           "21:54:00"
          ],
          [
           "SP",
           "14:09:00"
          ],
          [
           "SP",
           "14:23:00"
          ],
          [
           "SP",
           "14:16:00"
          ],
          [
           "SP",
           "14:25:00"
          ],
          [
           "SP",
           "14:26:00"
          ],
          [
           "SP",
           "21:32:00"
          ],
          [
           "SP",
           "21:38:00"
          ],
          [
           "SP",
           "21:35:00"
          ],
          [
           "SP",
           "21:47:00"
          ],
          [
           "SP",
           "21:36:00"
          ],
          [
           "SP",
           "19:27:00"
          ],
          [
           "SP",
           "18:54:00"
          ],
          [
           "SP",
           "19:17:00"
          ],
          [
           "SP",
           "19:18:00"
          ]
         ],
         "hovertemplate": "user_id=%{customdata[0]}<br>Time of Day (HH:MM)=%{x}<br>Event Date=%{y}<br>end_time=%{customdata[1]}<extra></extra>",
         "legendgroup": "SP",
         "marker": {
          "color": "#FECB52",
          "symbol": "circle"
         },
         "mode": "markers",
         "name": "SP",
         "orientation": "h",
         "showlegend": true,
         "type": "scatter",
         "x": [
          69600,
          66900,
          69240,
          66840,
          78840,
          78120,
          77700,
          79380,
          78840,
          50940,
          51780,
          51360,
          51900,
          51960,
          77520,
          77880,
          77700,
          78420,
          77760,
          70020,
          68040,
          69420,
          69480
         ],
         "xaxis": "x",
         "y": [
          "2022-03-01",
          "2022-03-02",
          "2022-03-03",
          "2022-03-04",
          "2022-03-07",
          "2022-03-08",
          "2022-03-09",
          "2022-03-10",
          "2022-03-11",
          "2022-03-14",
          "2022-03-15",
          "2022-03-16",
          "2022-03-19",
          "2022-03-20",
          "2022-03-21",
          "2022-03-22",
          "2022-03-23",
          "2022-03-24",
          "2022-03-25",
          "2022-03-28",
          "2022-03-29",
          "2022-03-30",
          "2022-03-31"
         ],
         "yaxis": "y"
        }
       ],
       "layout": {
        "legend": {
         "title": {
          "text": "user_id"
         },
         "tracegroupgap": 0
        },
        "showlegend": false,
        "template": {
         "data": {
          "bar": [
           {
            "error_x": {
             "color": "#2a3f5f"
            },
            "error_y": {
             "color": "#2a3f5f"
            },
            "marker": {
             "line": {
              "color": "#E5ECF6",
              "width": 0.5
             },
             "pattern": {
              "fillmode": "overlay",
              "size": 10,
              "solidity": 0.2
             }
            },
            "type": "bar"
           }
          ],
          "barpolar": [
           {
            "marker": {
             "line": {
              "color": "#E5ECF6",
              "width": 0.5
             },
             "pattern": {
              "fillmode": "overlay",
              "size": 10,
              "solidity": 0.2
             }
            },
            "type": "barpolar"
           }
          ],
          "carpet": [
           {
            "aaxis": {
             "endlinecolor": "#2a3f5f",
             "gridcolor": "white",
             "linecolor": "white",
             "minorgridcolor": "white",
             "startlinecolor": "#2a3f5f"
            },
            "baxis": {
             "endlinecolor": "#2a3f5f",
             "gridcolor": "white",
             "linecolor": "white",
             "minorgridcolor": "white",
             "startlinecolor": "#2a3f5f"
            },
            "type": "carpet"
           }
          ],
          "choropleth": [
           {
            "colorbar": {
             "outlinewidth": 0,
             "ticks": ""
            },
            "type": "choropleth"
           }
          ],
          "contour": [
           {
            "colorbar": {
             "outlinewidth": 0,
             "ticks": ""
            },
            "colorscale": [
             [
              0,
              "#0d0887"
             ],
             [
              0.1111111111111111,
              "#46039f"
             ],
             [
              0.2222222222222222,
              "#7201a8"
             ],
             [
              0.3333333333333333,
              "#9c179e"
             ],
             [
              0.4444444444444444,
              "#bd3786"
             ],
             [
              0.5555555555555556,
              "#d8576b"
             ],
             [
              0.6666666666666666,
              "#ed7953"
             ],
             [
              0.7777777777777778,
              "#fb9f3a"
             ],
             [
              0.8888888888888888,
              "#fdca26"
             ],
             [
              1,
              "#f0f921"
             ]
            ],
            "type": "contour"
           }
          ],
          "contourcarpet": [
           {
            "colorbar": {
             "outlinewidth": 0,
             "ticks": ""
            },
            "type": "contourcarpet"
           }
          ],
          "heatmap": [
           {
            "colorbar": {
             "outlinewidth": 0,
             "ticks": ""
            },
            "colorscale": [
             [
              0,
              "#0d0887"
             ],
             [
              0.1111111111111111,
              "#46039f"
             ],
             [
              0.2222222222222222,
              "#7201a8"
             ],
             [
              0.3333333333333333,
              "#9c179e"
             ],
             [
              0.4444444444444444,
              "#bd3786"
             ],
             [
              0.5555555555555556,
              "#d8576b"
             ],
             [
              0.6666666666666666,
              "#ed7953"
             ],
             [
              0.7777777777777778,
              "#fb9f3a"
             ],
             [
              0.8888888888888888,
              "#fdca26"
             ],
             [
              1,
              "#f0f921"
             ]
            ],
            "type": "heatmap"
           }
          ],
          "heatmapgl": [
           {
            "colorbar": {
             "outlinewidth": 0,
             "ticks": ""
            },
            "colorscale": [
             [
              0,
              "#0d0887"
             ],
             [
              0.1111111111111111,
              "#46039f"
             ],
             [
              0.2222222222222222,
              "#7201a8"
             ],
             [
              0.3333333333333333,
              "#9c179e"
             ],
             [
              0.4444444444444444,
              "#bd3786"
             ],
             [
              0.5555555555555556,
              "#d8576b"
             ],
             [
              0.6666666666666666,
              "#ed7953"
             ],
             [
              0.7777777777777778,
              "#fb9f3a"
             ],
             [
              0.8888888888888888,
              "#fdca26"
             ],
             [
              1,
              "#f0f921"
             ]
            ],
            "type": "heatmapgl"
           }
          ],
          "histogram": [
           {
            "marker": {
             "pattern": {
              "fillmode": "overlay",
              "size": 10,
              "solidity": 0.2
             }
            },
            "type": "histogram"
           }
          ],
          "histogram2d": [
           {
            "colorbar": {
             "outlinewidth": 0,
             "ticks": ""
            },
            "colorscale": [
             [
              0,
              "#0d0887"
             ],
             [
              0.1111111111111111,
              "#46039f"
             ],
             [
              0.2222222222222222,
              "#7201a8"
             ],
             [
              0.3333333333333333,
              "#9c179e"
             ],
             [
              0.4444444444444444,
              "#bd3786"
             ],
             [
              0.5555555555555556,
              "#d8576b"
             ],
             [
              0.6666666666666666,
              "#ed7953"
             ],
             [
              0.7777777777777778,
              "#fb9f3a"
             ],
             [
              0.8888888888888888,
              "#fdca26"
             ],
             [
              1,
              "#f0f921"
             ]
            ],
            "type": "histogram2d"
           }
          ],
          "histogram2dcontour": [
           {
            "colorbar": {
             "outlinewidth": 0,
             "ticks": ""
            },
            "colorscale": [
             [
              0,
              "#0d0887"
             ],
             [
              0.1111111111111111,
              "#46039f"
             ],
             [
              0.2222222222222222,
              "#7201a8"
             ],
             [
              0.3333333333333333,
              "#9c179e"
             ],
             [
              0.4444444444444444,
              "#bd3786"
             ],
             [
              0.5555555555555556,
              "#d8576b"
             ],
             [
              0.6666666666666666,
              "#ed7953"
             ],
             [
              0.7777777777777778,
              "#fb9f3a"
             ],
             [
              0.8888888888888888,
              "#fdca26"
             ],
             [
              1,
              "#f0f921"
             ]
            ],
            "type": "histogram2dcontour"
           }
          ],
          "mesh3d": [
           {
            "colorbar": {
             "outlinewidth": 0,
             "ticks": ""
            },
            "type": "mesh3d"
           }
          ],
          "parcoords": [
           {
            "line": {
             "colorbar": {
              "outlinewidth": 0,
              "ticks": ""
             }
            },
            "type": "parcoords"
           }
          ],
          "pie": [
           {
            "automargin": true,
            "type": "pie"
           }
          ],
          "scatter": [
           {
            "fillpattern": {
             "fillmode": "overlay",
             "size": 10,
             "solidity": 0.2
            },
            "type": "scatter"
           }
          ],
          "scatter3d": [
           {
            "line": {
             "colorbar": {
              "outlinewidth": 0,
              "ticks": ""
             }
            },
            "marker": {
             "colorbar": {
              "outlinewidth": 0,
              "ticks": ""
             }
            },
            "type": "scatter3d"
           }
          ],
          "scattercarpet": [
           {
            "marker": {
             "colorbar": {
              "outlinewidth": 0,
              "ticks": ""
             }
            },
            "type": "scattercarpet"
           }
          ],
          "scattergeo": [
           {
            "marker": {
             "colorbar": {
              "outlinewidth": 0,
              "ticks": ""
             }
            },
            "type": "scattergeo"
           }
          ],
          "scattergl": [
           {
            "marker": {
             "colorbar": {
              "outlinewidth": 0,
              "ticks": ""
             }
            },
            "type": "scattergl"
           }
          ],
          "scattermapbox": [
           {
            "marker": {
             "colorbar": {
              "outlinewidth": 0,
              "ticks": ""
             }
            },
            "type": "scattermapbox"
           }
          ],
          "scatterpolar": [
           {
            "marker": {
             "colorbar": {
              "outlinewidth": 0,
              "ticks": ""
             }
            },
            "type": "scatterpolar"
           }
          ],
          "scatterpolargl": [
           {
            "marker": {
             "colorbar": {
              "outlinewidth": 0,
              "ticks": ""
             }
            },
            "type": "scatterpolargl"
           }
          ],
          "scatterternary": [
           {
            "marker": {
             "colorbar": {
              "outlinewidth": 0,
              "ticks": ""
             }
            },
            "type": "scatterternary"
           }
          ],
          "surface": [
           {
            "colorbar": {
             "outlinewidth": 0,
             "ticks": ""
            },
            "colorscale": [
             [
              0,
              "#0d0887"
             ],
             [
              0.1111111111111111,
              "#46039f"
             ],
             [
              0.2222222222222222,
              "#7201a8"
             ],
             [
              0.3333333333333333,
              "#9c179e"
             ],
             [
              0.4444444444444444,
              "#bd3786"
             ],
             [
              0.5555555555555556,
              "#d8576b"
             ],
             [
              0.6666666666666666,
              "#ed7953"
             ],
             [
              0.7777777777777778,
              "#fb9f3a"
             ],
             [
              0.8888888888888888,
              "#fdca26"
             ],
             [
              1,
              "#f0f921"
             ]
            ],
            "type": "surface"
           }
          ],
          "table": [
           {
            "cells": {
             "fill": {
              "color": "#EBF0F8"
             },
             "line": {
              "color": "white"
             }
            },
            "header": {
             "fill": {
              "color": "#C8D4E3"
             },
             "line": {
              "color": "white"
             }
            },
            "type": "table"
           }
          ]
         },
         "layout": {
          "annotationdefaults": {
           "arrowcolor": "#2a3f5f",
           "arrowhead": 0,
           "arrowwidth": 1
          },
          "autotypenumbers": "strict",
          "coloraxis": {
           "colorbar": {
            "outlinewidth": 0,
            "ticks": ""
           }
          },
          "colorscale": {
           "diverging": [
            [
             0,
             "#8e0152"
            ],
            [
             0.1,
             "#c51b7d"
            ],
            [
             0.2,
             "#de77ae"
            ],
            [
             0.3,
             "#f1b6da"
            ],
            [
             0.4,
             "#fde0ef"
            ],
            [
             0.5,
             "#f7f7f7"
            ],
            [
             0.6,
             "#e6f5d0"
            ],
            [
             0.7,
             "#b8e186"
            ],
            [
             0.8,
             "#7fbc41"
            ],
            [
             0.9,
             "#4d9221"
            ],
            [
             1,
             "#276419"
            ]
           ],
           "sequential": [
            [
             0,
             "#0d0887"
            ],
            [
             0.1111111111111111,
             "#46039f"
            ],
            [
             0.2222222222222222,
             "#7201a8"
            ],
            [
             0.3333333333333333,
             "#9c179e"
            ],
            [
             0.4444444444444444,
             "#bd3786"
            ],
            [
             0.5555555555555556,
             "#d8576b"
            ],
            [
             0.6666666666666666,
             "#ed7953"
            ],
            [
             0.7777777777777778,
             "#fb9f3a"
            ],
            [
             0.8888888888888888,
             "#fdca26"
            ],
            [
             1,
             "#f0f921"
            ]
           ],
           "sequentialminus": [
            [
             0,
             "#0d0887"
            ],
            [
             0.1111111111111111,
             "#46039f"
            ],
            [
             0.2222222222222222,
             "#7201a8"
            ],
            [
             0.3333333333333333,
             "#9c179e"
            ],
            [
             0.4444444444444444,
             "#bd3786"
            ],
            [
             0.5555555555555556,
             "#d8576b"
            ],
            [
             0.6666666666666666,
             "#ed7953"
            ],
            [
             0.7777777777777778,
             "#fb9f3a"
            ],
            [
             0.8888888888888888,
             "#fdca26"
            ],
            [
             1,
             "#f0f921"
            ]
           ]
          },
          "colorway": [
           "#636efa",
           "#EF553B",
           "#00cc96",
           "#ab63fa",
           "#FFA15A",
           "#19d3f3",
           "#FF6692",
           "#B6E880",
           "#FF97FF",
           "#FECB52"
          ],
          "font": {
           "color": "#2a3f5f"
          },
          "geo": {
           "bgcolor": "white",
           "lakecolor": "white",
           "landcolor": "#E5ECF6",
           "showlakes": true,
           "showland": true,
           "subunitcolor": "white"
          },
          "hoverlabel": {
           "align": "left"
          },
          "hovermode": "closest",
          "mapbox": {
           "style": "light"
          },
          "paper_bgcolor": "white",
          "plot_bgcolor": "#E5ECF6",
          "polar": {
           "angularaxis": {
            "gridcolor": "white",
            "linecolor": "white",
            "ticks": ""
           },
           "bgcolor": "#E5ECF6",
           "radialaxis": {
            "gridcolor": "white",
            "linecolor": "white",
            "ticks": ""
           }
          },
          "scene": {
           "xaxis": {
            "backgroundcolor": "#E5ECF6",
            "gridcolor": "white",
            "gridwidth": 2,
            "linecolor": "white",
            "showbackground": true,
            "ticks": "",
            "zerolinecolor": "white"
           },
           "yaxis": {
            "backgroundcolor": "#E5ECF6",
            "gridcolor": "white",
            "gridwidth": 2,
            "linecolor": "white",
            "showbackground": true,
            "ticks": "",
            "zerolinecolor": "white"
           },
           "zaxis": {
            "backgroundcolor": "#E5ECF6",
            "gridcolor": "white",
            "gridwidth": 2,
            "linecolor": "white",
            "showbackground": true,
            "ticks": "",
            "zerolinecolor": "white"
           }
          },
          "shapedefaults": {
           "line": {
            "color": "#2a3f5f"
           }
          },
          "ternary": {
           "aaxis": {
            "gridcolor": "white",
            "linecolor": "white",
            "ticks": ""
           },
           "baxis": {
            "gridcolor": "white",
            "linecolor": "white",
            "ticks": ""
           },
           "bgcolor": "#E5ECF6",
           "caxis": {
            "gridcolor": "white",
            "linecolor": "white",
            "ticks": ""
           }
          },
          "title": {
           "x": 0.05
          },
          "xaxis": {
           "automargin": true,
           "gridcolor": "white",
           "linecolor": "white",
           "ticks": "",
           "title": {
            "standoff": 15
           },
           "zerolinecolor": "white",
           "zerolinewidth": 2
          },
          "yaxis": {
           "automargin": true,
           "gridcolor": "white",
           "linecolor": "white",
           "ticks": "",
           "title": {
            "standoff": 15
           },
           "zerolinecolor": "white",
           "zerolinewidth": 2
          }
         }
        },
        "title": {
         "text": "Latest Timestamps of Users"
        },
        "xaxis": {
         "anchor": "y",
         "domain": [
          0,
          1
         ],
         "range": [
          0,
          86400
         ],
         "tickmode": "array",
         "ticktext": [
          "00:00",
          "01:00",
          "02:00",
          "03:00",
          "04:00",
          "05:00",
          "06:00",
          "07:00",
          "08:00",
          "09:00",
          "10:00",
          "11:00",
          "12:00",
          "13:00",
          "14:00",
          "15:00",
          "16:00",
          "17:00",
          "18:00",
          "19:00",
          "20:00",
          "21:00",
          "22:00",
          "23:00"
         ],
         "tickvals": [
          0,
          3600,
          7200,
          10800,
          14400,
          18000,
          21600,
          25200,
          28800,
          32400,
          36000,
          39600,
          43200,
          46800,
          50400,
          54000,
          57600,
          61200,
          64800,
          68400,
          72000,
          75600,
          79200,
          82800
         ],
         "title": {
          "text": "Time of Day (HH:MM)"
         }
        },
        "yaxis": {
         "anchor": "x",
         "domain": [
          0,
          1
         ],
         "title": {
          "text": "Event Date"
         }
        }
       }
      }
     },
     "metadata": {},
     "output_type": "display_data"
    }
   ],
   "source": [
    "users_work_schedule['latest_timestamp'] = pd.to_datetime(users_work_schedule['latest_timestamp'])\n",
    "\n",
    "# Extract date and hour-minute-second information\n",
    "users_work_schedule['event_date'] = users_work_schedule['latest_timestamp'].dt.date\n",
    "users_work_schedule['end_time'] = users_work_schedule['latest_timestamp'].dt.strftime('%H:%M:%S')\n",
    "\n",
    "# Extract time as seconds since midnight for continuous x-axis\n",
    "users_work_schedule['time_seconds'] = (\n",
    "    users_work_schedule['latest_timestamp'].dt.hour * 3600 +\n",
    "    users_work_schedule['latest_timestamp'].dt.minute * 60 +\n",
    "    users_work_schedule['latest_timestamp'].dt.second\n",
    ")\n",
    "\n",
    "# Create scatter plot\n",
    "fig = px.scatter(\n",
    "    users_work_schedule,\n",
    "    x='time_seconds',\n",
    "    y='event_date',\n",
    "    color='user_id',\n",
    "    title='Latest Timestamps of Users',\n",
    "    labels={'time_seconds': 'Time of Day (HH:MM)', 'event_date': 'Event Date'},\n",
    "    hover_data={'user_id': True, 'end_time': True}\n",
    ")\n",
    "\n",
    "# Update layout for better readability\n",
    "fig.update_layout(\n",
    "    xaxis=dict(\n",
    "        tickmode='array',\n",
    "        tickvals=[i * 3600 for i in range(0, 24)],\n",
    "        ticktext=[f'{i:02d}:00' for i in range(0, 24)],\n",
    "        title='Time of Day (HH:MM)',\n",
    "        range=[0, 86400]  # Full range from 00:00 to 23:59:59 in seconds\n",
    "    ),\n",
    "    yaxis=dict(\n",
    "        title='Event Date'\n",
    "    ),\n",
    "    showlegend=False\n",
    ")\n",
    "\n",
    "# Show the plot\n",
    "fig.show()"
   ]
  },
  {
   "attachments": {},
   "cell_type": "markdown",
   "metadata": {},
   "source": [
    "# Shifts Definition\n",
    "\n",
    "### from 00:00 to 9:30\n",
    "### from 9:30 to 11:30\n",
    "### from 11:30 to 14:00\n",
    "### from 14:00 to 23:59"
   ]
  },
  {
   "attachments": {},
   "cell_type": "markdown",
   "metadata": {},
   "source": [
    "# Separation to Shifts"
   ]
  },
  {
   "cell_type": "code",
   "execution_count": 16,
   "metadata": {},
   "outputs": [],
   "source": [
    "users_work_schedule['earliest_timestamp'] = pd.to_datetime(users_work_schedule['earliest_timestamp'])\n",
    "\n",
    "def assign_shift(timestamp):\n",
    "    if timestamp.time() >= pd.Timestamp('00:00:00').time() and timestamp.time() < pd.Timestamp('09:30:00').time():\n",
    "        return '1'\n",
    "    elif timestamp.time() >= pd.Timestamp('09:30:00').time() and timestamp.time() < pd.Timestamp('11:30:00').time():\n",
    "        return '2'\n",
    "    elif timestamp.time() >= pd.Timestamp('11:30:00').time() and timestamp.time() < pd.Timestamp('14:00:00').time():\n",
    "        return '3'\n",
    "    else:\n",
    "        return '4'\n",
    "\n",
    "users_work_schedule['shift'] = users_work_schedule['earliest_timestamp'].apply(assign_shift)"
   ]
  },
  {
   "cell_type": "code",
   "execution_count": 17,
   "metadata": {},
   "outputs": [
    {
     "name": "stdout",
     "output_type": "stream",
     "text": [
      "Max number of unique users for weekdays: 15 on 2022-01-10\n",
      "Min number of unique users for weekdays: 2 on 2022-01-06\n",
      "Average number of unique users for weekdays: 13\n",
      "Max number of unique users for weekends: 3 on 2022-03-26\n",
      "Min number of unique users for weekends: 2 on 2022-01-01\n",
      "Average number of unique users for weekends: 2\n"
     ]
    }
   ],
   "source": [
    "weekday_working_user_counts = df_first[df_first['day_of_week'] < 5].groupby('event_date')['user_id'].nunique()\n",
    "weekend_working_user_counts = df_first[df_first['day_of_week'] >= 5].groupby('event_date')['user_id'].nunique()\n",
    "\n",
    "max_users_weekday = weekday_working_user_counts.max()\n",
    "min_users_weekday = weekday_working_user_counts.min()\n",
    "avg_users_weekday = weekday_working_user_counts.mean()\n",
    "max_weekday_date = weekday_working_user_counts.idxmax()\n",
    "min_weekday_date = weekday_working_user_counts.idxmin()\n",
    "\n",
    "max_users_weekend = weekend_working_user_counts.max()\n",
    "min_users_weekend = weekend_working_user_counts.min()\n",
    "avg_users_weekend = weekend_working_user_counts.mean()\n",
    "max_weekend_date = weekend_working_user_counts.idxmax()\n",
    "min_weekend_date = weekend_working_user_counts.idxmin()\n",
    "\n",
    "print(\"Max number of unique users for weekdays:\", max_users_weekday, \"on\", max_weekday_date.strftime('%Y-%m-%d'))\n",
    "print(\"Min number of unique users for weekdays:\", min_users_weekday, \"on\", min_weekday_date.strftime('%Y-%m-%d'))\n",
    "print(\"Average number of unique users for weekdays:\", int(avg_users_weekday))\n",
    "\n",
    "print(\"Max number of unique users for weekends:\", max_users_weekend, \"on\", max_weekend_date.strftime('%Y-%m-%d'))\n",
    "print(\"Min number of unique users for weekends:\", min_users_weekend, \"on\", min_weekend_date.strftime('%Y-%m-%d'))\n",
    "print(\"Average number of unique users for weekends:\", int(avg_users_weekend))"
   ]
  }
 ],
 "metadata": {
  "kernelspec": {
   "display_name": "Python 3 (ipykernel)",
   "language": "python",
   "name": "python3"
  },
  "language_info": {
   "codemirror_mode": {
    "name": "ipython",
    "version": 3
   },
   "file_extension": ".py",
   "mimetype": "text/x-python",
   "name": "python",
   "nbconvert_exporter": "python",
   "pygments_lexer": "ipython3",
   "version": "3.11.0"
  },
  "orig_nbformat": 4
 },
 "nbformat": 4,
 "nbformat_minor": 2
}
