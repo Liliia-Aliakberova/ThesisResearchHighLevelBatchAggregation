{
 "cells": [
  {
   "cell_type": "markdown",
   "metadata": {},
   "source": [
    "# Batching Over Activity Pre-analysis"
   ]
  },
  {
   "attachments": {},
   "cell_type": "markdown",
   "metadata": {},
   "source": [
    "#### Imports"
   ]
  },
  {
   "cell_type": "code",
   "execution_count": 1,
   "metadata": {},
   "outputs": [],
   "source": [
    "from neo4j import GraphDatabase\n",
    "import matplotlib.pyplot as plt\n",
    "from dotenv import load_dotenv\n",
    "import os"
   ]
  },
  {
   "attachments": {},
   "cell_type": "markdown",
   "metadata": {},
   "source": [
    "#### Connection"
   ]
  },
  {
   "cell_type": "code",
   "execution_count": 2,
   "metadata": {},
   "outputs": [],
   "source": [
    "load_dotenv()\n",
    "uri = os.getenv('NEO4J_URI')\n",
    "username = os.getenv('NEO4J_USER')\n",
    "password = os.getenv('NEO4J_PASSWORD')"
   ]
  },
  {
   "attachments": {},
   "cell_type": "markdown",
   "metadata": {},
   "source": [
    "#### Exploration related to defining the batching time interval\n",
    "\n",
    "##### I Query to compare arrival time of kits on Entrada"
   ]
  },
  {
   "cell_type": "code",
   "execution_count": 9,
   "metadata": {},
   "outputs": [
    {
     "name": "stdout",
     "output_type": "stream",
     "text": [
      "[{'min_time_difference_minutes': 0, 'max_time_difference_minutes': 350, 'avg_time_difference_minutes': 5.182642968691923}]\n"
     ]
    }
   ],
   "source": [
    "cypher_query_stats_kit_arival_entrada = \"\"\"\n",
    "MATCH (e1:Event)-[:CORR]->(k1:Kit)\n",
    "WHERE e1.activity = \"Entrada Material Sucio\"\n",
    "WITH e1, date(e1.timestamp) AS event_date\n",
    "ORDER BY event_date, e1.timestamp\n",
    "WITH event_date, collect(e1.timestamp) AS event_timestamps\n",
    "WITH event_date, apoc.coll.pairsMin(event_timestamps) AS pairs\n",
    "UNWIND pairs AS pair\n",
    "WITH pair[0] AS timestamp1String, pair[1] AS timestamp2String\n",
    "WITH datetime(timestamp1String) AS timestamp1, datetime(timestamp2String) AS timestamp2\n",
    "RETURN min((timestamp2.epochMillis - timestamp1.epochMillis) / (1000 * 60)) AS min_time_difference_minutes,\n",
    "       max((timestamp2.epochMillis - timestamp1.epochMillis) / (1000 * 60)) AS max_time_difference_minutes,\n",
    "       avg((timestamp2.epochMillis - timestamp1.epochMillis) / (1000 * 60)) AS avg_time_difference_minutes\n",
    "\"\"\"\n",
    "\n",
    "def execute_query_stats_kit_arival_entrada(uri, username, password, cypher_query_stats_kit_arival_entrada):\n",
    "    driver = GraphDatabase.driver(uri, auth=(username, password))\n",
    "    with driver.session() as session:\n",
    "        result = session.run(cypher_query_stats_kit_arival_entrada)\n",
    "        return result.data()\n",
    "    \n",
    "stats_results_kit_arival_entrada = execute_query_stats_kit_arival_entrada(uri, username, password, cypher_query_stats_kit_arival_entrada)\n",
    "print(stats_results_kit_arival_entrada)"
   ]
  }
 ],
 "metadata": {
  "kernelspec": {
   "display_name": "Python 3 (ipykernel)",
   "language": "python",
   "name": "python3"
  },
  "language_info": {
   "codemirror_mode": {
    "name": "ipython",
    "version": 3
   },
   "file_extension": ".py",
   "mimetype": "text/x-python",
   "name": "python",
   "nbconvert_exporter": "python",
   "pygments_lexer": "ipython3",
   "version": "3.11.0"
  },
  "orig_nbformat": 4
 },
 "nbformat": 4,
 "nbformat_minor": 2
}
