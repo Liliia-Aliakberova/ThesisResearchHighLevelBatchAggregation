{
 "cells": [
  {
   "cell_type": "markdown",
   "id": "a7f3560d",
   "metadata": {},
   "source": [
    "# Batching Over Resource Post-analysis"
   ]
  },
  {
   "attachments": {},
   "cell_type": "markdown",
   "id": "6b9f71e1",
   "metadata": {},
   "source": [
    "##### Imports"
   ]
  },
  {
   "cell_type": "code",
   "execution_count": 3,
   "id": "86e9871f",
   "metadata": {},
   "outputs": [],
   "source": [
    "from neo4j import GraphDatabase\n",
    "import matplotlib.pyplot as plt\n",
    "import plotly.express as px\n",
    "import datetime as dt\n",
    "from datetime import datetime\n",
    "import plotly.io as pio\n",
    "import plotly.graph_objects as go\n",
    "from dotenv import load_dotenv\n",
    "import os\n"
   ]
  },
  {
   "cell_type": "code",
   "execution_count": 4,
   "id": "b081373a",
   "metadata": {},
   "outputs": [],
   "source": [
    "load_dotenv()\n",
    "uri = os.getenv('NEO4J_URI')\n",
    "username = os.getenv('NEO4J_USER')\n",
    "password = os.getenv('NEO4J_PASSWORD')"
   ]
  },
  {
   "cell_type": "code",
   "execution_count": 5,
   "id": "c9ed508d",
   "metadata": {},
   "outputs": [],
   "source": [
    "driver = GraphDatabase.driver(uri, auth=(username, password))"
   ]
  },
  {
   "attachments": {},
   "cell_type": "markdown",
   "id": "6f665d0f",
   "metadata": {},
   "source": [
    "##### Number of Batches"
   ]
  },
  {
   "cell_type": "code",
   "execution_count": 6,
   "id": "0ec2b6ea",
   "metadata": {},
   "outputs": [
    {
     "name": "stdout",
     "output_type": "stream",
     "text": [
      "[{'count (distinct n)': 53646}]\n"
     ]
    }
   ],
   "source": [
    "cypher_total_batch_number = \"\"\"\n",
    "    MATCH (n:BatchInstance)\n",
    "    RETURN count (distinct n)\n",
    "\"\"\"\n",
    "\n",
    "\n",
    "def total_batches(uri, username, password, cypher_total_batch_number):\n",
    "    driver = GraphDatabase.driver(uri, auth=(username, password))\n",
    "    with driver.session() as session:\n",
    "        result = session.run(cypher_total_batch_number)\n",
    "        data = result.data()\n",
    "        return data\n",
    "    \n",
    "results_total_batches = total_batches(uri, username, password, cypher_total_batch_number)\n",
    "print(results_total_batches) "
   ]
  },
  {
   "cell_type": "markdown",
   "id": "51d05393",
   "metadata": {},
   "source": [
    "Events pepspective exploration"
   ]
  },
  {
   "cell_type": "code",
   "execution_count": 7,
   "id": "9f1c73cd",
   "metadata": {},
   "outputs": [
    {
     "name": "stdout",
     "output_type": "stream",
     "text": [
      "[{'average_events_per_batch': 4.082690228535243, 'min_events_per_batch': 1, 'max_events_per_batch': 316}]\n"
     ]
    }
   ],
   "source": [
    "cypher_avg_events_in_batch = \"\"\"\n",
    "    MATCH (n:BatchInstance)\n",
    "    RETURN AVG(n.event_number) AS average_events_per_batch,\n",
    "        MIN(n.event_number) AS min_events_per_batch,\n",
    "        MAX(n.event_number) AS max_events_per_batch\n",
    "\"\"\"\n",
    "\n",
    "\n",
    "def avg_events_in_batch(uri, username, password, cypher_avg_events_in_batch):\n",
    "    driver = GraphDatabase.driver(uri, auth=(username, password))\n",
    "    with driver.session() as session:\n",
    "        result = session.run(cypher_avg_events_in_batch)\n",
    "        data = result.data()\n",
    "        return data\n",
    "    \n",
    "results_avg_events_in_batch = avg_events_in_batch(uri, username, password, cypher_avg_events_in_batch)\n",
    "print(results_avg_events_in_batch) "
   ]
  },
  {
   "cell_type": "code",
   "execution_count": 8,
   "id": "dc435079",
   "metadata": {},
   "outputs": [
    {
     "data": {
      "application/vnd.plotly.v1+json": {
       "config": {
        "plotlyServerURL": "https://plot.ly"
       },
       "data": [
        {
         "hovertemplate": "Number of Events=%{x}<br>Frequency=%{y}<extra></extra>",
         "legendgroup": "",
         "marker": {
          "color": "#636efa",
          "symbol": "circle"
         },
         "mode": "markers",
         "name": "",
         "orientation": "v",
         "showlegend": false,
         "type": "scatter",
         "x": [
          1,
          11,
          5,
          8,
          3,
          15,
          10,
          2,
          25,
          12,
          13,
          14,
          23,
          7,
          24,
          4,
          9,
          6,
          123,
          52,
          17,
          36,
          49,
          30,
          37,
          29,
          46,
          140,
          74,
          43,
          31,
          51,
          20,
          61,
          58,
          19,
          33,
          18,
          66,
          40,
          64,
          16,
          88,
          42,
          22,
          39,
          98,
          160,
          82,
          44,
          70,
          26,
          54,
          35,
          174,
          204,
          56,
          21,
          68,
          28,
          79,
          59,
          65,
          47,
          96,
          80,
          45,
          57,
          55,
          117,
          73,
          115,
          139,
          126,
          50,
          34,
          172,
          27,
          38,
          41,
          32,
          84,
          102,
          121,
          143,
          67,
          89,
          48,
          75,
          76,
          94,
          93,
          72,
          90,
          60,
          144,
          69,
          78,
          145,
          63,
          113,
          177,
          62,
          119,
          110,
          148,
          198,
          146,
          77,
          211,
          124,
          53,
          81,
          91,
          196,
          166,
          111,
          155,
          171,
          92,
          83,
          316,
          85,
          167,
          151,
          122,
          104,
          108,
          109,
          128,
          103,
          101,
          120,
          116,
          86,
          199,
          219,
          71,
          182,
          134,
          185,
          87,
          141,
          133,
          147,
          125,
          233,
          107,
          130,
          127,
          129,
          114,
          192,
          97,
          208,
          105,
          176,
          178,
          138,
          136,
          186,
          95,
          190,
          249,
          100,
          106,
          132
         ],
         "xaxis": "x",
         "y": [
          31178,
          471,
          1474,
          735,
          3506,
          276,
          624,
          7026,
          70,
          474,
          394,
          302,
          84,
          828,
          58,
          2191,
          682,
          1082,
          3,
          12,
          196,
          25,
          23,
          46,
          32,
          43,
          17,
          3,
          7,
          37,
          43,
          26,
          112,
          9,
          11,
          140,
          40,
          130,
          8,
          23,
          8,
          189,
          3,
          30,
          65,
          32,
          6,
          4,
          4,
          28,
          8,
          52,
          14,
          39,
          1,
          1,
          12,
          124,
          7,
          40,
          8,
          9,
          3,
          15,
          4,
          11,
          19,
          9,
          26,
          5,
          5,
          3,
          1,
          3,
          9,
          30,
          1,
          35,
          18,
          17,
          39,
          2,
          7,
          2,
          3,
          8,
          4,
          20,
          4,
          5,
          2,
          4,
          5,
          6,
          8,
          2,
          5,
          9,
          1,
          7,
          5,
          2,
          3,
          3,
          4,
          2,
          1,
          1,
          2,
          1,
          3,
          16,
          5,
          4,
          1,
          2,
          3,
          2,
          1,
          7,
          5,
          1,
          6,
          3,
          2,
          1,
          1,
          4,
          5,
          1,
          4,
          2,
          5,
          3,
          5,
          1,
          1,
          3,
          1,
          3,
          2,
          4,
          2,
          1,
          1,
          1,
          2,
          2,
          1,
          2,
          2,
          1,
          1,
          3,
          1,
          1,
          1,
          1,
          1,
          2,
          1,
          1,
          1,
          1,
          1,
          1,
          1
         ],
         "yaxis": "y"
        }
       ],
       "layout": {
        "height": 500,
        "legend": {
         "tracegroupgap": 0
        },
        "template": {
         "data": {
          "bar": [
           {
            "error_x": {
             "color": "#2a3f5f"
            },
            "error_y": {
             "color": "#2a3f5f"
            },
            "marker": {
             "line": {
              "color": "#E5ECF6",
              "width": 0.5
             },
             "pattern": {
              "fillmode": "overlay",
              "size": 10,
              "solidity": 0.2
             }
            },
            "type": "bar"
           }
          ],
          "barpolar": [
           {
            "marker": {
             "line": {
              "color": "#E5ECF6",
              "width": 0.5
             },
             "pattern": {
              "fillmode": "overlay",
              "size": 10,
              "solidity": 0.2
             }
            },
            "type": "barpolar"
           }
          ],
          "carpet": [
           {
            "aaxis": {
             "endlinecolor": "#2a3f5f",
             "gridcolor": "white",
             "linecolor": "white",
             "minorgridcolor": "white",
             "startlinecolor": "#2a3f5f"
            },
            "baxis": {
             "endlinecolor": "#2a3f5f",
             "gridcolor": "white",
             "linecolor": "white",
             "minorgridcolor": "white",
             "startlinecolor": "#2a3f5f"
            },
            "type": "carpet"
           }
          ],
          "choropleth": [
           {
            "colorbar": {
             "outlinewidth": 0,
             "ticks": ""
            },
            "type": "choropleth"
           }
          ],
          "contour": [
           {
            "colorbar": {
             "outlinewidth": 0,
             "ticks": ""
            },
            "colorscale": [
             [
              0,
              "#0d0887"
             ],
             [
              0.1111111111111111,
              "#46039f"
             ],
             [
              0.2222222222222222,
              "#7201a8"
             ],
             [
              0.3333333333333333,
              "#9c179e"
             ],
             [
              0.4444444444444444,
              "#bd3786"
             ],
             [
              0.5555555555555556,
              "#d8576b"
             ],
             [
              0.6666666666666666,
              "#ed7953"
             ],
             [
              0.7777777777777778,
              "#fb9f3a"
             ],
             [
              0.8888888888888888,
              "#fdca26"
             ],
             [
              1,
              "#f0f921"
             ]
            ],
            "type": "contour"
           }
          ],
          "contourcarpet": [
           {
            "colorbar": {
             "outlinewidth": 0,
             "ticks": ""
            },
            "type": "contourcarpet"
           }
          ],
          "heatmap": [
           {
            "colorbar": {
             "outlinewidth": 0,
             "ticks": ""
            },
            "colorscale": [
             [
              0,
              "#0d0887"
             ],
             [
              0.1111111111111111,
              "#46039f"
             ],
             [
              0.2222222222222222,
              "#7201a8"
             ],
             [
              0.3333333333333333,
              "#9c179e"
             ],
             [
              0.4444444444444444,
              "#bd3786"
             ],
             [
              0.5555555555555556,
              "#d8576b"
             ],
             [
              0.6666666666666666,
              "#ed7953"
             ],
             [
              0.7777777777777778,
              "#fb9f3a"
             ],
             [
              0.8888888888888888,
              "#fdca26"
             ],
             [
              1,
              "#f0f921"
             ]
            ],
            "type": "heatmap"
           }
          ],
          "heatmapgl": [
           {
            "colorbar": {
             "outlinewidth": 0,
             "ticks": ""
            },
            "colorscale": [
             [
              0,
              "#0d0887"
             ],
             [
              0.1111111111111111,
              "#46039f"
             ],
             [
              0.2222222222222222,
              "#7201a8"
             ],
             [
              0.3333333333333333,
              "#9c179e"
             ],
             [
              0.4444444444444444,
              "#bd3786"
             ],
             [
              0.5555555555555556,
              "#d8576b"
             ],
             [
              0.6666666666666666,
              "#ed7953"
             ],
             [
              0.7777777777777778,
              "#fb9f3a"
             ],
             [
              0.8888888888888888,
              "#fdca26"
             ],
             [
              1,
              "#f0f921"
             ]
            ],
            "type": "heatmapgl"
           }
          ],
          "histogram": [
           {
            "marker": {
             "pattern": {
              "fillmode": "overlay",
              "size": 10,
              "solidity": 0.2
             }
            },
            "type": "histogram"
           }
          ],
          "histogram2d": [
           {
            "colorbar": {
             "outlinewidth": 0,
             "ticks": ""
            },
            "colorscale": [
             [
              0,
              "#0d0887"
             ],
             [
              0.1111111111111111,
              "#46039f"
             ],
             [
              0.2222222222222222,
              "#7201a8"
             ],
             [
              0.3333333333333333,
              "#9c179e"
             ],
             [
              0.4444444444444444,
              "#bd3786"
             ],
             [
              0.5555555555555556,
              "#d8576b"
             ],
             [
              0.6666666666666666,
              "#ed7953"
             ],
             [
              0.7777777777777778,
              "#fb9f3a"
             ],
             [
              0.8888888888888888,
              "#fdca26"
             ],
             [
              1,
              "#f0f921"
             ]
            ],
            "type": "histogram2d"
           }
          ],
          "histogram2dcontour": [
           {
            "colorbar": {
             "outlinewidth": 0,
             "ticks": ""
            },
            "colorscale": [
             [
              0,
              "#0d0887"
             ],
             [
              0.1111111111111111,
              "#46039f"
             ],
             [
              0.2222222222222222,
              "#7201a8"
             ],
             [
              0.3333333333333333,
              "#9c179e"
             ],
             [
              0.4444444444444444,
              "#bd3786"
             ],
             [
              0.5555555555555556,
              "#d8576b"
             ],
             [
              0.6666666666666666,
              "#ed7953"
             ],
             [
              0.7777777777777778,
              "#fb9f3a"
             ],
             [
              0.8888888888888888,
              "#fdca26"
             ],
             [
              1,
              "#f0f921"
             ]
            ],
            "type": "histogram2dcontour"
           }
          ],
          "mesh3d": [
           {
            "colorbar": {
             "outlinewidth": 0,
             "ticks": ""
            },
            "type": "mesh3d"
           }
          ],
          "parcoords": [
           {
            "line": {
             "colorbar": {
              "outlinewidth": 0,
              "ticks": ""
             }
            },
            "type": "parcoords"
           }
          ],
          "pie": [
           {
            "automargin": true,
            "type": "pie"
           }
          ],
          "scatter": [
           {
            "fillpattern": {
             "fillmode": "overlay",
             "size": 10,
             "solidity": 0.2
            },
            "type": "scatter"
           }
          ],
          "scatter3d": [
           {
            "line": {
             "colorbar": {
              "outlinewidth": 0,
              "ticks": ""
             }
            },
            "marker": {
             "colorbar": {
              "outlinewidth": 0,
              "ticks": ""
             }
            },
            "type": "scatter3d"
           }
          ],
          "scattercarpet": [
           {
            "marker": {
             "colorbar": {
              "outlinewidth": 0,
              "ticks": ""
             }
            },
            "type": "scattercarpet"
           }
          ],
          "scattergeo": [
           {
            "marker": {
             "colorbar": {
              "outlinewidth": 0,
              "ticks": ""
             }
            },
            "type": "scattergeo"
           }
          ],
          "scattergl": [
           {
            "marker": {
             "colorbar": {
              "outlinewidth": 0,
              "ticks": ""
             }
            },
            "type": "scattergl"
           }
          ],
          "scattermapbox": [
           {
            "marker": {
             "colorbar": {
              "outlinewidth": 0,
              "ticks": ""
             }
            },
            "type": "scattermapbox"
           }
          ],
          "scatterpolar": [
           {
            "marker": {
             "colorbar": {
              "outlinewidth": 0,
              "ticks": ""
             }
            },
            "type": "scatterpolar"
           }
          ],
          "scatterpolargl": [
           {
            "marker": {
             "colorbar": {
              "outlinewidth": 0,
              "ticks": ""
             }
            },
            "type": "scatterpolargl"
           }
          ],
          "scatterternary": [
           {
            "marker": {
             "colorbar": {
              "outlinewidth": 0,
              "ticks": ""
             }
            },
            "type": "scatterternary"
           }
          ],
          "surface": [
           {
            "colorbar": {
             "outlinewidth": 0,
             "ticks": ""
            },
            "colorscale": [
             [
              0,
              "#0d0887"
             ],
             [
              0.1111111111111111,
              "#46039f"
             ],
             [
              0.2222222222222222,
              "#7201a8"
             ],
             [
              0.3333333333333333,
              "#9c179e"
             ],
             [
              0.4444444444444444,
              "#bd3786"
             ],
             [
              0.5555555555555556,
              "#d8576b"
             ],
             [
              0.6666666666666666,
              "#ed7953"
             ],
             [
              0.7777777777777778,
              "#fb9f3a"
             ],
             [
              0.8888888888888888,
              "#fdca26"
             ],
             [
              1,
              "#f0f921"
             ]
            ],
            "type": "surface"
           }
          ],
          "table": [
           {
            "cells": {
             "fill": {
              "color": "#EBF0F8"
             },
             "line": {
              "color": "white"
             }
            },
            "header": {
             "fill": {
              "color": "#C8D4E3"
             },
             "line": {
              "color": "white"
             }
            },
            "type": "table"
           }
          ]
         },
         "layout": {
          "annotationdefaults": {
           "arrowcolor": "#2a3f5f",
           "arrowhead": 0,
           "arrowwidth": 1
          },
          "autotypenumbers": "strict",
          "coloraxis": {
           "colorbar": {
            "outlinewidth": 0,
            "ticks": ""
           }
          },
          "colorscale": {
           "diverging": [
            [
             0,
             "#8e0152"
            ],
            [
             0.1,
             "#c51b7d"
            ],
            [
             0.2,
             "#de77ae"
            ],
            [
             0.3,
             "#f1b6da"
            ],
            [
             0.4,
             "#fde0ef"
            ],
            [
             0.5,
             "#f7f7f7"
            ],
            [
             0.6,
             "#e6f5d0"
            ],
            [
             0.7,
             "#b8e186"
            ],
            [
             0.8,
             "#7fbc41"
            ],
            [
             0.9,
             "#4d9221"
            ],
            [
             1,
             "#276419"
            ]
           ],
           "sequential": [
            [
             0,
             "#0d0887"
            ],
            [
             0.1111111111111111,
             "#46039f"
            ],
            [
             0.2222222222222222,
             "#7201a8"
            ],
            [
             0.3333333333333333,
             "#9c179e"
            ],
            [
             0.4444444444444444,
             "#bd3786"
            ],
            [
             0.5555555555555556,
             "#d8576b"
            ],
            [
             0.6666666666666666,
             "#ed7953"
            ],
            [
             0.7777777777777778,
             "#fb9f3a"
            ],
            [
             0.8888888888888888,
             "#fdca26"
            ],
            [
             1,
             "#f0f921"
            ]
           ],
           "sequentialminus": [
            [
             0,
             "#0d0887"
            ],
            [
             0.1111111111111111,
             "#46039f"
            ],
            [
             0.2222222222222222,
             "#7201a8"
            ],
            [
             0.3333333333333333,
             "#9c179e"
            ],
            [
             0.4444444444444444,
             "#bd3786"
            ],
            [
             0.5555555555555556,
             "#d8576b"
            ],
            [
             0.6666666666666666,
             "#ed7953"
            ],
            [
             0.7777777777777778,
             "#fb9f3a"
            ],
            [
             0.8888888888888888,
             "#fdca26"
            ],
            [
             1,
             "#f0f921"
            ]
           ]
          },
          "colorway": [
           "#636efa",
           "#EF553B",
           "#00cc96",
           "#ab63fa",
           "#FFA15A",
           "#19d3f3",
           "#FF6692",
           "#B6E880",
           "#FF97FF",
           "#FECB52"
          ],
          "font": {
           "color": "#2a3f5f"
          },
          "geo": {
           "bgcolor": "white",
           "lakecolor": "white",
           "landcolor": "#E5ECF6",
           "showlakes": true,
           "showland": true,
           "subunitcolor": "white"
          },
          "hoverlabel": {
           "align": "left"
          },
          "hovermode": "closest",
          "mapbox": {
           "style": "light"
          },
          "paper_bgcolor": "white",
          "plot_bgcolor": "#E5ECF6",
          "polar": {
           "angularaxis": {
            "gridcolor": "white",
            "linecolor": "white",
            "ticks": ""
           },
           "bgcolor": "#E5ECF6",
           "radialaxis": {
            "gridcolor": "white",
            "linecolor": "white",
            "ticks": ""
           }
          },
          "scene": {
           "xaxis": {
            "backgroundcolor": "#E5ECF6",
            "gridcolor": "white",
            "gridwidth": 2,
            "linecolor": "white",
            "showbackground": true,
            "ticks": "",
            "zerolinecolor": "white"
           },
           "yaxis": {
            "backgroundcolor": "#E5ECF6",
            "gridcolor": "white",
            "gridwidth": 2,
            "linecolor": "white",
            "showbackground": true,
            "ticks": "",
            "zerolinecolor": "white"
           },
           "zaxis": {
            "backgroundcolor": "#E5ECF6",
            "gridcolor": "white",
            "gridwidth": 2,
            "linecolor": "white",
            "showbackground": true,
            "ticks": "",
            "zerolinecolor": "white"
           }
          },
          "shapedefaults": {
           "line": {
            "color": "#2a3f5f"
           }
          },
          "ternary": {
           "aaxis": {
            "gridcolor": "white",
            "linecolor": "white",
            "ticks": ""
           },
           "baxis": {
            "gridcolor": "white",
            "linecolor": "white",
            "ticks": ""
           },
           "bgcolor": "#E5ECF6",
           "caxis": {
            "gridcolor": "white",
            "linecolor": "white",
            "ticks": ""
           }
          },
          "title": {
           "x": 0.05
          },
          "xaxis": {
           "automargin": true,
           "gridcolor": "white",
           "linecolor": "white",
           "ticks": "",
           "title": {
            "standoff": 15
           },
           "zerolinecolor": "white",
           "zerolinewidth": 2
          },
          "yaxis": {
           "automargin": true,
           "gridcolor": "white",
           "linecolor": "white",
           "ticks": "",
           "title": {
            "standoff": 15
           },
           "zerolinecolor": "white",
           "zerolinewidth": 2
          }
         }
        },
        "title": {
         "text": "Distribution of Events in BatcheInstances"
        },
        "width": 700,
        "xaxis": {
         "anchor": "y",
         "domain": [
          0,
          1
         ],
         "title": {
          "text": "Number of Events"
         }
        },
        "yaxis": {
         "anchor": "x",
         "domain": [
          0,
          1
         ],
         "title": {
          "text": "Frequency"
         }
        }
       }
      }
     },
     "metadata": {},
     "output_type": "display_data"
    }
   ],
   "source": [
    "cypher_events_in_batch_distribution = \"\"\"\n",
    "    MATCH (n:BatchInstance)\n",
    "    WITH n.event_number AS number_events\n",
    "    RETURN number_events, count(number_events) AS frequency \n",
    "\"\"\"\n",
    "def events_in_batch_distribution(uri, username, password, cypher_events_in_batch_distribution):\n",
    "    driver = GraphDatabase.driver(uri, auth=(username, password))\n",
    "    with driver.session() as session:\n",
    "        result = session.run(cypher_events_in_batch_distribution)\n",
    "        data = result.data()\n",
    "        return data\n",
    "    \n",
    "results_events_in_batch_distribution = events_in_batch_distribution(uri, username, password, cypher_events_in_batch_distribution)\n",
    "\n",
    "number_events = [record['number_events'] for record in results_events_in_batch_distribution]\n",
    "frequency = [record['frequency'] for record in results_events_in_batch_distribution]\n",
    "\n",
    "fig = px.scatter(x=number_events, y=frequency, title='Distribution of Events in BatcheInstances', labels={'x':'Number of Events', 'y':'Frequency'})\n",
    "fig.update_layout(width=700, height=500)\n",
    "\n",
    "\n",
    "fig.show()\n",
    "pio.write_image(fig, 'Distribution_of_Events_in_BatcheInstances.png', width=800, height=400, scale=3)"
   ]
  },
  {
   "attachments": {},
   "cell_type": "markdown",
   "id": "f7d6533e",
   "metadata": {},
   "source": [
    "##### Average, MIN and MAX Amount of Kits in a Batch"
   ]
  },
  {
   "cell_type": "code",
   "execution_count": 9,
   "id": "44fdae10",
   "metadata": {},
   "outputs": [
    {
     "name": "stdout",
     "output_type": "stream",
     "text": [
      "[{'average_kits_per_batch': 2.944171047235585, 'min_kits_per_batch': 1, 'max_kits_per_batch': 123}]\n"
     ]
    }
   ],
   "source": [
    "cypher_avg_kits_in_batch = \"\"\"\n",
    "    MATCH (n:BatchInstance)\n",
    "    RETURN AVG(size(n.kits)) AS average_kits_per_batch,\n",
    "        MIN(size(n.kits)) AS min_kits_per_batch,\n",
    "        MAX(size(n.kits)) AS max_kits_per_batch\n",
    "\"\"\"\n",
    "\n",
    "\n",
    "def avg_kits_in_batch(uri, username, password, cypher_avg_kits_in_batch):\n",
    "    driver = GraphDatabase.driver(uri, auth=(username, password))\n",
    "    with driver.session() as session:\n",
    "        result = session.run(cypher_avg_kits_in_batch)\n",
    "        data = result.data()\n",
    "        return data\n",
    "    \n",
    "results_avg_kits_in_batch = avg_kits_in_batch(uri, username, password, cypher_avg_kits_in_batch)\n",
    "print(results_avg_kits_in_batch) "
   ]
  },
  {
   "cell_type": "code",
   "execution_count": 10,
   "metadata": {},
   "outputs": [
    {
     "data": {
      "application/vnd.plotly.v1+json": {
       "config": {
        "plotlyServerURL": "https://plot.ly"
       },
       "data": [
        {
         "hovertemplate": "Number of Kits=%{x}<br>Frequency=%{y}<extra></extra>",
         "legendgroup": "",
         "marker": {
          "color": "#636efa",
          "symbol": "circle"
         },
         "mode": "markers",
         "name": "",
         "orientation": "v",
         "showlegend": false,
         "type": "scatter",
         "x": [
          1,
          11,
          5,
          8,
          3,
          15,
          10,
          2,
          25,
          12,
          13,
          14,
          23,
          7,
          24,
          4,
          9,
          6,
          46,
          22,
          31,
          28,
          16,
          56,
          27,
          17,
          32,
          20,
          19,
          37,
          42,
          49,
          39,
          18,
          59,
          51,
          45,
          36,
          34,
          63,
          60,
          21,
          43,
          38,
          26,
          41,
          29,
          55,
          30,
          33,
          48,
          61,
          40,
          35,
          44,
          53,
          54,
          64,
          110,
          105,
          50,
          47,
          84,
          62,
          57,
          103,
          70,
          76,
          65,
          71,
          90,
          72,
          66,
          101,
          111,
          109,
          107,
          68,
          79,
          58,
          77,
          52,
          82,
          117,
          74,
          67,
          69,
          97,
          106,
          123
         ],
         "xaxis": "x",
         "y": [
          34278,
          427,
          1089,
          613,
          3246,
          262,
          522,
          6927,
          46,
          433,
          368,
          279,
          48,
          625,
          56,
          1693,
          597,
          766,
          11,
          56,
          20,
          29,
          189,
          5,
          28,
          197,
          27,
          90,
          105,
          10,
          11,
          7,
          24,
          119,
          10,
          13,
          13,
          18,
          27,
          5,
          5,
          85,
          8,
          17,
          37,
          15,
          17,
          4,
          23,
          18,
          7,
          6,
          14,
          22,
          11,
          7,
          4,
          2,
          1,
          1,
          2,
          4,
          1,
          1,
          4,
          1,
          2,
          1,
          1,
          4,
          1,
          2,
          1,
          1,
          3,
          1,
          1,
          2,
          4,
          4,
          2,
          1,
          1,
          1,
          1,
          2,
          1,
          1,
          1,
          1
         ],
         "yaxis": "y"
        }
       ],
       "layout": {
        "height": 500,
        "legend": {
         "tracegroupgap": 0
        },
        "template": {
         "data": {
          "bar": [
           {
            "error_x": {
             "color": "#2a3f5f"
            },
            "error_y": {
             "color": "#2a3f5f"
            },
            "marker": {
             "line": {
              "color": "#E5ECF6",
              "width": 0.5
             },
             "pattern": {
              "fillmode": "overlay",
              "size": 10,
              "solidity": 0.2
             }
            },
            "type": "bar"
           }
          ],
          "barpolar": [
           {
            "marker": {
             "line": {
              "color": "#E5ECF6",
              "width": 0.5
             },
             "pattern": {
              "fillmode": "overlay",
              "size": 10,
              "solidity": 0.2
             }
            },
            "type": "barpolar"
           }
          ],
          "carpet": [
           {
            "aaxis": {
             "endlinecolor": "#2a3f5f",
             "gridcolor": "white",
             "linecolor": "white",
             "minorgridcolor": "white",
             "startlinecolor": "#2a3f5f"
            },
            "baxis": {
             "endlinecolor": "#2a3f5f",
             "gridcolor": "white",
             "linecolor": "white",
             "minorgridcolor": "white",
             "startlinecolor": "#2a3f5f"
            },
            "type": "carpet"
           }
          ],
          "choropleth": [
           {
            "colorbar": {
             "outlinewidth": 0,
             "ticks": ""
            },
            "type": "choropleth"
           }
          ],
          "contour": [
           {
            "colorbar": {
             "outlinewidth": 0,
             "ticks": ""
            },
            "colorscale": [
             [
              0,
              "#0d0887"
             ],
             [
              0.1111111111111111,
              "#46039f"
             ],
             [
              0.2222222222222222,
              "#7201a8"
             ],
             [
              0.3333333333333333,
              "#9c179e"
             ],
             [
              0.4444444444444444,
              "#bd3786"
             ],
             [
              0.5555555555555556,
              "#d8576b"
             ],
             [
              0.6666666666666666,
              "#ed7953"
             ],
             [
              0.7777777777777778,
              "#fb9f3a"
             ],
             [
              0.8888888888888888,
              "#fdca26"
             ],
             [
              1,
              "#f0f921"
             ]
            ],
            "type": "contour"
           }
          ],
          "contourcarpet": [
           {
            "colorbar": {
             "outlinewidth": 0,
             "ticks": ""
            },
            "type": "contourcarpet"
           }
          ],
          "heatmap": [
           {
            "colorbar": {
             "outlinewidth": 0,
             "ticks": ""
            },
            "colorscale": [
             [
              0,
              "#0d0887"
             ],
             [
              0.1111111111111111,
              "#46039f"
             ],
             [
              0.2222222222222222,
              "#7201a8"
             ],
             [
              0.3333333333333333,
              "#9c179e"
             ],
             [
              0.4444444444444444,
              "#bd3786"
             ],
             [
              0.5555555555555556,
              "#d8576b"
             ],
             [
              0.6666666666666666,
              "#ed7953"
             ],
             [
              0.7777777777777778,
              "#fb9f3a"
             ],
             [
              0.8888888888888888,
              "#fdca26"
             ],
             [
              1,
              "#f0f921"
             ]
            ],
            "type": "heatmap"
           }
          ],
          "heatmapgl": [
           {
            "colorbar": {
             "outlinewidth": 0,
             "ticks": ""
            },
            "colorscale": [
             [
              0,
              "#0d0887"
             ],
             [
              0.1111111111111111,
              "#46039f"
             ],
             [
              0.2222222222222222,
              "#7201a8"
             ],
             [
              0.3333333333333333,
              "#9c179e"
             ],
             [
              0.4444444444444444,
              "#bd3786"
             ],
             [
              0.5555555555555556,
              "#d8576b"
             ],
             [
              0.6666666666666666,
              "#ed7953"
             ],
             [
              0.7777777777777778,
              "#fb9f3a"
             ],
             [
              0.8888888888888888,
              "#fdca26"
             ],
             [
              1,
              "#f0f921"
             ]
            ],
            "type": "heatmapgl"
           }
          ],
          "histogram": [
           {
            "marker": {
             "pattern": {
              "fillmode": "overlay",
              "size": 10,
              "solidity": 0.2
             }
            },
            "type": "histogram"
           }
          ],
          "histogram2d": [
           {
            "colorbar": {
             "outlinewidth": 0,
             "ticks": ""
            },
            "colorscale": [
             [
              0,
              "#0d0887"
             ],
             [
              0.1111111111111111,
              "#46039f"
             ],
             [
              0.2222222222222222,
              "#7201a8"
             ],
             [
              0.3333333333333333,
              "#9c179e"
             ],
             [
              0.4444444444444444,
              "#bd3786"
             ],
             [
              0.5555555555555556,
              "#d8576b"
             ],
             [
              0.6666666666666666,
              "#ed7953"
             ],
             [
              0.7777777777777778,
              "#fb9f3a"
             ],
             [
              0.8888888888888888,
              "#fdca26"
             ],
             [
              1,
              "#f0f921"
             ]
            ],
            "type": "histogram2d"
           }
          ],
          "histogram2dcontour": [
           {
            "colorbar": {
             "outlinewidth": 0,
             "ticks": ""
            },
            "colorscale": [
             [
              0,
              "#0d0887"
             ],
             [
              0.1111111111111111,
              "#46039f"
             ],
             [
              0.2222222222222222,
              "#7201a8"
             ],
             [
              0.3333333333333333,
              "#9c179e"
             ],
             [
              0.4444444444444444,
              "#bd3786"
             ],
             [
              0.5555555555555556,
              "#d8576b"
             ],
             [
              0.6666666666666666,
              "#ed7953"
             ],
             [
              0.7777777777777778,
              "#fb9f3a"
             ],
             [
              0.8888888888888888,
              "#fdca26"
             ],
             [
              1,
              "#f0f921"
             ]
            ],
            "type": "histogram2dcontour"
           }
          ],
          "mesh3d": [
           {
            "colorbar": {
             "outlinewidth": 0,
             "ticks": ""
            },
            "type": "mesh3d"
           }
          ],
          "parcoords": [
           {
            "line": {
             "colorbar": {
              "outlinewidth": 0,
              "ticks": ""
             }
            },
            "type": "parcoords"
           }
          ],
          "pie": [
           {
            "automargin": true,
            "type": "pie"
           }
          ],
          "scatter": [
           {
            "fillpattern": {
             "fillmode": "overlay",
             "size": 10,
             "solidity": 0.2
            },
            "type": "scatter"
           }
          ],
          "scatter3d": [
           {
            "line": {
             "colorbar": {
              "outlinewidth": 0,
              "ticks": ""
             }
            },
            "marker": {
             "colorbar": {
              "outlinewidth": 0,
              "ticks": ""
             }
            },
            "type": "scatter3d"
           }
          ],
          "scattercarpet": [
           {
            "marker": {
             "colorbar": {
              "outlinewidth": 0,
              "ticks": ""
             }
            },
            "type": "scattercarpet"
           }
          ],
          "scattergeo": [
           {
            "marker": {
             "colorbar": {
              "outlinewidth": 0,
              "ticks": ""
             }
            },
            "type": "scattergeo"
           }
          ],
          "scattergl": [
           {
            "marker": {
             "colorbar": {
              "outlinewidth": 0,
              "ticks": ""
             }
            },
            "type": "scattergl"
           }
          ],
          "scattermapbox": [
           {
            "marker": {
             "colorbar": {
              "outlinewidth": 0,
              "ticks": ""
             }
            },
            "type": "scattermapbox"
           }
          ],
          "scatterpolar": [
           {
            "marker": {
             "colorbar": {
              "outlinewidth": 0,
              "ticks": ""
             }
            },
            "type": "scatterpolar"
           }
          ],
          "scatterpolargl": [
           {
            "marker": {
             "colorbar": {
              "outlinewidth": 0,
              "ticks": ""
             }
            },
            "type": "scatterpolargl"
           }
          ],
          "scatterternary": [
           {
            "marker": {
             "colorbar": {
              "outlinewidth": 0,
              "ticks": ""
             }
            },
            "type": "scatterternary"
           }
          ],
          "surface": [
           {
            "colorbar": {
             "outlinewidth": 0,
             "ticks": ""
            },
            "colorscale": [
             [
              0,
              "#0d0887"
             ],
             [
              0.1111111111111111,
              "#46039f"
             ],
             [
              0.2222222222222222,
              "#7201a8"
             ],
             [
              0.3333333333333333,
              "#9c179e"
             ],
             [
              0.4444444444444444,
              "#bd3786"
             ],
             [
              0.5555555555555556,
              "#d8576b"
             ],
             [
              0.6666666666666666,
              "#ed7953"
             ],
             [
              0.7777777777777778,
              "#fb9f3a"
             ],
             [
              0.8888888888888888,
              "#fdca26"
             ],
             [
              1,
              "#f0f921"
             ]
            ],
            "type": "surface"
           }
          ],
          "table": [
           {
            "cells": {
             "fill": {
              "color": "#EBF0F8"
             },
             "line": {
              "color": "white"
             }
            },
            "header": {
             "fill": {
              "color": "#C8D4E3"
             },
             "line": {
              "color": "white"
             }
            },
            "type": "table"
           }
          ]
         },
         "layout": {
          "annotationdefaults": {
           "arrowcolor": "#2a3f5f",
           "arrowhead": 0,
           "arrowwidth": 1
          },
          "autotypenumbers": "strict",
          "coloraxis": {
           "colorbar": {
            "outlinewidth": 0,
            "ticks": ""
           }
          },
          "colorscale": {
           "diverging": [
            [
             0,
             "#8e0152"
            ],
            [
             0.1,
             "#c51b7d"
            ],
            [
             0.2,
             "#de77ae"
            ],
            [
             0.3,
             "#f1b6da"
            ],
            [
             0.4,
             "#fde0ef"
            ],
            [
             0.5,
             "#f7f7f7"
            ],
            [
             0.6,
             "#e6f5d0"
            ],
            [
             0.7,
             "#b8e186"
            ],
            [
             0.8,
             "#7fbc41"
            ],
            [
             0.9,
             "#4d9221"
            ],
            [
             1,
             "#276419"
            ]
           ],
           "sequential": [
            [
             0,
             "#0d0887"
            ],
            [
             0.1111111111111111,
             "#46039f"
            ],
            [
             0.2222222222222222,
             "#7201a8"
            ],
            [
             0.3333333333333333,
             "#9c179e"
            ],
            [
             0.4444444444444444,
             "#bd3786"
            ],
            [
             0.5555555555555556,
             "#d8576b"
            ],
            [
             0.6666666666666666,
             "#ed7953"
            ],
            [
             0.7777777777777778,
             "#fb9f3a"
            ],
            [
             0.8888888888888888,
             "#fdca26"
            ],
            [
             1,
             "#f0f921"
            ]
           ],
           "sequentialminus": [
            [
             0,
             "#0d0887"
            ],
            [
             0.1111111111111111,
             "#46039f"
            ],
            [
             0.2222222222222222,
             "#7201a8"
            ],
            [
             0.3333333333333333,
             "#9c179e"
            ],
            [
             0.4444444444444444,
             "#bd3786"
            ],
            [
             0.5555555555555556,
             "#d8576b"
            ],
            [
             0.6666666666666666,
             "#ed7953"
            ],
            [
             0.7777777777777778,
             "#fb9f3a"
            ],
            [
             0.8888888888888888,
             "#fdca26"
            ],
            [
             1,
             "#f0f921"
            ]
           ]
          },
          "colorway": [
           "#636efa",
           "#EF553B",
           "#00cc96",
           "#ab63fa",
           "#FFA15A",
           "#19d3f3",
           "#FF6692",
           "#B6E880",
           "#FF97FF",
           "#FECB52"
          ],
          "font": {
           "color": "#2a3f5f"
          },
          "geo": {
           "bgcolor": "white",
           "lakecolor": "white",
           "landcolor": "#E5ECF6",
           "showlakes": true,
           "showland": true,
           "subunitcolor": "white"
          },
          "hoverlabel": {
           "align": "left"
          },
          "hovermode": "closest",
          "mapbox": {
           "style": "light"
          },
          "paper_bgcolor": "white",
          "plot_bgcolor": "#E5ECF6",
          "polar": {
           "angularaxis": {
            "gridcolor": "white",
            "linecolor": "white",
            "ticks": ""
           },
           "bgcolor": "#E5ECF6",
           "radialaxis": {
            "gridcolor": "white",
            "linecolor": "white",
            "ticks": ""
           }
          },
          "scene": {
           "xaxis": {
            "backgroundcolor": "#E5ECF6",
            "gridcolor": "white",
            "gridwidth": 2,
            "linecolor": "white",
            "showbackground": true,
            "ticks": "",
            "zerolinecolor": "white"
           },
           "yaxis": {
            "backgroundcolor": "#E5ECF6",
            "gridcolor": "white",
            "gridwidth": 2,
            "linecolor": "white",
            "showbackground": true,
            "ticks": "",
            "zerolinecolor": "white"
           },
           "zaxis": {
            "backgroundcolor": "#E5ECF6",
            "gridcolor": "white",
            "gridwidth": 2,
            "linecolor": "white",
            "showbackground": true,
            "ticks": "",
            "zerolinecolor": "white"
           }
          },
          "shapedefaults": {
           "line": {
            "color": "#2a3f5f"
           }
          },
          "ternary": {
           "aaxis": {
            "gridcolor": "white",
            "linecolor": "white",
            "ticks": ""
           },
           "baxis": {
            "gridcolor": "white",
            "linecolor": "white",
            "ticks": ""
           },
           "bgcolor": "#E5ECF6",
           "caxis": {
            "gridcolor": "white",
            "linecolor": "white",
            "ticks": ""
           }
          },
          "title": {
           "x": 0.05
          },
          "xaxis": {
           "automargin": true,
           "gridcolor": "white",
           "linecolor": "white",
           "ticks": "",
           "title": {
            "standoff": 15
           },
           "zerolinecolor": "white",
           "zerolinewidth": 2
          },
          "yaxis": {
           "automargin": true,
           "gridcolor": "white",
           "linecolor": "white",
           "ticks": "",
           "title": {
            "standoff": 15
           },
           "zerolinecolor": "white",
           "zerolinewidth": 2
          }
         }
        },
        "title": {
         "text": "Distribution of Kits in BatcheInstances"
        },
        "width": 700,
        "xaxis": {
         "anchor": "y",
         "domain": [
          0,
          1
         ],
         "title": {
          "text": "Number of Kits"
         }
        },
        "yaxis": {
         "anchor": "x",
         "domain": [
          0,
          1
         ],
         "title": {
          "text": "Frequency"
         }
        }
       }
      }
     },
     "metadata": {},
     "output_type": "display_data"
    }
   ],
   "source": [
    "cypher_kits_in_batch_distribution = \"\"\"\n",
    "    MATCH (n:BatchInstance)\n",
    "    WITH size(n.kits) AS number_kits\n",
    "    RETURN number_kits, count(number_kits) AS frequency \n",
    "\"\"\"\n",
    "def kits_in_batch_distribution(uri, username, password, cypher_kits_in_batch_distribution):\n",
    "    driver = GraphDatabase.driver(uri, auth=(username, password))\n",
    "    with driver.session() as session:\n",
    "        result = session.run(cypher_kits_in_batch_distribution)\n",
    "        data = result.data()\n",
    "        return data\n",
    "    \n",
    "results_kits_in_batch_distribution = kits_in_batch_distribution(uri, username, password, cypher_kits_in_batch_distribution)\n",
    "\n",
    "number_kits = [record['number_kits'] for record in results_kits_in_batch_distribution]\n",
    "frequency = [record['frequency'] for record in results_kits_in_batch_distribution]\n",
    "\n",
    "fig = px.scatter(x=number_kits, y=frequency, title='Distribution of Kits in BatcheInstances', labels={'x':'Number of Kits', 'y':'Frequency'})\n",
    "fig.update_layout(width=700, height=500)\n",
    "\n",
    "\n",
    "fig.show()\n",
    "\n",
    "pio.write_image(fig, 'Distribution_of_Kits_in_BatcheInstances.png', width=800, height=400, scale=3)"
   ]
  },
  {
   "attachments": {},
   "cell_type": "markdown",
   "id": "8fb262ab",
   "metadata": {},
   "source": [
    "##### Batch Frequency per Activity\n",
    "+ consider size of the batches"
   ]
  },
  {
   "cell_type": "code",
   "execution_count": 11,
   "id": "b645afc5",
   "metadata": {},
   "outputs": [
    {
     "name": "stderr",
     "output_type": "stream",
     "text": [
      "/Library/Frameworks/Python.framework/Versions/3.11/lib/python3.11/site-packages/plotly/express/_core.py:2065: FutureWarning:\n",
      "\n",
      "When grouping with a length-1 list-like, you will need to pass a length-1 tuple to get_group in a future version of pandas. Pass `(name,)` instead of `name` to silence this warning.\n",
      "\n"
     ]
    },
    {
     "data": {
      "application/vnd.plotly.v1+json": {
       "config": {
        "plotlyServerURL": "https://plot.ly"
       },
       "data": [
        {
         "alignmentgroup": "True",
         "hovertemplate": "color=Montaje<br>Activity=%{x}<br>BatchInstance Count=%{y}<extra></extra>",
         "legendgroup": "Montaje",
         "marker": {
          "color": "orangered",
          "pattern": {
           "shape": ""
          }
         },
         "name": "Montaje",
         "offsetgroup": "Montaje",
         "orientation": "v",
         "showlegend": true,
         "textposition": "outside",
         "texttemplate": "%{y}",
         "type": "bar",
         "x": [
          "Montaje"
         ],
         "xaxis": "x",
         "y": [
          17932
         ],
         "yaxis": "y"
        },
        {
         "alignmentgroup": "True",
         "hovertemplate": "color=Producción  montada<br>Activity=%{x}<br>BatchInstance Count=%{y}<extra></extra>",
         "legendgroup": "Producción  montada",
         "marker": {
          "color": "green",
          "pattern": {
           "shape": ""
          }
         },
         "name": "Producción  montada",
         "offsetgroup": "Producción  montada",
         "orientation": "v",
         "showlegend": true,
         "textposition": "outside",
         "texttemplate": "%{y}",
         "type": "bar",
         "x": [
          "Producción  montada"
         ],
         "xaxis": "x",
         "y": [
          17897
         ],
         "yaxis": "y"
        },
        {
         "alignmentgroup": "True",
         "hovertemplate": "color=Cargado en carro  L+D<br>Activity=%{x}<br>BatchInstance Count=%{y}<extra></extra>",
         "legendgroup": "Cargado en carro  L+D",
         "marker": {
          "color": "blue",
          "pattern": {
           "shape": ""
          }
         },
         "name": "Cargado en carro  L+D",
         "offsetgroup": "Cargado en carro  L+D",
         "orientation": "v",
         "showlegend": true,
         "textposition": "outside",
         "texttemplate": "%{y}",
         "type": "bar",
         "x": [
          "Cargado en carro  L+D"
         ],
         "xaxis": "x",
         "y": [
          6661
         ],
         "yaxis": "y"
        },
        {
         "alignmentgroup": "True",
         "hovertemplate": "color=Carga L+D iniciada<br>Activity=%{x}<br>BatchInstance Count=%{y}<extra></extra>",
         "legendgroup": "Carga L+D iniciada",
         "marker": {
          "color": "purple",
          "pattern": {
           "shape": ""
          }
         },
         "name": "Carga L+D iniciada",
         "offsetgroup": "Carga L+D iniciada",
         "orientation": "v",
         "showlegend": true,
         "textposition": "outside",
         "texttemplate": "%{y}",
         "type": "bar",
         "x": [
          "Carga L+D iniciada"
         ],
         "xaxis": "x",
         "y": [
          2386
         ],
         "yaxis": "y"
        },
        {
         "alignmentgroup": "True",
         "hovertemplate": "color=Composición de cargas<br>Activity=%{x}<br>BatchInstance Count=%{y}<extra></extra>",
         "legendgroup": "Composición de cargas",
         "marker": {
          "color": "orange",
          "pattern": {
           "shape": ""
          }
         },
         "name": "Composición de cargas",
         "offsetgroup": "Composición de cargas",
         "orientation": "v",
         "showlegend": true,
         "textposition": "outside",
         "texttemplate": "%{y}",
         "type": "bar",
         "x": [
          "Composición de cargas"
         ],
         "xaxis": "x",
         "y": [
          2230
         ],
         "yaxis": "y"
        },
        {
         "alignmentgroup": "True",
         "hovertemplate": "color=Entrada Material Sucio<br>Activity=%{x}<br>BatchInstance Count=%{y}<extra></extra>",
         "legendgroup": "Entrada Material Sucio",
         "marker": {
          "color": "orangered",
          "pattern": {
           "shape": ""
          }
         },
         "name": "Entrada Material Sucio",
         "offsetgroup": "Entrada Material Sucio",
         "orientation": "v",
         "showlegend": true,
         "textposition": "outside",
         "texttemplate": "%{y}",
         "type": "bar",
         "x": [
          "Entrada Material Sucio"
         ],
         "xaxis": "x",
         "y": [
          2128
         ],
         "yaxis": "y"
        },
        {
         "alignmentgroup": "True",
         "hovertemplate": "color=Carga L+D liberada<br>Activity=%{x}<br>BatchInstance Count=%{y}<extra></extra>",
         "legendgroup": "Carga L+D liberada",
         "marker": {
          "color": "green",
          "pattern": {
           "shape": ""
          }
         },
         "name": "Carga L+D liberada",
         "offsetgroup": "Carga L+D liberada",
         "orientation": "v",
         "showlegend": true,
         "textposition": "outside",
         "texttemplate": "%{y}",
         "type": "bar",
         "x": [
          "Carga L+D liberada"
         ],
         "xaxis": "x",
         "y": [
          1790
         ],
         "yaxis": "y"
        },
        {
         "alignmentgroup": "True",
         "hovertemplate": "color=Carga de esterilizador liberada<br>Activity=%{x}<br>BatchInstance Count=%{y}<extra></extra>",
         "legendgroup": "Carga de esterilizador liberada",
         "marker": {
          "color": "blue",
          "pattern": {
           "shape": ""
          }
         },
         "name": "Carga de esterilizador liberada",
         "offsetgroup": "Carga de esterilizador liberada",
         "orientation": "v",
         "showlegend": true,
         "textposition": "outside",
         "texttemplate": "%{y}",
         "type": "bar",
         "x": [
          "Carga de esterilizador liberada"
         ],
         "xaxis": "x",
         "y": [
          1407
         ],
         "yaxis": "y"
        },
        {
         "alignmentgroup": "True",
         "hovertemplate": "color=Comisionado<br>Activity=%{x}<br>BatchInstance Count=%{y}<extra></extra>",
         "legendgroup": "Comisionado",
         "marker": {
          "color": "purple",
          "pattern": {
           "shape": ""
          }
         },
         "name": "Comisionado",
         "offsetgroup": "Comisionado",
         "orientation": "v",
         "showlegend": true,
         "textposition": "outside",
         "texttemplate": "%{y}",
         "type": "bar",
         "x": [
          "Comisionado"
         ],
         "xaxis": "x",
         "y": [
          1215
         ],
         "yaxis": "y"
        }
       ],
       "layout": {
        "barmode": "relative",
        "height": 600,
        "legend": {
         "title": {
          "text": "color"
         },
         "tracegroupgap": 0
        },
        "showlegend": false,
        "template": {
         "data": {
          "bar": [
           {
            "error_x": {
             "color": "#2a3f5f"
            },
            "error_y": {
             "color": "#2a3f5f"
            },
            "marker": {
             "line": {
              "color": "#E5ECF6",
              "width": 0.5
             },
             "pattern": {
              "fillmode": "overlay",
              "size": 10,
              "solidity": 0.2
             }
            },
            "type": "bar"
           }
          ],
          "barpolar": [
           {
            "marker": {
             "line": {
              "color": "#E5ECF6",
              "width": 0.5
             },
             "pattern": {
              "fillmode": "overlay",
              "size": 10,
              "solidity": 0.2
             }
            },
            "type": "barpolar"
           }
          ],
          "carpet": [
           {
            "aaxis": {
             "endlinecolor": "#2a3f5f",
             "gridcolor": "white",
             "linecolor": "white",
             "minorgridcolor": "white",
             "startlinecolor": "#2a3f5f"
            },
            "baxis": {
             "endlinecolor": "#2a3f5f",
             "gridcolor": "white",
             "linecolor": "white",
             "minorgridcolor": "white",
             "startlinecolor": "#2a3f5f"
            },
            "type": "carpet"
           }
          ],
          "choropleth": [
           {
            "colorbar": {
             "outlinewidth": 0,
             "ticks": ""
            },
            "type": "choropleth"
           }
          ],
          "contour": [
           {
            "colorbar": {
             "outlinewidth": 0,
             "ticks": ""
            },
            "colorscale": [
             [
              0,
              "#0d0887"
             ],
             [
              0.1111111111111111,
              "#46039f"
             ],
             [
              0.2222222222222222,
              "#7201a8"
             ],
             [
              0.3333333333333333,
              "#9c179e"
             ],
             [
              0.4444444444444444,
              "#bd3786"
             ],
             [
              0.5555555555555556,
              "#d8576b"
             ],
             [
              0.6666666666666666,
              "#ed7953"
             ],
             [
              0.7777777777777778,
              "#fb9f3a"
             ],
             [
              0.8888888888888888,
              "#fdca26"
             ],
             [
              1,
              "#f0f921"
             ]
            ],
            "type": "contour"
           }
          ],
          "contourcarpet": [
           {
            "colorbar": {
             "outlinewidth": 0,
             "ticks": ""
            },
            "type": "contourcarpet"
           }
          ],
          "heatmap": [
           {
            "colorbar": {
             "outlinewidth": 0,
             "ticks": ""
            },
            "colorscale": [
             [
              0,
              "#0d0887"
             ],
             [
              0.1111111111111111,
              "#46039f"
             ],
             [
              0.2222222222222222,
              "#7201a8"
             ],
             [
              0.3333333333333333,
              "#9c179e"
             ],
             [
              0.4444444444444444,
              "#bd3786"
             ],
             [
              0.5555555555555556,
              "#d8576b"
             ],
             [
              0.6666666666666666,
              "#ed7953"
             ],
             [
              0.7777777777777778,
              "#fb9f3a"
             ],
             [
              0.8888888888888888,
              "#fdca26"
             ],
             [
              1,
              "#f0f921"
             ]
            ],
            "type": "heatmap"
           }
          ],
          "heatmapgl": [
           {
            "colorbar": {
             "outlinewidth": 0,
             "ticks": ""
            },
            "colorscale": [
             [
              0,
              "#0d0887"
             ],
             [
              0.1111111111111111,
              "#46039f"
             ],
             [
              0.2222222222222222,
              "#7201a8"
             ],
             [
              0.3333333333333333,
              "#9c179e"
             ],
             [
              0.4444444444444444,
              "#bd3786"
             ],
             [
              0.5555555555555556,
              "#d8576b"
             ],
             [
              0.6666666666666666,
              "#ed7953"
             ],
             [
              0.7777777777777778,
              "#fb9f3a"
             ],
             [
              0.8888888888888888,
              "#fdca26"
             ],
             [
              1,
              "#f0f921"
             ]
            ],
            "type": "heatmapgl"
           }
          ],
          "histogram": [
           {
            "marker": {
             "pattern": {
              "fillmode": "overlay",
              "size": 10,
              "solidity": 0.2
             }
            },
            "type": "histogram"
           }
          ],
          "histogram2d": [
           {
            "colorbar": {
             "outlinewidth": 0,
             "ticks": ""
            },
            "colorscale": [
             [
              0,
              "#0d0887"
             ],
             [
              0.1111111111111111,
              "#46039f"
             ],
             [
              0.2222222222222222,
              "#7201a8"
             ],
             [
              0.3333333333333333,
              "#9c179e"
             ],
             [
              0.4444444444444444,
              "#bd3786"
             ],
             [
              0.5555555555555556,
              "#d8576b"
             ],
             [
              0.6666666666666666,
              "#ed7953"
             ],
             [
              0.7777777777777778,
              "#fb9f3a"
             ],
             [
              0.8888888888888888,
              "#fdca26"
             ],
             [
              1,
              "#f0f921"
             ]
            ],
            "type": "histogram2d"
           }
          ],
          "histogram2dcontour": [
           {
            "colorbar": {
             "outlinewidth": 0,
             "ticks": ""
            },
            "colorscale": [
             [
              0,
              "#0d0887"
             ],
             [
              0.1111111111111111,
              "#46039f"
             ],
             [
              0.2222222222222222,
              "#7201a8"
             ],
             [
              0.3333333333333333,
              "#9c179e"
             ],
             [
              0.4444444444444444,
              "#bd3786"
             ],
             [
              0.5555555555555556,
              "#d8576b"
             ],
             [
              0.6666666666666666,
              "#ed7953"
             ],
             [
              0.7777777777777778,
              "#fb9f3a"
             ],
             [
              0.8888888888888888,
              "#fdca26"
             ],
             [
              1,
              "#f0f921"
             ]
            ],
            "type": "histogram2dcontour"
           }
          ],
          "mesh3d": [
           {
            "colorbar": {
             "outlinewidth": 0,
             "ticks": ""
            },
            "type": "mesh3d"
           }
          ],
          "parcoords": [
           {
            "line": {
             "colorbar": {
              "outlinewidth": 0,
              "ticks": ""
             }
            },
            "type": "parcoords"
           }
          ],
          "pie": [
           {
            "automargin": true,
            "type": "pie"
           }
          ],
          "scatter": [
           {
            "fillpattern": {
             "fillmode": "overlay",
             "size": 10,
             "solidity": 0.2
            },
            "type": "scatter"
           }
          ],
          "scatter3d": [
           {
            "line": {
             "colorbar": {
              "outlinewidth": 0,
              "ticks": ""
             }
            },
            "marker": {
             "colorbar": {
              "outlinewidth": 0,
              "ticks": ""
             }
            },
            "type": "scatter3d"
           }
          ],
          "scattercarpet": [
           {
            "marker": {
             "colorbar": {
              "outlinewidth": 0,
              "ticks": ""
             }
            },
            "type": "scattercarpet"
           }
          ],
          "scattergeo": [
           {
            "marker": {
             "colorbar": {
              "outlinewidth": 0,
              "ticks": ""
             }
            },
            "type": "scattergeo"
           }
          ],
          "scattergl": [
           {
            "marker": {
             "colorbar": {
              "outlinewidth": 0,
              "ticks": ""
             }
            },
            "type": "scattergl"
           }
          ],
          "scattermapbox": [
           {
            "marker": {
             "colorbar": {
              "outlinewidth": 0,
              "ticks": ""
             }
            },
            "type": "scattermapbox"
           }
          ],
          "scatterpolar": [
           {
            "marker": {
             "colorbar": {
              "outlinewidth": 0,
              "ticks": ""
             }
            },
            "type": "scatterpolar"
           }
          ],
          "scatterpolargl": [
           {
            "marker": {
             "colorbar": {
              "outlinewidth": 0,
              "ticks": ""
             }
            },
            "type": "scatterpolargl"
           }
          ],
          "scatterternary": [
           {
            "marker": {
             "colorbar": {
              "outlinewidth": 0,
              "ticks": ""
             }
            },
            "type": "scatterternary"
           }
          ],
          "surface": [
           {
            "colorbar": {
             "outlinewidth": 0,
             "ticks": ""
            },
            "colorscale": [
             [
              0,
              "#0d0887"
             ],
             [
              0.1111111111111111,
              "#46039f"
             ],
             [
              0.2222222222222222,
              "#7201a8"
             ],
             [
              0.3333333333333333,
              "#9c179e"
             ],
             [
              0.4444444444444444,
              "#bd3786"
             ],
             [
              0.5555555555555556,
              "#d8576b"
             ],
             [
              0.6666666666666666,
              "#ed7953"
             ],
             [
              0.7777777777777778,
              "#fb9f3a"
             ],
             [
              0.8888888888888888,
              "#fdca26"
             ],
             [
              1,
              "#f0f921"
             ]
            ],
            "type": "surface"
           }
          ],
          "table": [
           {
            "cells": {
             "fill": {
              "color": "#EBF0F8"
             },
             "line": {
              "color": "white"
             }
            },
            "header": {
             "fill": {
              "color": "#C8D4E3"
             },
             "line": {
              "color": "white"
             }
            },
            "type": "table"
           }
          ]
         },
         "layout": {
          "annotationdefaults": {
           "arrowcolor": "#2a3f5f",
           "arrowhead": 0,
           "arrowwidth": 1
          },
          "autotypenumbers": "strict",
          "coloraxis": {
           "colorbar": {
            "outlinewidth": 0,
            "ticks": ""
           }
          },
          "colorscale": {
           "diverging": [
            [
             0,
             "#8e0152"
            ],
            [
             0.1,
             "#c51b7d"
            ],
            [
             0.2,
             "#de77ae"
            ],
            [
             0.3,
             "#f1b6da"
            ],
            [
             0.4,
             "#fde0ef"
            ],
            [
             0.5,
             "#f7f7f7"
            ],
            [
             0.6,
             "#e6f5d0"
            ],
            [
             0.7,
             "#b8e186"
            ],
            [
             0.8,
             "#7fbc41"
            ],
            [
             0.9,
             "#4d9221"
            ],
            [
             1,
             "#276419"
            ]
           ],
           "sequential": [
            [
             0,
             "#0d0887"
            ],
            [
             0.1111111111111111,
             "#46039f"
            ],
            [
             0.2222222222222222,
             "#7201a8"
            ],
            [
             0.3333333333333333,
             "#9c179e"
            ],
            [
             0.4444444444444444,
             "#bd3786"
            ],
            [
             0.5555555555555556,
             "#d8576b"
            ],
            [
             0.6666666666666666,
             "#ed7953"
            ],
            [
             0.7777777777777778,
             "#fb9f3a"
            ],
            [
             0.8888888888888888,
             "#fdca26"
            ],
            [
             1,
             "#f0f921"
            ]
           ],
           "sequentialminus": [
            [
             0,
             "#0d0887"
            ],
            [
             0.1111111111111111,
             "#46039f"
            ],
            [
             0.2222222222222222,
             "#7201a8"
            ],
            [
             0.3333333333333333,
             "#9c179e"
            ],
            [
             0.4444444444444444,
             "#bd3786"
            ],
            [
             0.5555555555555556,
             "#d8576b"
            ],
            [
             0.6666666666666666,
             "#ed7953"
            ],
            [
             0.7777777777777778,
             "#fb9f3a"
            ],
            [
             0.8888888888888888,
             "#fdca26"
            ],
            [
             1,
             "#f0f921"
            ]
           ]
          },
          "colorway": [
           "#636efa",
           "#EF553B",
           "#00cc96",
           "#ab63fa",
           "#FFA15A",
           "#19d3f3",
           "#FF6692",
           "#B6E880",
           "#FF97FF",
           "#FECB52"
          ],
          "font": {
           "color": "#2a3f5f"
          },
          "geo": {
           "bgcolor": "white",
           "lakecolor": "white",
           "landcolor": "#E5ECF6",
           "showlakes": true,
           "showland": true,
           "subunitcolor": "white"
          },
          "hoverlabel": {
           "align": "left"
          },
          "hovermode": "closest",
          "mapbox": {
           "style": "light"
          },
          "paper_bgcolor": "white",
          "plot_bgcolor": "#E5ECF6",
          "polar": {
           "angularaxis": {
            "gridcolor": "white",
            "linecolor": "white",
            "ticks": ""
           },
           "bgcolor": "#E5ECF6",
           "radialaxis": {
            "gridcolor": "white",
            "linecolor": "white",
            "ticks": ""
           }
          },
          "scene": {
           "xaxis": {
            "backgroundcolor": "#E5ECF6",
            "gridcolor": "white",
            "gridwidth": 2,
            "linecolor": "white",
            "showbackground": true,
            "ticks": "",
            "zerolinecolor": "white"
           },
           "yaxis": {
            "backgroundcolor": "#E5ECF6",
            "gridcolor": "white",
            "gridwidth": 2,
            "linecolor": "white",
            "showbackground": true,
            "ticks": "",
            "zerolinecolor": "white"
           },
           "zaxis": {
            "backgroundcolor": "#E5ECF6",
            "gridcolor": "white",
            "gridwidth": 2,
            "linecolor": "white",
            "showbackground": true,
            "ticks": "",
            "zerolinecolor": "white"
           }
          },
          "shapedefaults": {
           "line": {
            "color": "#2a3f5f"
           }
          },
          "ternary": {
           "aaxis": {
            "gridcolor": "white",
            "linecolor": "white",
            "ticks": ""
           },
           "baxis": {
            "gridcolor": "white",
            "linecolor": "white",
            "ticks": ""
           },
           "bgcolor": "#E5ECF6",
           "caxis": {
            "gridcolor": "white",
            "linecolor": "white",
            "ticks": ""
           }
          },
          "title": {
           "x": 0.05
          },
          "xaxis": {
           "automargin": true,
           "gridcolor": "white",
           "linecolor": "white",
           "ticks": "",
           "title": {
            "standoff": 15
           },
           "zerolinecolor": "white",
           "zerolinewidth": 2
          },
          "yaxis": {
           "automargin": true,
           "gridcolor": "white",
           "linecolor": "white",
           "ticks": "",
           "title": {
            "standoff": 15
           },
           "zerolinecolor": "white",
           "zerolinewidth": 2
          }
         }
        },
        "title": {
         "text": "BatchInstances per Activity"
        },
        "uniformtext": {
         "minsize": 7,
         "mode": "hide"
        },
        "width": 900,
        "xaxis": {
         "anchor": "y",
         "domain": [
          0,
          1
         ],
         "tickangle": -45,
         "tickfont": {
          "size": 12
         },
         "title": {
          "text": "Activity"
         }
        },
        "yaxis": {
         "anchor": "x",
         "domain": [
          0,
          1
         ],
         "title": {
          "text": "BatchInstance Count"
         }
        }
       }
      }
     },
     "metadata": {},
     "output_type": "display_data"
    }
   ],
   "source": [
    "cypher_batches_per_activity = \"\"\"\n",
    "    MATCH (n:BatchInstance)\n",
    "    RETURN n.activity as activity, count(n) AS batch_count\n",
    "    ORDER BY batch_count DESC\n",
    "\"\"\"\n",
    "\n",
    "\n",
    "def batches_per_activity(uri, username, password, cypher_batches_per_activity):\n",
    "    driver = GraphDatabase.driver(uri, auth=(username, password))\n",
    "    with driver.session() as session:\n",
    "        result = session.run(cypher_batches_per_activity)\n",
    "        data = result.data()\n",
    "        return data\n",
    "    \n",
    "results_batches_per_activity = batches_per_activity(uri, username, password, cypher_batches_per_activity)\n",
    "\n",
    "activity = [str(row['activity']) for row in results_batches_per_activity]\n",
    "batch_counts = [row['batch_count'] for row in results_batches_per_activity]\n",
    "\n",
    "fig = px.bar(x=activity, y=batch_counts, title='BatchInstances per Activity', labels={'x':'Activity', 'y':'BatchInstance Count'}, color=activity, color_discrete_sequence=['orangered', 'green', 'blue', 'purple', 'orange'])\n",
    "\n",
    "fig.update_layout(\n",
    "    xaxis_tickangle=-45,\n",
    "    xaxis_tickfont_size=12,\n",
    "    yaxis_title='BatchInstance Count',\n",
    "    xaxis_title='Activity',\n",
    "    uniformtext_minsize=7,\n",
    "    uniformtext_mode='hide',\n",
    "    width=900, \n",
    "    height=600,\n",
    "    showlegend=False\n",
    ")\n",
    "\n",
    "fig.update_traces(texttemplate='%{y}', textposition='outside')\n",
    "\n",
    "fig.show()\n",
    "\n",
    "#pio.write_image(fig, 'BatchInstances_per_Activity.png', width=800, height=600, scale=3)\n"
   ]
  },
  {
   "attachments": {},
   "cell_type": "markdown",
   "id": "03e86bf8",
   "metadata": {},
   "source": [
    "BatchInstances Duration Time Analysis"
   ]
  },
  {
   "cell_type": "code",
   "execution_count": 12,
   "id": "845a9fbf",
   "metadata": {},
   "outputs": [
    {
     "name": "stdout",
     "output_type": "stream",
     "text": [
      "[{'avg_duration_time_min': 0.09825522872161926, 'min_duration_time_min': 0, 'max_duration_time_min': 12}]\n"
     ]
    }
   ],
   "source": [
    "cypher_query_duration_time_per_batch = \"\"\"\n",
    "    MATCH (n:BatchInstance)\n",
    "    RETURN AVG(datetime(n.latest_timestamp).epochMillis - datetime(n.earliest_timestamp).epochMillis)/60000 AS avg_duration_time_min,\n",
    "        MIN(datetime(n.latest_timestamp).epochMillis - datetime(n.earliest_timestamp).epochMillis)/60000 AS min_duration_time_min,\n",
    "        MAX(datetime(n.latest_timestamp).epochMillis - datetime(n.earliest_timestamp).epochMillis)/60000 AS max_duration_time_min\n",
    "\"\"\"\n",
    "\n",
    "\n",
    "def duration_time_per_batch(uri, username, password, cypher_query_duration_time_per_batch):\n",
    "    driver = GraphDatabase.driver(uri, auth=(username, password))\n",
    "    with driver.session() as session:\n",
    "        result = session.run(cypher_query_duration_time_per_batch)\n",
    "        data = result.data()\n",
    "        return data\n",
    "    \n",
    "results_duration_time_per_batch = duration_time_per_batch(uri, username, password, cypher_query_duration_time_per_batch)\n",
    "print(results_duration_time_per_batch) \n"
   ]
  },
  {
   "cell_type": "code",
   "execution_count": 13,
   "id": "c5245f9f",
   "metadata": {},
   "outputs": [
    {
     "data": {
      "image/png": "[encoded data removed]",
      "text/plain": [
       "<Figure size 1500x1500 with 27 Axes>"
      ]
     },
     "metadata": {},
     "output_type": "display_data"
    }
   ],
   "source": [
    "cypher_query_average_processing_time_per_batch = \"\"\"\n",
    "    MATCH (n:BatchInstance)\n",
    "    WITH n, (datetime(n.latest_timestamp).epochMillis - datetime(n.earliest_timestamp).epochMillis)/60000 AS duration_time_min,\n",
    "         size(n.kits) AS kit_size\n",
    "    RETURN n.activity AS activity,\n",
    "           n.batch_number AS batch_number, \n",
    "           duration_time_min,\n",
    "           CASE WHEN kit_size < 40 THEN '<40'\n",
    "                WHEN kit_size >= 40 AND kit_size <= 80 THEN '40-80'\n",
    "                ELSE '>80' END AS kit_size_group\n",
    "\"\"\"\n",
    "\n",
    "\n",
    "def average_processing_time_per_batch(uri, username, password, cypher_query):\n",
    "    driver = GraphDatabase.driver(uri, auth=(username, password))\n",
    "    with driver.session() as session:\n",
    "        result = session.run(cypher_query)\n",
    "        data = result.data()\n",
    "        return data\n",
    "\n",
    "results_average_processing_time_per_batch = average_processing_time_per_batch(uri, username, password, cypher_query_average_processing_time_per_batch)\n",
    "\n",
    "\n",
    "activities = set(row['activity'] for row in results_average_processing_time_per_batch)\n",
    "kit_size_groups = ['<40', '40-80', '>80']\n",
    "\n",
    "\n",
    "fig, axs = plt.subplots(len(activities), len(kit_size_groups), figsize=(15, 15))\n",
    "\n",
    "\n",
    "for i, activity in enumerate(sorted(activities)):\n",
    "    for j, kit_size_group in enumerate(kit_size_groups):\n",
    "   \n",
    "        filtered_data = [(row['batch_number'], row['duration_time_min']) for row in results_average_processing_time_per_batch \n",
    "                         if row['activity'] == activity and row['kit_size_group'] == kit_size_group]\n",
    "\n",
    "        x_values = [entry[0] for entry in filtered_data]\n",
    "        y_values = [entry[1] for entry in filtered_data]\n",
    "     \n",
    "        axs[i, j].scatter(x_values, y_values, color='blue', alpha=0.5)\n",
    "        axs[i, j].set_title(f'{activity}, Kit Size Group: {kit_size_group}')\n",
    "        axs[i, j].set_xlabel('BatchInstance ID')\n",
    "        axs[i, j].set_ylabel('Duration Time (min)')\n",
    "\n",
    "plt.tight_layout()\n",
    "plt.show()"
   ]
  },
  {
   "attachments": {},
   "cell_type": "markdown",
   "id": "602d8857",
   "metadata": {},
   "source": [
    "##### Throughput of Batches per Day\n"
   ]
  },
  {
   "cell_type": "code",
   "execution_count": 14,
   "id": "d3cc3be7",
   "metadata": {},
   "outputs": [
    {
     "data": {
      "application/vnd.plotly.v1+json": {
       "config": {
        "plotlyServerURL": "https://plot.ly"
       },
       "data": [
        {
         "line": {
          "color": "gray"
         },
         "mode": "lines",
         "showlegend": false,
         "type": "scatter",
         "x": [
          "2022-01-01",
          "2022-01-02",
          "2022-01-03",
          "2022-01-04",
          "2022-01-05",
          "2022-01-06",
          "2022-01-07",
          "2022-01-08",
          "2022-01-09",
          "2022-01-10",
          "2022-01-11",
          "2022-01-12",
          "2022-01-13",
          "2022-01-14",
          "2022-01-15",
          "2022-01-16",
          "2022-01-17",
          "2022-01-18",
          "2022-01-19",
          "2022-01-20",
          "2022-01-21",
          "2022-01-22",
          "2022-01-23",
          "2022-01-24",
          "2022-01-25",
          "2022-01-26",
          "2022-01-27",
          "2022-01-28",
          "2022-01-29",
          "2022-01-30",
          "2022-01-31",
          "2022-02-01",
          "2022-02-02",
          "2022-02-03",
          "2022-02-04",
          "2022-02-05",
          "2022-02-06",
          "2022-02-07",
          "2022-02-08",
          "2022-02-09",
          "2022-02-10",
          "2022-02-11",
          "2022-02-12",
          "2022-02-13",
          "2022-02-14",
          "2022-02-15",
          "2022-02-16",
          "2022-02-17",
          "2022-02-18",
          "2022-02-19",
          "2022-02-20",
          "2022-02-21",
          "2022-02-22",
          "2022-02-23",
          "2022-02-24",
          "2022-02-25",
          "2022-02-26",
          "2022-02-27",
          "2022-02-28",
          "2022-03-01",
          "2022-03-02",
          "2022-03-03",
          "2022-03-04",
          "2022-03-05",
          "2022-03-06",
          "2022-03-07",
          "2022-03-08",
          "2022-03-09",
          "2022-03-10",
          "2022-03-11",
          "2022-03-12",
          "2022-03-13",
          "2022-03-14",
          "2022-03-15",
          "2022-03-16",
          "2022-03-17",
          "2022-03-18",
          "2022-03-19",
          "2022-03-20",
          "2022-03-21",
          "2022-03-22",
          "2022-03-23",
          "2022-03-24",
          "2022-03-25",
          "2022-03-26",
          "2022-03-27",
          "2022-03-28",
          "2022-03-29",
          "2022-03-30",
          "2022-03-31"
         ],
         "y": [
          117,
          141,
          647,
          527,
          563,
          114,
          496,
          116,
          149,
          636,
          743,
          848,
          867,
          740,
          152,
          147,
          754,
          762,
          846,
          685,
          704,
          175,
          150,
          804,
          827,
          715,
          744,
          741,
          127,
          111,
          708,
          897,
          774,
          778,
          665,
          150,
          136,
          806,
          817,
          786,
          845,
          736,
          133,
          123,
          728,
          776,
          843,
          719,
          724,
          154,
          116,
          752,
          778,
          793,
          854,
          675,
          151,
          147,
          815,
          864,
          843,
          863,
          902,
          84,
          124,
          917,
          906,
          876,
          894,
          736,
          126,
          143,
          875,
          924,
          927,
          840,
          776,
          135,
          87,
          843,
          1022,
          912,
          884,
          793,
          128,
          116,
          925,
          839,
          906,
          909
         ]
        },
        {
         "marker": {
          "color": "orangered"
         },
         "mode": "markers+text",
         "showlegend": false,
         "text": [
          "117"
         ],
         "textfont": {
          "color": "black",
          "family": "Arial Black",
          "size": 11
         },
         "textposition": "bottom center",
         "type": "scatter",
         "x": [
          "2022-01-01"
         ],
         "y": [
          117
         ]
        },
        {
         "marker": {
          "color": "orangered"
         },
         "mode": "markers+text",
         "showlegend": false,
         "text": [
          "141"
         ],
         "textfont": {
          "color": "black",
          "family": "Arial Black",
          "size": 11
         },
         "textposition": "top center",
         "type": "scatter",
         "x": [
          "2022-01-02"
         ],
         "y": [
          141
         ]
        },
        {
         "marker": {
          "color": "gray"
         },
         "mode": "markers+text",
         "showlegend": false,
         "text": [
          "647"
         ],
         "textfont": {
          "color": "black",
          "family": "Arial Black",
          "size": 11
         },
         "textposition": "bottom center",
         "type": "scatter",
         "x": [
          "2022-01-03"
         ],
         "y": [
          647
         ]
        },
        {
         "marker": {
          "color": "gray"
         },
         "mode": "markers+text",
         "showlegend": false,
         "text": [
          "527"
         ],
         "textfont": {
          "color": "black",
          "family": "Arial Black",
          "size": 11
         },
         "textposition": "top center",
         "type": "scatter",
         "x": [
          "2022-01-04"
         ],
         "y": [
          527
         ]
        },
        {
         "marker": {
          "color": "gray"
         },
         "mode": "markers+text",
         "showlegend": false,
         "text": [
          "563"
         ],
         "textfont": {
          "color": "black",
          "family": "Arial Black",
          "size": 11
         },
         "textposition": "bottom center",
         "type": "scatter",
         "x": [
          "2022-01-05"
         ],
         "y": [
          563
         ]
        },
        {
         "marker": {
          "color": "gray"
         },
         "mode": "markers+text",
         "showlegend": false,
         "text": [
          "114"
         ],
         "textfont": {
          "color": "black",
          "family": "Arial Black",
          "size": 11
         },
         "textposition": "top center",
         "type": "scatter",
         "x": [
          "2022-01-06"
         ],
         "y": [
          114
         ]
        },
        {
         "marker": {
          "color": "gray"
         },
         "mode": "markers+text",
         "showlegend": false,
         "text": [
          "496"
         ],
         "textfont": {
          "color": "black",
          "family": "Arial Black",
          "size": 11
         },
         "textposition": "bottom center",
         "type": "scatter",
         "x": [
          "2022-01-07"
         ],
         "y": [
          496
         ]
        },
        {
         "marker": {
          "color": "orangered"
         },
         "mode": "markers+text",
         "showlegend": false,
         "text": [
          "116"
         ],
         "textfont": {
          "color": "black",
          "family": "Arial Black",
          "size": 11
         },
         "textposition": "top center",
         "type": "scatter",
         "x": [
          "2022-01-08"
         ],
         "y": [
          116
         ]
        },
        {
         "marker": {
          "color": "orangered"
         },
         "mode": "markers+text",
         "showlegend": false,
         "text": [
          "149"
         ],
         "textfont": {
          "color": "black",
          "family": "Arial Black",
          "size": 11
         },
         "textposition": "bottom center",
         "type": "scatter",
         "x": [
          "2022-01-09"
         ],
         "y": [
          149
         ]
        },
        {
         "marker": {
          "color": "gray"
         },
         "mode": "markers+text",
         "showlegend": false,
         "text": [
          "636"
         ],
         "textfont": {
          "color": "black",
          "family": "Arial Black",
          "size": 11
         },
         "textposition": "top center",
         "type": "scatter",
         "x": [
          "2022-01-10"
         ],
         "y": [
          636
         ]
        },
        {
         "marker": {
          "color": "gray"
         },
         "mode": "markers+text",
         "showlegend": false,
         "text": [
          "743"
         ],
         "textfont": {
          "color": "black",
          "family": "Arial Black",
          "size": 11
         },
         "textposition": "bottom center",
         "type": "scatter",
         "x": [
          "2022-01-11"
         ],
         "y": [
          743
         ]
        },
        {
         "marker": {
          "color": "gray"
         },
         "mode": "markers+text",
         "showlegend": false,
         "text": [
          "848"
         ],
         "textfont": {
          "color": "black",
          "family": "Arial Black",
          "size": 11
         },
         "textposition": "top center",
         "type": "scatter",
         "x": [
          "2022-01-12"
         ],
         "y": [
          848
         ]
        },
        {
         "marker": {
          "color": "gray"
         },
         "mode": "markers+text",
         "showlegend": false,
         "text": [
          "867"
         ],
         "textfont": {
          "color": "black",
          "family": "Arial Black",
          "size": 11
         },
         "textposition": "bottom center",
         "type": "scatter",
         "x": [
          "2022-01-13"
         ],
         "y": [
          867
         ]
        },
        {
         "marker": {
          "color": "gray"
         },
         "mode": "markers+text",
         "showlegend": false,
         "text": [
          "740"
         ],
         "textfont": {
          "color": "black",
          "family": "Arial Black",
          "size": 11
         },
         "textposition": "top center",
         "type": "scatter",
         "x": [
          "2022-01-14"
         ],
         "y": [
          740
         ]
        },
        {
         "marker": {
          "color": "orangered"
         },
         "mode": "markers+text",
         "showlegend": false,
         "text": [
          "152"
         ],
         "textfont": {
          "color": "black",
          "family": "Arial Black",
          "size": 11
         },
         "textposition": "bottom center",
         "type": "scatter",
         "x": [
          "2022-01-15"
         ],
         "y": [
          152
         ]
        },
        {
         "marker": {
          "color": "orangered"
         },
         "mode": "markers+text",
         "showlegend": false,
         "text": [
          "147"
         ],
         "textfont": {
          "color": "black",
          "family": "Arial Black",
          "size": 11
         },
         "textposition": "top center",
         "type": "scatter",
         "x": [
          "2022-01-16"
         ],
         "y": [
          147
         ]
        },
        {
         "marker": {
          "color": "gray"
         },
         "mode": "markers+text",
         "showlegend": false,
         "text": [
          "754"
         ],
         "textfont": {
          "color": "black",
          "family": "Arial Black",
          "size": 11
         },
         "textposition": "bottom center",
         "type": "scatter",
         "x": [
          "2022-01-17"
         ],
         "y": [
          754
         ]
        },
        {
         "marker": {
          "color": "gray"
         },
         "mode": "markers+text",
         "showlegend": false,
         "text": [
          "762"
         ],
         "textfont": {
          "color": "black",
          "family": "Arial Black",
          "size": 11
         },
         "textposition": "top center",
         "type": "scatter",
         "x": [
          "2022-01-18"
         ],
         "y": [
          762
         ]
        },
        {
         "marker": {
          "color": "gray"
         },
         "mode": "markers+text",
         "showlegend": false,
         "text": [
          "846"
         ],
         "textfont": {
          "color": "black",
          "family": "Arial Black",
          "size": 11
         },
         "textposition": "bottom center",
         "type": "scatter",
         "x": [
          "2022-01-19"
         ],
         "y": [
          846
         ]
        },
        {
         "marker": {
          "color": "gray"
         },
         "mode": "markers+text",
         "showlegend": false,
         "text": [
          "685"
         ],
         "textfont": {
          "color": "black",
          "family": "Arial Black",
          "size": 11
         },
         "textposition": "top center",
         "type": "scatter",
         "x": [
          "2022-01-20"
         ],
         "y": [
          685
         ]
        },
        {
         "marker": {
          "color": "gray"
         },
         "mode": "markers+text",
         "showlegend": false,
         "text": [
          "704"
         ],
         "textfont": {
          "color": "black",
          "family": "Arial Black",
          "size": 11
         },
         "textposition": "bottom center",
         "type": "scatter",
         "x": [
          "2022-01-21"
         ],
         "y": [
          704
         ]
        },
        {
         "marker": {
          "color": "orangered"
         },
         "mode": "markers+text",
         "showlegend": false,
         "text": [
          "175"
         ],
         "textfont": {
          "color": "black",
          "family": "Arial Black",
          "size": 11
         },
         "textposition": "top center",
         "type": "scatter",
         "x": [
          "2022-01-22"
         ],
         "y": [
          175
         ]
        },
        {
         "marker": {
          "color": "orangered"
         },
         "mode": "markers+text",
         "showlegend": false,
         "text": [
          "150"
         ],
         "textfont": {
          "color": "black",
          "family": "Arial Black",
          "size": 11
         },
         "textposition": "bottom center",
         "type": "scatter",
         "x": [
          "2022-01-23"
         ],
         "y": [
          150
         ]
        },
        {
         "marker": {
          "color": "gray"
         },
         "mode": "markers+text",
         "showlegend": false,
         "text": [
          "804"
         ],
         "textfont": {
          "color": "black",
          "family": "Arial Black",
          "size": 11
         },
         "textposition": "top center",
         "type": "scatter",
         "x": [
          "2022-01-24"
         ],
         "y": [
          804
         ]
        },
        {
         "marker": {
          "color": "gray"
         },
         "mode": "markers+text",
         "showlegend": false,
         "text": [
          "827"
         ],
         "textfont": {
          "color": "black",
          "family": "Arial Black",
          "size": 11
         },
         "textposition": "bottom center",
         "type": "scatter",
         "x": [
          "2022-01-25"
         ],
         "y": [
          827
         ]
        },
        {
         "marker": {
          "color": "gray"
         },
         "mode": "markers+text",
         "showlegend": false,
         "text": [
          "715"
         ],
         "textfont": {
          "color": "black",
          "family": "Arial Black",
          "size": 11
         },
         "textposition": "top center",
         "type": "scatter",
         "x": [
          "2022-01-26"
         ],
         "y": [
          715
         ]
        },
        {
         "marker": {
          "color": "gray"
         },
         "mode": "markers+text",
         "showlegend": false,
         "text": [
          "744"
         ],
         "textfont": {
          "color": "black",
          "family": "Arial Black",
          "size": 11
         },
         "textposition": "bottom center",
         "type": "scatter",
         "x": [
          "2022-01-27"
         ],
         "y": [
          744
         ]
        },
        {
         "marker": {
          "color": "gray"
         },
         "mode": "markers+text",
         "showlegend": false,
         "text": [
          "741"
         ],
         "textfont": {
          "color": "black",
          "family": "Arial Black",
          "size": 11
         },
         "textposition": "top center",
         "type": "scatter",
         "x": [
          "2022-01-28"
         ],
         "y": [
          741
         ]
        },
        {
         "marker": {
          "color": "orangered"
         },
         "mode": "markers+text",
         "showlegend": false,
         "text": [
          "127"
         ],
         "textfont": {
          "color": "black",
          "family": "Arial Black",
          "size": 11
         },
         "textposition": "bottom center",
         "type": "scatter",
         "x": [
          "2022-01-29"
         ],
         "y": [
          127
         ]
        },
        {
         "marker": {
          "color": "orangered"
         },
         "mode": "markers+text",
         "showlegend": false,
         "text": [
          "111"
         ],
         "textfont": {
          "color": "black",
          "family": "Arial Black",
          "size": 11
         },
         "textposition": "top center",
         "type": "scatter",
         "x": [
          "2022-01-30"
         ],
         "y": [
          111
         ]
        },
        {
         "marker": {
          "color": "gray"
         },
         "mode": "markers+text",
         "showlegend": false,
         "text": [
          "708"
         ],
         "textfont": {
          "color": "black",
          "family": "Arial Black",
          "size": 11
         },
         "textposition": "bottom center",
         "type": "scatter",
         "x": [
          "2022-01-31"
         ],
         "y": [
          708
         ]
        },
        {
         "marker": {
          "color": "gray"
         },
         "mode": "markers+text",
         "showlegend": false,
         "text": [
          "897"
         ],
         "textfont": {
          "color": "black",
          "family": "Arial Black",
          "size": 11
         },
         "textposition": "top center",
         "type": "scatter",
         "x": [
          "2022-02-01"
         ],
         "y": [
          897
         ]
        },
        {
         "marker": {
          "color": "gray"
         },
         "mode": "markers+text",
         "showlegend": false,
         "text": [
          "774"
         ],
         "textfont": {
          "color": "black",
          "family": "Arial Black",
          "size": 11
         },
         "textposition": "bottom center",
         "type": "scatter",
         "x": [
          "2022-02-02"
         ],
         "y": [
          774
         ]
        },
        {
         "marker": {
          "color": "gray"
         },
         "mode": "markers+text",
         "showlegend": false,
         "text": [
          "778"
         ],
         "textfont": {
          "color": "black",
          "family": "Arial Black",
          "size": 11
         },
         "textposition": "top center",
         "type": "scatter",
         "x": [
          "2022-02-03"
         ],
         "y": [
          778
         ]
        },
        {
         "marker": {
          "color": "gray"
         },
         "mode": "markers+text",
         "showlegend": false,
         "text": [
          "665"
         ],
         "textfont": {
          "color": "black",
          "family": "Arial Black",
          "size": 11
         },
         "textposition": "bottom center",
         "type": "scatter",
         "x": [
          "2022-02-04"
         ],
         "y": [
          665
         ]
        },
        {
         "marker": {
          "color": "orangered"
         },
         "mode": "markers+text",
         "showlegend": false,
         "text": [
          "150"
         ],
         "textfont": {
          "color": "black",
          "family": "Arial Black",
          "size": 11
         },
         "textposition": "top center",
         "type": "scatter",
         "x": [
          "2022-02-05"
         ],
         "y": [
          150
         ]
        },
        {
         "marker": {
          "color": "orangered"
         },
         "mode": "markers+text",
         "showlegend": false,
         "text": [
          "136"
         ],
         "textfont": {
          "color": "black",
          "family": "Arial Black",
          "size": 11
         },
         "textposition": "bottom center",
         "type": "scatter",
         "x": [
          "2022-02-06"
         ],
         "y": [
          136
         ]
        },
        {
         "marker": {
          "color": "gray"
         },
         "mode": "markers+text",
         "showlegend": false,
         "text": [
          "806"
         ],
         "textfont": {
          "color": "black",
          "family": "Arial Black",
          "size": 11
         },
         "textposition": "top center",
         "type": "scatter",
         "x": [
          "2022-02-07"
         ],
         "y": [
          806
         ]
        },
        {
         "marker": {
          "color": "gray"
         },
         "mode": "markers+text",
         "showlegend": false,
         "text": [
          "817"
         ],
         "textfont": {
          "color": "black",
          "family": "Arial Black",
          "size": 11
         },
         "textposition": "bottom center",
         "type": "scatter",
         "x": [
          "2022-02-08"
         ],
         "y": [
          817
         ]
        },
        {
         "marker": {
          "color": "gray"
         },
         "mode": "markers+text",
         "showlegend": false,
         "text": [
          "786"
         ],
         "textfont": {
          "color": "black",
          "family": "Arial Black",
          "size": 11
         },
         "textposition": "top center",
         "type": "scatter",
         "x": [
          "2022-02-09"
         ],
         "y": [
          786
         ]
        },
        {
         "marker": {
          "color": "gray"
         },
         "mode": "markers+text",
         "showlegend": false,
         "text": [
          "845"
         ],
         "textfont": {
          "color": "black",
          "family": "Arial Black",
          "size": 11
         },
         "textposition": "bottom center",
         "type": "scatter",
         "x": [
          "2022-02-10"
         ],
         "y": [
          845
         ]
        },
        {
         "marker": {
          "color": "gray"
         },
         "mode": "markers+text",
         "showlegend": false,
         "text": [
          "736"
         ],
         "textfont": {
          "color": "black",
          "family": "Arial Black",
          "size": 11
         },
         "textposition": "top center",
         "type": "scatter",
         "x": [
          "2022-02-11"
         ],
         "y": [
          736
         ]
        },
        {
         "marker": {
          "color": "orangered"
         },
         "mode": "markers+text",
         "showlegend": false,
         "text": [
          "133"
         ],
         "textfont": {
          "color": "black",
          "family": "Arial Black",
          "size": 11
         },
         "textposition": "bottom center",
         "type": "scatter",
         "x": [
          "2022-02-12"
         ],
         "y": [
          133
         ]
        },
        {
         "marker": {
          "color": "orangered"
         },
         "mode": "markers+text",
         "showlegend": false,
         "text": [
          "123"
         ],
         "textfont": {
          "color": "black",
          "family": "Arial Black",
          "size": 11
         },
         "textposition": "top center",
         "type": "scatter",
         "x": [
          "2022-02-13"
         ],
         "y": [
          123
         ]
        },
        {
         "marker": {
          "color": "gray"
         },
         "mode": "markers+text",
         "showlegend": false,
         "text": [
          "728"
         ],
         "textfont": {
          "color": "black",
          "family": "Arial Black",
          "size": 11
         },
         "textposition": "bottom center",
         "type": "scatter",
         "x": [
          "2022-02-14"
         ],
         "y": [
          728
         ]
        },
        {
         "marker": {
          "color": "gray"
         },
         "mode": "markers+text",
         "showlegend": false,
         "text": [
          "776"
         ],
         "textfont": {
          "color": "black",
          "family": "Arial Black",
          "size": 11
         },
         "textposition": "top center",
         "type": "scatter",
         "x": [
          "2022-02-15"
         ],
         "y": [
          776
         ]
        },
        {
         "marker": {
          "color": "gray"
         },
         "mode": "markers+text",
         "showlegend": false,
         "text": [
          "843"
         ],
         "textfont": {
          "color": "black",
          "family": "Arial Black",
          "size": 11
         },
         "textposition": "bottom center",
         "type": "scatter",
         "x": [
          "2022-02-16"
         ],
         "y": [
          843
         ]
        },
        {
         "marker": {
          "color": "gray"
         },
         "mode": "markers+text",
         "showlegend": false,
         "text": [
          "719"
         ],
         "textfont": {
          "color": "black",
          "family": "Arial Black",
          "size": 11
         },
         "textposition": "top center",
         "type": "scatter",
         "x": [
          "2022-02-17"
         ],
         "y": [
          719
         ]
        },
        {
         "marker": {
          "color": "gray"
         },
         "mode": "markers+text",
         "showlegend": false,
         "text": [
          "724"
         ],
         "textfont": {
          "color": "black",
          "family": "Arial Black",
          "size": 11
         },
         "textposition": "bottom center",
         "type": "scatter",
         "x": [
          "2022-02-18"
         ],
         "y": [
          724
         ]
        },
        {
         "marker": {
          "color": "orangered"
         },
         "mode": "markers+text",
         "showlegend": false,
         "text": [
          "154"
         ],
         "textfont": {
          "color": "black",
          "family": "Arial Black",
          "size": 11
         },
         "textposition": "top center",
         "type": "scatter",
         "x": [
          "2022-02-19"
         ],
         "y": [
          154
         ]
        },
        {
         "marker": {
          "color": "orangered"
         },
         "mode": "markers+text",
         "showlegend": false,
         "text": [
          "116"
         ],
         "textfont": {
          "color": "black",
          "family": "Arial Black",
          "size": 11
         },
         "textposition": "bottom center",
         "type": "scatter",
         "x": [
          "2022-02-20"
         ],
         "y": [
          116
         ]
        },
        {
         "marker": {
          "color": "gray"
         },
         "mode": "markers+text",
         "showlegend": false,
         "text": [
          "752"
         ],
         "textfont": {
          "color": "black",
          "family": "Arial Black",
          "size": 11
         },
         "textposition": "top center",
         "type": "scatter",
         "x": [
          "2022-02-21"
         ],
         "y": [
          752
         ]
        },
        {
         "marker": {
          "color": "gray"
         },
         "mode": "markers+text",
         "showlegend": false,
         "text": [
          "778"
         ],
         "textfont": {
          "color": "black",
          "family": "Arial Black",
          "size": 11
         },
         "textposition": "bottom center",
         "type": "scatter",
         "x": [
          "2022-02-22"
         ],
         "y": [
          778
         ]
        },
        {
         "marker": {
          "color": "gray"
         },
         "mode": "markers+text",
         "showlegend": false,
         "text": [
          "793"
         ],
         "textfont": {
          "color": "black",
          "family": "Arial Black",
          "size": 11
         },
         "textposition": "top center",
         "type": "scatter",
         "x": [
          "2022-02-23"
         ],
         "y": [
          793
         ]
        },
        {
         "marker": {
          "color": "gray"
         },
         "mode": "markers+text",
         "showlegend": false,
         "text": [
          "854"
         ],
         "textfont": {
          "color": "black",
          "family": "Arial Black",
          "size": 11
         },
         "textposition": "bottom center",
         "type": "scatter",
         "x": [
          "2022-02-24"
         ],
         "y": [
          854
         ]
        },
        {
         "marker": {
          "color": "gray"
         },
         "mode": "markers+text",
         "showlegend": false,
         "text": [
          "675"
         ],
         "textfont": {
          "color": "black",
          "family": "Arial Black",
          "size": 11
         },
         "textposition": "top center",
         "type": "scatter",
         "x": [
          "2022-02-25"
         ],
         "y": [
          675
         ]
        },
        {
         "marker": {
          "color": "orangered"
         },
         "mode": "markers+text",
         "showlegend": false,
         "text": [
          "151"
         ],
         "textfont": {
          "color": "black",
          "family": "Arial Black",
          "size": 11
         },
         "textposition": "bottom center",
         "type": "scatter",
         "x": [
          "2022-02-26"
         ],
         "y": [
          151
         ]
        },
        {
         "marker": {
          "color": "orangered"
         },
         "mode": "markers+text",
         "showlegend": false,
         "text": [
          "147"
         ],
         "textfont": {
          "color": "black",
          "family": "Arial Black",
          "size": 11
         },
         "textposition": "top center",
         "type": "scatter",
         "x": [
          "2022-02-27"
         ],
         "y": [
          147
         ]
        },
        {
         "marker": {
          "color": "gray"
         },
         "mode": "markers+text",
         "showlegend": false,
         "text": [
          "815"
         ],
         "textfont": {
          "color": "black",
          "family": "Arial Black",
          "size": 11
         },
         "textposition": "bottom center",
         "type": "scatter",
         "x": [
          "2022-02-28"
         ],
         "y": [
          815
         ]
        },
        {
         "marker": {
          "color": "gray"
         },
         "mode": "markers+text",
         "showlegend": false,
         "text": [
          "864"
         ],
         "textfont": {
          "color": "black",
          "family": "Arial Black",
          "size": 11
         },
         "textposition": "top center",
         "type": "scatter",
         "x": [
          "2022-03-01"
         ],
         "y": [
          864
         ]
        },
        {
         "marker": {
          "color": "gray"
         },
         "mode": "markers+text",
         "showlegend": false,
         "text": [
          "843"
         ],
         "textfont": {
          "color": "black",
          "family": "Arial Black",
          "size": 11
         },
         "textposition": "bottom center",
         "type": "scatter",
         "x": [
          "2022-03-02"
         ],
         "y": [
          843
         ]
        },
        {
         "marker": {
          "color": "gray"
         },
         "mode": "markers+text",
         "showlegend": false,
         "text": [
          "863"
         ],
         "textfont": {
          "color": "black",
          "family": "Arial Black",
          "size": 11
         },
         "textposition": "top center",
         "type": "scatter",
         "x": [
          "2022-03-03"
         ],
         "y": [
          863
         ]
        },
        {
         "marker": {
          "color": "gray"
         },
         "mode": "markers+text",
         "showlegend": false,
         "text": [
          "902"
         ],
         "textfont": {
          "color": "black",
          "family": "Arial Black",
          "size": 11
         },
         "textposition": "bottom center",
         "type": "scatter",
         "x": [
          "2022-03-04"
         ],
         "y": [
          902
         ]
        },
        {
         "marker": {
          "color": "orangered"
         },
         "mode": "markers+text",
         "showlegend": false,
         "text": [
          "84"
         ],
         "textfont": {
          "color": "black",
          "family": "Arial Black",
          "size": 11
         },
         "textposition": "top center",
         "type": "scatter",
         "x": [
          "2022-03-05"
         ],
         "y": [
          84
         ]
        },
        {
         "marker": {
          "color": "orangered"
         },
         "mode": "markers+text",
         "showlegend": false,
         "text": [
          "124"
         ],
         "textfont": {
          "color": "black",
          "family": "Arial Black",
          "size": 11
         },
         "textposition": "bottom center",
         "type": "scatter",
         "x": [
          "2022-03-06"
         ],
         "y": [
          124
         ]
        },
        {
         "marker": {
          "color": "gray"
         },
         "mode": "markers+text",
         "showlegend": false,
         "text": [
          "917"
         ],
         "textfont": {
          "color": "black",
          "family": "Arial Black",
          "size": 11
         },
         "textposition": "top center",
         "type": "scatter",
         "x": [
          "2022-03-07"
         ],
         "y": [
          917
         ]
        },
        {
         "marker": {
          "color": "gray"
         },
         "mode": "markers+text",
         "showlegend": false,
         "text": [
          "906"
         ],
         "textfont": {
          "color": "black",
          "family": "Arial Black",
          "size": 11
         },
         "textposition": "bottom center",
         "type": "scatter",
         "x": [
          "2022-03-08"
         ],
         "y": [
          906
         ]
        },
        {
         "marker": {
          "color": "gray"
         },
         "mode": "markers+text",
         "showlegend": false,
         "text": [
          "876"
         ],
         "textfont": {
          "color": "black",
          "family": "Arial Black",
          "size": 11
         },
         "textposition": "top center",
         "type": "scatter",
         "x": [
          "2022-03-09"
         ],
         "y": [
          876
         ]
        },
        {
         "marker": {
          "color": "gray"
         },
         "mode": "markers+text",
         "showlegend": false,
         "text": [
          "894"
         ],
         "textfont": {
          "color": "black",
          "family": "Arial Black",
          "size": 11
         },
         "textposition": "bottom center",
         "type": "scatter",
         "x": [
          "2022-03-10"
         ],
         "y": [
          894
         ]
        },
        {
         "marker": {
          "color": "gray"
         },
         "mode": "markers+text",
         "showlegend": false,
         "text": [
          "736"
         ],
         "textfont": {
          "color": "black",
          "family": "Arial Black",
          "size": 11
         },
         "textposition": "top center",
         "type": "scatter",
         "x": [
          "2022-03-11"
         ],
         "y": [
          736
         ]
        },
        {
         "marker": {
          "color": "orangered"
         },
         "mode": "markers+text",
         "showlegend": false,
         "text": [
          "126"
         ],
         "textfont": {
          "color": "black",
          "family": "Arial Black",
          "size": 11
         },
         "textposition": "bottom center",
         "type": "scatter",
         "x": [
          "2022-03-12"
         ],
         "y": [
          126
         ]
        },
        {
         "marker": {
          "color": "orangered"
         },
         "mode": "markers+text",
         "showlegend": false,
         "text": [
          "143"
         ],
         "textfont": {
          "color": "black",
          "family": "Arial Black",
          "size": 11
         },
         "textposition": "top center",
         "type": "scatter",
         "x": [
          "2022-03-13"
         ],
         "y": [
          143
         ]
        },
        {
         "marker": {
          "color": "gray"
         },
         "mode": "markers+text",
         "showlegend": false,
         "text": [
          "875"
         ],
         "textfont": {
          "color": "black",
          "family": "Arial Black",
          "size": 11
         },
         "textposition": "bottom center",
         "type": "scatter",
         "x": [
          "2022-03-14"
         ],
         "y": [
          875
         ]
        },
        {
         "marker": {
          "color": "gray"
         },
         "mode": "markers+text",
         "showlegend": false,
         "text": [
          "924"
         ],
         "textfont": {
          "color": "black",
          "family": "Arial Black",
          "size": 11
         },
         "textposition": "top center",
         "type": "scatter",
         "x": [
          "2022-03-15"
         ],
         "y": [
          924
         ]
        },
        {
         "marker": {
          "color": "gray"
         },
         "mode": "markers+text",
         "showlegend": false,
         "text": [
          "927"
         ],
         "textfont": {
          "color": "black",
          "family": "Arial Black",
          "size": 11
         },
         "textposition": "bottom center",
         "type": "scatter",
         "x": [
          "2022-03-16"
         ],
         "y": [
          927
         ]
        },
        {
         "marker": {
          "color": "gray"
         },
         "mode": "markers+text",
         "showlegend": false,
         "text": [
          "840"
         ],
         "textfont": {
          "color": "black",
          "family": "Arial Black",
          "size": 11
         },
         "textposition": "top center",
         "type": "scatter",
         "x": [
          "2022-03-17"
         ],
         "y": [
          840
         ]
        },
        {
         "marker": {
          "color": "gray"
         },
         "mode": "markers+text",
         "showlegend": false,
         "text": [
          "776"
         ],
         "textfont": {
          "color": "black",
          "family": "Arial Black",
          "size": 11
         },
         "textposition": "bottom center",
         "type": "scatter",
         "x": [
          "2022-03-18"
         ],
         "y": [
          776
         ]
        },
        {
         "marker": {
          "color": "orangered"
         },
         "mode": "markers+text",
         "showlegend": false,
         "text": [
          "135"
         ],
         "textfont": {
          "color": "black",
          "family": "Arial Black",
          "size": 11
         },
         "textposition": "top center",
         "type": "scatter",
         "x": [
          "2022-03-19"
         ],
         "y": [
          135
         ]
        },
        {
         "marker": {
          "color": "orangered"
         },
         "mode": "markers+text",
         "showlegend": false,
         "text": [
          "87"
         ],
         "textfont": {
          "color": "black",
          "family": "Arial Black",
          "size": 11
         },
         "textposition": "bottom center",
         "type": "scatter",
         "x": [
          "2022-03-20"
         ],
         "y": [
          87
         ]
        },
        {
         "marker": {
          "color": "gray"
         },
         "mode": "markers+text",
         "showlegend": false,
         "text": [
          "843"
         ],
         "textfont": {
          "color": "black",
          "family": "Arial Black",
          "size": 11
         },
         "textposition": "top center",
         "type": "scatter",
         "x": [
          "2022-03-21"
         ],
         "y": [
          843
         ]
        },
        {
         "marker": {
          "color": "gray"
         },
         "mode": "markers+text",
         "showlegend": false,
         "text": [
          "1022"
         ],
         "textfont": {
          "color": "black",
          "family": "Arial Black",
          "size": 11
         },
         "textposition": "bottom center",
         "type": "scatter",
         "x": [
          "2022-03-22"
         ],
         "y": [
          1022
         ]
        },
        {
         "marker": {
          "color": "gray"
         },
         "mode": "markers+text",
         "showlegend": false,
         "text": [
          "912"
         ],
         "textfont": {
          "color": "black",
          "family": "Arial Black",
          "size": 11
         },
         "textposition": "top center",
         "type": "scatter",
         "x": [
          "2022-03-23"
         ],
         "y": [
          912
         ]
        },
        {
         "marker": {
          "color": "gray"
         },
         "mode": "markers+text",
         "showlegend": false,
         "text": [
          "884"
         ],
         "textfont": {
          "color": "black",
          "family": "Arial Black",
          "size": 11
         },
         "textposition": "bottom center",
         "type": "scatter",
         "x": [
          "2022-03-24"
         ],
         "y": [
          884
         ]
        },
        {
         "marker": {
          "color": "gray"
         },
         "mode": "markers+text",
         "showlegend": false,
         "text": [
          "793"
         ],
         "textfont": {
          "color": "black",
          "family": "Arial Black",
          "size": 11
         },
         "textposition": "top center",
         "type": "scatter",
         "x": [
          "2022-03-25"
         ],
         "y": [
          793
         ]
        },
        {
         "marker": {
          "color": "orangered"
         },
         "mode": "markers+text",
         "showlegend": false,
         "text": [
          "128"
         ],
         "textfont": {
          "color": "black",
          "family": "Arial Black",
          "size": 11
         },
         "textposition": "bottom center",
         "type": "scatter",
         "x": [
          "2022-03-26"
         ],
         "y": [
          128
         ]
        },
        {
         "marker": {
          "color": "orangered"
         },
         "mode": "markers+text",
         "showlegend": false,
         "text": [
          "116"
         ],
         "textfont": {
          "color": "black",
          "family": "Arial Black",
          "size": 11
         },
         "textposition": "top center",
         "type": "scatter",
         "x": [
          "2022-03-27"
         ],
         "y": [
          116
         ]
        },
        {
         "marker": {
          "color": "gray"
         },
         "mode": "markers+text",
         "showlegend": false,
         "text": [
          "925"
         ],
         "textfont": {
          "color": "black",
          "family": "Arial Black",
          "size": 11
         },
         "textposition": "bottom center",
         "type": "scatter",
         "x": [
          "2022-03-28"
         ],
         "y": [
          925
         ]
        },
        {
         "marker": {
          "color": "gray"
         },
         "mode": "markers+text",
         "showlegend": false,
         "text": [
          "839"
         ],
         "textfont": {
          "color": "black",
          "family": "Arial Black",
          "size": 11
         },
         "textposition": "top center",
         "type": "scatter",
         "x": [
          "2022-03-29"
         ],
         "y": [
          839
         ]
        },
        {
         "marker": {
          "color": "gray"
         },
         "mode": "markers+text",
         "showlegend": false,
         "text": [
          "906"
         ],
         "textfont": {
          "color": "black",
          "family": "Arial Black",
          "size": 11
         },
         "textposition": "bottom center",
         "type": "scatter",
         "x": [
          "2022-03-30"
         ],
         "y": [
          906
         ]
        },
        {
         "marker": {
          "color": "gray"
         },
         "mode": "markers+text",
         "showlegend": false,
         "text": [
          "909"
         ],
         "textfont": {
          "color": "black",
          "family": "Arial Black",
          "size": 11
         },
         "textposition": "top center",
         "type": "scatter",
         "x": [
          "2022-03-31"
         ],
         "y": [
          909
         ]
        }
       ],
       "layout": {
        "height": 1200,
        "hovermode": "x unified",
        "template": {
         "data": {
          "bar": [
           {
            "error_x": {
             "color": "#2a3f5f"
            },
            "error_y": {
             "color": "#2a3f5f"
            },
            "marker": {
             "line": {
              "color": "#E5ECF6",
              "width": 0.5
             },
             "pattern": {
              "fillmode": "overlay",
              "size": 10,
              "solidity": 0.2
             }
            },
            "type": "bar"
           }
          ],
          "barpolar": [
           {
            "marker": {
             "line": {
              "color": "#E5ECF6",
              "width": 0.5
             },
             "pattern": {
              "fillmode": "overlay",
              "size": 10,
              "solidity": 0.2
             }
            },
            "type": "barpolar"
           }
          ],
          "carpet": [
           {
            "aaxis": {
             "endlinecolor": "#2a3f5f",
             "gridcolor": "white",
             "linecolor": "white",
             "minorgridcolor": "white",
             "startlinecolor": "#2a3f5f"
            },
            "baxis": {
             "endlinecolor": "#2a3f5f",
             "gridcolor": "white",
             "linecolor": "white",
             "minorgridcolor": "white",
             "startlinecolor": "#2a3f5f"
            },
            "type": "carpet"
           }
          ],
          "choropleth": [
           {
            "colorbar": {
             "outlinewidth": 0,
             "ticks": ""
            },
            "type": "choropleth"
           }
          ],
          "contour": [
           {
            "colorbar": {
             "outlinewidth": 0,
             "ticks": ""
            },
            "colorscale": [
             [
              0,
              "#0d0887"
             ],
             [
              0.1111111111111111,
              "#46039f"
             ],
             [
              0.2222222222222222,
              "#7201a8"
             ],
             [
              0.3333333333333333,
              "#9c179e"
             ],
             [
              0.4444444444444444,
              "#bd3786"
             ],
             [
              0.5555555555555556,
              "#d8576b"
             ],
             [
              0.6666666666666666,
              "#ed7953"
             ],
             [
              0.7777777777777778,
              "#fb9f3a"
             ],
             [
              0.8888888888888888,
              "#fdca26"
             ],
             [
              1,
              "#f0f921"
             ]
            ],
            "type": "contour"
           }
          ],
          "contourcarpet": [
           {
            "colorbar": {
             "outlinewidth": 0,
             "ticks": ""
            },
            "type": "contourcarpet"
           }
          ],
          "heatmap": [
           {
            "colorbar": {
             "outlinewidth": 0,
             "ticks": ""
            },
            "colorscale": [
             [
              0,
              "#0d0887"
             ],
             [
              0.1111111111111111,
              "#46039f"
             ],
             [
              0.2222222222222222,
              "#7201a8"
             ],
             [
              0.3333333333333333,
              "#9c179e"
             ],
             [
              0.4444444444444444,
              "#bd3786"
             ],
             [
              0.5555555555555556,
              "#d8576b"
             ],
             [
              0.6666666666666666,
              "#ed7953"
             ],
             [
              0.7777777777777778,
              "#fb9f3a"
             ],
             [
              0.8888888888888888,
              "#fdca26"
             ],
             [
              1,
              "#f0f921"
             ]
            ],
            "type": "heatmap"
           }
          ],
          "heatmapgl": [
           {
            "colorbar": {
             "outlinewidth": 0,
             "ticks": ""
            },
            "colorscale": [
             [
              0,
              "#0d0887"
             ],
             [
              0.1111111111111111,
              "#46039f"
             ],
             [
              0.2222222222222222,
              "#7201a8"
             ],
             [
              0.3333333333333333,
              "#9c179e"
             ],
             [
              0.4444444444444444,
              "#bd3786"
             ],
             [
              0.5555555555555556,
              "#d8576b"
             ],
             [
              0.6666666666666666,
              "#ed7953"
             ],
             [
              0.7777777777777778,
              "#fb9f3a"
             ],
             [
              0.8888888888888888,
              "#fdca26"
             ],
             [
              1,
              "#f0f921"
             ]
            ],
            "type": "heatmapgl"
           }
          ],
          "histogram": [
           {
            "marker": {
             "pattern": {
              "fillmode": "overlay",
              "size": 10,
              "solidity": 0.2
             }
            },
            "type": "histogram"
           }
          ],
          "histogram2d": [
           {
            "colorbar": {
             "outlinewidth": 0,
             "ticks": ""
            },
            "colorscale": [
             [
              0,
              "#0d0887"
             ],
             [
              0.1111111111111111,
              "#46039f"
             ],
             [
              0.2222222222222222,
              "#7201a8"
             ],
             [
              0.3333333333333333,
              "#9c179e"
             ],
             [
              0.4444444444444444,
              "#bd3786"
             ],
             [
              0.5555555555555556,
              "#d8576b"
             ],
             [
              0.6666666666666666,
              "#ed7953"
             ],
             [
              0.7777777777777778,
              "#fb9f3a"
             ],
             [
              0.8888888888888888,
              "#fdca26"
             ],
             [
              1,
              "#f0f921"
             ]
            ],
            "type": "histogram2d"
           }
          ],
          "histogram2dcontour": [
           {
            "colorbar": {
             "outlinewidth": 0,
             "ticks": ""
            },
            "colorscale": [
             [
              0,
              "#0d0887"
             ],
             [
              0.1111111111111111,
              "#46039f"
             ],
             [
              0.2222222222222222,
              "#7201a8"
             ],
             [
              0.3333333333333333,
              "#9c179e"
             ],
             [
              0.4444444444444444,
              "#bd3786"
             ],
             [
              0.5555555555555556,
              "#d8576b"
             ],
             [
              0.6666666666666666,
              "#ed7953"
             ],
             [
              0.7777777777777778,
              "#fb9f3a"
             ],
             [
              0.8888888888888888,
              "#fdca26"
             ],
             [
              1,
              "#f0f921"
             ]
            ],
            "type": "histogram2dcontour"
           }
          ],
          "mesh3d": [
           {
            "colorbar": {
             "outlinewidth": 0,
             "ticks": ""
            },
            "type": "mesh3d"
           }
          ],
          "parcoords": [
           {
            "line": {
             "colorbar": {
              "outlinewidth": 0,
              "ticks": ""
             }
            },
            "type": "parcoords"
           }
          ],
          "pie": [
           {
            "automargin": true,
            "type": "pie"
           }
          ],
          "scatter": [
           {
            "fillpattern": {
             "fillmode": "overlay",
             "size": 10,
             "solidity": 0.2
            },
            "type": "scatter"
           }
          ],
          "scatter3d": [
           {
            "line": {
             "colorbar": {
              "outlinewidth": 0,
              "ticks": ""
             }
            },
            "marker": {
             "colorbar": {
              "outlinewidth": 0,
              "ticks": ""
             }
            },
            "type": "scatter3d"
           }
          ],
          "scattercarpet": [
           {
            "marker": {
             "colorbar": {
              "outlinewidth": 0,
              "ticks": ""
             }
            },
            "type": "scattercarpet"
           }
          ],
          "scattergeo": [
           {
            "marker": {
             "colorbar": {
              "outlinewidth": 0,
              "ticks": ""
             }
            },
            "type": "scattergeo"
           }
          ],
          "scattergl": [
           {
            "marker": {
             "colorbar": {
              "outlinewidth": 0,
              "ticks": ""
             }
            },
            "type": "scattergl"
           }
          ],
          "scattermapbox": [
           {
            "marker": {
             "colorbar": {
              "outlinewidth": 0,
              "ticks": ""
             }
            },
            "type": "scattermapbox"
           }
          ],
          "scatterpolar": [
           {
            "marker": {
             "colorbar": {
              "outlinewidth": 0,
              "ticks": ""
             }
            },
            "type": "scatterpolar"
           }
          ],
          "scatterpolargl": [
           {
            "marker": {
             "colorbar": {
              "outlinewidth": 0,
              "ticks": ""
             }
            },
            "type": "scatterpolargl"
           }
          ],
          "scatterternary": [
           {
            "marker": {
             "colorbar": {
              "outlinewidth": 0,
              "ticks": ""
             }
            },
            "type": "scatterternary"
           }
          ],
          "surface": [
           {
            "colorbar": {
             "outlinewidth": 0,
             "ticks": ""
            },
            "colorscale": [
             [
              0,
              "#0d0887"
             ],
             [
              0.1111111111111111,
              "#46039f"
             ],
             [
              0.2222222222222222,
              "#7201a8"
             ],
             [
              0.3333333333333333,
              "#9c179e"
             ],
             [
              0.4444444444444444,
              "#bd3786"
             ],
             [
              0.5555555555555556,
              "#d8576b"
             ],
             [
              0.6666666666666666,
              "#ed7953"
             ],
             [
              0.7777777777777778,
              "#fb9f3a"
             ],
             [
              0.8888888888888888,
              "#fdca26"
             ],
             [
              1,
              "#f0f921"
             ]
            ],
            "type": "surface"
           }
          ],
          "table": [
           {
            "cells": {
             "fill": {
              "color": "#EBF0F8"
             },
             "line": {
              "color": "white"
             }
            },
            "header": {
             "fill": {
              "color": "#C8D4E3"
             },
             "line": {
              "color": "white"
             }
            },
            "type": "table"
           }
          ]
         },
         "layout": {
          "annotationdefaults": {
           "arrowcolor": "#2a3f5f",
           "arrowhead": 0,
           "arrowwidth": 1
          },
          "autotypenumbers": "strict",
          "coloraxis": {
           "colorbar": {
            "outlinewidth": 0,
            "ticks": ""
           }
          },
          "colorscale": {
           "diverging": [
            [
             0,
             "#8e0152"
            ],
            [
             0.1,
             "#c51b7d"
            ],
            [
             0.2,
             "#de77ae"
            ],
            [
             0.3,
             "#f1b6da"
            ],
            [
             0.4,
             "#fde0ef"
            ],
            [
             0.5,
             "#f7f7f7"
            ],
            [
             0.6,
             "#e6f5d0"
            ],
            [
             0.7,
             "#b8e186"
            ],
            [
             0.8,
             "#7fbc41"
            ],
            [
             0.9,
             "#4d9221"
            ],
            [
             1,
             "#276419"
            ]
           ],
           "sequential": [
            [
             0,
             "#0d0887"
            ],
            [
             0.1111111111111111,
             "#46039f"
            ],
            [
             0.2222222222222222,
             "#7201a8"
            ],
            [
             0.3333333333333333,
             "#9c179e"
            ],
            [
             0.4444444444444444,
             "#bd3786"
            ],
            [
             0.5555555555555556,
             "#d8576b"
            ],
            [
             0.6666666666666666,
             "#ed7953"
            ],
            [
             0.7777777777777778,
             "#fb9f3a"
            ],
            [
             0.8888888888888888,
             "#fdca26"
            ],
            [
             1,
             "#f0f921"
            ]
           ],
           "sequentialminus": [
            [
             0,
             "#0d0887"
            ],
            [
             0.1111111111111111,
             "#46039f"
            ],
            [
             0.2222222222222222,
             "#7201a8"
            ],
            [
             0.3333333333333333,
             "#9c179e"
            ],
            [
             0.4444444444444444,
             "#bd3786"
            ],
            [
             0.5555555555555556,
             "#d8576b"
            ],
            [
             0.6666666666666666,
             "#ed7953"
            ],
            [
             0.7777777777777778,
             "#fb9f3a"
            ],
            [
             0.8888888888888888,
             "#fdca26"
            ],
            [
             1,
             "#f0f921"
            ]
           ]
          },
          "colorway": [
           "#636efa",
           "#EF553B",
           "#00cc96",
           "#ab63fa",
           "#FFA15A",
           "#19d3f3",
           "#FF6692",
           "#B6E880",
           "#FF97FF",
           "#FECB52"
          ],
          "font": {
           "color": "#2a3f5f"
          },
          "geo": {
           "bgcolor": "white",
           "lakecolor": "white",
           "landcolor": "#E5ECF6",
           "showlakes": true,
           "showland": true,
           "subunitcolor": "white"
          },
          "hoverlabel": {
           "align": "left"
          },
          "hovermode": "closest",
          "mapbox": {
           "style": "light"
          },
          "paper_bgcolor": "white",
          "plot_bgcolor": "#E5ECF6",
          "polar": {
           "angularaxis": {
            "gridcolor": "white",
            "linecolor": "white",
            "ticks": ""
           },
           "bgcolor": "#E5ECF6",
           "radialaxis": {
            "gridcolor": "white",
            "linecolor": "white",
            "ticks": ""
           }
          },
          "scene": {
           "xaxis": {
            "backgroundcolor": "#E5ECF6",
            "gridcolor": "white",
            "gridwidth": 2,
            "linecolor": "white",
            "showbackground": true,
            "ticks": "",
            "zerolinecolor": "white"
           },
           "yaxis": {
            "backgroundcolor": "#E5ECF6",
            "gridcolor": "white",
            "gridwidth": 2,
            "linecolor": "white",
            "showbackground": true,
            "ticks": "",
            "zerolinecolor": "white"
           },
           "zaxis": {
            "backgroundcolor": "#E5ECF6",
            "gridcolor": "white",
            "gridwidth": 2,
            "linecolor": "white",
            "showbackground": true,
            "ticks": "",
            "zerolinecolor": "white"
           }
          },
          "shapedefaults": {
           "line": {
            "color": "#2a3f5f"
           }
          },
          "ternary": {
           "aaxis": {
            "gridcolor": "white",
            "linecolor": "white",
            "ticks": ""
           },
           "baxis": {
            "gridcolor": "white",
            "linecolor": "white",
            "ticks": ""
           },
           "bgcolor": "#E5ECF6",
           "caxis": {
            "gridcolor": "white",
            "linecolor": "white",
            "ticks": ""
           }
          },
          "title": {
           "x": 0.05
          },
          "xaxis": {
           "automargin": true,
           "gridcolor": "white",
           "linecolor": "white",
           "ticks": "",
           "title": {
            "standoff": 15
           },
           "zerolinecolor": "white",
           "zerolinewidth": 2
          },
          "yaxis": {
           "automargin": true,
           "gridcolor": "white",
           "linecolor": "white",
           "ticks": "",
           "title": {
            "standoff": 15
           },
           "zerolinecolor": "white",
           "zerolinewidth": 2
          }
         }
        },
        "title": {
         "text": "Throughput Analysis"
        },
        "width": 1600,
        "xaxis": {
         "tickangle": -90,
         "tickfont": {
          "size": 15
         },
         "title": {
          "text": "Date"
         }
        },
        "yaxis": {
         "title": {
          "text": "BatchInstances Count"
         }
        }
       }
      }
     },
     "metadata": {},
     "output_type": "display_data"
    }
   ],
   "source": [
    "cypher_throughput_analysis = \"\"\"\n",
    "    MATCH (n:BatchInstance)\n",
    "    WITH n, date(n.earliest_timestamp) AS day\n",
    "    RETURN day,\n",
    "           count(n) AS batch_count\n",
    "    ORDER BY day\n",
    "\"\"\"\n",
    "\n",
    "\n",
    "def throughput_analysis(uri, username, password, cypher_throughput_analysis):\n",
    "    driver = GraphDatabase.driver(uri, auth=(username, password))\n",
    "    with driver.session() as session:\n",
    "        result = session.run(cypher_throughput_analysis)\n",
    "        data = result.data()\n",
    "        return data\n",
    "    \n",
    "results_throughput_analysis = throughput_analysis(uri, username, password, cypher_throughput_analysis)\n",
    "\n",
    "days = [str(row['day']) for row in results_throughput_analysis]\n",
    "batch_counts = [row['batch_count'] for row in results_throughput_analysis]\n",
    "\n",
    "dates = [datetime.strptime(day, '%Y-%m-%d') for day in days]\n",
    "\n",
    "colors = ['gray' if date.weekday() < 5 else 'orangered' for date in dates]\n",
    "\n",
    "\n",
    "fig = go.Figure()\n",
    "\n",
    "fig.add_trace(go.Scatter(\n",
    "    x=days,\n",
    "    y=batch_counts,\n",
    "    mode='lines',\n",
    "    line=dict(color='gray'),\n",
    "    showlegend=False\n",
    "))\n",
    "\n",
    "for i, day in enumerate(days):\n",
    "    text_position = 'bottom center' if i % 2 == 0 else 'top center'\n",
    "    fig.add_trace(go.Scatter(\n",
    "        x=[day],\n",
    "        y=[batch_counts[i]],\n",
    "        mode='markers+text',\n",
    "        marker=dict(color=colors[i]),\n",
    "        text=[batch_counts[i]],\n",
    "        textposition=text_position,\n",
    "        textfont=dict(size=11, color='black', family='Arial Black'),\n",
    "        showlegend=False\n",
    "    ))\n",
    "\n",
    "fig.update_layout(\n",
    "    title='Throughput Analysis',\n",
    "    xaxis_title='Date',\n",
    "    yaxis_title='BatchInstances Count',\n",
    "    xaxis_tickangle=-90,\n",
    "    xaxis_tickfont_size=15,\n",
    "    width=1600,\n",
    "    height=1200\n",
    ")\n",
    "\n",
    "fig.update_layout(hovermode='x unified')\n",
    "\n",
    "fig.show()\n",
    "\n",
    "#pio.write_image(fig, 'BatchInstancesThroughputAnalysis.png', width=1000, height=600, scale=3)\n"
   ]
  },
  {
   "attachments": {},
   "cell_type": "markdown",
   "id": "78a08e52",
   "metadata": {},
   "source": [
    "#### Resource Related Analytics"
   ]
  },
  {
   "attachments": {},
   "cell_type": "markdown",
   "id": "3e6daceb",
   "metadata": {},
   "source": [
    "##### Batches per Resource"
   ]
  },
  {
   "cell_type": "code",
   "execution_count": 15,
   "id": "95c9f688",
   "metadata": {},
   "outputs": [
    {
     "name": "stderr",
     "output_type": "stream",
     "text": [
      "/Library/Frameworks/Python.framework/Versions/3.11/lib/python3.11/site-packages/plotly/express/_core.py:2065: FutureWarning:\n",
      "\n",
      "When grouping with a length-1 list-like, you will need to pass a length-1 tuple to get_group in a future version of pandas. Pass `(name,)` instead of `name` to silence this warning.\n",
      "\n"
     ]
    },
    {
     "data": {
      "application/vnd.plotly.v1+json": {
       "config": {
        "plotlyServerURL": "https://plot.ly"
       },
       "data": [
        {
         "alignmentgroup": "True",
         "hovertemplate": "color=MCE<br>Resource=%{x}<br>BatchInstance Count=%{y}<extra></extra>",
         "legendgroup": "MCE",
         "marker": {
          "color": "orangered",
          "pattern": {
           "shape": ""
          }
         },
         "name": "MCE",
         "offsetgroup": "MCE",
         "orientation": "v",
         "showlegend": true,
         "textposition": "outside",
         "texttemplate": "%{y}",
         "type": "bar",
         "x": [
          "MCE"
         ],
         "xaxis": "x",
         "y": [
          5550
         ],
         "yaxis": "y"
        },
        {
         "alignmentgroup": "True",
         "hovertemplate": "color=ER<br>Resource=%{x}<br>BatchInstance Count=%{y}<extra></extra>",
         "legendgroup": "ER",
         "marker": {
          "color": "green",
          "pattern": {
           "shape": ""
          }
         },
         "name": "ER",
         "offsetgroup": "ER",
         "orientation": "v",
         "showlegend": true,
         "textposition": "outside",
         "texttemplate": "%{y}",
         "type": "bar",
         "x": [
          "ER"
         ],
         "xaxis": "x",
         "y": [
          4756
         ],
         "yaxis": "y"
        },
        {
         "alignmentgroup": "True",
         "hovertemplate": "color=PN<br>Resource=%{x}<br>BatchInstance Count=%{y}<extra></extra>",
         "legendgroup": "PN",
         "marker": {
          "color": "blue",
          "pattern": {
           "shape": ""
          }
         },
         "name": "PN",
         "offsetgroup": "PN",
         "orientation": "v",
         "showlegend": true,
         "textposition": "outside",
         "texttemplate": "%{y}",
         "type": "bar",
         "x": [
          "PN"
         ],
         "xaxis": "x",
         "y": [
          4650
         ],
         "yaxis": "y"
        },
        {
         "alignmentgroup": "True",
         "hovertemplate": "color=SM<br>Resource=%{x}<br>BatchInstance Count=%{y}<extra></extra>",
         "legendgroup": "SM",
         "marker": {
          "color": "purple",
          "pattern": {
           "shape": ""
          }
         },
         "name": "SM",
         "offsetgroup": "SM",
         "orientation": "v",
         "showlegend": true,
         "textposition": "outside",
         "texttemplate": "%{y}",
         "type": "bar",
         "x": [
          "SM"
         ],
         "xaxis": "x",
         "y": [
          4610
         ],
         "yaxis": "y"
        },
        {
         "alignmentgroup": "True",
         "hovertemplate": "color=EH<br>Resource=%{x}<br>BatchInstance Count=%{y}<extra></extra>",
         "legendgroup": "EH",
         "marker": {
          "color": "orange",
          "pattern": {
           "shape": ""
          }
         },
         "name": "EH",
         "offsetgroup": "EH",
         "orientation": "v",
         "showlegend": true,
         "textposition": "outside",
         "texttemplate": "%{y}",
         "type": "bar",
         "x": [
          "EH"
         ],
         "xaxis": "x",
         "y": [
          3822
         ],
         "yaxis": "y"
        },
        {
         "alignmentgroup": "True",
         "hovertemplate": "color=AV<br>Resource=%{x}<br>BatchInstance Count=%{y}<extra></extra>",
         "legendgroup": "AV",
         "marker": {
          "color": "orangered",
          "pattern": {
           "shape": ""
          }
         },
         "name": "AV",
         "offsetgroup": "AV",
         "orientation": "v",
         "showlegend": true,
         "textposition": "outside",
         "texttemplate": "%{y}",
         "type": "bar",
         "x": [
          "AV"
         ],
         "xaxis": "x",
         "y": [
          3793
         ],
         "yaxis": "y"
        },
        {
         "alignmentgroup": "True",
         "hovertemplate": "color=BM<br>Resource=%{x}<br>BatchInstance Count=%{y}<extra></extra>",
         "legendgroup": "BM",
         "marker": {
          "color": "green",
          "pattern": {
           "shape": ""
          }
         },
         "name": "BM",
         "offsetgroup": "BM",
         "orientation": "v",
         "showlegend": true,
         "textposition": "outside",
         "texttemplate": "%{y}",
         "type": "bar",
         "x": [
          "BM"
         ],
         "xaxis": "x",
         "y": [
          3723
         ],
         "yaxis": "y"
        },
        {
         "alignmentgroup": "True",
         "hovertemplate": "color=PG<br>Resource=%{x}<br>BatchInstance Count=%{y}<extra></extra>",
         "legendgroup": "PG",
         "marker": {
          "color": "blue",
          "pattern": {
           "shape": ""
          }
         },
         "name": "PG",
         "offsetgroup": "PG",
         "orientation": "v",
         "showlegend": true,
         "textposition": "outside",
         "texttemplate": "%{y}",
         "type": "bar",
         "x": [
          "PG"
         ],
         "xaxis": "x",
         "y": [
          3617
         ],
         "yaxis": "y"
        },
        {
         "alignmentgroup": "True",
         "hovertemplate": "color=CM<br>Resource=%{x}<br>BatchInstance Count=%{y}<extra></extra>",
         "legendgroup": "CM",
         "marker": {
          "color": "purple",
          "pattern": {
           "shape": ""
          }
         },
         "name": "CM",
         "offsetgroup": "CM",
         "orientation": "v",
         "showlegend": true,
         "textposition": "outside",
         "texttemplate": "%{y}",
         "type": "bar",
         "x": [
          "CM"
         ],
         "xaxis": "x",
         "y": [
          2934
         ],
         "yaxis": "y"
        },
        {
         "alignmentgroup": "True",
         "hovertemplate": "color=VS<br>Resource=%{x}<br>BatchInstance Count=%{y}<extra></extra>",
         "legendgroup": "VS",
         "marker": {
          "color": "orange",
          "pattern": {
           "shape": ""
          }
         },
         "name": "VS",
         "offsetgroup": "VS",
         "orientation": "v",
         "showlegend": true,
         "textposition": "outside",
         "texttemplate": "%{y}",
         "type": "bar",
         "x": [
          "VS"
         ],
         "xaxis": "x",
         "y": [
          2716
         ],
         "yaxis": "y"
        },
        {
         "alignmentgroup": "True",
         "hovertemplate": "color=MMF<br>Resource=%{x}<br>BatchInstance Count=%{y}<extra></extra>",
         "legendgroup": "MMF",
         "marker": {
          "color": "orangered",
          "pattern": {
           "shape": ""
          }
         },
         "name": "MMF",
         "offsetgroup": "MMF",
         "orientation": "v",
         "showlegend": true,
         "textposition": "outside",
         "texttemplate": "%{y}",
         "type": "bar",
         "x": [
          "MMF"
         ],
         "xaxis": "x",
         "y": [
          2565
         ],
         "yaxis": "y"
        },
        {
         "alignmentgroup": "True",
         "hovertemplate": "color=LI<br>Resource=%{x}<br>BatchInstance Count=%{y}<extra></extra>",
         "legendgroup": "LI",
         "marker": {
          "color": "green",
          "pattern": {
           "shape": ""
          }
         },
         "name": "LI",
         "offsetgroup": "LI",
         "orientation": "v",
         "showlegend": true,
         "textposition": "outside",
         "texttemplate": "%{y}",
         "type": "bar",
         "x": [
          "LI"
         ],
         "xaxis": "x",
         "y": [
          2005
         ],
         "yaxis": "y"
        },
        {
         "alignmentgroup": "True",
         "hovertemplate": "color=ML<br>Resource=%{x}<br>BatchInstance Count=%{y}<extra></extra>",
         "legendgroup": "ML",
         "marker": {
          "color": "blue",
          "pattern": {
           "shape": ""
          }
         },
         "name": "ML",
         "offsetgroup": "ML",
         "orientation": "v",
         "showlegend": true,
         "textposition": "outside",
         "texttemplate": "%{y}",
         "type": "bar",
         "x": [
          "ML"
         ],
         "xaxis": "x",
         "y": [
          1984
         ],
         "yaxis": "y"
        },
        {
         "alignmentgroup": "True",
         "hovertemplate": "color=CLE<br>Resource=%{x}<br>BatchInstance Count=%{y}<extra></extra>",
         "legendgroup": "CLE",
         "marker": {
          "color": "purple",
          "pattern": {
           "shape": ""
          }
         },
         "name": "CLE",
         "offsetgroup": "CLE",
         "orientation": "v",
         "showlegend": true,
         "textposition": "outside",
         "texttemplate": "%{y}",
         "type": "bar",
         "x": [
          "CLE"
         ],
         "xaxis": "x",
         "y": [
          1769
         ],
         "yaxis": "y"
        },
        {
         "alignmentgroup": "True",
         "hovertemplate": "color=MR<br>Resource=%{x}<br>BatchInstance Count=%{y}<extra></extra>",
         "legendgroup": "MR",
         "marker": {
          "color": "orange",
          "pattern": {
           "shape": ""
          }
         },
         "name": "MR",
         "offsetgroup": "MR",
         "orientation": "v",
         "showlegend": true,
         "textposition": "outside",
         "texttemplate": "%{y}",
         "type": "bar",
         "x": [
          "MR"
         ],
         "xaxis": "x",
         "y": [
          1700
         ],
         "yaxis": "y"
        },
        {
         "alignmentgroup": "True",
         "hovertemplate": "color=SP<br>Resource=%{x}<br>BatchInstance Count=%{y}<extra></extra>",
         "legendgroup": "SP",
         "marker": {
          "color": "orangered",
          "pattern": {
           "shape": ""
          }
         },
         "name": "SP",
         "offsetgroup": "SP",
         "orientation": "v",
         "showlegend": true,
         "textposition": "outside",
         "texttemplate": "%{y}",
         "type": "bar",
         "x": [
          "SP"
         ],
         "xaxis": "x",
         "y": [
          1624
         ],
         "yaxis": "y"
        },
        {
         "alignmentgroup": "True",
         "hovertemplate": "color=VA<br>Resource=%{x}<br>BatchInstance Count=%{y}<extra></extra>",
         "legendgroup": "VA",
         "marker": {
          "color": "green",
          "pattern": {
           "shape": ""
          }
         },
         "name": "VA",
         "offsetgroup": "VA",
         "orientation": "v",
         "showlegend": true,
         "textposition": "outside",
         "texttemplate": "%{y}",
         "type": "bar",
         "x": [
          "VA"
         ],
         "xaxis": "x",
         "y": [
          1519
         ],
         "yaxis": "y"
        },
        {
         "alignmentgroup": "True",
         "hovertemplate": "color=MAA<br>Resource=%{x}<br>BatchInstance Count=%{y}<extra></extra>",
         "legendgroup": "MAA",
         "marker": {
          "color": "blue",
          "pattern": {
           "shape": ""
          }
         },
         "name": "MAA",
         "offsetgroup": "MAA",
         "orientation": "v",
         "showlegend": true,
         "textposition": "outside",
         "texttemplate": "%{y}",
         "type": "bar",
         "x": [
          "MAA"
         ],
         "xaxis": "x",
         "y": [
          290
         ],
         "yaxis": "y"
        },
        {
         "alignmentgroup": "True",
         "hovertemplate": "color=DF<br>Resource=%{x}<br>BatchInstance Count=%{y}<extra></extra>",
         "legendgroup": "DF",
         "marker": {
          "color": "purple",
          "pattern": {
           "shape": ""
          }
         },
         "name": "DF",
         "offsetgroup": "DF",
         "orientation": "v",
         "showlegend": true,
         "textposition": "outside",
         "texttemplate": "%{y}",
         "type": "bar",
         "x": [
          "DF"
         ],
         "xaxis": "x",
         "y": [
          10
         ],
         "yaxis": "y"
        },
        {
         "alignmentgroup": "True",
         "hovertemplate": "color=MGP<br>Resource=%{x}<br>BatchInstance Count=%{y}<extra></extra>",
         "legendgroup": "MGP",
         "marker": {
          "color": "orange",
          "pattern": {
           "shape": ""
          }
         },
         "name": "MGP",
         "offsetgroup": "MGP",
         "orientation": "v",
         "showlegend": true,
         "textposition": "outside",
         "texttemplate": "%{y}",
         "type": "bar",
         "x": [
          "MGP"
         ],
         "xaxis": "x",
         "y": [
          9
         ],
         "yaxis": "y"
        }
       ],
       "layout": {
        "barmode": "relative",
        "height": 600,
        "legend": {
         "title": {
          "text": "color"
         },
         "tracegroupgap": 0
        },
        "showlegend": false,
        "template": {
         "data": {
          "bar": [
           {
            "error_x": {
             "color": "#2a3f5f"
            },
            "error_y": {
             "color": "#2a3f5f"
            },
            "marker": {
             "line": {
              "color": "#E5ECF6",
              "width": 0.5
             },
             "pattern": {
              "fillmode": "overlay",
              "size": 10,
              "solidity": 0.2
             }
            },
            "type": "bar"
           }
          ],
          "barpolar": [
           {
            "marker": {
             "line": {
              "color": "#E5ECF6",
              "width": 0.5
             },
             "pattern": {
              "fillmode": "overlay",
              "size": 10,
              "solidity": 0.2
             }
            },
            "type": "barpolar"
           }
          ],
          "carpet": [
           {
            "aaxis": {
             "endlinecolor": "#2a3f5f",
             "gridcolor": "white",
             "linecolor": "white",
             "minorgridcolor": "white",
             "startlinecolor": "#2a3f5f"
            },
            "baxis": {
             "endlinecolor": "#2a3f5f",
             "gridcolor": "white",
             "linecolor": "white",
             "minorgridcolor": "white",
             "startlinecolor": "#2a3f5f"
            },
            "type": "carpet"
           }
          ],
          "choropleth": [
           {
            "colorbar": {
             "outlinewidth": 0,
             "ticks": ""
            },
            "type": "choropleth"
           }
          ],
          "contour": [
           {
            "colorbar": {
             "outlinewidth": 0,
             "ticks": ""
            },
            "colorscale": [
             [
              0,
              "#0d0887"
             ],
             [
              0.1111111111111111,
              "#46039f"
             ],
             [
              0.2222222222222222,
              "#7201a8"
             ],
             [
              0.3333333333333333,
              "#9c179e"
             ],
             [
              0.4444444444444444,
              "#bd3786"
             ],
             [
              0.5555555555555556,
              "#d8576b"
             ],
             [
              0.6666666666666666,
              "#ed7953"
             ],
             [
              0.7777777777777778,
              "#fb9f3a"
             ],
             [
              0.8888888888888888,
              "#fdca26"
             ],
             [
              1,
              "#f0f921"
             ]
            ],
            "type": "contour"
           }
          ],
          "contourcarpet": [
           {
            "colorbar": {
             "outlinewidth": 0,
             "ticks": ""
            },
            "type": "contourcarpet"
           }
          ],
          "heatmap": [
           {
            "colorbar": {
             "outlinewidth": 0,
             "ticks": ""
            },
            "colorscale": [
             [
              0,
              "#0d0887"
             ],
             [
              0.1111111111111111,
              "#46039f"
             ],
             [
              0.2222222222222222,
              "#7201a8"
             ],
             [
              0.3333333333333333,
              "#9c179e"
             ],
             [
              0.4444444444444444,
              "#bd3786"
             ],
             [
              0.5555555555555556,
              "#d8576b"
             ],
             [
              0.6666666666666666,
              "#ed7953"
             ],
             [
              0.7777777777777778,
              "#fb9f3a"
             ],
             [
              0.8888888888888888,
              "#fdca26"
             ],
             [
              1,
              "#f0f921"
             ]
            ],
            "type": "heatmap"
           }
          ],
          "heatmapgl": [
           {
            "colorbar": {
             "outlinewidth": 0,
             "ticks": ""
            },
            "colorscale": [
             [
              0,
              "#0d0887"
             ],
             [
              0.1111111111111111,
              "#46039f"
             ],
             [
              0.2222222222222222,
              "#7201a8"
             ],
             [
              0.3333333333333333,
              "#9c179e"
             ],
             [
              0.4444444444444444,
              "#bd3786"
             ],
             [
              0.5555555555555556,
              "#d8576b"
             ],
             [
              0.6666666666666666,
              "#ed7953"
             ],
             [
              0.7777777777777778,
              "#fb9f3a"
             ],
             [
              0.8888888888888888,
              "#fdca26"
             ],
             [
              1,
              "#f0f921"
             ]
            ],
            "type": "heatmapgl"
           }
          ],
          "histogram": [
           {
            "marker": {
             "pattern": {
              "fillmode": "overlay",
              "size": 10,
              "solidity": 0.2
             }
            },
            "type": "histogram"
           }
          ],
          "histogram2d": [
           {
            "colorbar": {
             "outlinewidth": 0,
             "ticks": ""
            },
            "colorscale": [
             [
              0,
              "#0d0887"
             ],
             [
              0.1111111111111111,
              "#46039f"
             ],
             [
              0.2222222222222222,
              "#7201a8"
             ],
             [
              0.3333333333333333,
              "#9c179e"
             ],
             [
              0.4444444444444444,
              "#bd3786"
             ],
             [
              0.5555555555555556,
              "#d8576b"
             ],
             [
              0.6666666666666666,
              "#ed7953"
             ],
             [
              0.7777777777777778,
              "#fb9f3a"
             ],
             [
              0.8888888888888888,
              "#fdca26"
             ],
             [
              1,
              "#f0f921"
             ]
            ],
            "type": "histogram2d"
           }
          ],
          "histogram2dcontour": [
           {
            "colorbar": {
             "outlinewidth": 0,
             "ticks": ""
            },
            "colorscale": [
             [
              0,
              "#0d0887"
             ],
             [
              0.1111111111111111,
              "#46039f"
             ],
             [
              0.2222222222222222,
              "#7201a8"
             ],
             [
              0.3333333333333333,
              "#9c179e"
             ],
             [
              0.4444444444444444,
              "#bd3786"
             ],
             [
              0.5555555555555556,
              "#d8576b"
             ],
             [
              0.6666666666666666,
              "#ed7953"
             ],
             [
              0.7777777777777778,
              "#fb9f3a"
             ],
             [
              0.8888888888888888,
              "#fdca26"
             ],
             [
              1,
              "#f0f921"
             ]
            ],
            "type": "histogram2dcontour"
           }
          ],
          "mesh3d": [
           {
            "colorbar": {
             "outlinewidth": 0,
             "ticks": ""
            },
            "type": "mesh3d"
           }
          ],
          "parcoords": [
           {
            "line": {
             "colorbar": {
              "outlinewidth": 0,
              "ticks": ""
             }
            },
            "type": "parcoords"
           }
          ],
          "pie": [
           {
            "automargin": true,
            "type": "pie"
           }
          ],
          "scatter": [
           {
            "fillpattern": {
             "fillmode": "overlay",
             "size": 10,
             "solidity": 0.2
            },
            "type": "scatter"
           }
          ],
          "scatter3d": [
           {
            "line": {
             "colorbar": {
              "outlinewidth": 0,
              "ticks": ""
             }
            },
            "marker": {
             "colorbar": {
              "outlinewidth": 0,
              "ticks": ""
             }
            },
            "type": "scatter3d"
           }
          ],
          "scattercarpet": [
           {
            "marker": {
             "colorbar": {
              "outlinewidth": 0,
              "ticks": ""
             }
            },
            "type": "scattercarpet"
           }
          ],
          "scattergeo": [
           {
            "marker": {
             "colorbar": {
              "outlinewidth": 0,
              "ticks": ""
             }
            },
            "type": "scattergeo"
           }
          ],
          "scattergl": [
           {
            "marker": {
             "colorbar": {
              "outlinewidth": 0,
              "ticks": ""
             }
            },
            "type": "scattergl"
           }
          ],
          "scattermapbox": [
           {
            "marker": {
             "colorbar": {
              "outlinewidth": 0,
              "ticks": ""
             }
            },
            "type": "scattermapbox"
           }
          ],
          "scatterpolar": [
           {
            "marker": {
             "colorbar": {
              "outlinewidth": 0,
              "ticks": ""
             }
            },
            "type": "scatterpolar"
           }
          ],
          "scatterpolargl": [
           {
            "marker": {
             "colorbar": {
              "outlinewidth": 0,
              "ticks": ""
             }
            },
            "type": "scatterpolargl"
           }
          ],
          "scatterternary": [
           {
            "marker": {
             "colorbar": {
              "outlinewidth": 0,
              "ticks": ""
             }
            },
            "type": "scatterternary"
           }
          ],
          "surface": [
           {
            "colorbar": {
             "outlinewidth": 0,
             "ticks": ""
            },
            "colorscale": [
             [
              0,
              "#0d0887"
             ],
             [
              0.1111111111111111,
              "#46039f"
             ],
             [
              0.2222222222222222,
              "#7201a8"
             ],
             [
              0.3333333333333333,
              "#9c179e"
             ],
             [
              0.4444444444444444,
              "#bd3786"
             ],
             [
              0.5555555555555556,
              "#d8576b"
             ],
             [
              0.6666666666666666,
              "#ed7953"
             ],
             [
              0.7777777777777778,
              "#fb9f3a"
             ],
             [
              0.8888888888888888,
              "#fdca26"
             ],
             [
              1,
              "#f0f921"
             ]
            ],
            "type": "surface"
           }
          ],
          "table": [
           {
            "cells": {
             "fill": {
              "color": "#EBF0F8"
             },
             "line": {
              "color": "white"
             }
            },
            "header": {
             "fill": {
              "color": "#C8D4E3"
             },
             "line": {
              "color": "white"
             }
            },
            "type": "table"
           }
          ]
         },
         "layout": {
          "annotationdefaults": {
           "arrowcolor": "#2a3f5f",
           "arrowhead": 0,
           "arrowwidth": 1
          },
          "autotypenumbers": "strict",
          "coloraxis": {
           "colorbar": {
            "outlinewidth": 0,
            "ticks": ""
           }
          },
          "colorscale": {
           "diverging": [
            [
             0,
             "#8e0152"
            ],
            [
             0.1,
             "#c51b7d"
            ],
            [
             0.2,
             "#de77ae"
            ],
            [
             0.3,
             "#f1b6da"
            ],
            [
             0.4,
             "#fde0ef"
            ],
            [
             0.5,
             "#f7f7f7"
            ],
            [
             0.6,
             "#e6f5d0"
            ],
            [
             0.7,
             "#b8e186"
            ],
            [
             0.8,
             "#7fbc41"
            ],
            [
             0.9,
             "#4d9221"
            ],
            [
             1,
             "#276419"
            ]
           ],
           "sequential": [
            [
             0,
             "#0d0887"
            ],
            [
             0.1111111111111111,
             "#46039f"
            ],
            [
             0.2222222222222222,
             "#7201a8"
            ],
            [
             0.3333333333333333,
             "#9c179e"
            ],
            [
             0.4444444444444444,
             "#bd3786"
            ],
            [
             0.5555555555555556,
             "#d8576b"
            ],
            [
             0.6666666666666666,
             "#ed7953"
            ],
            [
             0.7777777777777778,
             "#fb9f3a"
            ],
            [
             0.8888888888888888,
             "#fdca26"
            ],
            [
             1,
             "#f0f921"
            ]
           ],
           "sequentialminus": [
            [
             0,
             "#0d0887"
            ],
            [
             0.1111111111111111,
             "#46039f"
            ],
            [
             0.2222222222222222,
             "#7201a8"
            ],
            [
             0.3333333333333333,
             "#9c179e"
            ],
            [
             0.4444444444444444,
             "#bd3786"
            ],
            [
             0.5555555555555556,
             "#d8576b"
            ],
            [
             0.6666666666666666,
             "#ed7953"
            ],
            [
             0.7777777777777778,
             "#fb9f3a"
            ],
            [
             0.8888888888888888,
             "#fdca26"
            ],
            [
             1,
             "#f0f921"
            ]
           ]
          },
          "colorway": [
           "#636efa",
           "#EF553B",
           "#00cc96",
           "#ab63fa",
           "#FFA15A",
           "#19d3f3",
           "#FF6692",
           "#B6E880",
           "#FF97FF",
           "#FECB52"
          ],
          "font": {
           "color": "#2a3f5f"
          },
          "geo": {
           "bgcolor": "white",
           "lakecolor": "white",
           "landcolor": "#E5ECF6",
           "showlakes": true,
           "showland": true,
           "subunitcolor": "white"
          },
          "hoverlabel": {
           "align": "left"
          },
          "hovermode": "closest",
          "mapbox": {
           "style": "light"
          },
          "paper_bgcolor": "white",
          "plot_bgcolor": "#E5ECF6",
          "polar": {
           "angularaxis": {
            "gridcolor": "white",
            "linecolor": "white",
            "ticks": ""
           },
           "bgcolor": "#E5ECF6",
           "radialaxis": {
            "gridcolor": "white",
            "linecolor": "white",
            "ticks": ""
           }
          },
          "scene": {
           "xaxis": {
            "backgroundcolor": "#E5ECF6",
            "gridcolor": "white",
            "gridwidth": 2,
            "linecolor": "white",
            "showbackground": true,
            "ticks": "",
            "zerolinecolor": "white"
           },
           "yaxis": {
            "backgroundcolor": "#E5ECF6",
            "gridcolor": "white",
            "gridwidth": 2,
            "linecolor": "white",
            "showbackground": true,
            "ticks": "",
            "zerolinecolor": "white"
           },
           "zaxis": {
            "backgroundcolor": "#E5ECF6",
            "gridcolor": "white",
            "gridwidth": 2,
            "linecolor": "white",
            "showbackground": true,
            "ticks": "",
            "zerolinecolor": "white"
           }
          },
          "shapedefaults": {
           "line": {
            "color": "#2a3f5f"
           }
          },
          "ternary": {
           "aaxis": {
            "gridcolor": "white",
            "linecolor": "white",
            "ticks": ""
           },
           "baxis": {
            "gridcolor": "white",
            "linecolor": "white",
            "ticks": ""
           },
           "bgcolor": "#E5ECF6",
           "caxis": {
            "gridcolor": "white",
            "linecolor": "white",
            "ticks": ""
           }
          },
          "title": {
           "x": 0.05
          },
          "xaxis": {
           "automargin": true,
           "gridcolor": "white",
           "linecolor": "white",
           "ticks": "",
           "title": {
            "standoff": 15
           },
           "zerolinecolor": "white",
           "zerolinewidth": 2
          },
          "yaxis": {
           "automargin": true,
           "gridcolor": "white",
           "linecolor": "white",
           "ticks": "",
           "title": {
            "standoff": 15
           },
           "zerolinecolor": "white",
           "zerolinewidth": 2
          }
         }
        },
        "title": {
         "text": "BatchInstances per Resource"
        },
        "uniformtext": {
         "minsize": 7,
         "mode": "hide"
        },
        "width": 900,
        "xaxis": {
         "anchor": "y",
         "domain": [
          0,
          1
         ],
         "tickangle": -45,
         "tickfont": {
          "size": 12
         },
         "title": {
          "text": "Resource"
         }
        },
        "yaxis": {
         "anchor": "x",
         "domain": [
          0,
          1
         ],
         "title": {
          "text": "BatchInstance Count"
         }
        }
       }
      }
     },
     "metadata": {},
     "output_type": "display_data"
    }
   ],
   "source": [
    "cypher_batches_per_resource = \"\"\"\n",
    "    MATCH (u:Resource)-[:CORR]->(n:BatchInstance)\n",
    "    RETURN u.sysId AS resource, count(n) AS batch_count\n",
    "    ORDER BY batch_count DESC\n",
    "\"\"\"\n",
    "\n",
    "\n",
    "def batches_per_resource(uri, username, password, cypher_batches_per_resource):\n",
    "    driver = GraphDatabase.driver(uri, auth=(username, password))\n",
    "    with driver.session() as session:\n",
    "        result = session.run(cypher_batches_per_resource)\n",
    "        data = result.data()\n",
    "        return data\n",
    "    \n",
    "results_batches_per_resource = batches_per_resource(uri, username, password, cypher_batches_per_resource)\n",
    "\n",
    "resource = [str(row['resource']) for row in results_batches_per_resource]\n",
    "batch_counts = [row['batch_count'] for row in results_batches_per_resource]\n",
    "\n",
    "\n",
    "fig = px.bar(x=resource, y=batch_counts, title='BatchInstances per Resource', labels={'x':'Resource', 'y':'BatchInstance Count'}, color=resource, color_discrete_sequence=['orangered', 'green', 'blue', 'purple', 'orange'])\n",
    "\n",
    "fig.update_layout(\n",
    "    xaxis_tickangle=-45,\n",
    "    xaxis_tickfont_size=12,\n",
    "    yaxis_title='BatchInstance Count',\n",
    "    xaxis_title='Resource',\n",
    "    uniformtext_minsize=7,\n",
    "    uniformtext_mode='hide',\n",
    "    width=900, \n",
    "    height=600,\n",
    "    showlegend=False \n",
    ")\n",
    "\n",
    "fig.update_traces(texttemplate='%{y}', textposition='outside')\n",
    "\n",
    "fig.show()\n",
    "\n",
    "#pio.write_image(fig, 'BatchInstances_per_Resource.png', width=800, height=400, scale=3)\n"
   ]
  },
  {
   "cell_type": "code",
   "execution_count": 16,
   "id": "77704aa8",
   "metadata": {},
   "outputs": [
    {
     "data": {
      "image/png": "[encoded data removed]",
      "text/plain": [
       "<Figure size 1000x1000 with 9 Axes>"
      ]
     },
     "metadata": {},
     "output_type": "display_data"
    }
   ],
   "source": [
    "cypher_batches_per_activity = \"\"\"\n",
    "    MATCH (n:BatchInstance)\n",
    "    WITH n.activity AS activity, size(n.kits) AS batch_size\n",
    "    RETURN activity, \n",
    "           sum(CASE WHEN batch_size < 20 THEN 1 ELSE 0 END) AS kits_lt_20,\n",
    "           sum(CASE WHEN batch_size >= 20 AND batch_size < 40 THEN 1 ELSE 0 END) AS kits_20_39,\n",
    "           sum(CASE WHEN batch_size >= 40 AND batch_size < 80 THEN 1 ELSE 0 END) AS kits_40_79,\n",
    "           sum(CASE WHEN batch_size >= 80 THEN 1 ELSE 0 END) AS kits_gt_80\n",
    "\"\"\"\n",
    "\n",
    "def batches_per_activity(uri, username, password, cypher_query):\n",
    "    driver = GraphDatabase.driver(uri, auth=(username, password))\n",
    "    with driver.session() as session:\n",
    "        result = session.run(cypher_query)\n",
    "        data = result.data()\n",
    "        return data\n",
    "    \n",
    "\n",
    "results_batches_per_activity = batches_per_activity(uri, username, password, cypher_batches_per_activity)\n",
    "\n",
    "\n",
    "activities = [row['activity'] for row in results_batches_per_activity]\n",
    "kits_lt_20 = [row['kits_lt_20'] for row in results_batches_per_activity]\n",
    "kits_20_39 = [row['kits_20_39'] for row in results_batches_per_activity]\n",
    "kits_40_79 = [row['kits_40_79'] for row in results_batches_per_activity]\n",
    "kits_gt_80 = [row['kits_gt_80'] for row in results_batches_per_activity]\n",
    "\n",
    "\n",
    "colors = ['orangered', 'green', 'blue', 'purple']\n",
    "\n",
    "\n",
    "fig, axs = plt.subplots(3, 3, figsize=(10, 10))\n",
    "\n",
    "\n",
    "for i, activity in enumerate(activities):\n",
    "    row = i // 3\n",
    "    col = i % 3\n",
    "    axs[row, col].bar(['<20', '20-39', '40-79', '>=80'],\n",
    "                      [kits_lt_20[i], kits_20_39[i], kits_40_79[i], kits_gt_80[i]],\n",
    "                      color=colors)\n",
    "    axs[row, col].set_title(f'Activity: {activity}')\n",
    "    axs[row, col].set_ylabel('Number of Batches')\n",
    "\n",
    "plt.xlabel('Batch Size Groups')\n",
    "plt.tight_layout()\n",
    "plt.show()\n"
   ]
  },
  {
   "cell_type": "code",
   "execution_count": 17,
   "id": "b6d4959f",
   "metadata": {},
   "outputs": [
    {
     "name": "stdout",
     "output_type": "stream",
     "text": [
      "[{'resource': 'MCE', 'activity': 'Producción  montada', 'batch_count': 2308}, {'resource': 'MCE', 'activity': 'Montaje', 'batch_count': 2245}, {'resource': 'SM', 'activity': 'Montaje', 'batch_count': 1737}, {'resource': 'SM', 'activity': 'Producción  montada', 'batch_count': 1725}, {'resource': 'PN', 'activity': 'Producción  montada', 'batch_count': 1712}, {'resource': 'PN', 'activity': 'Montaje', 'batch_count': 1696}, {'resource': 'ER', 'activity': 'Montaje', 'batch_count': 1550}, {'resource': 'ER', 'activity': 'Producción  montada', 'batch_count': 1543}, {'resource': 'AV', 'activity': 'Montaje', 'batch_count': 1373}, {'resource': 'AV', 'activity': 'Producción  montada', 'batch_count': 1370}, {'resource': 'PG', 'activity': 'Producción  montada', 'batch_count': 1247}, {'resource': 'PG', 'activity': 'Montaje', 'batch_count': 1238}, {'resource': 'EH', 'activity': 'Producción  montada', 'batch_count': 1205}, {'resource': 'BM', 'activity': 'Montaje', 'batch_count': 1195}, {'resource': 'EH', 'activity': 'Montaje', 'batch_count': 1191}, {'resource': 'BM', 'activity': 'Producción  montada', 'batch_count': 1161}, {'resource': 'CM', 'activity': 'Montaje', 'batch_count': 897}, {'resource': 'CM', 'activity': 'Producción  montada', 'batch_count': 887}, {'resource': 'VS', 'activity': 'Montaje', 'batch_count': 880}, {'resource': 'VS', 'activity': 'Producción  montada', 'batch_count': 873}, {'resource': 'MMF', 'activity': 'Producción  montada', 'batch_count': 811}, {'resource': 'MMF', 'activity': 'Montaje', 'batch_count': 809}, {'resource': 'ML', 'activity': 'Montaje', 'batch_count': 804}, {'resource': 'ML', 'activity': 'Producción  montada', 'batch_count': 797}, {'resource': 'LI', 'activity': 'Cargado en carro  L+D', 'batch_count': 754}, {'resource': 'CLE', 'activity': 'Montaje', 'batch_count': 729}, {'resource': 'CLE', 'activity': 'Producción  montada', 'batch_count': 711}, {'resource': 'MR', 'activity': 'Cargado en carro  L+D', 'batch_count': 692}, {'resource': 'ER', 'activity': 'Cargado en carro  L+D', 'batch_count': 628}, {'resource': 'SP', 'activity': 'Montaje', 'batch_count': 593}, {'resource': 'SP', 'activity': 'Producción  montada', 'batch_count': 589}, {'resource': 'EH', 'activity': 'Cargado en carro  L+D', 'batch_count': 538}, {'resource': 'BM', 'activity': 'Cargado en carro  L+D', 'batch_count': 523}, {'resource': 'PN', 'activity': 'Cargado en carro  L+D', 'batch_count': 481}, {'resource': 'CM', 'activity': 'Cargado en carro  L+D', 'batch_count': 458}, {'resource': 'PG', 'activity': 'Cargado en carro  L+D', 'batch_count': 424}, {'resource': 'VA', 'activity': 'Montaje', 'batch_count': 405}, {'resource': 'VS', 'activity': 'Cargado en carro  L+D', 'batch_count': 400}, {'resource': 'VA', 'activity': 'Producción  montada', 'batch_count': 383}, {'resource': 'AV', 'activity': 'Cargado en carro  L+D', 'batch_count': 371}, {'resource': 'MMF', 'activity': 'Cargado en carro  L+D', 'batch_count': 353}, {'resource': 'SM', 'activity': 'Cargado en carro  L+D', 'batch_count': 328}, {'resource': 'LI', 'activity': 'Montaje', 'batch_count': 304}, {'resource': 'LI', 'activity': 'Producción  montada', 'batch_count': 301}, {'resource': 'MCE', 'activity': 'Composición de cargas', 'batch_count': 296}, {'resource': 'VA', 'activity': 'Cargado en carro  L+D', 'batch_count': 280}, {'resource': 'MCE', 'activity': 'Carga L+D liberada', 'batch_count': 243}, {'resource': 'MR', 'activity': 'Entrada Material Sucio', 'batch_count': 241}, {'resource': 'SM', 'activity': 'Composición de cargas', 'batch_count': 240}, {'resource': 'EH', 'activity': 'Carga L+D iniciada', 'batch_count': 234}, {'resource': 'ER', 'activity': 'Carga L+D iniciada', 'batch_count': 223}, {'resource': 'LI', 'activity': 'Carga L+D iniciada', 'batch_count': 220}, {'resource': 'LI', 'activity': 'Entrada Material Sucio', 'batch_count': 209}, {'resource': 'BM', 'activity': 'Carga L+D iniciada', 'batch_count': 208}, {'resource': 'EH', 'activity': 'Entrada Material Sucio', 'batch_count': 208}, {'resource': 'MR', 'activity': 'Montaje', 'batch_count': 207}, {'resource': 'MR', 'activity': 'Producción  montada', 'batch_count': 203}, {'resource': 'ER', 'activity': 'Entrada Material Sucio', 'batch_count': 200}, {'resource': 'PN', 'activity': 'Composición de cargas', 'batch_count': 192}, {'resource': 'ER', 'activity': 'Composición de cargas', 'batch_count': 184}, {'resource': 'ER', 'activity': 'Carga L+D liberada', 'batch_count': 182}, {'resource': 'MR', 'activity': 'Carga L+D iniciada', 'batch_count': 181}, {'resource': 'BM', 'activity': 'Composición de cargas', 'batch_count': 168}, {'resource': 'SM', 'activity': 'Carga L+D iniciada', 'batch_count': 167}, {'resource': 'BM', 'activity': 'Entrada Material Sucio', 'batch_count': 165}, {'resource': 'PG', 'activity': 'Composición de cargas', 'batch_count': 163}, {'resource': 'PG', 'activity': 'Carga L+D iniciada', 'batch_count': 161}, {'resource': 'CM', 'activity': 'Carga L+D iniciada', 'batch_count': 161}, {'resource': 'MCE', 'activity': 'Carga de esterilizador liberada', 'batch_count': 160}, {'resource': 'SP', 'activity': 'Cargado en carro  L+D', 'batch_count': 154}, {'resource': 'VS', 'activity': 'Entrada Material Sucio', 'batch_count': 151}, {'resource': 'AV', 'activity': 'Composición de cargas', 'batch_count': 149}, {'resource': 'SM', 'activity': 'Carga L+D liberada', 'batch_count': 145}, {'resource': 'CM', 'activity': 'Entrada Material Sucio', 'batch_count': 145}, {'resource': 'PN', 'activity': 'Carga L+D liberada', 'batch_count': 137}, {'resource': 'CM', 'activity': 'Composición de cargas', 'batch_count': 137}, {'resource': 'PN', 'activity': 'Carga L+D iniciada', 'batch_count': 135}, {'resource': 'ER', 'activity': 'Comisionado', 'batch_count': 135}, {'resource': 'EH', 'activity': 'Carga L+D liberada', 'batch_count': 132}, {'resource': 'BM', 'activity': 'Carga L+D liberada', 'batch_count': 130}, {'resource': 'EH', 'activity': 'Composición de cargas', 'batch_count': 130}, {'resource': 'VS', 'activity': 'Carga L+D iniciada', 'batch_count': 130}, {'resource': 'AV', 'activity': 'Carga L+D iniciada', 'batch_count': 127}, {'resource': 'PN', 'activity': 'Carga de esterilizador liberada', 'batch_count': 123}, {'resource': 'MMF', 'activity': 'Entrada Material Sucio', 'batch_count': 122}, {'resource': 'MCE', 'activity': 'Comisionado', 'batch_count': 116}, {'resource': 'PG', 'activity': 'Entrada Material Sucio', 'batch_count': 113}, {'resource': 'SM', 'activity': 'Entrada Material Sucio', 'batch_count': 112}, {'resource': 'ER', 'activity': 'Carga de esterilizador liberada', 'batch_count': 111}, {'resource': 'MMF', 'activity': 'Carga L+D liberada', 'batch_count': 110}, {'resource': 'VA', 'activity': 'Carga L+D iniciada', 'batch_count': 107}, {'resource': 'AV', 'activity': 'Comisionado', 'batch_count': 106}, {'resource': 'PG', 'activity': 'Carga de esterilizador liberada', 'batch_count': 105}, {'resource': 'AV', 'activity': 'Entrada Material Sucio', 'batch_count': 103}, {'resource': 'EH', 'activity': 'Carga de esterilizador liberada', 'batch_count': 101}, {'resource': 'VA', 'activity': 'Entrada Material Sucio', 'batch_count': 100}, {'resource': 'PN', 'activity': 'Entrada Material Sucio', 'batch_count': 100}, {'resource': 'VS', 'activity': 'Composición de cargas', 'batch_count': 100}, {'resource': 'MMF', 'activity': 'Carga L+D iniciada', 'batch_count': 99}, {'resource': 'CM', 'activity': 'Carga de esterilizador liberada', 'batch_count': 99}, {'resource': 'MMF', 'activity': 'Composición de cargas', 'batch_count': 98}, {'resource': 'PG', 'activity': 'Carga L+D liberada', 'batch_count': 98}, {'resource': 'AV', 'activity': 'Carga L+D liberada', 'batch_count': 98}, {'resource': 'ML', 'activity': 'Cargado en carro  L+D', 'batch_count': 96}, {'resource': 'AV', 'activity': 'Carga de esterilizador liberada', 'batch_count': 96}, {'resource': 'SM', 'activity': 'Carga de esterilizador liberada', 'batch_count': 91}, {'resource': 'ML', 'activity': 'Composición de cargas', 'batch_count': 90}, {'resource': 'BM', 'activity': 'Carga de esterilizador liberada', 'batch_count': 90}, {'resource': 'CM', 'activity': 'Carga L+D liberada', 'batch_count': 88}, {'resource': 'MMF', 'activity': 'Carga de esterilizador liberada', 'batch_count': 87}, {'resource': 'BM', 'activity': 'Comisionado', 'batch_count': 83}, {'resource': 'EH', 'activity': 'Comisionado', 'batch_count': 83}, {'resource': 'VA', 'activity': 'Carga de esterilizador liberada', 'batch_count': 81}, {'resource': 'LI', 'activity': 'Carga L+D liberada', 'batch_count': 78}, {'resource': 'CLE', 'activity': 'Composición de cargas', 'batch_count': 78}, {'resource': 'MMF', 'activity': 'Comisionado', 'batch_count': 76}, {'resource': 'MCE', 'activity': 'Cargado en carro  L+D', 'batch_count': 74}, {'resource': 'PN', 'activity': 'Comisionado', 'batch_count': 74}, {'resource': 'MCE', 'activity': 'Carga L+D iniciada', 'batch_count': 71}, {'resource': 'CLE', 'activity': 'Carga L+D liberada', 'batch_count': 71}, {'resource': 'MR', 'activity': 'Comisionado', 'batch_count': 68}, {'resource': 'VA', 'activity': 'Comisionado', 'batch_count': 68}, {'resource': 'PG', 'activity': 'Comisionado', 'batch_count': 68}, {'resource': 'VS', 'activity': 'Carga L+D liberada', 'batch_count': 66}, {'resource': 'MAA', 'activity': 'Montaje', 'batch_count': 66}, {'resource': 'SP', 'activity': 'Carga L+D iniciada', 'batch_count': 65}, {'resource': 'SM', 'activity': 'Comisionado', 'batch_count': 65}, {'resource': 'VS', 'activity': 'Carga de esterilizador liberada', 'batch_count': 65}, {'resource': 'MAA', 'activity': 'Producción  montada', 'batch_count': 65}, {'resource': 'SP', 'activity': 'Composición de cargas', 'batch_count': 64}, {'resource': 'CM', 'activity': 'Comisionado', 'batch_count': 62}, {'resource': 'SP', 'activity': 'Carga L+D liberada', 'batch_count': 60}, {'resource': 'ML', 'activity': 'Carga L+D liberada', 'batch_count': 58}, {'resource': 'SP', 'activity': 'Entrada Material Sucio', 'batch_count': 57}, {'resource': 'LI', 'activity': 'Comisionado', 'batch_count': 57}, {'resource': 'CLE', 'activity': 'Cargado en carro  L+D', 'batch_count': 57}, {'resource': 'VA', 'activity': 'Composición de cargas', 'batch_count': 52}, {'resource': 'VS', 'activity': 'Comisionado', 'batch_count': 51}, {'resource': 'LI', 'activity': 'Composición de cargas', 'batch_count': 50}, {'resource': 'MAA', 'activity': 'Cargado en carro  L+D', 'batch_count': 50}, {'resource': 'ML', 'activity': 'Carga de esterilizador liberada', 'batch_count': 47}, {'resource': 'CLE', 'activity': 'Comisionado', 'batch_count': 47}, {'resource': 'VA', 'activity': 'Carga L+D liberada', 'batch_count': 43}, {'resource': 'SP', 'activity': 'Carga de esterilizador liberada', 'batch_count': 42}, {'resource': 'ML', 'activity': 'Comisionado', 'batch_count': 42}, {'resource': 'MR', 'activity': 'Carga L+D liberada', 'batch_count': 41}, {'resource': 'MAA', 'activity': 'Carga L+D iniciada', 'batch_count': 40}, {'resource': 'MCE', 'activity': 'Entrada Material Sucio', 'batch_count': 37}, {'resource': 'MR', 'activity': 'Carga de esterilizador liberada', 'batch_count': 37}, {'resource': 'LI', 'activity': 'Carga de esterilizador liberada', 'batch_count': 32}, {'resource': 'CLE', 'activity': 'Carga L+D iniciada', 'batch_count': 32}, {'resource': 'MR', 'activity': 'Composición de cargas', 'batch_count': 30}, {'resource': 'CLE', 'activity': 'Carga de esterilizador liberada', 'batch_count': 29}, {'resource': 'ML', 'activity': 'Carga L+D iniciada', 'batch_count': 25}, {'resource': 'ML', 'activity': 'Entrada Material Sucio', 'batch_count': 25}, {'resource': 'MAA', 'activity': 'Entrada Material Sucio', 'batch_count': 25}, {'resource': 'CLE', 'activity': 'Entrada Material Sucio', 'batch_count': 15}, {'resource': 'MAA', 'activity': 'Comisionado', 'batch_count': 14}, {'resource': 'MAA', 'activity': 'Carga de esterilizador liberada', 'batch_count': 11}, {'resource': 'MAA', 'activity': 'Carga L+D liberada', 'batch_count': 10}, {'resource': 'MAA', 'activity': 'Composición de cargas', 'batch_count': 9}, {'resource': 'DF', 'activity': 'Montaje', 'batch_count': 7}, {'resource': 'MGP', 'activity': 'Montaje', 'batch_count': 6}, {'resource': 'MGP', 'activity': 'Producción  montada', 'batch_count': 3}, {'resource': 'DF', 'activity': 'Producción  montada', 'batch_count': 3}]\n"
     ]
    },
    {
     "name": "stderr",
     "output_type": "stream",
     "text": [
      "/Library/Frameworks/Python.framework/Versions/3.11/lib/python3.11/site-packages/plotly/express/_core.py:2065: FutureWarning:\n",
      "\n",
      "When grouping with a length-1 list-like, you will need to pass a length-1 tuple to get_group in a future version of pandas. Pass `(name,)` instead of `name` to silence this warning.\n",
      "\n"
     ]
    },
    {
     "data": {
      "application/vnd.plotly.v1+json": {
       "config": {
        "plotlyServerURL": "https://plot.ly"
       },
       "data": [
        {
         "alignmentgroup": "True",
         "hovertemplate": "color=Producción  montada<br>Resource=%{x}<br>BatchInstance Count=%{y}<extra></extra>",
         "legendgroup": "Producción  montada",
         "marker": {
          "color": "olive",
          "pattern": {
           "shape": ""
          }
         },
         "name": "Producción  montada",
         "offsetgroup": "Producción  montada",
         "orientation": "v",
         "showlegend": true,
         "textposition": "outside",
         "texttemplate": "%{y}",
         "type": "bar",
         "x": [
          "MCE",
          "SM",
          "PN",
          "ER",
          "AV",
          "PG",
          "EH",
          "BM",
          "CM",
          "VS",
          "MMF",
          "ML",
          "CLE",
          "SP",
          "VA",
          "LI",
          "MR",
          "MAA",
          "MGP",
          "DF"
         ],
         "xaxis": "x",
         "y": [
          2308,
          1725,
          1712,
          1543,
          1370,
          1247,
          1205,
          1161,
          887,
          873,
          811,
          797,
          711,
          589,
          383,
          301,
          203,
          65,
          3,
          3
         ],
         "yaxis": "y"
        },
        {
         "alignmentgroup": "True",
         "hovertemplate": "color=Montaje<br>Resource=%{x}<br>BatchInstance Count=%{y}<extra></extra>",
         "legendgroup": "Montaje",
         "marker": {
          "color": "green",
          "pattern": {
           "shape": ""
          }
         },
         "name": "Montaje",
         "offsetgroup": "Montaje",
         "orientation": "v",
         "showlegend": true,
         "textposition": "outside",
         "texttemplate": "%{y}",
         "type": "bar",
         "x": [
          "MCE",
          "SM",
          "PN",
          "ER",
          "AV",
          "PG",
          "BM",
          "EH",
          "CM",
          "VS",
          "MMF",
          "ML",
          "CLE",
          "SP",
          "VA",
          "LI",
          "MR",
          "MAA",
          "DF",
          "MGP"
         ],
         "xaxis": "x",
         "y": [
          2245,
          1737,
          1696,
          1550,
          1373,
          1238,
          1195,
          1191,
          897,
          880,
          809,
          804,
          729,
          593,
          405,
          304,
          207,
          66,
          7,
          6
         ],
         "yaxis": "y"
        },
        {
         "alignmentgroup": "True",
         "hovertemplate": "color=Cargado en carro  L+D<br>Resource=%{x}<br>BatchInstance Count=%{y}<extra></extra>",
         "legendgroup": "Cargado en carro  L+D",
         "marker": {
          "color": "blue",
          "pattern": {
           "shape": ""
          }
         },
         "name": "Cargado en carro  L+D",
         "offsetgroup": "Cargado en carro  L+D",
         "orientation": "v",
         "showlegend": true,
         "textposition": "outside",
         "texttemplate": "%{y}",
         "type": "bar",
         "x": [
          "LI",
          "MR",
          "ER",
          "EH",
          "BM",
          "PN",
          "CM",
          "PG",
          "VS",
          "AV",
          "MMF",
          "SM",
          "VA",
          "SP",
          "ML",
          "MCE",
          "CLE",
          "MAA"
         ],
         "xaxis": "x",
         "y": [
          754,
          692,
          628,
          538,
          523,
          481,
          458,
          424,
          400,
          371,
          353,
          328,
          280,
          154,
          96,
          74,
          57,
          50
         ],
         "yaxis": "y"
        },
        {
         "alignmentgroup": "True",
         "hovertemplate": "color=Composición de cargas<br>Resource=%{x}<br>BatchInstance Count=%{y}<extra></extra>",
         "legendgroup": "Composición de cargas",
         "marker": {
          "color": "purple",
          "pattern": {
           "shape": ""
          }
         },
         "name": "Composición de cargas",
         "offsetgroup": "Composición de cargas",
         "orientation": "v",
         "showlegend": true,
         "textposition": "outside",
         "texttemplate": "%{y}",
         "type": "bar",
         "x": [
          "MCE",
          "SM",
          "PN",
          "ER",
          "BM",
          "PG",
          "AV",
          "CM",
          "EH",
          "VS",
          "MMF",
          "ML",
          "CLE",
          "SP",
          "VA",
          "LI",
          "MR",
          "MAA"
         ],
         "xaxis": "x",
         "y": [
          296,
          240,
          192,
          184,
          168,
          163,
          149,
          137,
          130,
          100,
          98,
          90,
          78,
          64,
          52,
          50,
          30,
          9
         ],
         "yaxis": "y"
        },
        {
         "alignmentgroup": "True",
         "hovertemplate": "color=Carga L+D liberada<br>Resource=%{x}<br>BatchInstance Count=%{y}<extra></extra>",
         "legendgroup": "Carga L+D liberada",
         "marker": {
          "color": "orange",
          "pattern": {
           "shape": ""
          }
         },
         "name": "Carga L+D liberada",
         "offsetgroup": "Carga L+D liberada",
         "orientation": "v",
         "showlegend": true,
         "textposition": "outside",
         "texttemplate": "%{y}",
         "type": "bar",
         "x": [
          "MCE",
          "ER",
          "SM",
          "PN",
          "EH",
          "BM",
          "MMF",
          "PG",
          "AV",
          "CM",
          "LI",
          "CLE",
          "VS",
          "SP",
          "ML",
          "VA",
          "MR",
          "MAA"
         ],
         "xaxis": "x",
         "y": [
          243,
          182,
          145,
          137,
          132,
          130,
          110,
          98,
          98,
          88,
          78,
          71,
          66,
          60,
          58,
          43,
          41,
          10
         ],
         "yaxis": "y"
        },
        {
         "alignmentgroup": "True",
         "hovertemplate": "color=Entrada Material Sucio<br>Resource=%{x}<br>BatchInstance Count=%{y}<extra></extra>",
         "legendgroup": "Entrada Material Sucio",
         "marker": {
          "color": "grey",
          "pattern": {
           "shape": ""
          }
         },
         "name": "Entrada Material Sucio",
         "offsetgroup": "Entrada Material Sucio",
         "orientation": "v",
         "showlegend": true,
         "textposition": "outside",
         "texttemplate": "%{y}",
         "type": "bar",
         "x": [
          "MR",
          "LI",
          "EH",
          "ER",
          "BM",
          "VS",
          "CM",
          "MMF",
          "PG",
          "SM",
          "AV",
          "VA",
          "PN",
          "SP",
          "MCE",
          "ML",
          "MAA",
          "CLE"
         ],
         "xaxis": "x",
         "y": [
          241,
          209,
          208,
          200,
          165,
          151,
          145,
          122,
          113,
          112,
          103,
          100,
          100,
          57,
          37,
          25,
          25,
          15
         ],
         "yaxis": "y"
        },
        {
         "alignmentgroup": "True",
         "hovertemplate": "color=Carga L+D iniciada<br>Resource=%{x}<br>BatchInstance Count=%{y}<extra></extra>",
         "legendgroup": "Carga L+D iniciada",
         "marker": {
          "color": "black",
          "pattern": {
           "shape": ""
          }
         },
         "name": "Carga L+D iniciada",
         "offsetgroup": "Carga L+D iniciada",
         "orientation": "v",
         "showlegend": true,
         "textposition": "outside",
         "texttemplate": "%{y}",
         "type": "bar",
         "x": [
          "EH",
          "ER",
          "LI",
          "BM",
          "MR",
          "SM",
          "PG",
          "CM",
          "PN",
          "VS",
          "AV",
          "VA",
          "MMF",
          "MCE",
          "SP",
          "MAA",
          "CLE",
          "ML"
         ],
         "xaxis": "x",
         "y": [
          234,
          223,
          220,
          208,
          181,
          167,
          161,
          161,
          135,
          130,
          127,
          107,
          99,
          71,
          65,
          40,
          32,
          25
         ],
         "yaxis": "y"
        },
        {
         "alignmentgroup": "True",
         "hovertemplate": "color=Carga de esterilizador liberada<br>Resource=%{x}<br>BatchInstance Count=%{y}<extra></extra>",
         "legendgroup": "Carga de esterilizador liberada",
         "marker": {
          "color": "lime",
          "pattern": {
           "shape": ""
          }
         },
         "name": "Carga de esterilizador liberada",
         "offsetgroup": "Carga de esterilizador liberada",
         "orientation": "v",
         "showlegend": true,
         "textposition": "outside",
         "texttemplate": "%{y}",
         "type": "bar",
         "x": [
          "MCE",
          "PN",
          "ER",
          "PG",
          "EH",
          "CM",
          "AV",
          "SM",
          "BM",
          "MMF",
          "VA",
          "VS",
          "ML",
          "SP",
          "MR",
          "LI",
          "CLE",
          "MAA"
         ],
         "xaxis": "x",
         "y": [
          160,
          123,
          111,
          105,
          101,
          99,
          96,
          91,
          90,
          87,
          81,
          65,
          47,
          42,
          37,
          32,
          29,
          11
         ],
         "yaxis": "y"
        },
        {
         "alignmentgroup": "True",
         "hovertemplate": "color=Comisionado<br>Resource=%{x}<br>BatchInstance Count=%{y}<extra></extra>",
         "legendgroup": "Comisionado",
         "marker": {
          "color": "chocolate",
          "pattern": {
           "shape": ""
          }
         },
         "name": "Comisionado",
         "offsetgroup": "Comisionado",
         "orientation": "v",
         "showlegend": true,
         "textposition": "outside",
         "texttemplate": "%{y}",
         "type": "bar",
         "x": [
          "ER",
          "MCE",
          "AV",
          "BM",
          "EH",
          "MMF",
          "PN",
          "MR",
          "VA",
          "PG",
          "SM",
          "CM",
          "LI",
          "VS",
          "CLE",
          "ML",
          "MAA"
         ],
         "xaxis": "x",
         "y": [
          135,
          116,
          106,
          83,
          83,
          76,
          74,
          68,
          68,
          68,
          65,
          62,
          57,
          51,
          47,
          42,
          14
         ],
         "yaxis": "y"
        }
       ],
       "layout": {
        "barmode": "relative",
        "height": 800,
        "legend": {
         "title": {
          "text": "color"
         },
         "tracegroupgap": 0
        },
        "showlegend": true,
        "template": {
         "data": {
          "bar": [
           {
            "error_x": {
             "color": "#2a3f5f"
            },
            "error_y": {
             "color": "#2a3f5f"
            },
            "marker": {
             "line": {
              "color": "#E5ECF6",
              "width": 0.5
             },
             "pattern": {
              "fillmode": "overlay",
              "size": 10,
              "solidity": 0.2
             }
            },
            "type": "bar"
           }
          ],
          "barpolar": [
           {
            "marker": {
             "line": {
              "color": "#E5ECF6",
              "width": 0.5
             },
             "pattern": {
              "fillmode": "overlay",
              "size": 10,
              "solidity": 0.2
             }
            },
            "type": "barpolar"
           }
          ],
          "carpet": [
           {
            "aaxis": {
             "endlinecolor": "#2a3f5f",
             "gridcolor": "white",
             "linecolor": "white",
             "minorgridcolor": "white",
             "startlinecolor": "#2a3f5f"
            },
            "baxis": {
             "endlinecolor": "#2a3f5f",
             "gridcolor": "white",
             "linecolor": "white",
             "minorgridcolor": "white",
             "startlinecolor": "#2a3f5f"
            },
            "type": "carpet"
           }
          ],
          "choropleth": [
           {
            "colorbar": {
             "outlinewidth": 0,
             "ticks": ""
            },
            "type": "choropleth"
           }
          ],
          "contour": [
           {
            "colorbar": {
             "outlinewidth": 0,
             "ticks": ""
            },
            "colorscale": [
             [
              0,
              "#0d0887"
             ],
             [
              0.1111111111111111,
              "#46039f"
             ],
             [
              0.2222222222222222,
              "#7201a8"
             ],
             [
              0.3333333333333333,
              "#9c179e"
             ],
             [
              0.4444444444444444,
              "#bd3786"
             ],
             [
              0.5555555555555556,
              "#d8576b"
             ],
             [
              0.6666666666666666,
              "#ed7953"
             ],
             [
              0.7777777777777778,
              "#fb9f3a"
             ],
             [
              0.8888888888888888,
              "#fdca26"
             ],
             [
              1,
              "#f0f921"
             ]
            ],
            "type": "contour"
           }
          ],
          "contourcarpet": [
           {
            "colorbar": {
             "outlinewidth": 0,
             "ticks": ""
            },
            "type": "contourcarpet"
           }
          ],
          "heatmap": [
           {
            "colorbar": {
             "outlinewidth": 0,
             "ticks": ""
            },
            "colorscale": [
             [
              0,
              "#0d0887"
             ],
             [
              0.1111111111111111,
              "#46039f"
             ],
             [
              0.2222222222222222,
              "#7201a8"
             ],
             [
              0.3333333333333333,
              "#9c179e"
             ],
             [
              0.4444444444444444,
              "#bd3786"
             ],
             [
              0.5555555555555556,
              "#d8576b"
             ],
             [
              0.6666666666666666,
              "#ed7953"
             ],
             [
              0.7777777777777778,
              "#fb9f3a"
             ],
             [
              0.8888888888888888,
              "#fdca26"
             ],
             [
              1,
              "#f0f921"
             ]
            ],
            "type": "heatmap"
           }
          ],
          "heatmapgl": [
           {
            "colorbar": {
             "outlinewidth": 0,
             "ticks": ""
            },
            "colorscale": [
             [
              0,
              "#0d0887"
             ],
             [
              0.1111111111111111,
              "#46039f"
             ],
             [
              0.2222222222222222,
              "#7201a8"
             ],
             [
              0.3333333333333333,
              "#9c179e"
             ],
             [
              0.4444444444444444,
              "#bd3786"
             ],
             [
              0.5555555555555556,
              "#d8576b"
             ],
             [
              0.6666666666666666,
              "#ed7953"
             ],
             [
              0.7777777777777778,
              "#fb9f3a"
             ],
             [
              0.8888888888888888,
              "#fdca26"
             ],
             [
              1,
              "#f0f921"
             ]
            ],
            "type": "heatmapgl"
           }
          ],
          "histogram": [
           {
            "marker": {
             "pattern": {
              "fillmode": "overlay",
              "size": 10,
              "solidity": 0.2
             }
            },
            "type": "histogram"
           }
          ],
          "histogram2d": [
           {
            "colorbar": {
             "outlinewidth": 0,
             "ticks": ""
            },
            "colorscale": [
             [
              0,
              "#0d0887"
             ],
             [
              0.1111111111111111,
              "#46039f"
             ],
             [
              0.2222222222222222,
              "#7201a8"
             ],
             [
              0.3333333333333333,
              "#9c179e"
             ],
             [
              0.4444444444444444,
              "#bd3786"
             ],
             [
              0.5555555555555556,
              "#d8576b"
             ],
             [
              0.6666666666666666,
              "#ed7953"
             ],
             [
              0.7777777777777778,
              "#fb9f3a"
             ],
             [
              0.8888888888888888,
              "#fdca26"
             ],
             [
              1,
              "#f0f921"
             ]
            ],
            "type": "histogram2d"
           }
          ],
          "histogram2dcontour": [
           {
            "colorbar": {
             "outlinewidth": 0,
             "ticks": ""
            },
            "colorscale": [
             [
              0,
              "#0d0887"
             ],
             [
              0.1111111111111111,
              "#46039f"
             ],
             [
              0.2222222222222222,
              "#7201a8"
             ],
             [
              0.3333333333333333,
              "#9c179e"
             ],
             [
              0.4444444444444444,
              "#bd3786"
             ],
             [
              0.5555555555555556,
              "#d8576b"
             ],
             [
              0.6666666666666666,
              "#ed7953"
             ],
             [
              0.7777777777777778,
              "#fb9f3a"
             ],
             [
              0.8888888888888888,
              "#fdca26"
             ],
             [
              1,
              "#f0f921"
             ]
            ],
            "type": "histogram2dcontour"
           }
          ],
          "mesh3d": [
           {
            "colorbar": {
             "outlinewidth": 0,
             "ticks": ""
            },
            "type": "mesh3d"
           }
          ],
          "parcoords": [
           {
            "line": {
             "colorbar": {
              "outlinewidth": 0,
              "ticks": ""
             }
            },
            "type": "parcoords"
           }
          ],
          "pie": [
           {
            "automargin": true,
            "type": "pie"
           }
          ],
          "scatter": [
           {
            "fillpattern": {
             "fillmode": "overlay",
             "size": 10,
             "solidity": 0.2
            },
            "type": "scatter"
           }
          ],
          "scatter3d": [
           {
            "line": {
             "colorbar": {
              "outlinewidth": 0,
              "ticks": ""
             }
            },
            "marker": {
             "colorbar": {
              "outlinewidth": 0,
              "ticks": ""
             }
            },
            "type": "scatter3d"
           }
          ],
          "scattercarpet": [
           {
            "marker": {
             "colorbar": {
              "outlinewidth": 0,
              "ticks": ""
             }
            },
            "type": "scattercarpet"
           }
          ],
          "scattergeo": [
           {
            "marker": {
             "colorbar": {
              "outlinewidth": 0,
              "ticks": ""
             }
            },
            "type": "scattergeo"
           }
          ],
          "scattergl": [
           {
            "marker": {
             "colorbar": {
              "outlinewidth": 0,
              "ticks": ""
             }
            },
            "type": "scattergl"
           }
          ],
          "scattermapbox": [
           {
            "marker": {
             "colorbar": {
              "outlinewidth": 0,
              "ticks": ""
             }
            },
            "type": "scattermapbox"
           }
          ],
          "scatterpolar": [
           {
            "marker": {
             "colorbar": {
              "outlinewidth": 0,
              "ticks": ""
             }
            },
            "type": "scatterpolar"
           }
          ],
          "scatterpolargl": [
           {
            "marker": {
             "colorbar": {
              "outlinewidth": 0,
              "ticks": ""
             }
            },
            "type": "scatterpolargl"
           }
          ],
          "scatterternary": [
           {
            "marker": {
             "colorbar": {
              "outlinewidth": 0,
              "ticks": ""
             }
            },
            "type": "scatterternary"
           }
          ],
          "surface": [
           {
            "colorbar": {
             "outlinewidth": 0,
             "ticks": ""
            },
            "colorscale": [
             [
              0,
              "#0d0887"
             ],
             [
              0.1111111111111111,
              "#46039f"
             ],
             [
              0.2222222222222222,
              "#7201a8"
             ],
             [
              0.3333333333333333,
              "#9c179e"
             ],
             [
              0.4444444444444444,
              "#bd3786"
             ],
             [
              0.5555555555555556,
              "#d8576b"
             ],
             [
              0.6666666666666666,
              "#ed7953"
             ],
             [
              0.7777777777777778,
              "#fb9f3a"
             ],
             [
              0.8888888888888888,
              "#fdca26"
             ],
             [
              1,
              "#f0f921"
             ]
            ],
            "type": "surface"
           }
          ],
          "table": [
           {
            "cells": {
             "fill": {
              "color": "#EBF0F8"
             },
             "line": {
              "color": "white"
             }
            },
            "header": {
             "fill": {
              "color": "#C8D4E3"
             },
             "line": {
              "color": "white"
             }
            },
            "type": "table"
           }
          ]
         },
         "layout": {
          "annotationdefaults": {
           "arrowcolor": "#2a3f5f",
           "arrowhead": 0,
           "arrowwidth": 1
          },
          "autotypenumbers": "strict",
          "coloraxis": {
           "colorbar": {
            "outlinewidth": 0,
            "ticks": ""
           }
          },
          "colorscale": {
           "diverging": [
            [
             0,
             "#8e0152"
            ],
            [
             0.1,
             "#c51b7d"
            ],
            [
             0.2,
             "#de77ae"
            ],
            [
             0.3,
             "#f1b6da"
            ],
            [
             0.4,
             "#fde0ef"
            ],
            [
             0.5,
             "#f7f7f7"
            ],
            [
             0.6,
             "#e6f5d0"
            ],
            [
             0.7,
             "#b8e186"
            ],
            [
             0.8,
             "#7fbc41"
            ],
            [
             0.9,
             "#4d9221"
            ],
            [
             1,
             "#276419"
            ]
           ],
           "sequential": [
            [
             0,
             "#0d0887"
            ],
            [
             0.1111111111111111,
             "#46039f"
            ],
            [
             0.2222222222222222,
             "#7201a8"
            ],
            [
             0.3333333333333333,
             "#9c179e"
            ],
            [
             0.4444444444444444,
             "#bd3786"
            ],
            [
             0.5555555555555556,
             "#d8576b"
            ],
            [
             0.6666666666666666,
             "#ed7953"
            ],
            [
             0.7777777777777778,
             "#fb9f3a"
            ],
            [
             0.8888888888888888,
             "#fdca26"
            ],
            [
             1,
             "#f0f921"
            ]
           ],
           "sequentialminus": [
            [
             0,
             "#0d0887"
            ],
            [
             0.1111111111111111,
             "#46039f"
            ],
            [
             0.2222222222222222,
             "#7201a8"
            ],
            [
             0.3333333333333333,
             "#9c179e"
            ],
            [
             0.4444444444444444,
             "#bd3786"
            ],
            [
             0.5555555555555556,
             "#d8576b"
            ],
            [
             0.6666666666666666,
             "#ed7953"
            ],
            [
             0.7777777777777778,
             "#fb9f3a"
            ],
            [
             0.8888888888888888,
             "#fdca26"
            ],
            [
             1,
             "#f0f921"
            ]
           ]
          },
          "colorway": [
           "#636efa",
           "#EF553B",
           "#00cc96",
           "#ab63fa",
           "#FFA15A",
           "#19d3f3",
           "#FF6692",
           "#B6E880",
           "#FF97FF",
           "#FECB52"
          ],
          "font": {
           "color": "#2a3f5f"
          },
          "geo": {
           "bgcolor": "white",
           "lakecolor": "white",
           "landcolor": "#E5ECF6",
           "showlakes": true,
           "showland": true,
           "subunitcolor": "white"
          },
          "hoverlabel": {
           "align": "left"
          },
          "hovermode": "closest",
          "mapbox": {
           "style": "light"
          },
          "paper_bgcolor": "white",
          "plot_bgcolor": "#E5ECF6",
          "polar": {
           "angularaxis": {
            "gridcolor": "white",
            "linecolor": "white",
            "ticks": ""
           },
           "bgcolor": "#E5ECF6",
           "radialaxis": {
            "gridcolor": "white",
            "linecolor": "white",
            "ticks": ""
           }
          },
          "scene": {
           "xaxis": {
            "backgroundcolor": "#E5ECF6",
            "gridcolor": "white",
            "gridwidth": 2,
            "linecolor": "white",
            "showbackground": true,
            "ticks": "",
            "zerolinecolor": "white"
           },
           "yaxis": {
            "backgroundcolor": "#E5ECF6",
            "gridcolor": "white",
            "gridwidth": 2,
            "linecolor": "white",
            "showbackground": true,
            "ticks": "",
            "zerolinecolor": "white"
           },
           "zaxis": {
            "backgroundcolor": "#E5ECF6",
            "gridcolor": "white",
            "gridwidth": 2,
            "linecolor": "white",
            "showbackground": true,
            "ticks": "",
            "zerolinecolor": "white"
           }
          },
          "shapedefaults": {
           "line": {
            "color": "#2a3f5f"
           }
          },
          "ternary": {
           "aaxis": {
            "gridcolor": "white",
            "linecolor": "white",
            "ticks": ""
           },
           "baxis": {
            "gridcolor": "white",
            "linecolor": "white",
            "ticks": ""
           },
           "bgcolor": "#E5ECF6",
           "caxis": {
            "gridcolor": "white",
            "linecolor": "white",
            "ticks": ""
           }
          },
          "title": {
           "x": 0.05
          },
          "xaxis": {
           "automargin": true,
           "gridcolor": "white",
           "linecolor": "white",
           "ticks": "",
           "title": {
            "standoff": 15
           },
           "zerolinecolor": "white",
           "zerolinewidth": 2
          },
          "yaxis": {
           "automargin": true,
           "gridcolor": "white",
           "linecolor": "white",
           "ticks": "",
           "title": {
            "standoff": 15
           },
           "zerolinecolor": "white",
           "zerolinewidth": 2
          }
         }
        },
        "title": {
         "text": "BatchInstances per Resource and Activity"
        },
        "uniformtext": {
         "minsize": 7,
         "mode": "hide"
        },
        "width": 1300,
        "xaxis": {
         "anchor": "y",
         "domain": [
          0,
          1
         ],
         "tickangle": -45,
         "tickfont": {
          "size": 12
         },
         "title": {
          "text": "Resource"
         }
        },
        "yaxis": {
         "anchor": "x",
         "domain": [
          0,
          1
         ],
         "title": {
          "text": "BatchInstance Count"
         }
        }
       }
      }
     },
     "metadata": {},
     "output_type": "display_data"
    }
   ],
   "source": [
    "cypher_batches_per_resource = \"\"\"\n",
    "    MATCH (u:Resource)-[:CORR]->(n:BatchInstance)\n",
    "    RETURN u.sysId AS resource, n.activity as activity, count(n) AS batch_count\n",
    "    ORDER BY batch_count DESC\n",
    "\"\"\"\n",
    "\n",
    "\n",
    "def batches_per_resource(uri, username, password, cypher_batches_per_resource):\n",
    "    driver = GraphDatabase.driver(uri, auth=(username, password))\n",
    "    with driver.session() as session:\n",
    "        result = session.run(cypher_batches_per_resource)\n",
    "        data = result.data()\n",
    "        return data\n",
    "    \n",
    "results_batches_per_resource = batches_per_resource(uri, username, password, cypher_batches_per_resource)\n",
    "print(results_batches_per_resource) \n",
    "\n",
    "resource = [str(row['resource']) for row in results_batches_per_resource]\n",
    "batch_counts = [row['batch_count'] for row in results_batches_per_resource]\n",
    "activity = [str(row['activity']) for row in results_batches_per_resource]\n",
    "\n",
    "fig = px.bar(x=resource, y=batch_counts, title='BatchInstances per Resource and Activity', labels={'x':'Resource', 'y':'BatchInstance Count'}, color=activity, color_discrete_sequence=['olive', 'green', 'blue', 'purple', 'orange', 'grey', 'black', 'lime', 'chocolate' ])\n",
    "\n",
    "fig.update_layout(\n",
    "    xaxis_tickangle=-45,\n",
    "    xaxis_tickfont_size=12,\n",
    "    yaxis_title='BatchInstance Count',\n",
    "    xaxis_title='Resource',\n",
    "    uniformtext_minsize=7,\n",
    "    uniformtext_mode='hide',\n",
    "    width=1300, \n",
    "    height=800,\n",
    "    showlegend=True \n",
    ")\n",
    "\n",
    "fig.update_traces(texttemplate='%{y}', textposition='outside')\n",
    "\n",
    "fig.show()\n",
    "\n",
    "#pio.write_image(fig, 'batches_per_activity_and_res.png', width=800, height=400, scale=3)"
   ]
  },
  {
   "cell_type": "markdown",
   "id": "6572b512",
   "metadata": {},
   "source": [
    "Limitations"
   ]
  },
  {
   "cell_type": "markdown",
   "id": "dd7d9afc",
   "metadata": {},
   "source": [
    "Iterative behaviour"
   ]
  },
  {
   "cell_type": "code",
   "execution_count": 18,
   "id": "61af638e",
   "metadata": {},
   "outputs": [],
   "source": [
    "cypher_limit_iterat = \"\"\"\n",
    "    MATCH (n:BatchInstance)-[r:DF_BATCH_RESOURCE]->(n1:BatchInstance)-[r1:DF_BATCH_RESOURCE]->(n2:BatchInstance)\n",
    "\n",
    "    WHERE n.activity=n2.activity \n",
    "    and n.activity<>n1.activity \n",
    "    and n.resource_sys_id=n1.resource_sys_id \n",
    "    and n1.resource_sys_id=n2.resource_sys_id \n",
    "    and (duration.inSeconds(n.earliest_timestamp, n2.earliest_timestamp).seconds)<300\n",
    "\n",
    "    RETURN n.resource_sys_id, n.activity, n.earliest_timestamp, n1.activity, n1.earliest_timestamp, n2.activity, n2.earliest_timestamp\n",
    "\"\"\"\n",
    "\n",
    "def limit_iterat(uri, username, password, cypher_limit_iterat):\n",
    "    driver = GraphDatabase.driver(uri, auth=(username, password))\n",
    "    with driver.session() as session:\n",
    "        result = session.run(cypher_limit_iterat)\n",
    "        data = result.data()\n",
    "        return data\n",
    "    \n",
    "\n",
    "results_limit_iterat = limit_iterat(uri, username, password, cypher_limit_iterat)\n"
   ]
  },
  {
   "cell_type": "code",
   "execution_count": 19,
   "id": "eb99abe4",
   "metadata": {},
   "outputs": [
    {
     "data": {
      "application/vnd.plotly.v1+json": {
       "config": {
        "plotlyServerURL": "https://plot.ly"
       },
       "data": [
        {
         "alignmentgroup": "True",
         "hovertemplate": "Activity Sequence=%{x}<br>Frequency=%{y}<br>text=%{text}<extra></extra>",
         "legendgroup": "",
         "marker": {
          "color": "#636efa",
          "pattern": {
           "shape": ""
          }
         },
         "name": "",
         "offsetgroup": "",
         "orientation": "v",
         "showlegend": false,
         "text": [
          4999,
          4844,
          176,
          107,
          25,
          21,
          17,
          17,
          13,
          12,
          7,
          7,
          5,
          4,
          4,
          3,
          2,
          2,
          2,
          2,
          2,
          1,
          1,
          1,
          1,
          1
         ],
         "textposition": "auto",
         "type": "bar",
         "x": [
          "Producción  montada -> Montaje -> Producción  montada",
          "Montaje -> Producción  montada -> Montaje",
          "Cargado en carro  L+D -> Carga L+D iniciada -> Cargado en carro  L+D",
          "Carga L+D iniciada -> Cargado en carro  L+D -> Carga L+D iniciada",
          "Cargado en carro  L+D -> Entrada Material Sucio -> Cargado en carro  L+D",
          "Montaje -> Carga L+D liberada -> Montaje",
          "Carga L+D liberada -> Montaje -> Carga L+D liberada",
          "Producción  montada -> Carga L+D liberada -> Producción  montada",
          "Composición de cargas -> Producción  montada -> Composición de cargas",
          "Entrada Material Sucio -> Cargado en carro  L+D -> Entrada Material Sucio",
          "Montaje -> Composición de cargas -> Montaje",
          "Composición de cargas -> Montaje -> Composición de cargas",
          "Comisionado -> Carga de esterilizador liberada -> Comisionado",
          "Producción  montada -> Composición de cargas -> Producción  montada",
          "Composición de cargas -> Carga de esterilizador liberada -> Composición de cargas",
          "Entrada Material Sucio -> Carga L+D iniciada -> Entrada Material Sucio",
          "Carga de esterilizador liberada -> Composición de cargas -> Carga de esterilizador liberada",
          "Carga L+D liberada -> Producción  montada -> Carga L+D liberada",
          "Carga L+D iniciada -> Entrada Material Sucio -> Carga L+D iniciada",
          "Producción  montada -> Cargado en carro  L+D -> Producción  montada",
          "Carga de esterilizador liberada -> Comisionado -> Carga de esterilizador liberada",
          "Cargado en carro  L+D -> Composición de cargas -> Cargado en carro  L+D",
          "Producción  montada -> Carga L+D iniciada -> Producción  montada",
          "Carga de esterilizador liberada -> Montaje -> Carga de esterilizador liberada",
          "Cargado en carro  L+D -> Comisionado -> Cargado en carro  L+D",
          "Cargado en carro  L+D -> Montaje -> Cargado en carro  L+D"
         ],
         "xaxis": "x",
         "y": [
          4999,
          4844,
          176,
          107,
          25,
          21,
          17,
          17,
          13,
          12,
          7,
          7,
          5,
          4,
          4,
          3,
          2,
          2,
          2,
          2,
          2,
          1,
          1,
          1,
          1,
          1
         ],
         "yaxis": "y"
        }
       ],
       "layout": {
        "barmode": "relative",
        "height": 600,
        "legend": {
         "tracegroupgap": 0
        },
        "template": {
         "data": {
          "bar": [
           {
            "error_x": {
             "color": "#2a3f5f"
            },
            "error_y": {
             "color": "#2a3f5f"
            },
            "marker": {
             "line": {
              "color": "#E5ECF6",
              "width": 0.5
             },
             "pattern": {
              "fillmode": "overlay",
              "size": 10,
              "solidity": 0.2
             }
            },
            "type": "bar"
           }
          ],
          "barpolar": [
           {
            "marker": {
             "line": {
              "color": "#E5ECF6",
              "width": 0.5
             },
             "pattern": {
              "fillmode": "overlay",
              "size": 10,
              "solidity": 0.2
             }
            },
            "type": "barpolar"
           }
          ],
          "carpet": [
           {
            "aaxis": {
             "endlinecolor": "#2a3f5f",
             "gridcolor": "white",
             "linecolor": "white",
             "minorgridcolor": "white",
             "startlinecolor": "#2a3f5f"
            },
            "baxis": {
             "endlinecolor": "#2a3f5f",
             "gridcolor": "white",
             "linecolor": "white",
             "minorgridcolor": "white",
             "startlinecolor": "#2a3f5f"
            },
            "type": "carpet"
           }
          ],
          "choropleth": [
           {
            "colorbar": {
             "outlinewidth": 0,
             "ticks": ""
            },
            "type": "choropleth"
           }
          ],
          "contour": [
           {
            "colorbar": {
             "outlinewidth": 0,
             "ticks": ""
            },
            "colorscale": [
             [
              0,
              "#0d0887"
             ],
             [
              0.1111111111111111,
              "#46039f"
             ],
             [
              0.2222222222222222,
              "#7201a8"
             ],
             [
              0.3333333333333333,
              "#9c179e"
             ],
             [
              0.4444444444444444,
              "#bd3786"
             ],
             [
              0.5555555555555556,
              "#d8576b"
             ],
             [
              0.6666666666666666,
              "#ed7953"
             ],
             [
              0.7777777777777778,
              "#fb9f3a"
             ],
             [
              0.8888888888888888,
              "#fdca26"
             ],
             [
              1,
              "#f0f921"
             ]
            ],
            "type": "contour"
           }
          ],
          "contourcarpet": [
           {
            "colorbar": {
             "outlinewidth": 0,
             "ticks": ""
            },
            "type": "contourcarpet"
           }
          ],
          "heatmap": [
           {
            "colorbar": {
             "outlinewidth": 0,
             "ticks": ""
            },
            "colorscale": [
             [
              0,
              "#0d0887"
             ],
             [
              0.1111111111111111,
              "#46039f"
             ],
             [
              0.2222222222222222,
              "#7201a8"
             ],
             [
              0.3333333333333333,
              "#9c179e"
             ],
             [
              0.4444444444444444,
              "#bd3786"
             ],
             [
              0.5555555555555556,
              "#d8576b"
             ],
             [
              0.6666666666666666,
              "#ed7953"
             ],
             [
              0.7777777777777778,
              "#fb9f3a"
             ],
             [
              0.8888888888888888,
              "#fdca26"
             ],
             [
              1,
              "#f0f921"
             ]
            ],
            "type": "heatmap"
           }
          ],
          "heatmapgl": [
           {
            "colorbar": {
             "outlinewidth": 0,
             "ticks": ""
            },
            "colorscale": [
             [
              0,
              "#0d0887"
             ],
             [
              0.1111111111111111,
              "#46039f"
             ],
             [
              0.2222222222222222,
              "#7201a8"
             ],
             [
              0.3333333333333333,
              "#9c179e"
             ],
             [
              0.4444444444444444,
              "#bd3786"
             ],
             [
              0.5555555555555556,
              "#d8576b"
             ],
             [
              0.6666666666666666,
              "#ed7953"
             ],
             [
              0.7777777777777778,
              "#fb9f3a"
             ],
             [
              0.8888888888888888,
              "#fdca26"
             ],
             [
              1,
              "#f0f921"
             ]
            ],
            "type": "heatmapgl"
           }
          ],
          "histogram": [
           {
            "marker": {
             "pattern": {
              "fillmode": "overlay",
              "size": 10,
              "solidity": 0.2
             }
            },
            "type": "histogram"
           }
          ],
          "histogram2d": [
           {
            "colorbar": {
             "outlinewidth": 0,
             "ticks": ""
            },
            "colorscale": [
             [
              0,
              "#0d0887"
             ],
             [
              0.1111111111111111,
              "#46039f"
             ],
             [
              0.2222222222222222,
              "#7201a8"
             ],
             [
              0.3333333333333333,
              "#9c179e"
             ],
             [
              0.4444444444444444,
              "#bd3786"
             ],
             [
              0.5555555555555556,
              "#d8576b"
             ],
             [
              0.6666666666666666,
              "#ed7953"
             ],
             [
              0.7777777777777778,
              "#fb9f3a"
             ],
             [
              0.8888888888888888,
              "#fdca26"
             ],
             [
              1,
              "#f0f921"
             ]
            ],
            "type": "histogram2d"
           }
          ],
          "histogram2dcontour": [
           {
            "colorbar": {
             "outlinewidth": 0,
             "ticks": ""
            },
            "colorscale": [
             [
              0,
              "#0d0887"
             ],
             [
              0.1111111111111111,
              "#46039f"
             ],
             [
              0.2222222222222222,
              "#7201a8"
             ],
             [
              0.3333333333333333,
              "#9c179e"
             ],
             [
              0.4444444444444444,
              "#bd3786"
             ],
             [
              0.5555555555555556,
              "#d8576b"
             ],
             [
              0.6666666666666666,
              "#ed7953"
             ],
             [
              0.7777777777777778,
              "#fb9f3a"
             ],
             [
              0.8888888888888888,
              "#fdca26"
             ],
             [
              1,
              "#f0f921"
             ]
            ],
            "type": "histogram2dcontour"
           }
          ],
          "mesh3d": [
           {
            "colorbar": {
             "outlinewidth": 0,
             "ticks": ""
            },
            "type": "mesh3d"
           }
          ],
          "parcoords": [
           {
            "line": {
             "colorbar": {
              "outlinewidth": 0,
              "ticks": ""
             }
            },
            "type": "parcoords"
           }
          ],
          "pie": [
           {
            "automargin": true,
            "type": "pie"
           }
          ],
          "scatter": [
           {
            "fillpattern": {
             "fillmode": "overlay",
             "size": 10,
             "solidity": 0.2
            },
            "type": "scatter"
           }
          ],
          "scatter3d": [
           {
            "line": {
             "colorbar": {
              "outlinewidth": 0,
              "ticks": ""
             }
            },
            "marker": {
             "colorbar": {
              "outlinewidth": 0,
              "ticks": ""
             }
            },
            "type": "scatter3d"
           }
          ],
          "scattercarpet": [
           {
            "marker": {
             "colorbar": {
              "outlinewidth": 0,
              "ticks": ""
             }
            },
            "type": "scattercarpet"
           }
          ],
          "scattergeo": [
           {
            "marker": {
             "colorbar": {
              "outlinewidth": 0,
              "ticks": ""
             }
            },
            "type": "scattergeo"
           }
          ],
          "scattergl": [
           {
            "marker": {
             "colorbar": {
              "outlinewidth": 0,
              "ticks": ""
             }
            },
            "type": "scattergl"
           }
          ],
          "scattermapbox": [
           {
            "marker": {
             "colorbar": {
              "outlinewidth": 0,
              "ticks": ""
             }
            },
            "type": "scattermapbox"
           }
          ],
          "scatterpolar": [
           {
            "marker": {
             "colorbar": {
              "outlinewidth": 0,
              "ticks": ""
             }
            },
            "type": "scatterpolar"
           }
          ],
          "scatterpolargl": [
           {
            "marker": {
             "colorbar": {
              "outlinewidth": 0,
              "ticks": ""
             }
            },
            "type": "scatterpolargl"
           }
          ],
          "scatterternary": [
           {
            "marker": {
             "colorbar": {
              "outlinewidth": 0,
              "ticks": ""
             }
            },
            "type": "scatterternary"
           }
          ],
          "surface": [
           {
            "colorbar": {
             "outlinewidth": 0,
             "ticks": ""
            },
            "colorscale": [
             [
              0,
              "#0d0887"
             ],
             [
              0.1111111111111111,
              "#46039f"
             ],
             [
              0.2222222222222222,
              "#7201a8"
             ],
             [
              0.3333333333333333,
              "#9c179e"
             ],
             [
              0.4444444444444444,
              "#bd3786"
             ],
             [
              0.5555555555555556,
              "#d8576b"
             ],
             [
              0.6666666666666666,
              "#ed7953"
             ],
             [
              0.7777777777777778,
              "#fb9f3a"
             ],
             [
              0.8888888888888888,
              "#fdca26"
             ],
             [
              1,
              "#f0f921"
             ]
            ],
            "type": "surface"
           }
          ],
          "table": [
           {
            "cells": {
             "fill": {
              "color": "#EBF0F8"
             },
             "line": {
              "color": "white"
             }
            },
            "header": {
             "fill": {
              "color": "#C8D4E3"
             },
             "line": {
              "color": "white"
             }
            },
            "type": "table"
           }
          ]
         },
         "layout": {
          "annotationdefaults": {
           "arrowcolor": "#2a3f5f",
           "arrowhead": 0,
           "arrowwidth": 1
          },
          "autotypenumbers": "strict",
          "coloraxis": {
           "colorbar": {
            "outlinewidth": 0,
            "ticks": ""
           }
          },
          "colorscale": {
           "diverging": [
            [
             0,
             "#8e0152"
            ],
            [
             0.1,
             "#c51b7d"
            ],
            [
             0.2,
             "#de77ae"
            ],
            [
             0.3,
             "#f1b6da"
            ],
            [
             0.4,
             "#fde0ef"
            ],
            [
             0.5,
             "#f7f7f7"
            ],
            [
             0.6,
             "#e6f5d0"
            ],
            [
             0.7,
             "#b8e186"
            ],
            [
             0.8,
             "#7fbc41"
            ],
            [
             0.9,
             "#4d9221"
            ],
            [
             1,
             "#276419"
            ]
           ],
           "sequential": [
            [
             0,
             "#0d0887"
            ],
            [
             0.1111111111111111,
             "#46039f"
            ],
            [
             0.2222222222222222,
             "#7201a8"
            ],
            [
             0.3333333333333333,
             "#9c179e"
            ],
            [
             0.4444444444444444,
             "#bd3786"
            ],
            [
             0.5555555555555556,
             "#d8576b"
            ],
            [
             0.6666666666666666,
             "#ed7953"
            ],
            [
             0.7777777777777778,
             "#fb9f3a"
            ],
            [
             0.8888888888888888,
             "#fdca26"
            ],
            [
             1,
             "#f0f921"
            ]
           ],
           "sequentialminus": [
            [
             0,
             "#0d0887"
            ],
            [
             0.1111111111111111,
             "#46039f"
            ],
            [
             0.2222222222222222,
             "#7201a8"
            ],
            [
             0.3333333333333333,
             "#9c179e"
            ],
            [
             0.4444444444444444,
             "#bd3786"
            ],
            [
             0.5555555555555556,
             "#d8576b"
            ],
            [
             0.6666666666666666,
             "#ed7953"
            ],
            [
             0.7777777777777778,
             "#fb9f3a"
            ],
            [
             0.8888888888888888,
             "#fdca26"
            ],
            [
             1,
             "#f0f921"
            ]
           ]
          },
          "colorway": [
           "#636efa",
           "#EF553B",
           "#00cc96",
           "#ab63fa",
           "#FFA15A",
           "#19d3f3",
           "#FF6692",
           "#B6E880",
           "#FF97FF",
           "#FECB52"
          ],
          "font": {
           "color": "#2a3f5f"
          },
          "geo": {
           "bgcolor": "white",
           "lakecolor": "white",
           "landcolor": "#E5ECF6",
           "showlakes": true,
           "showland": true,
           "subunitcolor": "white"
          },
          "hoverlabel": {
           "align": "left"
          },
          "hovermode": "closest",
          "mapbox": {
           "style": "light"
          },
          "paper_bgcolor": "white",
          "plot_bgcolor": "#E5ECF6",
          "polar": {
           "angularaxis": {
            "gridcolor": "white",
            "linecolor": "white",
            "ticks": ""
           },
           "bgcolor": "#E5ECF6",
           "radialaxis": {
            "gridcolor": "white",
            "linecolor": "white",
            "ticks": ""
           }
          },
          "scene": {
           "xaxis": {
            "backgroundcolor": "#E5ECF6",
            "gridcolor": "white",
            "gridwidth": 2,
            "linecolor": "white",
            "showbackground": true,
            "ticks": "",
            "zerolinecolor": "white"
           },
           "yaxis": {
            "backgroundcolor": "#E5ECF6",
            "gridcolor": "white",
            "gridwidth": 2,
            "linecolor": "white",
            "showbackground": true,
            "ticks": "",
            "zerolinecolor": "white"
           },
           "zaxis": {
            "backgroundcolor": "#E5ECF6",
            "gridcolor": "white",
            "gridwidth": 2,
            "linecolor": "white",
            "showbackground": true,
            "ticks": "",
            "zerolinecolor": "white"
           }
          },
          "shapedefaults": {
           "line": {
            "color": "#2a3f5f"
           }
          },
          "ternary": {
           "aaxis": {
            "gridcolor": "white",
            "linecolor": "white",
            "ticks": ""
           },
           "baxis": {
            "gridcolor": "white",
            "linecolor": "white",
            "ticks": ""
           },
           "bgcolor": "#E5ECF6",
           "caxis": {
            "gridcolor": "white",
            "linecolor": "white",
            "ticks": ""
           }
          },
          "title": {
           "x": 0.05
          },
          "xaxis": {
           "automargin": true,
           "gridcolor": "white",
           "linecolor": "white",
           "ticks": "",
           "title": {
            "standoff": 15
           },
           "zerolinecolor": "white",
           "zerolinewidth": 2
          },
          "yaxis": {
           "automargin": true,
           "gridcolor": "white",
           "linecolor": "white",
           "ticks": "",
           "title": {
            "standoff": 15
           },
           "zerolinecolor": "white",
           "zerolinewidth": 2
          }
         }
        },
        "title": {
         "text": "Iterative BatchInstance Activity Sequences Frequency"
        },
        "width": 1000,
        "xaxis": {
         "anchor": "y",
         "domain": [
          0,
          1
         ],
         "tickangle": -45,
         "tickfont": {
          "size": 9
         },
         "title": {
          "text": "Activity Sequence"
         }
        },
        "yaxis": {
         "anchor": "x",
         "domain": [
          0,
          1
         ],
         "title": {
          "text": "Frequency"
         }
        }
       }
      }
     },
     "metadata": {},
     "output_type": "display_data"
    }
   ],
   "source": [
    "cypher_limit_iterat_frequency = \"\"\"\n",
    "    MATCH p=(n:BatchInstance)-[r:DF_BATCH_RESOURCE]->(n1:BatchInstance)-[r1:DF_BATCH_RESOURCE]->(n2:BatchInstance)\n",
    "\n",
    "    WHERE n.activity=n2.activity \n",
    "    and n.activity<>n1.activity \n",
    "    and n.resource_sys_id=n1.resource_sys_id \n",
    "    and n1.resource_sys_id=n2.resource_sys_id \n",
    "    and (duration.inSeconds(n.earliest_timestamp, n2.earliest_timestamp).seconds)<300\n",
    "\n",
    "RETURN distinct n.activity as batchInstance_activity1, n1.activity as batchInstance_activity2, n2.activity as batchInstance_activity3, count(*) as frequency\n",
    "ORDER BY frequency desc\n",
    "\"\"\"\n",
    "\n",
    "def limit_iterat_frequency(uri, username, password, cypher_limit_iterat_frequency):\n",
    "    driver = GraphDatabase.driver(uri, auth=(username, password))\n",
    "    with driver.session() as session:\n",
    "        result = session.run(cypher_limit_iterat_frequency)\n",
    "        data = result.data()\n",
    "        return data\n",
    "    \n",
    "\n",
    "results_limit_iterat_frequency = limit_iterat_frequency(uri, username, password, cypher_limit_iterat_frequency)\n",
    "\n",
    "sequences = [f\"{record['batchInstance_activity1']} -> {record['batchInstance_activity2']} -> {record['batchInstance_activity3']}\" for record in results_limit_iterat_frequency]\n",
    "frequencies = [record['frequency'] for record in results_limit_iterat_frequency]\n",
    "\n",
    "fig = px.bar(x=sequences, y=frequencies, title='Iterative BatchInstance Activity Sequences Frequency',\n",
    "             labels={'x': 'Activity Sequence', 'y': 'Frequency'},\n",
    "             text=frequencies)\n",
    "\n",
    "fig.update_layout(xaxis_tickangle=-45, xaxis_title='Activity Sequence', yaxis_title='Frequency', xaxis_tickfont_size=9, width=1000, height=600)\n",
    "\n",
    "fig.show()\n",
    "\n",
    "#pio.write_image(fig, 'Iterative BatchInstance Activity Sequences Frequency.png', width=800, height=600, scale=3)\n"
   ]
  },
  {
   "cell_type": "code",
   "execution_count": 20,
   "id": "9a8085ff",
   "metadata": {},
   "outputs": [
    {
     "data": {
      "application/vnd.plotly.v1+json": {
       "config": {
        "plotlyServerURL": "https://plot.ly"
       },
       "data": [
        {
         "alignmentgroup": "True",
         "hovertemplate": "activity=%{x}<br>BatchInstances_number=%{y}<extra></extra>",
         "legendgroup": "",
         "marker": {
          "color": "skyblue",
          "pattern": {
           "shape": ""
          }
         },
         "name": "",
         "offsetgroup": "",
         "orientation": "v",
         "showlegend": false,
         "textfont": {
          "size": 8
         },
         "textposition": "outside",
         "texttemplate": "%{y}",
         "type": "bar",
         "x": [
          "Montaje",
          "Producción  montada",
          "Cargado en carro  L+D",
          "Composición de cargas",
          "Carga L+D iniciada",
          "Entrada Material Sucio",
          "Carga de esterilizador liberada",
          "Carga L+D liberada",
          "Comisionado"
         ],
         "xaxis": "x",
         "y": [
          8746,
          8676,
          1846,
          44,
          12,
          44,
          4,
          8,
          10
         ],
         "yaxis": "y"
        }
       ],
       "layout": {
        "barmode": "relative",
        "legend": {
         "tracegroupgap": 0
        },
        "template": {
         "data": {
          "bar": [
           {
            "error_x": {
             "color": "#2a3f5f"
            },
            "error_y": {
             "color": "#2a3f5f"
            },
            "marker": {
             "line": {
              "color": "#E5ECF6",
              "width": 0.5
             },
             "pattern": {
              "fillmode": "overlay",
              "size": 10,
              "solidity": 0.2
             }
            },
            "type": "bar"
           }
          ],
          "barpolar": [
           {
            "marker": {
             "line": {
              "color": "#E5ECF6",
              "width": 0.5
             },
             "pattern": {
              "fillmode": "overlay",
              "size": 10,
              "solidity": 0.2
             }
            },
            "type": "barpolar"
           }
          ],
          "carpet": [
           {
            "aaxis": {
             "endlinecolor": "#2a3f5f",
             "gridcolor": "white",
             "linecolor": "white",
             "minorgridcolor": "white",
             "startlinecolor": "#2a3f5f"
            },
            "baxis": {
             "endlinecolor": "#2a3f5f",
             "gridcolor": "white",
             "linecolor": "white",
             "minorgridcolor": "white",
             "startlinecolor": "#2a3f5f"
            },
            "type": "carpet"
           }
          ],
          "choropleth": [
           {
            "colorbar": {
             "outlinewidth": 0,
             "ticks": ""
            },
            "type": "choropleth"
           }
          ],
          "contour": [
           {
            "colorbar": {
             "outlinewidth": 0,
             "ticks": ""
            },
            "colorscale": [
             [
              0,
              "#0d0887"
             ],
             [
              0.1111111111111111,
              "#46039f"
             ],
             [
              0.2222222222222222,
              "#7201a8"
             ],
             [
              0.3333333333333333,
              "#9c179e"
             ],
             [
              0.4444444444444444,
              "#bd3786"
             ],
             [
              0.5555555555555556,
              "#d8576b"
             ],
             [
              0.6666666666666666,
              "#ed7953"
             ],
             [
              0.7777777777777778,
              "#fb9f3a"
             ],
             [
              0.8888888888888888,
              "#fdca26"
             ],
             [
              1,
              "#f0f921"
             ]
            ],
            "type": "contour"
           }
          ],
          "contourcarpet": [
           {
            "colorbar": {
             "outlinewidth": 0,
             "ticks": ""
            },
            "type": "contourcarpet"
           }
          ],
          "heatmap": [
           {
            "colorbar": {
             "outlinewidth": 0,
             "ticks": ""
            },
            "colorscale": [
             [
              0,
              "#0d0887"
             ],
             [
              0.1111111111111111,
              "#46039f"
             ],
             [
              0.2222222222222222,
              "#7201a8"
             ],
             [
              0.3333333333333333,
              "#9c179e"
             ],
             [
              0.4444444444444444,
              "#bd3786"
             ],
             [
              0.5555555555555556,
              "#d8576b"
             ],
             [
              0.6666666666666666,
              "#ed7953"
             ],
             [
              0.7777777777777778,
              "#fb9f3a"
             ],
             [
              0.8888888888888888,
              "#fdca26"
             ],
             [
              1,
              "#f0f921"
             ]
            ],
            "type": "heatmap"
           }
          ],
          "heatmapgl": [
           {
            "colorbar": {
             "outlinewidth": 0,
             "ticks": ""
            },
            "colorscale": [
             [
              0,
              "#0d0887"
             ],
             [
              0.1111111111111111,
              "#46039f"
             ],
             [
              0.2222222222222222,
              "#7201a8"
             ],
             [
              0.3333333333333333,
              "#9c179e"
             ],
             [
              0.4444444444444444,
              "#bd3786"
             ],
             [
              0.5555555555555556,
              "#d8576b"
             ],
             [
              0.6666666666666666,
              "#ed7953"
             ],
             [
              0.7777777777777778,
              "#fb9f3a"
             ],
             [
              0.8888888888888888,
              "#fdca26"
             ],
             [
              1,
              "#f0f921"
             ]
            ],
            "type": "heatmapgl"
           }
          ],
          "histogram": [
           {
            "marker": {
             "pattern": {
              "fillmode": "overlay",
              "size": 10,
              "solidity": 0.2
             }
            },
            "type": "histogram"
           }
          ],
          "histogram2d": [
           {
            "colorbar": {
             "outlinewidth": 0,
             "ticks": ""
            },
            "colorscale": [
             [
              0,
              "#0d0887"
             ],
             [
              0.1111111111111111,
              "#46039f"
             ],
             [
              0.2222222222222222,
              "#7201a8"
             ],
             [
              0.3333333333333333,
              "#9c179e"
             ],
             [
              0.4444444444444444,
              "#bd3786"
             ],
             [
              0.5555555555555556,
              "#d8576b"
             ],
             [
              0.6666666666666666,
              "#ed7953"
             ],
             [
              0.7777777777777778,
              "#fb9f3a"
             ],
             [
              0.8888888888888888,
              "#fdca26"
             ],
             [
              1,
              "#f0f921"
             ]
            ],
            "type": "histogram2d"
           }
          ],
          "histogram2dcontour": [
           {
            "colorbar": {
             "outlinewidth": 0,
             "ticks": ""
            },
            "colorscale": [
             [
              0,
              "#0d0887"
             ],
             [
              0.1111111111111111,
              "#46039f"
             ],
             [
              0.2222222222222222,
              "#7201a8"
             ],
             [
              0.3333333333333333,
              "#9c179e"
             ],
             [
              0.4444444444444444,
              "#bd3786"
             ],
             [
              0.5555555555555556,
              "#d8576b"
             ],
             [
              0.6666666666666666,
              "#ed7953"
             ],
             [
              0.7777777777777778,
              "#fb9f3a"
             ],
             [
              0.8888888888888888,
              "#fdca26"
             ],
             [
              1,
              "#f0f921"
             ]
            ],
            "type": "histogram2dcontour"
           }
          ],
          "mesh3d": [
           {
            "colorbar": {
             "outlinewidth": 0,
             "ticks": ""
            },
            "type": "mesh3d"
           }
          ],
          "parcoords": [
           {
            "line": {
             "colorbar": {
              "outlinewidth": 0,
              "ticks": ""
             }
            },
            "type": "parcoords"
           }
          ],
          "pie": [
           {
            "automargin": true,
            "type": "pie"
           }
          ],
          "scatter": [
           {
            "fillpattern": {
             "fillmode": "overlay",
             "size": 10,
             "solidity": 0.2
            },
            "type": "scatter"
           }
          ],
          "scatter3d": [
           {
            "line": {
             "colorbar": {
              "outlinewidth": 0,
              "ticks": ""
             }
            },
            "marker": {
             "colorbar": {
              "outlinewidth": 0,
              "ticks": ""
             }
            },
            "type": "scatter3d"
           }
          ],
          "scattercarpet": [
           {
            "marker": {
             "colorbar": {
              "outlinewidth": 0,
              "ticks": ""
             }
            },
            "type": "scattercarpet"
           }
          ],
          "scattergeo": [
           {
            "marker": {
             "colorbar": {
              "outlinewidth": 0,
              "ticks": ""
             }
            },
            "type": "scattergeo"
           }
          ],
          "scattergl": [
           {
            "marker": {
             "colorbar": {
              "outlinewidth": 0,
              "ticks": ""
             }
            },
            "type": "scattergl"
           }
          ],
          "scattermapbox": [
           {
            "marker": {
             "colorbar": {
              "outlinewidth": 0,
              "ticks": ""
             }
            },
            "type": "scattermapbox"
           }
          ],
          "scatterpolar": [
           {
            "marker": {
             "colorbar": {
              "outlinewidth": 0,
              "ticks": ""
             }
            },
            "type": "scatterpolar"
           }
          ],
          "scatterpolargl": [
           {
            "marker": {
             "colorbar": {
              "outlinewidth": 0,
              "ticks": ""
             }
            },
            "type": "scatterpolargl"
           }
          ],
          "scatterternary": [
           {
            "marker": {
             "colorbar": {
              "outlinewidth": 0,
              "ticks": ""
             }
            },
            "type": "scatterternary"
           }
          ],
          "surface": [
           {
            "colorbar": {
             "outlinewidth": 0,
             "ticks": ""
            },
            "colorscale": [
             [
              0,
              "#0d0887"
             ],
             [
              0.1111111111111111,
              "#46039f"
             ],
             [
              0.2222222222222222,
              "#7201a8"
             ],
             [
              0.3333333333333333,
              "#9c179e"
             ],
             [
              0.4444444444444444,
              "#bd3786"
             ],
             [
              0.5555555555555556,
              "#d8576b"
             ],
             [
              0.6666666666666666,
              "#ed7953"
             ],
             [
              0.7777777777777778,
              "#fb9f3a"
             ],
             [
              0.8888888888888888,
              "#fdca26"
             ],
             [
              1,
              "#f0f921"
             ]
            ],
            "type": "surface"
           }
          ],
          "table": [
           {
            "cells": {
             "fill": {
              "color": "#EBF0F8"
             },
             "line": {
              "color": "white"
             }
            },
            "header": {
             "fill": {
              "color": "#C8D4E3"
             },
             "line": {
              "color": "white"
             }
            },
            "type": "table"
           }
          ]
         },
         "layout": {
          "annotationdefaults": {
           "arrowcolor": "#2a3f5f",
           "arrowhead": 0,
           "arrowwidth": 1
          },
          "autotypenumbers": "strict",
          "coloraxis": {
           "colorbar": {
            "outlinewidth": 0,
            "ticks": ""
           }
          },
          "colorscale": {
           "diverging": [
            [
             0,
             "#8e0152"
            ],
            [
             0.1,
             "#c51b7d"
            ],
            [
             0.2,
             "#de77ae"
            ],
            [
             0.3,
             "#f1b6da"
            ],
            [
             0.4,
             "#fde0ef"
            ],
            [
             0.5,
             "#f7f7f7"
            ],
            [
             0.6,
             "#e6f5d0"
            ],
            [
             0.7,
             "#b8e186"
            ],
            [
             0.8,
             "#7fbc41"
            ],
            [
             0.9,
             "#4d9221"
            ],
            [
             1,
             "#276419"
            ]
           ],
           "sequential": [
            [
             0,
             "#0d0887"
            ],
            [
             0.1111111111111111,
             "#46039f"
            ],
            [
             0.2222222222222222,
             "#7201a8"
            ],
            [
             0.3333333333333333,
             "#9c179e"
            ],
            [
             0.4444444444444444,
             "#bd3786"
            ],
            [
             0.5555555555555556,
             "#d8576b"
            ],
            [
             0.6666666666666666,
             "#ed7953"
            ],
            [
             0.7777777777777778,
             "#fb9f3a"
            ],
            [
             0.8888888888888888,
             "#fdca26"
            ],
            [
             1,
             "#f0f921"
            ]
           ],
           "sequentialminus": [
            [
             0,
             "#0d0887"
            ],
            [
             0.1111111111111111,
             "#46039f"
            ],
            [
             0.2222222222222222,
             "#7201a8"
            ],
            [
             0.3333333333333333,
             "#9c179e"
            ],
            [
             0.4444444444444444,
             "#bd3786"
            ],
            [
             0.5555555555555556,
             "#d8576b"
            ],
            [
             0.6666666666666666,
             "#ed7953"
            ],
            [
             0.7777777777777778,
             "#fb9f3a"
            ],
            [
             0.8888888888888888,
             "#fdca26"
            ],
            [
             1,
             "#f0f921"
            ]
           ]
          },
          "colorway": [
           "#636efa",
           "#EF553B",
           "#00cc96",
           "#ab63fa",
           "#FFA15A",
           "#19d3f3",
           "#FF6692",
           "#B6E880",
           "#FF97FF",
           "#FECB52"
          ],
          "font": {
           "color": "#2a3f5f"
          },
          "geo": {
           "bgcolor": "white",
           "lakecolor": "white",
           "landcolor": "#E5ECF6",
           "showlakes": true,
           "showland": true,
           "subunitcolor": "white"
          },
          "hoverlabel": {
           "align": "left"
          },
          "hovermode": "closest",
          "mapbox": {
           "style": "light"
          },
          "paper_bgcolor": "white",
          "plot_bgcolor": "#E5ECF6",
          "polar": {
           "angularaxis": {
            "gridcolor": "white",
            "linecolor": "white",
            "ticks": ""
           },
           "bgcolor": "#E5ECF6",
           "radialaxis": {
            "gridcolor": "white",
            "linecolor": "white",
            "ticks": ""
           }
          },
          "scene": {
           "xaxis": {
            "backgroundcolor": "#E5ECF6",
            "gridcolor": "white",
            "gridwidth": 2,
            "linecolor": "white",
            "showbackground": true,
            "ticks": "",
            "zerolinecolor": "white"
           },
           "yaxis": {
            "backgroundcolor": "#E5ECF6",
            "gridcolor": "white",
            "gridwidth": 2,
            "linecolor": "white",
            "showbackground": true,
            "ticks": "",
            "zerolinecolor": "white"
           },
           "zaxis": {
            "backgroundcolor": "#E5ECF6",
            "gridcolor": "white",
            "gridwidth": 2,
            "linecolor": "white",
            "showbackground": true,
            "ticks": "",
            "zerolinecolor": "white"
           }
          },
          "shapedefaults": {
           "line": {
            "color": "#2a3f5f"
           }
          },
          "ternary": {
           "aaxis": {
            "gridcolor": "white",
            "linecolor": "white",
            "ticks": ""
           },
           "baxis": {
            "gridcolor": "white",
            "linecolor": "white",
            "ticks": ""
           },
           "bgcolor": "#E5ECF6",
           "caxis": {
            "gridcolor": "white",
            "linecolor": "white",
            "ticks": ""
           }
          },
          "title": {
           "x": 0.05
          },
          "xaxis": {
           "automargin": true,
           "gridcolor": "white",
           "linecolor": "white",
           "ticks": "",
           "title": {
            "standoff": 15
           },
           "zerolinecolor": "white",
           "zerolinewidth": 2
          },
          "yaxis": {
           "automargin": true,
           "gridcolor": "white",
           "linecolor": "white",
           "ticks": "",
           "title": {
            "standoff": 15
           },
           "zerolinecolor": "white",
           "zerolinewidth": 2
          }
         }
        },
        "title": {
         "text": "Distribution of Batches where Resources Worked Together within 5-Minute Time Window"
        },
        "xaxis": {
         "anchor": "y",
         "domain": [
          0,
          1
         ],
         "title": {
          "text": "activity"
         }
        },
        "yaxis": {
         "anchor": "x",
         "domain": [
          0,
          1
         ],
         "title": {
          "text": "BatchInstances_number"
         }
        }
       }
      }
     },
     "metadata": {},
     "output_type": "display_data"
    }
   ],
   "source": [
    "cypher_activity_working_together= \"\"\"\n",
    "MATCH (u:Resource)-[:CORR]->(n:BatchInstance),\n",
    "      (u1:Resource)-[:CORR]->(n1:BatchInstance)\n",
    "WHERE n.activity = n1.activity AND u <> u1\n",
    "AND (n.earliest_timestamp <= n1.latest_timestamp AND n.latest_timestamp >= n1.earliest_timestamp)\n",
    "AND abs(duration.inSeconds(n.earliest_timestamp, n1.earliest_timestamp).seconds) <= 300\n",
    "RETURN distinct n.activity as activity, count(n) as BatchInstances_number\n",
    " \"\"\"\n",
    "\n",
    "def activity_working_together(uri, username, password, cypher_activity_working_together):\n",
    "    driver = GraphDatabase.driver(uri, auth=(username, password))\n",
    "    with driver.session() as session:\n",
    "        result = session.run(cypher_activity_working_together)\n",
    "        data = result.data()\n",
    "        return data\n",
    "    \n",
    "results_cypher_activity_working_together = activity_working_together(uri, username, password, cypher_activity_working_together)\n",
    "\n",
    "fig = px.bar(results_cypher_activity_working_together, x='activity', y='BatchInstances_number', \n",
    "             labels={'n.activity': 'Activity', 'count(n)': 'Number of Batches'},\n",
    "             title='Distribution of Batches where Resources Worked Together within 5-Minute Time Window')\n",
    "\n",
    "fig.update_traces(texttemplate='%{y}', textposition='outside', textfont_size=8)\n",
    "\n",
    "fig.update_traces(marker_color='skyblue')\n",
    "\n",
    "fig.show()\n"
   ]
  }
 ],
 "metadata": {
  "kernelspec": {
   "display_name": "Python 3 (ipykernel)",
   "language": "python",
   "name": "python3"
  },
  "language_info": {
   "codemirror_mode": {
    "name": "ipython",
    "version": 3
   },
   "file_extension": ".py",
   "mimetype": "text/x-python",
   "name": "python",
   "nbconvert_exporter": "python",
   "pygments_lexer": "ipython3",
   "version": "3.11.0"
  }
 },
 "nbformat": 4,
 "nbformat_minor": 5
}
